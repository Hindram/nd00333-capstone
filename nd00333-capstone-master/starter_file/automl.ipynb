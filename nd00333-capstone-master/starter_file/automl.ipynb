{
 "cells": [
  {
   "cell_type": "markdown",
   "metadata": {},
   "source": [
    "# Automated ML\n",
    "\n",
    "Importing all needed dependencies to complete the project."
   ]
  },
  {
   "cell_type": "code",
   "execution_count": 1,
   "metadata": {
    "gather": {
     "logged": 1612018493821
    },
    "jupyter": {
     "outputs_hidden": false,
     "source_hidden": false
    },
    "nteract": {
     "transient": {
      "deleting": false
     }
    }
   },
   "outputs": [
    {
     "name": "stdout",
     "output_type": "stream",
     "text": [
      "SDK version: 1.20.0\n"
     ]
    }
   ],
   "source": [
    "import logging\n",
    "import os\n",
    "import json\n",
    "import csv\n",
    "import numpy as np\n",
    "import pandas as pd\n",
    "import pkg_resources\n",
    "import joblib\n",
    "\n",
    "import azureml.core\n",
    "from azureml.core.experiment import Experiment\n",
    "from azureml.core.workspace import Workspace\n",
    "from azureml.train.automl import AutoMLConfig\n",
    "from azureml.core.dataset import Dataset\n",
    "from azureml.core.compute import AmlCompute\n",
    "from azureml.core.compute import ComputeTarget\n",
    "from azureml.core.compute_target import ComputeTargetException\n",
    "from azureml.pipeline.steps import AutoMLStep\n",
    "from azureml.widgets import RunDetails\n",
    "from azureml.core import Model, Environment\n",
    "from azureml.core.model import InferenceConfig\n",
    "from azureml.core.webservice import AciWebservice\n",
    "\n",
    "# Check core SDK version number\n",
    "print(\"SDK version:\", azureml.core.VERSION)"
   ]
  },
  {
   "cell_type": "markdown",
   "metadata": {},
   "source": [
    "## Dataset\n",
    "\n",
    "### Overview\n",
    "TODO: In this markdown cell, give an overview of the dataset you are using. Also mention the task you will be performing.\n",
    "\n",
    "\n",
    "TODO: Get data. In the cell below, write code to access the data you will be using in this project. Remember that the dataset needs to be external.\n",
    "\n",
    "https://www.kaggle.com/mathchi/diabetes-data-set"
   ]
  },
  {
   "cell_type": "code",
   "execution_count": 2,
   "metadata": {
    "gather": {
     "logged": 1598423890461
    },
    "jupyter": {
     "outputs_hidden": false,
     "source_hidden": false
    },
    "nteract": {
     "transient": {
      "deleting": false
     }
    }
   },
   "outputs": [],
   "source": [
    "ws = Workspace.from_config()\n",
    "\n",
    "# choose a name for experiment\n",
    "experiment_name = 'automl-exp'\n",
    "\n",
    "experiment=Experiment(ws, experiment_name)"
   ]
  },
  {
   "cell_type": "code",
   "execution_count": 3,
   "metadata": {},
   "outputs": [
    {
     "name": "stdout",
     "output_type": "stream",
     "text": [
      "<class 'pandas.core.frame.DataFrame'>\n",
      "RangeIndex: 768 entries, 0 to 767\n",
      "Data columns (total 9 columns):\n",
      "Pregnancies                 768 non-null int64\n",
      "Glucose                     768 non-null int64\n",
      "BloodPressure               768 non-null int64\n",
      "SkinThickness               768 non-null int64\n",
      "Insulin                     768 non-null int64\n",
      "BMI                         768 non-null float64\n",
      "DiabetesPedigreeFunction    768 non-null float64\n",
      "Age                         768 non-null int64\n",
      "Outcome                     768 non-null int64\n",
      "dtypes: float64(2), int64(7)\n",
      "memory usage: 54.1 KB\n"
     ]
    }
   ],
   "source": [
    "# Load the registered dataset from workspace\n",
    "dataset = Dataset.get_by_name(ws, name='diabetes_data_set')\n",
    "\n",
    "# Convert the dataset to dataframe\n",
    "df = dataset.to_pandas_dataframe()\n",
    "df.info()"
   ]
  },
  {
   "cell_type": "code",
   "execution_count": 4,
   "metadata": {},
   "outputs": [
    {
     "data": {
      "text/html": [
       "<div>\n",
       "<style scoped>\n",
       "    .dataframe tbody tr th:only-of-type {\n",
       "        vertical-align: middle;\n",
       "    }\n",
       "\n",
       "    .dataframe tbody tr th {\n",
       "        vertical-align: top;\n",
       "    }\n",
       "\n",
       "    .dataframe thead th {\n",
       "        text-align: right;\n",
       "    }\n",
       "</style>\n",
       "<table border=\"1\" class=\"dataframe\">\n",
       "  <thead>\n",
       "    <tr style=\"text-align: right;\">\n",
       "      <th></th>\n",
       "      <th>Pregnancies</th>\n",
       "      <th>Glucose</th>\n",
       "      <th>BloodPressure</th>\n",
       "      <th>SkinThickness</th>\n",
       "      <th>Insulin</th>\n",
       "      <th>BMI</th>\n",
       "      <th>DiabetesPedigreeFunction</th>\n",
       "      <th>Age</th>\n",
       "      <th>Outcome</th>\n",
       "    </tr>\n",
       "  </thead>\n",
       "  <tbody>\n",
       "    <tr>\n",
       "      <th>count</th>\n",
       "      <td>768.000000</td>\n",
       "      <td>768.000000</td>\n",
       "      <td>768.000000</td>\n",
       "      <td>768.000000</td>\n",
       "      <td>768.000000</td>\n",
       "      <td>768.000000</td>\n",
       "      <td>768.000000</td>\n",
       "      <td>768.000000</td>\n",
       "      <td>768.000000</td>\n",
       "    </tr>\n",
       "    <tr>\n",
       "      <th>mean</th>\n",
       "      <td>3.845052</td>\n",
       "      <td>120.894531</td>\n",
       "      <td>69.105469</td>\n",
       "      <td>20.536458</td>\n",
       "      <td>79.799479</td>\n",
       "      <td>31.992578</td>\n",
       "      <td>0.471876</td>\n",
       "      <td>33.240885</td>\n",
       "      <td>0.348958</td>\n",
       "    </tr>\n",
       "    <tr>\n",
       "      <th>std</th>\n",
       "      <td>3.369578</td>\n",
       "      <td>31.972618</td>\n",
       "      <td>19.355807</td>\n",
       "      <td>15.952218</td>\n",
       "      <td>115.244002</td>\n",
       "      <td>7.884160</td>\n",
       "      <td>0.331329</td>\n",
       "      <td>11.760232</td>\n",
       "      <td>0.476951</td>\n",
       "    </tr>\n",
       "    <tr>\n",
       "      <th>min</th>\n",
       "      <td>0.000000</td>\n",
       "      <td>0.000000</td>\n",
       "      <td>0.000000</td>\n",
       "      <td>0.000000</td>\n",
       "      <td>0.000000</td>\n",
       "      <td>0.000000</td>\n",
       "      <td>0.078000</td>\n",
       "      <td>21.000000</td>\n",
       "      <td>0.000000</td>\n",
       "    </tr>\n",
       "    <tr>\n",
       "      <th>25%</th>\n",
       "      <td>1.000000</td>\n",
       "      <td>99.000000</td>\n",
       "      <td>62.000000</td>\n",
       "      <td>0.000000</td>\n",
       "      <td>0.000000</td>\n",
       "      <td>27.300000</td>\n",
       "      <td>0.243750</td>\n",
       "      <td>24.000000</td>\n",
       "      <td>0.000000</td>\n",
       "    </tr>\n",
       "    <tr>\n",
       "      <th>50%</th>\n",
       "      <td>3.000000</td>\n",
       "      <td>117.000000</td>\n",
       "      <td>72.000000</td>\n",
       "      <td>23.000000</td>\n",
       "      <td>30.500000</td>\n",
       "      <td>32.000000</td>\n",
       "      <td>0.372500</td>\n",
       "      <td>29.000000</td>\n",
       "      <td>0.000000</td>\n",
       "    </tr>\n",
       "    <tr>\n",
       "      <th>75%</th>\n",
       "      <td>6.000000</td>\n",
       "      <td>140.250000</td>\n",
       "      <td>80.000000</td>\n",
       "      <td>32.000000</td>\n",
       "      <td>127.250000</td>\n",
       "      <td>36.600000</td>\n",
       "      <td>0.626250</td>\n",
       "      <td>41.000000</td>\n",
       "      <td>1.000000</td>\n",
       "    </tr>\n",
       "    <tr>\n",
       "      <th>max</th>\n",
       "      <td>17.000000</td>\n",
       "      <td>199.000000</td>\n",
       "      <td>122.000000</td>\n",
       "      <td>99.000000</td>\n",
       "      <td>846.000000</td>\n",
       "      <td>67.100000</td>\n",
       "      <td>2.420000</td>\n",
       "      <td>81.000000</td>\n",
       "      <td>1.000000</td>\n",
       "    </tr>\n",
       "  </tbody>\n",
       "</table>\n",
       "</div>"
      ],
      "text/plain": [
       "       Pregnancies     Glucose  BloodPressure  SkinThickness     Insulin  \\\n",
       "count   768.000000  768.000000     768.000000     768.000000  768.000000   \n",
       "mean      3.845052  120.894531      69.105469      20.536458   79.799479   \n",
       "std       3.369578   31.972618      19.355807      15.952218  115.244002   \n",
       "min       0.000000    0.000000       0.000000       0.000000    0.000000   \n",
       "25%       1.000000   99.000000      62.000000       0.000000    0.000000   \n",
       "50%       3.000000  117.000000      72.000000      23.000000   30.500000   \n",
       "75%       6.000000  140.250000      80.000000      32.000000  127.250000   \n",
       "max      17.000000  199.000000     122.000000      99.000000  846.000000   \n",
       "\n",
       "              BMI  DiabetesPedigreeFunction         Age     Outcome  \n",
       "count  768.000000                768.000000  768.000000  768.000000  \n",
       "mean    31.992578                  0.471876   33.240885    0.348958  \n",
       "std      7.884160                  0.331329   11.760232    0.476951  \n",
       "min      0.000000                  0.078000   21.000000    0.000000  \n",
       "25%     27.300000                  0.243750   24.000000    0.000000  \n",
       "50%     32.000000                  0.372500   29.000000    0.000000  \n",
       "75%     36.600000                  0.626250   41.000000    1.000000  \n",
       "max     67.100000                  2.420000   81.000000    1.000000  "
      ]
     },
     "execution_count": 4,
     "metadata": {},
     "output_type": "execute_result"
    }
   ],
   "source": [
    "df.describe()"
   ]
  },
  {
   "cell_type": "code",
   "execution_count": 5,
   "metadata": {},
   "outputs": [
    {
     "data": {
      "text/html": [
       "<div>\n",
       "<style scoped>\n",
       "    .dataframe tbody tr th:only-of-type {\n",
       "        vertical-align: middle;\n",
       "    }\n",
       "\n",
       "    .dataframe tbody tr th {\n",
       "        vertical-align: top;\n",
       "    }\n",
       "\n",
       "    .dataframe thead th {\n",
       "        text-align: right;\n",
       "    }\n",
       "</style>\n",
       "<table border=\"1\" class=\"dataframe\">\n",
       "  <thead>\n",
       "    <tr style=\"text-align: right;\">\n",
       "      <th></th>\n",
       "      <th>Pregnancies</th>\n",
       "      <th>Glucose</th>\n",
       "      <th>BloodPressure</th>\n",
       "      <th>SkinThickness</th>\n",
       "      <th>Insulin</th>\n",
       "      <th>BMI</th>\n",
       "      <th>DiabetesPedigreeFunction</th>\n",
       "      <th>Age</th>\n",
       "      <th>Outcome</th>\n",
       "    </tr>\n",
       "  </thead>\n",
       "  <tbody>\n",
       "    <tr>\n",
       "      <th>0</th>\n",
       "      <td>6</td>\n",
       "      <td>148</td>\n",
       "      <td>72</td>\n",
       "      <td>35</td>\n",
       "      <td>0</td>\n",
       "      <td>33.6</td>\n",
       "      <td>0.627</td>\n",
       "      <td>50</td>\n",
       "      <td>1</td>\n",
       "    </tr>\n",
       "    <tr>\n",
       "      <th>1</th>\n",
       "      <td>1</td>\n",
       "      <td>85</td>\n",
       "      <td>66</td>\n",
       "      <td>29</td>\n",
       "      <td>0</td>\n",
       "      <td>26.6</td>\n",
       "      <td>0.351</td>\n",
       "      <td>31</td>\n",
       "      <td>0</td>\n",
       "    </tr>\n",
       "    <tr>\n",
       "      <th>2</th>\n",
       "      <td>8</td>\n",
       "      <td>183</td>\n",
       "      <td>64</td>\n",
       "      <td>0</td>\n",
       "      <td>0</td>\n",
       "      <td>23.3</td>\n",
       "      <td>0.672</td>\n",
       "      <td>32</td>\n",
       "      <td>1</td>\n",
       "    </tr>\n",
       "    <tr>\n",
       "      <th>3</th>\n",
       "      <td>1</td>\n",
       "      <td>89</td>\n",
       "      <td>66</td>\n",
       "      <td>23</td>\n",
       "      <td>94</td>\n",
       "      <td>28.1</td>\n",
       "      <td>0.167</td>\n",
       "      <td>21</td>\n",
       "      <td>0</td>\n",
       "    </tr>\n",
       "    <tr>\n",
       "      <th>4</th>\n",
       "      <td>0</td>\n",
       "      <td>137</td>\n",
       "      <td>40</td>\n",
       "      <td>35</td>\n",
       "      <td>168</td>\n",
       "      <td>43.1</td>\n",
       "      <td>2.288</td>\n",
       "      <td>33</td>\n",
       "      <td>1</td>\n",
       "    </tr>\n",
       "  </tbody>\n",
       "</table>\n",
       "</div>"
      ],
      "text/plain": [
       "   Pregnancies  Glucose  BloodPressure  SkinThickness  Insulin   BMI  \\\n",
       "0            6      148             72             35        0  33.6   \n",
       "1            1       85             66             29        0  26.6   \n",
       "2            8      183             64              0        0  23.3   \n",
       "3            1       89             66             23       94  28.1   \n",
       "4            0      137             40             35      168  43.1   \n",
       "\n",
       "   DiabetesPedigreeFunction  Age  Outcome  \n",
       "0                     0.627   50        1  \n",
       "1                     0.351   31        0  \n",
       "2                     0.672   32        1  \n",
       "3                     0.167   21        0  \n",
       "4                     2.288   33        1  "
      ]
     },
     "execution_count": 5,
     "metadata": {},
     "output_type": "execute_result"
    }
   ],
   "source": [
    "#Display the first five records of the dataset\n",
    "df.head()"
   ]
  },
  {
   "cell_type": "code",
   "execution_count": 6,
   "metadata": {},
   "outputs": [
    {
     "name": "stdout",
     "output_type": "stream",
     "text": [
      "Found existing cluster, use it.\n",
      "Succeeded\n",
      "AmlCompute wait for completion finished\n",
      "\n",
      "Minimum number of nodes requested have been provisioned\n"
     ]
    }
   ],
   "source": [
    "# Create CPU cluster\n",
    "amlcompute_cluster_name = \"project-cluster\"\n",
    "\n",
    "# Verify if cluster does not exist otherwise use the existing one\n",
    "try:\n",
    "    compute_target = ComputeTarget(workspace=ws, name=amlcompute_cluster_name)\n",
    "    print('Found existing cluster, use it.')\n",
    "except ComputeTargetException:\n",
    "    compute_config = AmlCompute.provisioning_configuration(vm_size='Standard_DS12_V2',\n",
    "                                                           vm_priority = 'lowpriority', \n",
    "                                                           max_nodes=4)\n",
    "    compute_target = ComputeTarget.create(ws, amlcompute_cluster_name, compute_config)\n",
    "\n",
    "compute_target.wait_for_completion(show_output=True)\n"
   ]
  },
  {
   "cell_type": "markdown",
   "metadata": {},
   "source": [
    "## AutoML Configuration\n",
    "\n",
    "TODO: Explain why you chose the automl settings and cofiguration you used below."
   ]
  },
  {
   "cell_type": "code",
   "execution_count": 7,
   "metadata": {
    "gather": {
     "logged": 1598429217746
    },
    "jupyter": {
     "outputs_hidden": false,
     "source_hidden": false
    },
    "nteract": {
     "transient": {
      "deleting": false
     }
    }
   },
   "outputs": [
    {
     "name": "stderr",
     "output_type": "stream",
     "text": [
      "WARNING:root:Parameter `preprocess` will be deprecated. Use `featurization`\n",
      "WARNING:root:Detected both `preprocess` and `featurization`. `preprocess` is being deprecated and will be overridden by `featurization` setting.\n"
     ]
    }
   ],
   "source": [
    "# Automl settings \n",
    "automl_settings = {\n",
    "    \"experiment_timeout_minutes\": 40,\n",
    "    \"max_concurrent_iterations\": 4,\n",
    "    \"primary_metric\" : 'accuracy',\n",
    "    \"n_cross_validations\": 5,\n",
    "    \"iterations\": 35\n",
    "    \n",
    "}\n",
    "\n",
    "# Automl config \n",
    "automl_config = AutoMLConfig(compute_target=compute_target,\n",
    "                             task = \"classification\",\n",
    "                             training_data=dataset,\n",
    "                             label_column_name=\"Outcome\",\n",
    "                             enable_early_stopping= True,\n",
    "                             featurization = 'auto',\n",
    "                             debug_log = \"automl_errors.log\",\n",
    "                             preprocess = True,\n",
    "                             **automl_settings\n",
    "                            )\n",
    "\n"
   ]
  },
  {
   "cell_type": "code",
   "execution_count": 8,
   "metadata": {
    "gather": {
     "logged": 1598431107951
    },
    "jupyter": {
     "outputs_hidden": false,
     "source_hidden": false
    },
    "nteract": {
     "transient": {
      "deleting": false
     }
    }
   },
   "outputs": [
    {
     "name": "stdout",
     "output_type": "stream",
     "text": [
      "Running on remote.\n",
      "No run_configuration provided, running on project-cluster with default configuration\n",
      "Running on remote compute: project-cluster\n",
      "Parent Run ID: AutoML_19c071de-d41b-40ad-8e7a-f803cbabbb3f\n",
      "\n",
      "Current status: FeaturesGeneration. Generating features for the dataset.\n",
      "Current status: ModelSelection. Beginning model selection.\n",
      "\n",
      "****************************************************************************************************\n",
      "DATA GUARDRAILS: \n",
      "\n",
      "TYPE:         Class balancing detection\n",
      "STATUS:       PASSED\n",
      "DESCRIPTION:  Your inputs were analyzed, and all classes are balanced in your training data.\n",
      "              Learn more about imbalanced data: https://aka.ms/AutomatedMLImbalancedData\n",
      "\n",
      "****************************************************************************************************\n",
      "\n",
      "TYPE:         Missing feature values imputation\n",
      "STATUS:       PASSED\n",
      "DESCRIPTION:  No feature missing values were detected in the training data.\n",
      "              Learn more about missing value imputation: https://aka.ms/AutomatedMLFeaturization\n",
      "\n",
      "****************************************************************************************************\n",
      "\n",
      "TYPE:         High cardinality feature detection\n",
      "STATUS:       PASSED\n",
      "DESCRIPTION:  Your inputs were analyzed, and no high cardinality features were detected.\n",
      "              Learn more about high cardinality feature handling: https://aka.ms/AutomatedMLFeaturization\n",
      "\n",
      "****************************************************************************************************\n",
      "\n",
      "****************************************************************************************************\n",
      "ITERATION: The iteration being evaluated.\n",
      "PIPELINE: A summary description of the pipeline being evaluated.\n",
      "DURATION: Time taken for the current iteration.\n",
      "METRIC: The result of computing score on the fitted pipeline.\n",
      "BEST: The best observed score thus far.\n",
      "****************************************************************************************************\n",
      "\n",
      " ITERATION   PIPELINE                                       DURATION      METRIC      BEST\n",
      "         2   MaxAbsScaler RandomForest                      0:00:46       0.7671    0.7671\n",
      "         1   MaxAbsScaler XGBoostClassifier                 0:00:52       0.7656    0.7671\n",
      "         5   MaxAbsScaler RandomForest                      0:00:51       0.7253    0.7671\n",
      "         0   MaxAbsScaler LightGBM                          0:02:01       0.7435    0.7671\n",
      "         3   MaxAbsScaler RandomForest                      0:02:06       0.7514    0.7671\n",
      "         4   MaxAbsScaler RandomForest                      0:02:24       0.7592    0.7671\n",
      "         6   SparseNormalizer XGBoostClassifier             0:00:50       0.7189    0.7671\n",
      "         7   SparseNormalizer XGBoostClassifier             0:00:42       0.7110    0.7671\n",
      "         8   SparseNormalizer XGBoostClassifier             0:00:51       0.7045    0.7671\n",
      "         9   SparseNormalizer XGBoostClassifier             0:00:43       0.6485    0.7671\n",
      "        10   MaxAbsScaler RandomForest                      0:00:51       0.7514    0.7671\n",
      "        11   StandardScalerWrapper RandomForest             0:01:01       0.7565    0.7671\n",
      "        12   MaxAbsScaler LightGBM                          0:00:58       0.7578    0.7671\n",
      "        13   MaxAbsScaler LightGBM                          0:00:49       0.7540    0.7671\n",
      "        14   MaxAbsScaler LogisticRegression                0:00:46       0.7683    0.7683\n",
      "        15   MaxAbsScaler LightGBM                          0:00:49       0.7474    0.7683\n",
      "        16   MaxAbsScaler LightGBM                          0:00:55       0.7409    0.7683\n",
      "        17   MaxAbsScaler LightGBM                          0:00:52       0.7527    0.7683\n",
      "        18   MaxAbsScaler LightGBM                          0:00:43       0.7670    0.7683\n",
      "        19   SparseNormalizer RandomForest                  0:00:46       0.7084    0.7683\n",
      "        20   StandardScalerWrapper RandomForest             0:00:42       0.7435    0.7683\n",
      "        21   MaxAbsScaler LogisticRegression                0:00:46       0.7696    0.7696\n",
      "        22   MaxAbsScaler LightGBM                          0:00:55       0.7617    0.7696\n",
      "        24   MaxAbsScaler LogisticRegression                0:00:39       0.7435    0.7696\n",
      "        23   MaxAbsScaler LightGBM                          0:00:55       0.7683    0.7696\n",
      "        25   SparseNormalizer LogisticRegression            0:00:45       0.5037    0.7696\n",
      "        26   MaxAbsScaler ExtremeRandomTrees                0:00:53       0.7514    0.7696\n",
      "        27   StandardScalerWrapper ExtremeRandomTrees       0:00:49       0.7266    0.7696\n",
      "        28   MaxAbsScaler LightGBM                          0:00:56       0.7474    0.7696\n",
      "        29   SparseNormalizer LightGBM                      0:00:49       0.6901    0.7696\n",
      "        30   TruncatedSVDWrapper LogisticRegression         0:00:51       0.6667    0.7696\n",
      "        31   MaxAbsScaler LightGBM                          0:00:57       0.7656    0.7696\n",
      "        32   SparseNormalizer LightGBM                      0:00:48       0.6629    0.7696\n",
      "        33    VotingEnsemble                                0:01:18       0.7839    0.7839\n",
      "        34    StackEnsemble                                 0:01:31       0.7722    0.7839\n"
     ]
    }
   ],
   "source": [
    "# Submit experiment\n",
    "remote_run = experiment.submit(automl_config, show_output=True)"
   ]
  },
  {
   "cell_type": "markdown",
   "metadata": {},
   "source": [
    "## Run Details\n",
    "\n",
    "OPTIONAL: Write about the different models trained and their performance. Why do you think some models did better than others?\n",
    "\n",
    "TODO: In the cell below, use the `RunDetails` widget to show the different experiments."
   ]
  },
  {
   "cell_type": "code",
   "execution_count": 9,
   "metadata": {
    "gather": {
     "logged": 1598431121770
    },
    "jupyter": {
     "outputs_hidden": false,
     "source_hidden": false
    },
    "nteract": {
     "transient": {
      "deleting": false
     }
    }
   },
   "outputs": [
    {
     "data": {
      "application/vnd.jupyter.widget-view+json": {
       "model_id": "574996b520d743459def25869e4a37a6",
       "version_major": 2,
       "version_minor": 0
      },
      "text/plain": [
       "_AutoMLWidget(widget_settings={'childWidgetDisplay': 'popup', 'send_telemetry': False, 'log_level': 'INFO', 's…"
      ]
     },
     "metadata": {},
     "output_type": "display_data"
    },
    {
     "data": {
      "application/aml.mini.widget.v1": "{\"status\": \"Completed\", \"workbench_run_details_uri\": \"https://ml.azure.com/experiments/automl-exp/runs/AutoML_19c071de-d41b-40ad-8e7a-f803cbabbb3f?wsid=/subscriptions/f5091c60-1c3c-430f-8d81-d802f6bf2414/resourcegroups/aml-quickstarts-136869/workspaces/quick-starts-ws-136869\", \"run_id\": \"AutoML_19c071de-d41b-40ad-8e7a-f803cbabbb3f\", \"run_properties\": {\"run_id\": \"AutoML_19c071de-d41b-40ad-8e7a-f803cbabbb3f\", \"created_utc\": \"2021-02-02T17:13:06.717093Z\", \"properties\": {\"num_iterations\": \"35\", \"training_type\": \"TrainFull\", \"acquisition_function\": \"EI\", \"primary_metric\": \"accuracy\", \"train_split\": \"0\", \"acquisition_parameter\": \"0\", \"num_cross_validation\": \"5\", \"target\": \"project-cluster\", \"AMLSettingsJsonString\": \"{\\\"path\\\":null,\\\"name\\\":\\\"automl-exp\\\",\\\"subscription_id\\\":\\\"f5091c60-1c3c-430f-8d81-d802f6bf2414\\\",\\\"resource_group\\\":\\\"aml-quickstarts-136869\\\",\\\"workspace_name\\\":\\\"quick-starts-ws-136869\\\",\\\"region\\\":\\\"southcentralus\\\",\\\"compute_target\\\":\\\"project-cluster\\\",\\\"spark_service\\\":null,\\\"azure_service\\\":\\\"remote\\\",\\\"many_models\\\":false,\\\"pipeline_fetch_max_batch_size\\\":1,\\\"iterations\\\":35,\\\"primary_metric\\\":\\\"accuracy\\\",\\\"task_type\\\":\\\"classification\\\",\\\"data_script\\\":null,\\\"validation_size\\\":0.0,\\\"n_cross_validations\\\":5,\\\"y_min\\\":null,\\\"y_max\\\":null,\\\"num_classes\\\":null,\\\"featurization\\\":\\\"auto\\\",\\\"_ignore_package_version_incompatibilities\\\":false,\\\"is_timeseries\\\":false,\\\"max_cores_per_iteration\\\":1,\\\"max_concurrent_iterations\\\":4,\\\"iteration_timeout_minutes\\\":null,\\\"mem_in_mb\\\":null,\\\"enforce_time_on_windows\\\":false,\\\"experiment_timeout_minutes\\\":40,\\\"experiment_exit_score\\\":null,\\\"whitelist_models\\\":null,\\\"blacklist_algos\\\":[\\\"TensorFlowLinearClassifier\\\",\\\"TensorFlowDNN\\\"],\\\"supported_models\\\":[\\\"TensorFlowLinearClassifier\\\",\\\"LinearSVM\\\",\\\"BernoulliNaiveBayes\\\",\\\"SGD\\\",\\\"RandomForest\\\",\\\"KNN\\\",\\\"GradientBoosting\\\",\\\"LightGBM\\\",\\\"TensorFlowDNN\\\",\\\"AveragedPerceptronClassifier\\\",\\\"DecisionTree\\\",\\\"XGBoostClassifier\\\",\\\"MultinomialNaiveBayes\\\",\\\"ExtremeRandomTrees\\\",\\\"SVM\\\",\\\"LogisticRegression\\\"],\\\"auto_blacklist\\\":true,\\\"blacklist_samples_reached\\\":false,\\\"exclude_nan_labels\\\":true,\\\"verbosity\\\":20,\\\"_debug_log\\\":\\\"azureml_automl.log\\\",\\\"show_warnings\\\":false,\\\"model_explainability\\\":true,\\\"service_url\\\":null,\\\"sdk_url\\\":null,\\\"sdk_packages\\\":null,\\\"enable_onnx_compatible_models\\\":false,\\\"enable_split_onnx_featurizer_estimator_models\\\":false,\\\"vm_type\\\":\\\"STANDARD_DS12_V2\\\",\\\"telemetry_verbosity\\\":20,\\\"send_telemetry\\\":true,\\\"enable_dnn\\\":false,\\\"scenario\\\":\\\"SDK-1.13.0\\\",\\\"environment_label\\\":null,\\\"force_text_dnn\\\":false,\\\"enable_feature_sweeping\\\":true,\\\"enable_early_stopping\\\":true,\\\"early_stopping_n_iters\\\":10,\\\"metrics\\\":null,\\\"enable_ensembling\\\":true,\\\"enable_stack_ensembling\\\":true,\\\"ensemble_iterations\\\":15,\\\"enable_tf\\\":false,\\\"enable_subsampling\\\":false,\\\"subsample_seed\\\":null,\\\"enable_nimbusml\\\":false,\\\"enable_streaming\\\":false,\\\"force_streaming\\\":false,\\\"track_child_runs\\\":true,\\\"allowed_private_models\\\":[],\\\"label_column_name\\\":\\\"Outcome\\\",\\\"weight_column_name\\\":null,\\\"cv_split_column_names\\\":null,\\\"enable_local_managed\\\":false,\\\"_local_managed_run_id\\\":null,\\\"cost_mode\\\":1,\\\"lag_length\\\":0,\\\"metric_operation\\\":\\\"maximize\\\",\\\"preprocess\\\":true}\", \"DataPrepJsonString\": \"{\\\\\\\"training_data\\\\\\\": \\\\\\\"{\\\\\\\\\\\\\\\"blocks\\\\\\\\\\\\\\\": [{\\\\\\\\\\\\\\\"id\\\\\\\\\\\\\\\": \\\\\\\\\\\\\\\"ca5dac64-4b06-4e8a-83fe-3e8cfff980ef\\\\\\\\\\\\\\\", \\\\\\\\\\\\\\\"type\\\\\\\\\\\\\\\": \\\\\\\\\\\\\\\"Microsoft.DPrep.GetDatastoreFilesBlock\\\\\\\\\\\\\\\", \\\\\\\\\\\\\\\"arguments\\\\\\\\\\\\\\\": {\\\\\\\\\\\\\\\"datastores\\\\\\\\\\\\\\\": [{\\\\\\\\\\\\\\\"datastoreName\\\\\\\\\\\\\\\": \\\\\\\\\\\\\\\"workspaceblobstore\\\\\\\\\\\\\\\", \\\\\\\\\\\\\\\"path\\\\\\\\\\\\\\\": \\\\\\\\\\\\\\\"UI/02-02-2021_042553_UTC/diabetes.csv\\\\\\\\\\\\\\\", \\\\\\\\\\\\\\\"resourceGroup\\\\\\\\\\\\\\\": \\\\\\\\\\\\\\\"aml-quickstarts-136869\\\\\\\\\\\\\\\", \\\\\\\\\\\\\\\"subscription\\\\\\\\\\\\\\\": \\\\\\\\\\\\\\\"f5091c60-1c3c-430f-8d81-d802f6bf2414\\\\\\\\\\\\\\\", \\\\\\\\\\\\\\\"workspaceName\\\\\\\\\\\\\\\": \\\\\\\\\\\\\\\"quick-starts-ws-136869\\\\\\\\\\\\\\\"}]}, \\\\\\\\\\\\\\\"localData\\\\\\\\\\\\\\\": {}, \\\\\\\\\\\\\\\"isEnabled\\\\\\\\\\\\\\\": true, \\\\\\\\\\\\\\\"name\\\\\\\\\\\\\\\": null, \\\\\\\\\\\\\\\"annotation\\\\\\\\\\\\\\\": null}, {\\\\\\\\\\\\\\\"id\\\\\\\\\\\\\\\": \\\\\\\\\\\\\\\"d13e6bed-e309-4154-95dc-ac1e2268c09d\\\\\\\\\\\\\\\", \\\\\\\\\\\\\\\"type\\\\\\\\\\\\\\\": \\\\\\\\\\\\\\\"Microsoft.DPrep.ParseDelimitedBlock\\\\\\\\\\\\\\\", \\\\\\\\\\\\\\\"arguments\\\\\\\\\\\\\\\": {\\\\\\\\\\\\\\\"columnHeadersMode\\\\\\\\\\\\\\\": 3, \\\\\\\\\\\\\\\"fileEncoding\\\\\\\\\\\\\\\": 0, \\\\\\\\\\\\\\\"handleQuotedLineBreaks\\\\\\\\\\\\\\\": false, \\\\\\\\\\\\\\\"preview\\\\\\\\\\\\\\\": false, \\\\\\\\\\\\\\\"separator\\\\\\\\\\\\\\\": \\\\\\\\\\\\\\\",\\\\\\\\\\\\\\\", \\\\\\\\\\\\\\\"skipRows\\\\\\\\\\\\\\\": 0, \\\\\\\\\\\\\\\"skipRowsMode\\\\\\\\\\\\\\\": 0}, \\\\\\\\\\\\\\\"localData\\\\\\\\\\\\\\\": {}, \\\\\\\\\\\\\\\"isEnabled\\\\\\\\\\\\\\\": true, \\\\\\\\\\\\\\\"name\\\\\\\\\\\\\\\": null, \\\\\\\\\\\\\\\"annotation\\\\\\\\\\\\\\\": null}, {\\\\\\\\\\\\\\\"id\\\\\\\\\\\\\\\": \\\\\\\\\\\\\\\"1ee0820e-54dc-4fd7-aa73-0da15c14003b\\\\\\\\\\\\\\\", \\\\\\\\\\\\\\\"type\\\\\\\\\\\\\\\": \\\\\\\\\\\\\\\"Microsoft.DPrep.DropColumnsBlock\\\\\\\\\\\\\\\", \\\\\\\\\\\\\\\"arguments\\\\\\\\\\\\\\\": {\\\\\\\\\\\\\\\"columns\\\\\\\\\\\\\\\": {\\\\\\\\\\\\\\\"type\\\\\\\\\\\\\\\": 0, \\\\\\\\\\\\\\\"details\\\\\\\\\\\\\\\": {\\\\\\\\\\\\\\\"selectedColumns\\\\\\\\\\\\\\\": [\\\\\\\\\\\\\\\"Path\\\\\\\\\\\\\\\"]}}}, \\\\\\\\\\\\\\\"localData\\\\\\\\\\\\\\\": {}, \\\\\\\\\\\\\\\"isEnabled\\\\\\\\\\\\\\\": true, \\\\\\\\\\\\\\\"name\\\\\\\\\\\\\\\": null, \\\\\\\\\\\\\\\"annotation\\\\\\\\\\\\\\\": null}, {\\\\\\\\\\\\\\\"id\\\\\\\\\\\\\\\": \\\\\\\\\\\\\\\"54133a5a-7649-4870-9b46-f376db85ee76\\\\\\\\\\\\\\\", \\\\\\\\\\\\\\\"type\\\\\\\\\\\\\\\": \\\\\\\\\\\\\\\"Microsoft.DPrep.SetColumnTypesBlock\\\\\\\\\\\\\\\", \\\\\\\\\\\\\\\"arguments\\\\\\\\\\\\\\\": {\\\\\\\\\\\\\\\"columnConversion\\\\\\\\\\\\\\\": [{\\\\\\\\\\\\\\\"column\\\\\\\\\\\\\\\": {\\\\\\\\\\\\\\\"type\\\\\\\\\\\\\\\": 2, \\\\\\\\\\\\\\\"details\\\\\\\\\\\\\\\": {\\\\\\\\\\\\\\\"selectedColumn\\\\\\\\\\\\\\\": \\\\\\\\\\\\\\\"Path\\\\\\\\\\\\\\\"}}, \\\\\\\\\\\\\\\"typeProperty\\\\\\\\\\\\\\\": 0}, {\\\\\\\\\\\\\\\"column\\\\\\\\\\\\\\\": {\\\\\\\\\\\\\\\"type\\\\\\\\\\\\\\\": 2, \\\\\\\\\\\\\\\"details\\\\\\\\\\\\\\\": {\\\\\\\\\\\\\\\"selectedColumn\\\\\\\\\\\\\\\": \\\\\\\\\\\\\\\"Pregnancies\\\\\\\\\\\\\\\"}}, \\\\\\\\\\\\\\\"typeProperty\\\\\\\\\\\\\\\": 2}, {\\\\\\\\\\\\\\\"column\\\\\\\\\\\\\\\": {\\\\\\\\\\\\\\\"type\\\\\\\\\\\\\\\": 2, \\\\\\\\\\\\\\\"details\\\\\\\\\\\\\\\": {\\\\\\\\\\\\\\\"selectedColumn\\\\\\\\\\\\\\\": \\\\\\\\\\\\\\\"Glucose\\\\\\\\\\\\\\\"}}, \\\\\\\\\\\\\\\"typeProperty\\\\\\\\\\\\\\\": 2}, {\\\\\\\\\\\\\\\"column\\\\\\\\\\\\\\\": {\\\\\\\\\\\\\\\"type\\\\\\\\\\\\\\\": 2, \\\\\\\\\\\\\\\"details\\\\\\\\\\\\\\\": {\\\\\\\\\\\\\\\"selectedColumn\\\\\\\\\\\\\\\": \\\\\\\\\\\\\\\"BloodPressure\\\\\\\\\\\\\\\"}}, \\\\\\\\\\\\\\\"typeProperty\\\\\\\\\\\\\\\": 2}, {\\\\\\\\\\\\\\\"column\\\\\\\\\\\\\\\": {\\\\\\\\\\\\\\\"type\\\\\\\\\\\\\\\": 2, \\\\\\\\\\\\\\\"details\\\\\\\\\\\\\\\": {\\\\\\\\\\\\\\\"selectedColumn\\\\\\\\\\\\\\\": \\\\\\\\\\\\\\\"SkinThickness\\\\\\\\\\\\\\\"}}, \\\\\\\\\\\\\\\"typeProperty\\\\\\\\\\\\\\\": 2}, {\\\\\\\\\\\\\\\"column\\\\\\\\\\\\\\\": {\\\\\\\\\\\\\\\"type\\\\\\\\\\\\\\\": 2, \\\\\\\\\\\\\\\"details\\\\\\\\\\\\\\\": {\\\\\\\\\\\\\\\"selectedColumn\\\\\\\\\\\\\\\": \\\\\\\\\\\\\\\"Insulin\\\\\\\\\\\\\\\"}}, \\\\\\\\\\\\\\\"typeProperty\\\\\\\\\\\\\\\": 2}, {\\\\\\\\\\\\\\\"column\\\\\\\\\\\\\\\": {\\\\\\\\\\\\\\\"type\\\\\\\\\\\\\\\": 2, \\\\\\\\\\\\\\\"details\\\\\\\\\\\\\\\": {\\\\\\\\\\\\\\\"selectedColumn\\\\\\\\\\\\\\\": \\\\\\\\\\\\\\\"BMI\\\\\\\\\\\\\\\"}}, \\\\\\\\\\\\\\\"typeProperty\\\\\\\\\\\\\\\": 3}, {\\\\\\\\\\\\\\\"column\\\\\\\\\\\\\\\": {\\\\\\\\\\\\\\\"type\\\\\\\\\\\\\\\": 2, \\\\\\\\\\\\\\\"details\\\\\\\\\\\\\\\": {\\\\\\\\\\\\\\\"selectedColumn\\\\\\\\\\\\\\\": \\\\\\\\\\\\\\\"DiabetesPedigreeFunction\\\\\\\\\\\\\\\"}}, \\\\\\\\\\\\\\\"typeProperty\\\\\\\\\\\\\\\": 3}, {\\\\\\\\\\\\\\\"column\\\\\\\\\\\\\\\": {\\\\\\\\\\\\\\\"type\\\\\\\\\\\\\\\": 2, \\\\\\\\\\\\\\\"details\\\\\\\\\\\\\\\": {\\\\\\\\\\\\\\\"selectedColumn\\\\\\\\\\\\\\\": \\\\\\\\\\\\\\\"Age\\\\\\\\\\\\\\\"}}, \\\\\\\\\\\\\\\"typeProperty\\\\\\\\\\\\\\\": 2}, {\\\\\\\\\\\\\\\"column\\\\\\\\\\\\\\\": {\\\\\\\\\\\\\\\"type\\\\\\\\\\\\\\\": 2, \\\\\\\\\\\\\\\"details\\\\\\\\\\\\\\\": {\\\\\\\\\\\\\\\"selectedColumn\\\\\\\\\\\\\\\": \\\\\\\\\\\\\\\"Outcome\\\\\\\\\\\\\\\"}}, \\\\\\\\\\\\\\\"typeProperty\\\\\\\\\\\\\\\": 2}]}, \\\\\\\\\\\\\\\"localData\\\\\\\\\\\\\\\": {}, \\\\\\\\\\\\\\\"isEnabled\\\\\\\\\\\\\\\": true, \\\\\\\\\\\\\\\"name\\\\\\\\\\\\\\\": null, \\\\\\\\\\\\\\\"annotation\\\\\\\\\\\\\\\": null}], \\\\\\\\\\\\\\\"inspectors\\\\\\\\\\\\\\\": [], \\\\\\\\\\\\\\\"meta\\\\\\\\\\\\\\\": {\\\\\\\\\\\\\\\"savedDatasetId\\\\\\\\\\\\\\\": \\\\\\\\\\\\\\\"8849043c-d9d9-466e-b985-f4dbae2deb89\\\\\\\\\\\\\\\", \\\\\\\\\\\\\\\"datasetType\\\\\\\\\\\\\\\": \\\\\\\\\\\\\\\"tabular\\\\\\\\\\\\\\\", \\\\\\\\\\\\\\\"subscriptionId\\\\\\\\\\\\\\\": \\\\\\\\\\\\\\\"f5091c60-1c3c-430f-8d81-d802f6bf2414\\\\\\\\\\\\\\\", \\\\\\\\\\\\\\\"workspaceId\\\\\\\\\\\\\\\": \\\\\\\\\\\\\\\"a6251af2-72e3-4817-ab18-076c807e1087\\\\\\\\\\\\\\\", \\\\\\\\\\\\\\\"workspaceLocation\\\\\\\\\\\\\\\": \\\\\\\\\\\\\\\"southcentralus\\\\\\\\\\\\\\\"}}\\\\\\\", \\\\\\\"activities\\\\\\\": 0}\", \"EnableSubsampling\": \"False\", \"runTemplate\": \"AutoML\", \"azureml.runsource\": \"automl\", \"display_task_type\": \"classification\", \"dependencies_versions\": \"{\\\"azureml-widgets\\\": \\\"1.20.0\\\", \\\"azureml-train\\\": \\\"1.20.0\\\", \\\"azureml-train-restclients-hyperdrive\\\": \\\"1.20.0\\\", \\\"azureml-train-core\\\": \\\"1.20.0\\\", \\\"azureml-train-automl\\\": \\\"1.20.0\\\", \\\"azureml-train-automl-runtime\\\": \\\"1.20.0\\\", \\\"azureml-train-automl-client\\\": \\\"1.20.0\\\", \\\"azureml-tensorboard\\\": \\\"1.20.0\\\", \\\"azureml-telemetry\\\": \\\"1.20.0\\\", \\\"azureml-sdk\\\": \\\"1.20.0\\\", \\\"azureml-samples\\\": \\\"0+unknown\\\", \\\"azureml-pipeline\\\": \\\"1.20.0\\\", \\\"azureml-pipeline-steps\\\": \\\"1.20.0\\\", \\\"azureml-pipeline-core\\\": \\\"1.20.0\\\", \\\"azureml-opendatasets\\\": \\\"1.20.0\\\", \\\"azureml-model-management-sdk\\\": \\\"1.0.1b6.post1\\\", \\\"azureml-mlflow\\\": \\\"1.20.0.post1\\\", \\\"azureml-interpret\\\": \\\"1.20.0\\\", \\\"azureml-explain-model\\\": \\\"1.20.0\\\", \\\"azureml-defaults\\\": \\\"1.20.0\\\", \\\"azureml-dataset-runtime\\\": \\\"1.20.0\\\", \\\"azureml-dataprep\\\": \\\"2.7.3\\\", \\\"azureml-dataprep-rslex\\\": \\\"1.5.0\\\", \\\"azureml-dataprep-native\\\": \\\"27.0.0\\\", \\\"azureml-datadrift\\\": \\\"1.20.0\\\", \\\"azureml-core\\\": \\\"1.20.0\\\", \\\"azureml-contrib-services\\\": \\\"1.20.0\\\", \\\"azureml-contrib-server\\\": \\\"1.20.0\\\", \\\"azureml-contrib-reinforcementlearning\\\": \\\"1.20.0\\\", \\\"azureml-contrib-pipeline-steps\\\": \\\"1.20.0\\\", \\\"azureml-contrib-notebook\\\": \\\"1.20.0\\\", \\\"azureml-contrib-interpret\\\": \\\"1.20.0\\\", \\\"azureml-contrib-gbdt\\\": \\\"1.20.0\\\", \\\"azureml-contrib-fairness\\\": \\\"1.20.0\\\", \\\"azureml-contrib-dataset\\\": \\\"1.20.0\\\", \\\"azureml-cli-common\\\": \\\"1.20.0\\\", \\\"azureml-automl-runtime\\\": \\\"1.20.0\\\", \\\"azureml-automl-core\\\": \\\"1.20.0\\\", \\\"azureml-accel-models\\\": \\\"1.20.0\\\"}\", \"_aml_system_scenario_identification\": \"Remote.Parent\", \"ClientType\": \"SDK\", \"environment_cpu_name\": \"AzureML-AutoML\", \"environment_cpu_label\": \"prod\", \"environment_gpu_name\": \"AzureML-AutoML-GPU\", \"environment_gpu_label\": \"prod\", \"root_attribution\": \"automl\", \"attribution\": \"AutoML\", \"Orchestrator\": \"AutoML\", \"CancelUri\": \"https://southcentralus.experiments.azureml.net/jasmine/v1.0/subscriptions/f5091c60-1c3c-430f-8d81-d802f6bf2414/resourceGroups/aml-quickstarts-136869/providers/Microsoft.MachineLearningServices/workspaces/quick-starts-ws-136869/experimentids/00348683-dd26-430b-beda-8be4381bb20b/cancel/AutoML_19c071de-d41b-40ad-8e7a-f803cbabbb3f\", \"ClientSdkVersion\": \"1.21.0\", \"snapshotId\": \"00000000-0000-0000-0000-000000000000\", \"SetupRunId\": \"AutoML_19c071de-d41b-40ad-8e7a-f803cbabbb3f_setup\", \"SetupRunContainerId\": \"dcid.AutoML_19c071de-d41b-40ad-8e7a-f803cbabbb3f_setup\", \"FeaturizationRunJsonPath\": \"featurizer_container.json\", \"FeaturizationRunId\": \"AutoML_19c071de-d41b-40ad-8e7a-f803cbabbb3f_featurize\", \"ProblemInfoJsonString\": \"{\\\"dataset_num_categorical\\\": 0, \\\"is_sparse\\\": true, \\\"subsampling\\\": false, \\\"dataset_classes\\\": 2, \\\"dataset_features\\\": 24, \\\"dataset_samples\\\": 768, \\\"single_frequency_class_detected\\\": false}\", \"ModelExplainRunId\": \"AutoML_19c071de-d41b-40ad-8e7a-f803cbabbb3f_ModelExplain\"}, \"tags\": {\"model_explain_run\": \"best_run\", \"_aml_system_azureml.automlComponent\": \"AutoML\", \"pipeline_id\": \"\", \"score\": \"\", \"predicted_cost\": \"\", \"fit_time\": \"\", \"training_percent\": \"\", \"iteration\": \"\", \"run_preprocessor\": \"\", \"run_algorithm\": \"\", \"dynamic_whitelisting_iterations\": \"<25>;<30>;\", \"automl_best_child_run_id\": \"AutoML_19c071de-d41b-40ad-8e7a-f803cbabbb3f_33\"}, \"end_time_utc\": \"2021-02-02T17:33:19.866738Z\", \"status\": \"Completed\", \"log_files\": {}, \"log_groups\": [], \"run_duration\": \"0:20:13\"}, \"child_runs\": [{\"run_id\": \"AutoML_19c071de-d41b-40ad-8e7a-f803cbabbb3f_0\", \"run_number\": 5, \"metric\": null, \"status\": \"Completed\", \"run_type\": \"azureml.scriptrun\", \"training_percent\": \"100\", \"start_time\": \"2021-02-02T17:21:45.05894Z\", \"end_time\": \"2021-02-02T17:23:46.348232Z\", \"created_time\": \"2021-02-02T17:20:11.055746Z\", \"created_time_dt\": \"2021-02-02T17:20:11.055746Z\", \"duration\": \"0:03:35\", \"iteration\": \"0\", \"goal\": \"accuracy_max\", \"run_name\": \"MaxAbsScaler, LightGBM\", \"run_properties\": \"copy=True\", \"primary_metric\": 0.74352771, \"best_metric\": 0.74352771}, {\"run_id\": \"AutoML_19c071de-d41b-40ad-8e7a-f803cbabbb3f_1\", \"run_number\": 6, \"metric\": null, \"status\": \"Completed\", \"run_type\": \"azureml.scriptrun\", \"training_percent\": \"100\", \"start_time\": \"2021-02-02T17:21:15.630091Z\", \"end_time\": \"2021-02-02T17:22:07.345135Z\", \"created_time\": \"2021-02-02T17:20:11.190829Z\", \"created_time_dt\": \"2021-02-02T17:20:11.190829Z\", \"duration\": \"0:01:56\", \"iteration\": \"1\", \"goal\": \"accuracy_max\", \"run_name\": \"MaxAbsScaler, XGBoostClassifier\", \"run_properties\": \"copy=True\", \"primary_metric\": 0.76563959, \"best_metric\": 0.76563959}, {\"run_id\": \"AutoML_19c071de-d41b-40ad-8e7a-f803cbabbb3f_2\", \"run_number\": 7, \"metric\": null, \"status\": \"Completed\", \"run_type\": \"azureml.scriptrun\", \"training_percent\": \"100\", \"start_time\": \"2021-02-02T17:20:23.796878Z\", \"end_time\": \"2021-02-02T17:21:09.923852Z\", \"created_time\": \"2021-02-02T17:20:11.244438Z\", \"created_time_dt\": \"2021-02-02T17:20:11.244438Z\", \"duration\": \"0:00:58\", \"iteration\": \"2\", \"goal\": \"accuracy_max\", \"run_name\": \"MaxAbsScaler, RandomForest\", \"run_properties\": \"copy=True\", \"primary_metric\": 0.76705713, \"best_metric\": 0.76705713}, {\"run_id\": \"AutoML_19c071de-d41b-40ad-8e7a-f803cbabbb3f_3\", \"run_number\": 8, \"metric\": null, \"status\": \"Completed\", \"run_type\": \"azureml.scriptrun\", \"training_percent\": \"100\", \"start_time\": \"2021-02-02T17:21:47.124909Z\", \"end_time\": \"2021-02-02T17:23:53.54711Z\", \"created_time\": \"2021-02-02T17:20:11.267608Z\", \"created_time_dt\": \"2021-02-02T17:20:11.267608Z\", \"duration\": \"0:03:42\", \"iteration\": \"3\", \"goal\": \"accuracy_max\", \"run_name\": \"MaxAbsScaler, RandomForest\", \"run_properties\": \"copy=True\", \"primary_metric\": 0.75136236, \"best_metric\": 0.76705713}, {\"run_id\": \"AutoML_19c071de-d41b-40ad-8e7a-f803cbabbb3f_4\", \"run_number\": 9, \"metric\": null, \"status\": \"Completed\", \"run_type\": \"azureml.scriptrun\", \"training_percent\": \"100\", \"start_time\": \"2021-02-02T17:21:51.683902Z\", \"end_time\": \"2021-02-02T17:24:15.692594Z\", \"created_time\": \"2021-02-02T17:21:13.259672Z\", \"created_time_dt\": \"2021-02-02T17:21:13.259672Z\", \"duration\": \"0:03:02\", \"iteration\": \"4\", \"goal\": \"accuracy_max\", \"run_name\": \"MaxAbsScaler, RandomForest\", \"run_properties\": \"copy=True\", \"primary_metric\": 0.75916306, \"best_metric\": 0.76705713}, {\"run_id\": \"AutoML_19c071de-d41b-40ad-8e7a-f803cbabbb3f_5\", \"run_number\": 10, \"metric\": null, \"status\": \"Completed\", \"run_type\": \"azureml.scriptrun\", \"training_percent\": \"100\", \"start_time\": \"2021-02-02T17:22:21.676378Z\", \"end_time\": \"2021-02-02T17:23:13.047525Z\", \"created_time\": \"2021-02-02T17:22:11.150144Z\", \"created_time_dt\": \"2021-02-02T17:22:11.150144Z\", \"duration\": \"0:01:01\", \"iteration\": \"5\", \"goal\": \"accuracy_max\", \"run_name\": \"MaxAbsScaler, RandomForest\", \"run_properties\": \"copy=True\", \"primary_metric\": 0.72531194, \"best_metric\": 0.76705713}, {\"run_id\": \"AutoML_19c071de-d41b-40ad-8e7a-f803cbabbb3f_6\", \"run_number\": 11, \"metric\": null, \"status\": \"Completed\", \"run_type\": \"azureml.scriptrun\", \"training_percent\": \"100\", \"start_time\": \"2021-02-02T17:23:26.148268Z\", \"end_time\": \"2021-02-02T17:24:16.469238Z\", \"created_time\": \"2021-02-02T17:23:15.767861Z\", \"created_time_dt\": \"2021-02-02T17:23:15.767861Z\", \"duration\": \"0:01:00\", \"iteration\": \"6\", \"goal\": \"accuracy_max\", \"run_name\": \"SparseNormalizer, XGBoostClassifier\", \"run_properties\": \"<azureml.automl.runtime.shared.model_wrappers.SparseNormalizer object at 0x7f0be558b400\", \"primary_metric\": 0.71886088, \"best_metric\": 0.76705713}, {\"run_id\": \"AutoML_19c071de-d41b-40ad-8e7a-f803cbabbb3f_7\", \"run_number\": 12, \"metric\": null, \"status\": \"Completed\", \"run_type\": \"azureml.scriptrun\", \"training_percent\": \"100\", \"start_time\": \"2021-02-02T17:24:00.189663Z\", \"end_time\": \"2021-02-02T17:24:42.61448Z\", \"created_time\": \"2021-02-02T17:23:49.644035Z\", \"created_time_dt\": \"2021-02-02T17:23:49.644035Z\", \"duration\": \"0:00:52\", \"iteration\": \"7\", \"goal\": \"accuracy_max\", \"run_name\": \"SparseNormalizer, XGBoostClassifier\", \"run_properties\": \"<azureml.automl.runtime.shared.model_wrappers.SparseNormalizer object at 0x7fef87794588\", \"primary_metric\": 0.71102623, \"best_metric\": 0.76705713}, {\"run_id\": \"AutoML_19c071de-d41b-40ad-8e7a-f803cbabbb3f_8\", \"run_number\": 13, \"metric\": null, \"status\": \"Completed\", \"run_type\": \"azureml.scriptrun\", \"training_percent\": \"100\", \"start_time\": \"2021-02-02T17:24:05.70699Z\", \"end_time\": \"2021-02-02T17:24:56.778999Z\", \"created_time\": \"2021-02-02T17:23:55.943531Z\", \"created_time_dt\": \"2021-02-02T17:23:55.943531Z\", \"duration\": \"0:01:00\", \"iteration\": \"8\", \"goal\": \"accuracy_max\", \"run_name\": \"SparseNormalizer, XGBoostClassifier\", \"run_properties\": \"<azureml.automl.runtime.shared.model_wrappers.SparseNormalizer object at 0x7f8502ed84a8\", \"primary_metric\": 0.70453272, \"best_metric\": 0.76705713}, {\"run_id\": \"AutoML_19c071de-d41b-40ad-8e7a-f803cbabbb3f_9\", \"run_number\": 14, \"metric\": null, \"status\": \"Completed\", \"run_type\": \"azureml.scriptrun\", \"training_percent\": \"100\", \"start_time\": \"2021-02-02T17:24:31.259757Z\", \"end_time\": \"2021-02-02T17:25:14.303452Z\", \"created_time\": \"2021-02-02T17:24:18.283758Z\", \"created_time_dt\": \"2021-02-02T17:24:18.283758Z\", \"duration\": \"0:00:56\", \"iteration\": \"9\", \"goal\": \"accuracy_max\", \"run_name\": \"SparseNormalizer, XGBoostClassifier\", \"run_properties\": \"<azureml.automl.runtime.shared.model_wrappers.SparseNormalizer object at 0x7f58e85852b0\", \"primary_metric\": 0.64846787, \"best_metric\": 0.76705713}, {\"run_id\": \"AutoML_19c071de-d41b-40ad-8e7a-f803cbabbb3f_10\", \"run_number\": 15, \"metric\": null, \"status\": \"Completed\", \"run_type\": \"azureml.scriptrun\", \"training_percent\": \"100\", \"start_time\": \"2021-02-02T17:24:30.796642Z\", \"end_time\": \"2021-02-02T17:25:21.812324Z\", \"created_time\": \"2021-02-02T17:24:18.430654Z\", \"created_time_dt\": \"2021-02-02T17:24:18.430654Z\", \"duration\": \"0:01:03\", \"iteration\": \"10\", \"goal\": \"accuracy_max\", \"run_name\": \"MaxAbsScaler, RandomForest\", \"run_properties\": \"copy=True\", \"primary_metric\": 0.75137085, \"best_metric\": 0.76705713}, {\"run_id\": \"AutoML_19c071de-d41b-40ad-8e7a-f803cbabbb3f_11\", \"run_number\": 16, \"metric\": null, \"status\": \"Completed\", \"run_type\": \"azureml.scriptrun\", \"training_percent\": \"100\", \"start_time\": \"2021-02-02T17:24:58.321152Z\", \"end_time\": \"2021-02-02T17:25:59.498802Z\", \"created_time\": \"2021-02-02T17:24:44.915217Z\", \"created_time_dt\": \"2021-02-02T17:24:44.915217Z\", \"duration\": \"0:01:14\", \"iteration\": \"11\", \"goal\": \"accuracy_max\", \"run_name\": \"StandardScalerWrapper, RandomForest\", \"run_properties\": \"<azureml.automl.runtime.shared.model_wrappers.StandardScalerWrapper object at 0x7f0fe834a4e0\", \"primary_metric\": 0.75654868, \"best_metric\": 0.76705713}, {\"run_id\": \"AutoML_19c071de-d41b-40ad-8e7a-f803cbabbb3f_12\", \"run_number\": 17, \"metric\": null, \"status\": \"Completed\", \"run_type\": \"azureml.scriptrun\", \"training_percent\": \"100\", \"start_time\": \"2021-02-02T17:25:11.478706Z\", \"end_time\": \"2021-02-02T17:26:09.759756Z\", \"created_time\": \"2021-02-02T17:24:59.381398Z\", \"created_time_dt\": \"2021-02-02T17:24:59.381398Z\", \"duration\": \"0:01:10\", \"iteration\": \"12\", \"goal\": \"accuracy_max\", \"run_name\": \"MaxAbsScaler, LightGBM\", \"run_properties\": \"copy=True\", \"primary_metric\": 0.75784738, \"best_metric\": 0.76705713}, {\"run_id\": \"AutoML_19c071de-d41b-40ad-8e7a-f803cbabbb3f_13\", \"run_number\": 18, \"metric\": null, \"status\": \"Completed\", \"run_type\": \"azureml.scriptrun\", \"training_percent\": \"100\", \"start_time\": \"2021-02-02T17:25:28.670687Z\", \"end_time\": \"2021-02-02T17:26:17.372241Z\", \"created_time\": \"2021-02-02T17:25:16.534417Z\", \"created_time_dt\": \"2021-02-02T17:25:16.534417Z\", \"duration\": \"0:01:00\", \"iteration\": \"13\", \"goal\": \"accuracy_max\", \"run_name\": \"MaxAbsScaler, LightGBM\", \"run_properties\": \"copy=True\", \"primary_metric\": 0.75395977, \"best_metric\": 0.76705713}, {\"run_id\": \"AutoML_19c071de-d41b-40ad-8e7a-f803cbabbb3f_14\", \"run_number\": 19, \"metric\": null, \"status\": \"Completed\", \"run_type\": \"azureml.scriptrun\", \"training_percent\": \"100\", \"start_time\": \"2021-02-02T17:25:37.028665Z\", \"end_time\": \"2021-02-02T17:26:22.752647Z\", \"created_time\": \"2021-02-02T17:25:24.476625Z\", \"created_time_dt\": \"2021-02-02T17:25:24.476625Z\", \"duration\": \"0:00:58\", \"iteration\": \"14\", \"goal\": \"accuracy_max\", \"run_name\": \"MaxAbsScaler, LogisticRegression\", \"run_properties\": \"copy=True\", \"primary_metric\": 0.76826246, \"best_metric\": 0.76826246}, {\"run_id\": \"AutoML_19c071de-d41b-40ad-8e7a-f803cbabbb3f_15\", \"run_number\": 20, \"metric\": null, \"status\": \"Completed\", \"run_type\": \"azureml.scriptrun\", \"training_percent\": \"100\", \"start_time\": \"2021-02-02T17:26:12.639535Z\", \"end_time\": \"2021-02-02T17:27:02.080903Z\", \"created_time\": \"2021-02-02T17:26:02.120868Z\", \"created_time_dt\": \"2021-02-02T17:26:02.120868Z\", \"duration\": \"0:00:59\", \"iteration\": \"15\", \"goal\": \"accuracy_max\", \"run_name\": \"MaxAbsScaler, LightGBM\", \"run_properties\": \"copy=True\", \"primary_metric\": 0.74740684, \"best_metric\": 0.76826246}, {\"run_id\": \"AutoML_19c071de-d41b-40ad-8e7a-f803cbabbb3f_16\", \"run_number\": 21, \"metric\": null, \"status\": \"Completed\", \"run_type\": \"azureml.scriptrun\", \"training_percent\": \"100\", \"start_time\": \"2021-02-02T17:26:23.918548Z\", \"end_time\": \"2021-02-02T17:27:18.931721Z\", \"created_time\": \"2021-02-02T17:26:12.156554Z\", \"created_time_dt\": \"2021-02-02T17:26:12.156554Z\", \"duration\": \"0:01:06\", \"iteration\": \"16\", \"goal\": \"accuracy_max\", \"run_name\": \"MaxAbsScaler, LightGBM\", \"run_properties\": \"copy=True\", \"primary_metric\": 0.74094729, \"best_metric\": 0.76826246}, {\"run_id\": \"AutoML_19c071de-d41b-40ad-8e7a-f803cbabbb3f_17\", \"run_number\": 22, \"metric\": null, \"status\": \"Completed\", \"run_type\": \"azureml.scriptrun\", \"training_percent\": \"100\", \"start_time\": \"2021-02-02T17:26:32.708928Z\", \"end_time\": \"2021-02-02T17:27:24.484817Z\", \"created_time\": \"2021-02-02T17:26:19.631914Z\", \"created_time_dt\": \"2021-02-02T17:26:19.631914Z\", \"duration\": \"0:01:04\", \"iteration\": \"17\", \"goal\": \"accuracy_max\", \"run_name\": \"MaxAbsScaler, LightGBM\", \"run_properties\": \"copy=True\", \"primary_metric\": 0.75265258, \"best_metric\": 0.76826246}, {\"run_id\": \"AutoML_19c071de-d41b-40ad-8e7a-f803cbabbb3f_18\", \"run_number\": 23, \"metric\": null, \"status\": \"Completed\", \"run_type\": \"azureml.scriptrun\", \"training_percent\": \"100\", \"start_time\": \"2021-02-02T17:26:38.0026Z\", \"end_time\": \"2021-02-02T17:27:21.18906Z\", \"created_time\": \"2021-02-02T17:26:24.948818Z\", \"created_time_dt\": \"2021-02-02T17:26:24.948818Z\", \"duration\": \"0:00:56\", \"iteration\": \"18\", \"goal\": \"accuracy_max\", \"run_name\": \"MaxAbsScaler, LightGBM\", \"run_properties\": \"copy=True\", \"primary_metric\": 0.76696376, \"best_metric\": 0.76826246}, {\"run_id\": \"AutoML_19c071de-d41b-40ad-8e7a-f803cbabbb3f_19\", \"run_number\": 24, \"metric\": null, \"status\": \"Completed\", \"run_type\": \"azureml.scriptrun\", \"training_percent\": \"100\", \"start_time\": \"2021-02-02T17:27:16.651257Z\", \"end_time\": \"2021-02-02T17:28:02.423617Z\", \"created_time\": \"2021-02-02T17:27:04.386679Z\", \"created_time_dt\": \"2021-02-02T17:27:04.386679Z\", \"duration\": \"0:00:58\", \"iteration\": \"19\", \"goal\": \"accuracy_max\", \"run_name\": \"SparseNormalizer, RandomForest\", \"run_properties\": \"<azureml.automl.runtime.shared.model_wrappers.SparseNormalizer object at 0x7f0e4814e9b0\", \"primary_metric\": 0.70836092, \"best_metric\": 0.76826246}, {\"run_id\": \"AutoML_19c071de-d41b-40ad-8e7a-f803cbabbb3f_20\", \"run_number\": 25, \"metric\": null, \"status\": \"Completed\", \"run_type\": \"azureml.scriptrun\", \"training_percent\": \"100\", \"start_time\": \"2021-02-02T17:27:32.33913Z\", \"end_time\": \"2021-02-02T17:28:14.188338Z\", \"created_time\": \"2021-02-02T17:27:21.878328Z\", \"created_time_dt\": \"2021-02-02T17:27:21.878328Z\", \"duration\": \"0:00:52\", \"iteration\": \"20\", \"goal\": \"accuracy_max\", \"run_name\": \"StandardScalerWrapper, RandomForest\", \"run_properties\": \"<azureml.automl.runtime.shared.model_wrappers.StandardScalerWrapper object at 0x7fbe6a144ef0\", \"primary_metric\": 0.74352771, \"best_metric\": 0.76826246}, {\"run_id\": \"AutoML_19c071de-d41b-40ad-8e7a-f803cbabbb3f_21\", \"run_number\": 26, \"metric\": null, \"status\": \"Completed\", \"run_type\": \"azureml.scriptrun\", \"training_percent\": \"100\", \"start_time\": \"2021-02-02T17:27:38.069561Z\", \"end_time\": \"2021-02-02T17:28:23.576632Z\", \"created_time\": \"2021-02-02T17:27:25.985396Z\", \"created_time_dt\": \"2021-02-02T17:27:25.985396Z\", \"duration\": \"0:00:57\", \"iteration\": \"21\", \"goal\": \"accuracy_max\", \"run_name\": \"MaxAbsScaler, LogisticRegression\", \"run_properties\": \"copy=True\", \"primary_metric\": 0.76957813, \"best_metric\": 0.76957813}, {\"run_id\": \"AutoML_19c071de-d41b-40ad-8e7a-f803cbabbb3f_22\", \"run_number\": 27, \"metric\": null, \"status\": \"Completed\", \"run_type\": \"azureml.scriptrun\", \"training_percent\": \"100\", \"start_time\": \"2021-02-02T17:27:41.652984Z\", \"end_time\": \"2021-02-02T17:28:36.289025Z\", \"created_time\": \"2021-02-02T17:27:30.186959Z\", \"created_time_dt\": \"2021-02-02T17:27:30.186959Z\", \"duration\": \"0:01:06\", \"iteration\": \"22\", \"goal\": \"accuracy_max\", \"run_name\": \"MaxAbsScaler, LightGBM\", \"run_properties\": \"copy=True\", \"primary_metric\": 0.76174349, \"best_metric\": 0.76957813}, {\"run_id\": \"AutoML_19c071de-d41b-40ad-8e7a-f803cbabbb3f_23\", \"run_number\": 28, \"metric\": null, \"status\": \"Completed\", \"run_type\": \"azureml.scriptrun\", \"training_percent\": \"100\", \"start_time\": \"2021-02-02T17:28:16.764337Z\", \"end_time\": \"2021-02-02T17:29:12.031607Z\", \"created_time\": \"2021-02-02T17:28:04.684087Z\", \"created_time_dt\": \"2021-02-02T17:28:04.684087Z\", \"duration\": \"0:01:07\", \"iteration\": \"23\", \"goal\": \"accuracy_max\", \"run_name\": \"MaxAbsScaler, LightGBM\", \"run_properties\": \"copy=True\", \"primary_metric\": 0.76827094, \"best_metric\": 0.76957813}, {\"run_id\": \"AutoML_19c071de-d41b-40ad-8e7a-f803cbabbb3f_24\", \"run_number\": 29, \"metric\": null, \"status\": \"Completed\", \"run_type\": \"azureml.scriptrun\", \"training_percent\": \"100\", \"start_time\": \"2021-02-02T17:28:28.964575Z\", \"end_time\": \"2021-02-02T17:29:07.579403Z\", \"created_time\": \"2021-02-02T17:28:16.466181Z\", \"created_time_dt\": \"2021-02-02T17:28:16.466181Z\", \"duration\": \"0:00:51\", \"iteration\": \"24\", \"goal\": \"accuracy_max\", \"run_name\": \"MaxAbsScaler, LogisticRegression\", \"run_properties\": \"copy=True\", \"primary_metric\": 0.74351074, \"best_metric\": 0.76957813}, {\"run_id\": \"AutoML_19c071de-d41b-40ad-8e7a-f803cbabbb3f_25\", \"run_number\": 30, \"metric\": null, \"status\": \"Completed\", \"run_type\": \"azureml.scriptrun\", \"training_percent\": \"100\", \"start_time\": \"2021-02-02T17:28:38.892331Z\", \"end_time\": \"2021-02-02T17:29:23.474058Z\", \"created_time\": \"2021-02-02T17:28:27.059611Z\", \"created_time_dt\": \"2021-02-02T17:28:27.059611Z\", \"duration\": \"0:00:56\", \"iteration\": \"25\", \"goal\": \"accuracy_max\", \"run_name\": \"SparseNormalizer, LogisticRegression\", \"run_properties\": \"<azureml.automl.runtime.shared.model_wrappers.SparseNormalizer object at 0x7fa824745198\", \"primary_metric\": 0.50373483, \"best_metric\": 0.76957813}, {\"run_id\": \"AutoML_19c071de-d41b-40ad-8e7a-f803cbabbb3f_26\", \"run_number\": 31, \"metric\": null, \"status\": \"Completed\", \"run_type\": \"azureml.scriptrun\", \"training_percent\": \"100\", \"start_time\": \"2021-02-02T17:28:50.865474Z\", \"end_time\": \"2021-02-02T17:29:43.749557Z\", \"created_time\": \"2021-02-02T17:28:38.595792Z\", \"created_time_dt\": \"2021-02-02T17:28:38.595792Z\", \"duration\": \"0:01:05\", \"iteration\": \"26\", \"goal\": \"accuracy_max\", \"run_name\": \"MaxAbsScaler, ExtremeRandomTrees\", \"run_properties\": \"copy=True\", \"primary_metric\": 0.75136236, \"best_metric\": 0.76957813}, {\"run_id\": \"AutoML_19c071de-d41b-40ad-8e7a-f803cbabbb3f_27\", \"run_number\": 32, \"metric\": null, \"status\": \"Completed\", \"run_type\": \"azureml.scriptrun\", \"training_percent\": \"100\", \"start_time\": \"2021-02-02T17:29:23.561487Z\", \"end_time\": \"2021-02-02T17:30:13.059364Z\", \"created_time\": \"2021-02-02T17:29:10.273169Z\", \"created_time_dt\": \"2021-02-02T17:29:10.273169Z\", \"duration\": \"0:01:02\", \"iteration\": \"27\", \"goal\": \"accuracy_max\", \"run_name\": \"StandardScalerWrapper, ExtremeRandomTrees\", \"run_properties\": \"<azureml.automl.runtime.shared.model_wrappers.StandardScalerWrapper object at 0x7f750ea31b00\", \"primary_metric\": 0.72663611, \"best_metric\": 0.76957813}, {\"run_id\": \"AutoML_19c071de-d41b-40ad-8e7a-f803cbabbb3f_28\", \"run_number\": 33, \"metric\": null, \"status\": \"Completed\", \"run_type\": \"azureml.scriptrun\", \"training_percent\": \"100\", \"start_time\": \"2021-02-02T17:29:29.303647Z\", \"end_time\": \"2021-02-02T17:30:25.71222Z\", \"created_time\": \"2021-02-02T17:29:16.216675Z\", \"created_time_dt\": \"2021-02-02T17:29:16.216675Z\", \"duration\": \"0:01:09\", \"iteration\": \"28\", \"goal\": \"accuracy_max\", \"run_name\": \"MaxAbsScaler, LightGBM\", \"run_properties\": \"copy=True\", \"primary_metric\": 0.74744079, \"best_metric\": 0.76957813}, {\"run_id\": \"AutoML_19c071de-d41b-40ad-8e7a-f803cbabbb3f_29\", \"run_number\": 34, \"metric\": null, \"status\": \"Completed\", \"run_type\": \"azureml.scriptrun\", \"training_percent\": \"100\", \"start_time\": \"2021-02-02T17:29:41.938781Z\", \"end_time\": \"2021-02-02T17:30:30.669555Z\", \"created_time\": \"2021-02-02T17:29:27.647552Z\", \"created_time_dt\": \"2021-02-02T17:29:27.647552Z\", \"duration\": \"0:01:03\", \"iteration\": \"29\", \"goal\": \"accuracy_max\", \"run_name\": \"SparseNormalizer, LightGBM\", \"run_properties\": \"<azureml.automl.runtime.shared.model_wrappers.SparseNormalizer object at 0x7f54000e7668\", \"primary_metric\": 0.69011968, \"best_metric\": 0.76957813}, {\"run_id\": \"AutoML_19c071de-d41b-40ad-8e7a-f803cbabbb3f_30\", \"run_number\": 35, \"metric\": null, \"status\": \"Completed\", \"run_type\": \"azureml.scriptrun\", \"training_percent\": \"100\", \"start_time\": \"2021-02-02T17:30:00.444347Z\", \"end_time\": \"2021-02-02T17:30:51.053144Z\", \"created_time\": \"2021-02-02T17:29:48.023393Z\", \"created_time_dt\": \"2021-02-02T17:29:48.023393Z\", \"duration\": \"0:01:03\", \"iteration\": \"30\", \"goal\": \"accuracy_max\", \"run_name\": \"TruncatedSVDWrapper, LogisticRegression\", \"run_properties\": \"n_components=0.3068421052631579, random_state=None\", \"primary_metric\": 0.66674306, \"best_metric\": 0.76957813}, {\"run_id\": \"AutoML_19c071de-d41b-40ad-8e7a-f803cbabbb3f_31\", \"run_number\": 36, \"metric\": null, \"status\": \"Completed\", \"run_type\": \"azureml.scriptrun\", \"training_percent\": \"100\", \"start_time\": \"2021-02-02T17:30:27.833607Z\", \"end_time\": \"2021-02-02T17:31:24.628698Z\", \"created_time\": \"2021-02-02T17:30:15.427338Z\", \"created_time_dt\": \"2021-02-02T17:30:15.427338Z\", \"duration\": \"0:01:09\", \"iteration\": \"31\", \"goal\": \"accuracy_max\", \"run_name\": \"MaxAbsScaler, LightGBM\", \"run_properties\": \"copy=True\", \"primary_metric\": 0.76563959, \"best_metric\": 0.76957813}, {\"run_id\": \"AutoML_19c071de-d41b-40ad-8e7a-f803cbabbb3f_32\", \"run_number\": 37, \"metric\": null, \"status\": \"Completed\", \"run_type\": \"azureml.scriptrun\", \"training_percent\": \"100\", \"start_time\": \"2021-02-02T17:30:40.705736Z\", \"end_time\": \"2021-02-02T17:31:28.686304Z\", \"created_time\": \"2021-02-02T17:30:28.71942Z\", \"created_time_dt\": \"2021-02-02T17:30:28.71942Z\", \"duration\": \"0:00:59\", \"iteration\": \"32\", \"goal\": \"accuracy_max\", \"run_name\": \"SparseNormalizer, LightGBM\", \"run_properties\": \"<azureml.automl.runtime.shared.model_wrappers.SparseNormalizer object at 0x7f11b0843320\", \"primary_metric\": 0.66288091, \"best_metric\": 0.76957813}, {\"run_id\": \"AutoML_19c071de-d41b-40ad-8e7a-f803cbabbb3f_33\", \"run_number\": 38, \"metric\": null, \"status\": \"Completed\", \"run_type\": \"azureml.scriptrun\", \"training_percent\": \"100\", \"start_time\": \"2021-02-02T17:31:41.628911Z\", \"end_time\": \"2021-02-02T17:32:59.355681Z\", \"created_time\": \"2021-02-02T17:31:29.852906Z\", \"created_time_dt\": \"2021-02-02T17:31:29.852906Z\", \"duration\": \"0:01:29\", \"iteration\": \"33\", \"goal\": \"accuracy_max\", \"run_name\": \"VotingEnsemble\", \"run_properties\": \"classification_labels=None,\\n                              estimators=[('21',\\n                                           Pipeline(memory=None,\\n                                                    steps=[('maxabsscaler',\\n                                                            MaxAbsScaler(copy=True\", \"primary_metric\": 0.78388083, \"best_metric\": 0.78388083}, {\"run_id\": \"AutoML_19c071de-d41b-40ad-8e7a-f803cbabbb3f_34\", \"run_number\": 39, \"metric\": null, \"status\": \"Completed\", \"run_type\": \"azureml.scriptrun\", \"training_percent\": \"100\", \"start_time\": \"2021-02-02T17:31:40.879314Z\", \"end_time\": \"2021-02-02T17:33:12.094907Z\", \"created_time\": \"2021-02-02T17:31:30.073415Z\", \"created_time_dt\": \"2021-02-02T17:31:30.073415Z\", \"duration\": \"0:01:42\", \"iteration\": \"34\", \"goal\": \"accuracy_max\", \"run_name\": \"StackEnsemble\", \"run_properties\": \"base_learners=[('21',\\n                                        Pipeline(memory=None,\\n                                                 steps=[('maxabsscaler',\\n                                                         MaxAbsScaler(copy=True\", \"primary_metric\": 0.77215856, \"best_metric\": 0.78388083}], \"children_metrics\": {\"categories\": [0], \"series\": {\"AUC_weighted\": [{\"categories\": [\"0\", \"1\", \"2\", \"3\", \"4\", \"5\", \"6\", \"7\", \"8\", \"9\", \"10\", \"11\", \"12\", \"13\", \"14\", \"15\", \"16\", \"17\", \"18\", \"19\", \"20\", \"21\", \"22\", \"23\", \"24\", \"25\", \"26\", \"27\", \"28\", \"29\", \"30\", \"31\", \"32\", \"33\", \"34\"], \"mode\": \"markers\", \"name\": \"AUC_weighted\", \"stepped\": false, \"type\": \"scatter\", \"data\": [0.8062007971845107, 0.8324149004567104, 0.8241245439565492, 0.8011909922342344, 0.826237194359037, 0.8128163327269944, 0.7660757757340357, 0.750158214052964, 0.7428467468941343, 0.6971397124948764, 0.8273554308991397, 0.8320264487026904, 0.8296885336489526, 0.823780220832693, 0.8097158000044875, 0.8293667821011453, 0.8254411998706679, 0.8298858118028015, 0.8310934715238215, 0.7355841852551326, 0.819506457159679, 0.8189466499272715, 0.8345718998269204, 0.8136972958620218, 0.8212547663645584, 0.5, 0.8213913713446889, 0.8181705688591988, 0.8363674514681613, 0.7343647256976864, 0.6464269197959976, 0.8299635782946924, 0.6951063289740301, 0.8371253118340632, 0.8392610719566441]}, {\"categories\": [\"0\", \"1\", \"2\", \"3\", \"4\", \"5\", \"6\", \"7\", \"8\", \"9\", \"10\", \"11\", \"12\", \"13\", \"14\", \"15\", \"16\", \"17\", \"18\", \"19\", \"20\", \"21\", \"22\", \"23\", \"24\", \"25\", \"26\", \"27\", \"28\", \"29\", \"30\", \"31\", \"32\", \"33\", \"34\"], \"mode\": \"lines\", \"name\": \"AUC_weighted_max\", \"stepped\": true, \"type\": \"scatter\", \"data\": [0.8062007971845107, 0.8324149004567104, 0.8324149004567104, 0.8324149004567104, 0.8324149004567104, 0.8324149004567104, 0.8324149004567104, 0.8324149004567104, 0.8324149004567104, 0.8324149004567104, 0.8324149004567104, 0.8324149004567104, 0.8324149004567104, 0.8324149004567104, 0.8324149004567104, 0.8324149004567104, 0.8324149004567104, 0.8324149004567104, 0.8324149004567104, 0.8324149004567104, 0.8324149004567104, 0.8324149004567104, 0.8345718998269204, 0.8345718998269204, 0.8345718998269204, 0.8345718998269204, 0.8345718998269204, 0.8345718998269204, 0.8363674514681613, 0.8363674514681613, 0.8363674514681613, 0.8363674514681613, 0.8363674514681613, 0.8371253118340632, 0.8392610719566441]}], \"log_loss\": [{\"categories\": [\"0\", \"1\", \"2\", \"3\", \"4\", \"5\", \"6\", \"7\", \"8\", \"9\", \"10\", \"11\", \"12\", \"13\", \"14\", \"15\", \"16\", \"17\", \"18\", \"19\", \"20\", \"21\", \"22\", \"23\", \"24\", \"25\", \"26\", \"27\", \"28\", \"29\", \"30\", \"31\", \"32\", \"33\", \"34\"], \"mode\": \"markers\", \"name\": \"log_loss\", \"stepped\": false, \"type\": \"scatter\", \"data\": [0.62702930996628, 0.48040462908306597, 0.4962511821901308, 0.5245965652001522, 0.5076763852561564, 0.5669230351860104, 0.5429842329358994, 0.554407651698379, 0.5815167335513968, 0.6129305394703799, 0.48515648095529607, 0.49288892000762735, 0.5123017269288469, 0.5096230956647192, 0.5022255051117088, 0.5170969785506008, 0.5283368081352527, 0.509182188517032, 0.5043325523195585, 0.5705431593499561, 0.5298032067446605, 0.48980940442275855, 0.4742811244502717, 0.5083325299469085, 0.51892759176652, 0.7503551990398681, 0.523659652099086, 0.5388662969176231, 0.47162479007017966, 0.5695386687219857, 0.6324664484604664, 0.4781708044664431, 0.5939226549311668, 0.49152947406313163, 0.4909375606231956]}, {\"categories\": [\"0\", \"1\", \"2\", \"3\", \"4\", \"5\", \"6\", \"7\", \"8\", \"9\", \"10\", \"11\", \"12\", \"13\", \"14\", \"15\", \"16\", \"17\", \"18\", \"19\", \"20\", \"21\", \"22\", \"23\", \"24\", \"25\", \"26\", \"27\", \"28\", \"29\", \"30\", \"31\", \"32\", \"33\", \"34\"], \"mode\": \"lines\", \"name\": \"log_loss_min\", \"stepped\": true, \"type\": \"scatter\", \"data\": [0.62702930996628, 0.48040462908306597, 0.48040462908306597, 0.48040462908306597, 0.48040462908306597, 0.48040462908306597, 0.48040462908306597, 0.48040462908306597, 0.48040462908306597, 0.48040462908306597, 0.48040462908306597, 0.48040462908306597, 0.48040462908306597, 0.48040462908306597, 0.48040462908306597, 0.48040462908306597, 0.48040462908306597, 0.48040462908306597, 0.48040462908306597, 0.48040462908306597, 0.48040462908306597, 0.48040462908306597, 0.4742811244502717, 0.4742811244502717, 0.4742811244502717, 0.4742811244502717, 0.4742811244502717, 0.4742811244502717, 0.47162479007017966, 0.47162479007017966, 0.47162479007017966, 0.47162479007017966, 0.47162479007017966, 0.47162479007017966, 0.47162479007017966]}], \"recall_score_macro\": [{\"categories\": [\"0\", \"1\", \"2\", \"3\", \"4\", \"5\", \"6\", \"7\", \"8\", \"9\", \"10\", \"11\", \"12\", \"13\", \"14\", \"15\", \"16\", \"17\", \"18\", \"19\", \"20\", \"21\", \"22\", \"23\", \"24\", \"25\", \"26\", \"27\", \"28\", \"29\", \"30\", \"31\", \"32\", \"33\", \"34\"], \"mode\": \"markers\", \"name\": \"recall_score_macro\", \"stepped\": false, \"type\": \"scatter\", \"data\": [0.7104731774264245, 0.7333555620308326, 0.7181956407739802, 0.6842039802819739, 0.749773419888119, 0.7270195325133224, 0.6659595592025392, 0.6515131463515089, 0.6511193839341229, 0.5438204909451553, 0.7018250561087312, 0.6925837581798497, 0.6890882256501871, 0.684255848486214, 0.7131587060949854, 0.669449533468897, 0.6510264843251516, 0.6844056281301993, 0.7012017057895437, 0.6452017037049391, 0.6589428272980971, 0.721191086372332, 0.7246466104035404, 0.7367270683187781, 0.7324297364621227, 0.5, 0.6712009714298488, 0.6346753784648028, 0.7070749546556984, 0.6312545150170641, 0.5710995318223664, 0.7268703560570204, 0.5484500668990907, 0.7256261502343369, 0.7125314952256436]}, {\"categories\": [\"0\", \"1\", \"2\", \"3\", \"4\", \"5\", \"6\", \"7\", \"8\", \"9\", \"10\", \"11\", \"12\", \"13\", \"14\", \"15\", \"16\", \"17\", \"18\", \"19\", \"20\", \"21\", \"22\", \"23\", \"24\", \"25\", \"26\", \"27\", \"28\", \"29\", \"30\", \"31\", \"32\", \"33\", \"34\"], \"mode\": \"lines\", \"name\": \"recall_score_macro_max\", \"stepped\": true, \"type\": \"scatter\", \"data\": [0.7104731774264245, 0.7333555620308326, 0.7333555620308326, 0.7333555620308326, 0.749773419888119, 0.749773419888119, 0.749773419888119, 0.749773419888119, 0.749773419888119, 0.749773419888119, 0.749773419888119, 0.749773419888119, 0.749773419888119, 0.749773419888119, 0.749773419888119, 0.749773419888119, 0.749773419888119, 0.749773419888119, 0.749773419888119, 0.749773419888119, 0.749773419888119, 0.749773419888119, 0.749773419888119, 0.749773419888119, 0.749773419888119, 0.749773419888119, 0.749773419888119, 0.749773419888119, 0.749773419888119, 0.749773419888119, 0.749773419888119, 0.749773419888119, 0.749773419888119, 0.749773419888119, 0.749773419888119]}], \"precision_score_macro\": [{\"categories\": [\"0\", \"1\", \"2\", \"3\", \"4\", \"5\", \"6\", \"7\", \"8\", \"9\", \"10\", \"11\", \"12\", \"13\", \"14\", \"15\", \"16\", \"17\", \"18\", \"19\", \"20\", \"21\", \"22\", \"23\", \"24\", \"25\", \"26\", \"27\", \"28\", \"29\", \"30\", \"31\", \"32\", \"33\", \"34\"], \"mode\": \"markers\", \"name\": \"precision_score_macro\", \"stepped\": false, \"type\": \"scatter\", \"data\": [0.7143475727069413, 0.7406688342517045, 0.7481200688279056, 0.7431434938633663, 0.7368569445609905, 0.7092898406867503, 0.6888042471539706, 0.6796406069772238, 0.6702000007192261, 0.5497013636174286, 0.7261264110424593, 0.7425301517967734, 0.7497123892191409, 0.7434713586195232, 0.7555216454114074, 0.7357082751165097, 0.7524575540231203, 0.7400679466871797, 0.756642841461207, 0.6759318801341223, 0.7565323278964666, 0.7520430555193164, 0.7349416246206341, 0.7437845938477454, 0.7197278459576897, 0.2518674136321195, 0.7565991854437646, 0.7465299302553206, 0.7203128599221906, 0.6579437209328385, 0.6229737617290605, 0.7404048458674929, 0.6348424680433676, 0.7739996623901533, 0.7605069272102698]}, {\"categories\": [\"0\", \"1\", \"2\", \"3\", \"4\", \"5\", \"6\", \"7\", \"8\", \"9\", \"10\", \"11\", \"12\", \"13\", \"14\", \"15\", \"16\", \"17\", \"18\", \"19\", \"20\", \"21\", \"22\", \"23\", \"24\", \"25\", \"26\", \"27\", \"28\", \"29\", \"30\", \"31\", \"32\", \"33\", \"34\"], \"mode\": \"lines\", \"name\": \"precision_score_macro_max\", \"stepped\": true, \"type\": \"scatter\", \"data\": [0.7143475727069413, 0.7406688342517045, 0.7481200688279056, 0.7481200688279056, 0.7481200688279056, 0.7481200688279056, 0.7481200688279056, 0.7481200688279056, 0.7481200688279056, 0.7481200688279056, 0.7481200688279056, 0.7481200688279056, 0.7497123892191409, 0.7497123892191409, 0.7555216454114074, 0.7555216454114074, 0.7555216454114074, 0.7555216454114074, 0.756642841461207, 0.756642841461207, 0.756642841461207, 0.756642841461207, 0.756642841461207, 0.756642841461207, 0.756642841461207, 0.756642841461207, 0.756642841461207, 0.756642841461207, 0.756642841461207, 0.756642841461207, 0.756642841461207, 0.756642841461207, 0.756642841461207, 0.7739996623901533, 0.7739996623901533]}], \"balanced_accuracy\": [{\"categories\": [\"0\", \"1\", \"2\", \"3\", \"4\", \"5\", \"6\", \"7\", \"8\", \"9\", \"10\", \"11\", \"12\", \"13\", \"14\", \"15\", \"16\", \"17\", \"18\", \"19\", \"20\", \"21\", \"22\", \"23\", \"24\", \"25\", \"26\", \"27\", \"28\", \"29\", \"30\", \"31\", \"32\", \"33\", \"34\"], \"mode\": \"markers\", \"name\": \"balanced_accuracy\", \"stepped\": false, \"type\": \"scatter\", \"data\": [0.7104731774264245, 0.7333555620308326, 0.7181956407739802, 0.6842039802819739, 0.749773419888119, 0.7270195325133224, 0.6659595592025392, 0.6515131463515089, 0.6511193839341229, 0.5438204909451553, 0.7018250561087312, 0.6925837581798497, 0.6890882256501871, 0.684255848486214, 0.7131587060949854, 0.669449533468897, 0.6510264843251516, 0.6844056281301993, 0.7012017057895437, 0.6452017037049391, 0.6589428272980971, 0.721191086372332, 0.7246466104035404, 0.7367270683187781, 0.7324297364621227, 0.5, 0.6712009714298488, 0.6346753784648028, 0.7070749546556984, 0.6312545150170641, 0.5710995318223664, 0.7268703560570204, 0.5484500668990907, 0.7256261502343369, 0.7125314952256436]}, {\"categories\": [\"0\", \"1\", \"2\", \"3\", \"4\", \"5\", \"6\", \"7\", \"8\", \"9\", \"10\", \"11\", \"12\", \"13\", \"14\", \"15\", \"16\", \"17\", \"18\", \"19\", \"20\", \"21\", \"22\", \"23\", \"24\", \"25\", \"26\", \"27\", \"28\", \"29\", \"30\", \"31\", \"32\", \"33\", \"34\"], \"mode\": \"lines\", \"name\": \"balanced_accuracy_max\", \"stepped\": true, \"type\": \"scatter\", \"data\": [0.7104731774264245, 0.7333555620308326, 0.7333555620308326, 0.7333555620308326, 0.749773419888119, 0.749773419888119, 0.749773419888119, 0.749773419888119, 0.749773419888119, 0.749773419888119, 0.749773419888119, 0.749773419888119, 0.749773419888119, 0.749773419888119, 0.749773419888119, 0.749773419888119, 0.749773419888119, 0.749773419888119, 0.749773419888119, 0.749773419888119, 0.749773419888119, 0.749773419888119, 0.749773419888119, 0.749773419888119, 0.749773419888119, 0.749773419888119, 0.749773419888119, 0.749773419888119, 0.749773419888119, 0.749773419888119, 0.749773419888119, 0.749773419888119, 0.749773419888119, 0.749773419888119, 0.749773419888119]}], \"precision_score_weighted\": [{\"categories\": [\"0\", \"1\", \"2\", \"3\", \"4\", \"5\", \"6\", \"7\", \"8\", \"9\", \"10\", \"11\", \"12\", \"13\", \"14\", \"15\", \"16\", \"17\", \"18\", \"19\", \"20\", \"21\", \"22\", \"23\", \"24\", \"25\", \"26\", \"27\", \"28\", \"29\", \"30\", \"31\", \"32\", \"33\", \"34\"], \"mode\": \"markers\", \"name\": \"precision_score_weighted\", \"stepped\": false, \"type\": \"scatter\", \"data\": [0.7422913189086859, 0.7669645066030578, 0.7625433986568002, 0.7512025696712327, 0.7728792986083063, 0.7525665635104892, 0.7115161895977773, 0.7024304162613891, 0.6966268353120794, 0.5918911276357762, 0.7454815889044067, 0.7536131208340475, 0.7577647867374423, 0.7531067384667158, 0.7686820578442385, 0.7462394955403763, 0.7536152165050535, 0.7495722445531372, 0.7656161873542571, 0.7007257093709043, 0.7566150218108119, 0.7689231556444692, 0.7598238347865374, 0.7677290504812386, 0.7572235379422942, 0.27914320952637883, 0.7596863496709282, 0.7455467757855813, 0.7456616078605289, 0.6862736004017769, 0.649778663281906, 0.7643790353353014, 0.6513919087277928, 0.7825578519131027, 0.7717814085152999]}, {\"categories\": [\"0\", \"1\", \"2\", \"3\", \"4\", \"5\", \"6\", \"7\", \"8\", \"9\", \"10\", \"11\", \"12\", \"13\", \"14\", \"15\", \"16\", \"17\", \"18\", \"19\", \"20\", \"21\", \"22\", \"23\", \"24\", \"25\", \"26\", \"27\", \"28\", \"29\", \"30\", \"31\", \"32\", \"33\", \"34\"], \"mode\": \"lines\", \"name\": \"precision_score_weighted_max\", \"stepped\": true, \"type\": \"scatter\", \"data\": [0.7422913189086859, 0.7669645066030578, 0.7669645066030578, 0.7669645066030578, 0.7728792986083063, 0.7728792986083063, 0.7728792986083063, 0.7728792986083063, 0.7728792986083063, 0.7728792986083063, 0.7728792986083063, 0.7728792986083063, 0.7728792986083063, 0.7728792986083063, 0.7728792986083063, 0.7728792986083063, 0.7728792986083063, 0.7728792986083063, 0.7728792986083063, 0.7728792986083063, 0.7728792986083063, 0.7728792986083063, 0.7728792986083063, 0.7728792986083063, 0.7728792986083063, 0.7728792986083063, 0.7728792986083063, 0.7728792986083063, 0.7728792986083063, 0.7728792986083063, 0.7728792986083063, 0.7728792986083063, 0.7728792986083063, 0.7825578519131027, 0.7825578519131027]}], \"weighted_accuracy\": [{\"categories\": [\"0\", \"1\", \"2\", \"3\", \"4\", \"5\", \"6\", \"7\", \"8\", \"9\", \"10\", \"11\", \"12\", \"13\", \"14\", \"15\", \"16\", \"17\", \"18\", \"19\", \"20\", \"21\", \"22\", \"23\", \"24\", \"25\", \"26\", \"27\", \"28\", \"29\", \"30\", \"31\", \"32\", \"33\", \"34\"], \"mode\": \"markers\", \"name\": \"weighted_accuracy\", \"stepped\": false, \"type\": \"scatter\", \"data\": [0.7692349431628938, 0.7906595742312594, 0.8056986486926065, 0.8037845149172009, 0.7652688381769213, 0.7229252213351629, 0.7611297202652938, 0.7579924122975384, 0.7464178984592997, 0.7347270245101865, 0.7897196381365351, 0.8061432010882223, 0.8115915485405882, 0.8083467226922201, 0.8117980132034847, 0.807476535700738, 0.811351714371128, 0.804981866892515, 0.8177202853261388, 0.7574494367129081, 0.8106713622228391, 0.8072932091332131, 0.7902513692206701, 0.7932735742600687, 0.7505261282308711, 0.5205146055499638, 0.8144330707028274, 0.8004293728616634, 0.7789493105657646, 0.7379112744397792, 0.7417753312171305, 0.7952507520712734, 0.7531287617497422, 0.8287890676251946, 0.8186433319787376]}, {\"categories\": [\"0\", \"1\", \"2\", \"3\", \"4\", \"5\", \"6\", \"7\", \"8\", \"9\", \"10\", \"11\", \"12\", \"13\", \"14\", \"15\", \"16\", \"17\", \"18\", \"19\", \"20\", \"21\", \"22\", \"23\", \"24\", \"25\", \"26\", \"27\", \"28\", \"29\", \"30\", \"31\", \"32\", \"33\", \"34\"], \"mode\": \"lines\", \"name\": \"weighted_accuracy_max\", \"stepped\": true, \"type\": \"scatter\", \"data\": [0.7692349431628938, 0.7906595742312594, 0.8056986486926065, 0.8056986486926065, 0.8056986486926065, 0.8056986486926065, 0.8056986486926065, 0.8056986486926065, 0.8056986486926065, 0.8056986486926065, 0.8056986486926065, 0.8061432010882223, 0.8115915485405882, 0.8115915485405882, 0.8117980132034847, 0.8117980132034847, 0.8117980132034847, 0.8117980132034847, 0.8177202853261388, 0.8177202853261388, 0.8177202853261388, 0.8177202853261388, 0.8177202853261388, 0.8177202853261388, 0.8177202853261388, 0.8177202853261388, 0.8177202853261388, 0.8177202853261388, 0.8177202853261388, 0.8177202853261388, 0.8177202853261388, 0.8177202853261388, 0.8177202853261388, 0.8287890676251946, 0.8287890676251946]}], \"f1_score_micro\": [{\"categories\": [\"0\", \"1\", \"2\", \"3\", \"4\", \"5\", \"6\", \"7\", \"8\", \"9\", \"10\", \"11\", \"12\", \"13\", \"14\", \"15\", \"16\", \"17\", \"18\", \"19\", \"20\", \"21\", \"22\", \"23\", \"24\", \"25\", \"26\", \"27\", \"28\", \"29\", \"30\", \"31\", \"32\", \"33\", \"34\"], \"mode\": \"markers\", \"name\": \"f1_score_micro\", \"stepped\": false, \"type\": \"scatter\", \"data\": [0.7435277141159494, 0.7656395891690009, 0.7670571258806553, 0.751362363127069, 0.7591630591630592, 0.7253119429590018, 0.718860877684407, 0.7110262286732875, 0.704532722179781, 0.6484678719972838, 0.7513708513708514, 0.7565486800780918, 0.7578473813767932, 0.7539597657244717, 0.7682624564977505, 0.7474068415244886, 0.7409472880061114, 0.752652576181988, 0.7669637551990492, 0.708360920125626, 0.7435277141159494, 0.7695781342840167, 0.761743485272897, 0.7682709447415329, 0.7435107376283847, 0.503734827264239, 0.7513623631270689, 0.7266361089890501, 0.747440794499618, 0.6901196842373313, 0.6667430608607079, 0.7656395891690009, 0.6628809099397335, 0.7838808250572955, 0.7721585603938544]}, {\"categories\": [\"0\", \"1\", \"2\", \"3\", \"4\", \"5\", \"6\", \"7\", \"8\", \"9\", \"10\", \"11\", \"12\", \"13\", \"14\", \"15\", \"16\", \"17\", \"18\", \"19\", \"20\", \"21\", \"22\", \"23\", \"24\", \"25\", \"26\", \"27\", \"28\", \"29\", \"30\", \"31\", \"32\", \"33\", \"34\"], \"mode\": \"lines\", \"name\": \"f1_score_micro_max\", \"stepped\": true, \"type\": \"scatter\", \"data\": [0.7435277141159494, 0.7656395891690009, 0.7670571258806553, 0.7670571258806553, 0.7670571258806553, 0.7670571258806553, 0.7670571258806553, 0.7670571258806553, 0.7670571258806553, 0.7670571258806553, 0.7670571258806553, 0.7670571258806553, 0.7670571258806553, 0.7670571258806553, 0.7682624564977505, 0.7682624564977505, 0.7682624564977505, 0.7682624564977505, 0.7682624564977505, 0.7682624564977505, 0.7682624564977505, 0.7695781342840167, 0.7695781342840167, 0.7695781342840167, 0.7695781342840167, 0.7695781342840167, 0.7695781342840167, 0.7695781342840167, 0.7695781342840167, 0.7695781342840167, 0.7695781342840167, 0.7695781342840167, 0.7695781342840167, 0.7838808250572955, 0.7838808250572955]}], \"recall_score_weighted\": [{\"categories\": [\"0\", \"1\", \"2\", \"3\", \"4\", \"5\", \"6\", \"7\", \"8\", \"9\", \"10\", \"11\", \"12\", \"13\", \"14\", \"15\", \"16\", \"17\", \"18\", \"19\", \"20\", \"21\", \"22\", \"23\", \"24\", \"25\", \"26\", \"27\", \"28\", \"29\", \"30\", \"31\", \"32\", \"33\", \"34\"], \"mode\": \"markers\", \"name\": \"recall_score_weighted\", \"stepped\": false, \"type\": \"scatter\", \"data\": [0.7435277141159494, 0.7656395891690009, 0.7670571258806553, 0.7513623631270689, 0.7591630591630592, 0.7253119429590018, 0.718860877684407, 0.7110262286732875, 0.704532722179781, 0.6484678719972838, 0.7513708513708514, 0.7565486800780918, 0.7578473813767932, 0.7539597657244717, 0.7682624564977505, 0.7474068415244887, 0.7409472880061115, 0.752652576181988, 0.7669637551990492, 0.708360920125626, 0.7435277141159494, 0.7695781342840167, 0.761743485272897, 0.7682709447415329, 0.7435107376283847, 0.503734827264239, 0.7513623631270689, 0.7266361089890501, 0.747440794499618, 0.6901196842373313, 0.6667430608607079, 0.7656395891690009, 0.6628809099397335, 0.7838808250572956, 0.7721585603938544]}, {\"categories\": [\"0\", \"1\", \"2\", \"3\", \"4\", \"5\", \"6\", \"7\", \"8\", \"9\", \"10\", \"11\", \"12\", \"13\", \"14\", \"15\", \"16\", \"17\", \"18\", \"19\", \"20\", \"21\", \"22\", \"23\", \"24\", \"25\", \"26\", \"27\", \"28\", \"29\", \"30\", \"31\", \"32\", \"33\", \"34\"], \"mode\": \"lines\", \"name\": \"recall_score_weighted_max\", \"stepped\": true, \"type\": \"scatter\", \"data\": [0.7435277141159494, 0.7656395891690009, 0.7670571258806553, 0.7670571258806553, 0.7670571258806553, 0.7670571258806553, 0.7670571258806553, 0.7670571258806553, 0.7670571258806553, 0.7670571258806553, 0.7670571258806553, 0.7670571258806553, 0.7670571258806553, 0.7670571258806553, 0.7682624564977505, 0.7682624564977505, 0.7682624564977505, 0.7682624564977505, 0.7682624564977505, 0.7682624564977505, 0.7682624564977505, 0.7695781342840167, 0.7695781342840167, 0.7695781342840167, 0.7695781342840167, 0.7695781342840167, 0.7695781342840167, 0.7695781342840167, 0.7695781342840167, 0.7695781342840167, 0.7695781342840167, 0.7695781342840167, 0.7695781342840167, 0.7838808250572956, 0.7838808250572956]}], \"average_precision_score_macro\": [{\"categories\": [\"0\", \"1\", \"2\", \"3\", \"4\", \"5\", \"6\", \"7\", \"8\", \"9\", \"10\", \"11\", \"12\", \"13\", \"14\", \"15\", \"16\", \"17\", \"18\", \"19\", \"20\", \"21\", \"22\", \"23\", \"24\", \"25\", \"26\", \"27\", \"28\", \"29\", \"30\", \"31\", \"32\", \"33\", \"34\"], \"mode\": \"markers\", \"name\": \"average_precision_score_macro\", \"stepped\": false, \"type\": \"scatter\", \"data\": [0.7848257443237637, 0.8102231075585553, 0.8013821690467703, 0.771620308834585, 0.7949459201698368, 0.7908994918163447, 0.7543822265332896, 0.7317267872368305, 0.7242857680378055, 0.657615829876303, 0.8012591099547386, 0.8073034644818001, 0.8036598890228184, 0.8046834856078584, 0.7930278529062784, 0.8055460327710318, 0.8052552710821775, 0.8077254240399853, 0.8091934371674412, 0.712739906929991, 0.7966816776756448, 0.8038048299872763, 0.8081278600009142, 0.7913167266809704, 0.8054752036336031, 0.5, 0.8044821079903757, 0.797574382604241, 0.8151249009276385, 0.7139747596759026, 0.6303548914418211, 0.8079379461871165, 0.6680416717854055, 0.818316044418577, 0.8218533704992854]}, {\"categories\": [\"0\", \"1\", \"2\", \"3\", \"4\", \"5\", \"6\", \"7\", \"8\", \"9\", \"10\", \"11\", \"12\", \"13\", \"14\", \"15\", \"16\", \"17\", \"18\", \"19\", \"20\", \"21\", \"22\", \"23\", \"24\", \"25\", \"26\", \"27\", \"28\", \"29\", \"30\", \"31\", \"32\", \"33\", \"34\"], \"mode\": \"lines\", \"name\": \"average_precision_score_macro_max\", \"stepped\": true, \"type\": \"scatter\", \"data\": [0.7848257443237637, 0.8102231075585553, 0.8102231075585553, 0.8102231075585553, 0.8102231075585553, 0.8102231075585553, 0.8102231075585553, 0.8102231075585553, 0.8102231075585553, 0.8102231075585553, 0.8102231075585553, 0.8102231075585553, 0.8102231075585553, 0.8102231075585553, 0.8102231075585553, 0.8102231075585553, 0.8102231075585553, 0.8102231075585553, 0.8102231075585553, 0.8102231075585553, 0.8102231075585553, 0.8102231075585553, 0.8102231075585553, 0.8102231075585553, 0.8102231075585553, 0.8102231075585553, 0.8102231075585553, 0.8102231075585553, 0.8151249009276385, 0.8151249009276385, 0.8151249009276385, 0.8151249009276385, 0.8151249009276385, 0.818316044418577, 0.8218533704992854]}], \"precision_score_micro\": [{\"categories\": [\"0\", \"1\", \"2\", \"3\", \"4\", \"5\", \"6\", \"7\", \"8\", \"9\", \"10\", \"11\", \"12\", \"13\", \"14\", \"15\", \"16\", \"17\", \"18\", \"19\", \"20\", \"21\", \"22\", \"23\", \"24\", \"25\", \"26\", \"27\", \"28\", \"29\", \"30\", \"31\", \"32\", \"33\", \"34\"], \"mode\": \"markers\", \"name\": \"precision_score_micro\", \"stepped\": false, \"type\": \"scatter\", \"data\": [0.7435277141159494, 0.7656395891690009, 0.7670571258806553, 0.7513623631270689, 0.7591630591630592, 0.7253119429590018, 0.718860877684407, 0.7110262286732875, 0.704532722179781, 0.6484678719972838, 0.7513708513708514, 0.7565486800780918, 0.7578473813767932, 0.7539597657244717, 0.7682624564977505, 0.7474068415244887, 0.7409472880061115, 0.752652576181988, 0.7669637551990492, 0.708360920125626, 0.7435277141159494, 0.7695781342840167, 0.761743485272897, 0.7682709447415329, 0.7435107376283847, 0.503734827264239, 0.7513623631270689, 0.7266361089890501, 0.747440794499618, 0.6901196842373313, 0.6667430608607079, 0.7656395891690009, 0.6628809099397335, 0.7838808250572956, 0.7721585603938544]}, {\"categories\": [\"0\", \"1\", \"2\", \"3\", \"4\", \"5\", \"6\", \"7\", \"8\", \"9\", \"10\", \"11\", \"12\", \"13\", \"14\", \"15\", \"16\", \"17\", \"18\", \"19\", \"20\", \"21\", \"22\", \"23\", \"24\", \"25\", \"26\", \"27\", \"28\", \"29\", \"30\", \"31\", \"32\", \"33\", \"34\"], \"mode\": \"lines\", \"name\": \"precision_score_micro_max\", \"stepped\": true, \"type\": \"scatter\", \"data\": [0.7435277141159494, 0.7656395891690009, 0.7670571258806553, 0.7670571258806553, 0.7670571258806553, 0.7670571258806553, 0.7670571258806553, 0.7670571258806553, 0.7670571258806553, 0.7670571258806553, 0.7670571258806553, 0.7670571258806553, 0.7670571258806553, 0.7670571258806553, 0.7682624564977505, 0.7682624564977505, 0.7682624564977505, 0.7682624564977505, 0.7682624564977505, 0.7682624564977505, 0.7682624564977505, 0.7695781342840167, 0.7695781342840167, 0.7695781342840167, 0.7695781342840167, 0.7695781342840167, 0.7695781342840167, 0.7695781342840167, 0.7695781342840167, 0.7695781342840167, 0.7695781342840167, 0.7695781342840167, 0.7695781342840167, 0.7838808250572956, 0.7838808250572956]}], \"f1_score_macro\": [{\"categories\": [\"0\", \"1\", \"2\", \"3\", \"4\", \"5\", \"6\", \"7\", \"8\", \"9\", \"10\", \"11\", \"12\", \"13\", \"14\", \"15\", \"16\", \"17\", \"18\", \"19\", \"20\", \"21\", \"22\", \"23\", \"24\", \"25\", \"26\", \"27\", \"28\", \"29\", \"30\", \"31\", \"32\", \"33\", \"34\"], \"mode\": \"markers\", \"name\": \"f1_score_macro\", \"stepped\": false, \"type\": \"scatter\", \"data\": [0.7110567297826602, 0.7345738794182582, 0.7261078194286857, 0.6922215429568374, 0.7392539563998929, 0.7093286616746879, 0.6695423199560285, 0.6557501423243692, 0.6549949367736009, 0.4955795022259055, 0.7087731298611256, 0.7027104202559789, 0.6990665671275121, 0.6940133154035025, 0.7222107295619971, 0.6773310328489138, 0.6541401691799467, 0.6947975033204765, 0.7125375610339998, 0.6497970607380198, 0.6621600861827233, 0.7290696578597412, 0.7277357910316095, 0.7380947811495064, 0.722651061771692, 0.32687584846181184, 0.6794651750393699, 0.6309674705866611, 0.7102038445683316, 0.6309425867144501, 0.5609353801176288, 0.730760046267663, 0.5166141010677561, 0.7378117319769111, 0.7231592506908274]}, {\"categories\": [\"0\", \"1\", \"2\", \"3\", \"4\", \"5\", \"6\", \"7\", \"8\", \"9\", \"10\", \"11\", \"12\", \"13\", \"14\", \"15\", \"16\", \"17\", \"18\", \"19\", \"20\", \"21\", \"22\", \"23\", \"24\", \"25\", \"26\", \"27\", \"28\", \"29\", \"30\", \"31\", \"32\", \"33\", \"34\"], \"mode\": \"lines\", \"name\": \"f1_score_macro_max\", \"stepped\": true, \"type\": \"scatter\", \"data\": [0.7110567297826602, 0.7345738794182582, 0.7345738794182582, 0.7345738794182582, 0.7392539563998929, 0.7392539563998929, 0.7392539563998929, 0.7392539563998929, 0.7392539563998929, 0.7392539563998929, 0.7392539563998929, 0.7392539563998929, 0.7392539563998929, 0.7392539563998929, 0.7392539563998929, 0.7392539563998929, 0.7392539563998929, 0.7392539563998929, 0.7392539563998929, 0.7392539563998929, 0.7392539563998929, 0.7392539563998929, 0.7392539563998929, 0.7392539563998929, 0.7392539563998929, 0.7392539563998929, 0.7392539563998929, 0.7392539563998929, 0.7392539563998929, 0.7392539563998929, 0.7392539563998929, 0.7392539563998929, 0.7392539563998929, 0.7392539563998929, 0.7392539563998929]}], \"AUC_micro\": [{\"categories\": [\"0\", \"1\", \"2\", \"3\", \"4\", \"5\", \"6\", \"7\", \"8\", \"9\", \"10\", \"11\", \"12\", \"13\", \"14\", \"15\", \"16\", \"17\", \"18\", \"19\", \"20\", \"21\", \"22\", \"23\", \"24\", \"25\", \"26\", \"27\", \"28\", \"29\", \"30\", \"31\", \"32\", \"33\", \"34\"], \"mode\": \"markers\", \"name\": \"AUC_micro\", \"stepped\": false, \"type\": \"scatter\", \"data\": [0.8308010717565983, 0.8534052480172104, 0.8420981133049917, 0.81922449276439, 0.8351468688449468, 0.8081753294054257, 0.8008986208502378, 0.7864944562603305, 0.7854547487083925, 0.7397627788399069, 0.8470839154005467, 0.8476210365670964, 0.841222948784476, 0.8379580579598555, 0.8372052978630368, 0.8378389156126989, 0.826554703337609, 0.8450741217641561, 0.8449662884293421, 0.7777555001906774, 0.8228105898727088, 0.844228210739093, 0.8535710620156163, 0.8373458128457456, 0.8246199515114567, 0.503734827264239, 0.8290001436034181, 0.8154282592058772, 0.8559676457053589, 0.7710028897134755, 0.7070662540029966, 0.8510764330219385, 0.7379565416616599, 0.8537627013570331, 0.8525701470562836]}, {\"categories\": [\"0\", \"1\", \"2\", \"3\", \"4\", \"5\", \"6\", \"7\", \"8\", \"9\", \"10\", \"11\", \"12\", \"13\", \"14\", \"15\", \"16\", \"17\", \"18\", \"19\", \"20\", \"21\", \"22\", \"23\", \"24\", \"25\", \"26\", \"27\", \"28\", \"29\", \"30\", \"31\", \"32\", \"33\", \"34\"], \"mode\": \"lines\", \"name\": \"AUC_micro_max\", \"stepped\": true, \"type\": \"scatter\", \"data\": [0.8308010717565983, 0.8534052480172104, 0.8534052480172104, 0.8534052480172104, 0.8534052480172104, 0.8534052480172104, 0.8534052480172104, 0.8534052480172104, 0.8534052480172104, 0.8534052480172104, 0.8534052480172104, 0.8534052480172104, 0.8534052480172104, 0.8534052480172104, 0.8534052480172104, 0.8534052480172104, 0.8534052480172104, 0.8534052480172104, 0.8534052480172104, 0.8534052480172104, 0.8534052480172104, 0.8534052480172104, 0.8535710620156163, 0.8535710620156163, 0.8535710620156163, 0.8535710620156163, 0.8535710620156163, 0.8535710620156163, 0.8559676457053589, 0.8559676457053589, 0.8559676457053589, 0.8559676457053589, 0.8559676457053589, 0.8559676457053589, 0.8559676457053589]}], \"accuracy\": [{\"categories\": [\"0\", \"1\", \"2\", \"3\", \"4\", \"5\", \"6\", \"7\", \"8\", \"9\", \"10\", \"11\", \"12\", \"13\", \"14\", \"15\", \"16\", \"17\", \"18\", \"19\", \"20\", \"21\", \"22\", \"23\", \"24\", \"25\", \"26\", \"27\", \"28\", \"29\", \"30\", \"31\", \"32\", \"33\", \"34\"], \"mode\": \"markers\", \"name\": \"accuracy\", \"stepped\": false, \"type\": \"scatter\", \"data\": [0.7435277141159494, 0.7656395891690009, 0.7670571258806553, 0.7513623631270689, 0.7591630591630592, 0.7253119429590018, 0.718860877684407, 0.7110262286732875, 0.704532722179781, 0.6484678719972838, 0.7513708513708514, 0.7565486800780918, 0.7578473813767932, 0.7539597657244717, 0.7682624564977505, 0.7474068415244887, 0.7409472880061115, 0.752652576181988, 0.7669637551990492, 0.708360920125626, 0.7435277141159494, 0.7695781342840167, 0.761743485272897, 0.7682709447415329, 0.7435107376283847, 0.503734827264239, 0.7513623631270689, 0.7266361089890501, 0.747440794499618, 0.6901196842373313, 0.6667430608607079, 0.7656395891690009, 0.6628809099397335, 0.7838808250572956, 0.7721585603938544]}, {\"categories\": [\"0\", \"1\", \"2\", \"3\", \"4\", \"5\", \"6\", \"7\", \"8\", \"9\", \"10\", \"11\", \"12\", \"13\", \"14\", \"15\", \"16\", \"17\", \"18\", \"19\", \"20\", \"21\", \"22\", \"23\", \"24\", \"25\", \"26\", \"27\", \"28\", \"29\", \"30\", \"31\", \"32\", \"33\", \"34\"], \"mode\": \"lines\", \"name\": \"accuracy_max\", \"stepped\": true, \"type\": \"scatter\", \"data\": [0.7435277141159494, 0.7656395891690009, 0.7670571258806553, 0.7670571258806553, 0.7670571258806553, 0.7670571258806553, 0.7670571258806553, 0.7670571258806553, 0.7670571258806553, 0.7670571258806553, 0.7670571258806553, 0.7670571258806553, 0.7670571258806553, 0.7670571258806553, 0.7682624564977505, 0.7682624564977505, 0.7682624564977505, 0.7682624564977505, 0.7682624564977505, 0.7682624564977505, 0.7682624564977505, 0.7695781342840167, 0.7695781342840167, 0.7695781342840167, 0.7695781342840167, 0.7695781342840167, 0.7695781342840167, 0.7695781342840167, 0.7695781342840167, 0.7695781342840167, 0.7695781342840167, 0.7695781342840167, 0.7695781342840167, 0.7838808250572956, 0.7838808250572956]}], \"f1_score_weighted\": [{\"categories\": [\"0\", \"1\", \"2\", \"3\", \"4\", \"5\", \"6\", \"7\", \"8\", \"9\", \"10\", \"11\", \"12\", \"13\", \"14\", \"15\", \"16\", \"17\", \"18\", \"19\", \"20\", \"21\", \"22\", \"23\", \"24\", \"25\", \"26\", \"27\", \"28\", \"29\", \"30\", \"31\", \"32\", \"33\", \"34\"], \"mode\": \"markers\", \"name\": \"f1_score_weighted\", \"stepped\": false, \"type\": \"scatter\", \"data\": [0.7417695202219394, 0.7642691151373454, 0.7587752634596553, 0.7338431860424995, 0.7624458396236027, 0.731169748058539, 0.7084351228263952, 0.6983345257108604, 0.695684379849759, 0.57560877087662, 0.7440012110985597, 0.7428513055838021, 0.7410754647481688, 0.7370877868734704, 0.7581895994889724, 0.7263033197713257, 0.7088825852467542, 0.7372010234198063, 0.7528842329948295, 0.6953736375747235, 0.7131232984991425, 0.7628409365867437, 0.7590168312076214, 0.7661934309005198, 0.7473393504094012, 0.3537179576048546, 0.727319962517921, 0.6876484433571469, 0.7435633186483483, 0.6765865774361951, 0.6282690492162035, 0.7625386340526964, 0.5971067295921378, 0.7733442844763984, 0.7607538282420643]}, {\"categories\": [\"0\", \"1\", \"2\", \"3\", \"4\", \"5\", \"6\", \"7\", \"8\", \"9\", \"10\", \"11\", \"12\", \"13\", \"14\", \"15\", \"16\", \"17\", \"18\", \"19\", \"20\", \"21\", \"22\", \"23\", \"24\", \"25\", \"26\", \"27\", \"28\", \"29\", \"30\", \"31\", \"32\", \"33\", \"34\"], \"mode\": \"lines\", \"name\": \"f1_score_weighted_max\", \"stepped\": true, \"type\": \"scatter\", \"data\": [0.7417695202219394, 0.7642691151373454, 0.7642691151373454, 0.7642691151373454, 0.7642691151373454, 0.7642691151373454, 0.7642691151373454, 0.7642691151373454, 0.7642691151373454, 0.7642691151373454, 0.7642691151373454, 0.7642691151373454, 0.7642691151373454, 0.7642691151373454, 0.7642691151373454, 0.7642691151373454, 0.7642691151373454, 0.7642691151373454, 0.7642691151373454, 0.7642691151373454, 0.7642691151373454, 0.7642691151373454, 0.7642691151373454, 0.7661934309005198, 0.7661934309005198, 0.7661934309005198, 0.7661934309005198, 0.7661934309005198, 0.7661934309005198, 0.7661934309005198, 0.7661934309005198, 0.7661934309005198, 0.7661934309005198, 0.7733442844763984, 0.7733442844763984]}], \"AUC_macro\": [{\"categories\": [\"0\", \"1\", \"2\", \"3\", \"4\", \"5\", \"6\", \"7\", \"8\", \"9\", \"10\", \"11\", \"12\", \"13\", \"14\", \"15\", \"16\", \"17\", \"18\", \"19\", \"20\", \"21\", \"22\", \"23\", \"24\", \"25\", \"26\", \"27\", \"28\", \"29\", \"30\", \"31\", \"32\", \"33\", \"34\"], \"mode\": \"markers\", \"name\": \"AUC_macro\", \"stepped\": false, \"type\": \"scatter\", \"data\": [0.8062007971845107, 0.8324149004567104, 0.8241245439565492, 0.8011909922342344, 0.826237194359037, 0.8128163327269944, 0.7660757757340357, 0.750158214052964, 0.7428467468941343, 0.6971397124948764, 0.8273554308991397, 0.8320264487026904, 0.8296885336489526, 0.823780220832693, 0.8097158000044875, 0.8293667821011453, 0.8254411998706679, 0.8298858118028015, 0.8310934715238215, 0.7355841852551326, 0.819506457159679, 0.8189466499272715, 0.8345718998269206, 0.8136972958620218, 0.8212547663645584, 0.5, 0.8213913713446889, 0.8181705688591988, 0.8363674514681613, 0.7343647256976864, 0.6464269197959978, 0.8299635782946924, 0.6951063289740301, 0.8371253118340632, 0.8392610719566441]}, {\"categories\": [\"0\", \"1\", \"2\", \"3\", \"4\", \"5\", \"6\", \"7\", \"8\", \"9\", \"10\", \"11\", \"12\", \"13\", \"14\", \"15\", \"16\", \"17\", \"18\", \"19\", \"20\", \"21\", \"22\", \"23\", \"24\", \"25\", \"26\", \"27\", \"28\", \"29\", \"30\", \"31\", \"32\", \"33\", \"34\"], \"mode\": \"lines\", \"name\": \"AUC_macro_max\", \"stepped\": true, \"type\": \"scatter\", \"data\": [0.8062007971845107, 0.8324149004567104, 0.8324149004567104, 0.8324149004567104, 0.8324149004567104, 0.8324149004567104, 0.8324149004567104, 0.8324149004567104, 0.8324149004567104, 0.8324149004567104, 0.8324149004567104, 0.8324149004567104, 0.8324149004567104, 0.8324149004567104, 0.8324149004567104, 0.8324149004567104, 0.8324149004567104, 0.8324149004567104, 0.8324149004567104, 0.8324149004567104, 0.8324149004567104, 0.8324149004567104, 0.8345718998269206, 0.8345718998269206, 0.8345718998269206, 0.8345718998269206, 0.8345718998269206, 0.8345718998269206, 0.8363674514681613, 0.8363674514681613, 0.8363674514681613, 0.8363674514681613, 0.8363674514681613, 0.8371253118340632, 0.8392610719566441]}], \"average_precision_score_weighted\": [{\"categories\": [\"0\", \"1\", \"2\", \"3\", \"4\", \"5\", \"6\", \"7\", \"8\", \"9\", \"10\", \"11\", \"12\", \"13\", \"14\", \"15\", \"16\", \"17\", \"18\", \"19\", \"20\", \"21\", \"22\", \"23\", \"24\", \"25\", \"26\", \"27\", \"28\", \"29\", \"30\", \"31\", \"32\", \"33\", \"34\"], \"mode\": \"markers\", \"name\": \"average_precision_score_weighted\", \"stepped\": false, \"type\": \"scatter\", \"data\": [0.8183229088104544, 0.8410481501195661, 0.8322338139557562, 0.8069660938101464, 0.8293853827515244, 0.8240093598183134, 0.7880625636552105, 0.767257478177501, 0.7570791904749641, 0.7026049990417864, 0.8340530425305055, 0.8399850377008897, 0.8355470229190297, 0.8372081221333536, 0.8220463801836116, 0.8390655714193421, 0.8375111188302915, 0.8389536203467177, 0.8400345221471313, 0.7505206557483738, 0.8298681234029429, 0.8317137389605567, 0.8399803374754878, 0.821694016393813, 0.8341100873249285, 0.5508167645242796, 0.8363381340590511, 0.8305581153813579, 0.8458370682095415, 0.7548335953594141, 0.6715727622388037, 0.8384147473834502, 0.7190317185819396, 0.8469454344552944, 0.8502755751971053]}, {\"categories\": [\"0\", \"1\", \"2\", \"3\", \"4\", \"5\", \"6\", \"7\", \"8\", \"9\", \"10\", \"11\", \"12\", \"13\", \"14\", \"15\", \"16\", \"17\", \"18\", \"19\", \"20\", \"21\", \"22\", \"23\", \"24\", \"25\", \"26\", \"27\", \"28\", \"29\", \"30\", \"31\", \"32\", \"33\", \"34\"], \"mode\": \"lines\", \"name\": \"average_precision_score_weighted_max\", \"stepped\": true, \"type\": \"scatter\", \"data\": [0.8183229088104544, 0.8410481501195661, 0.8410481501195661, 0.8410481501195661, 0.8410481501195661, 0.8410481501195661, 0.8410481501195661, 0.8410481501195661, 0.8410481501195661, 0.8410481501195661, 0.8410481501195661, 0.8410481501195661, 0.8410481501195661, 0.8410481501195661, 0.8410481501195661, 0.8410481501195661, 0.8410481501195661, 0.8410481501195661, 0.8410481501195661, 0.8410481501195661, 0.8410481501195661, 0.8410481501195661, 0.8410481501195661, 0.8410481501195661, 0.8410481501195661, 0.8410481501195661, 0.8410481501195661, 0.8410481501195661, 0.8458370682095415, 0.8458370682095415, 0.8458370682095415, 0.8458370682095415, 0.8458370682095415, 0.8469454344552944, 0.8502755751971053]}], \"recall_score_micro\": [{\"categories\": [\"0\", \"1\", \"2\", \"3\", \"4\", \"5\", \"6\", \"7\", \"8\", \"9\", \"10\", \"11\", \"12\", \"13\", \"14\", \"15\", \"16\", \"17\", \"18\", \"19\", \"20\", \"21\", \"22\", \"23\", \"24\", \"25\", \"26\", \"27\", \"28\", \"29\", \"30\", \"31\", \"32\", \"33\", \"34\"], \"mode\": \"markers\", \"name\": \"recall_score_micro\", \"stepped\": false, \"type\": \"scatter\", \"data\": [0.7435277141159494, 0.7656395891690009, 0.7670571258806553, 0.7513623631270689, 0.7591630591630592, 0.7253119429590018, 0.718860877684407, 0.7110262286732875, 0.704532722179781, 0.6484678719972838, 0.7513708513708514, 0.7565486800780918, 0.7578473813767932, 0.7539597657244717, 0.7682624564977505, 0.7474068415244887, 0.7409472880061115, 0.752652576181988, 0.7669637551990492, 0.708360920125626, 0.7435277141159494, 0.7695781342840167, 0.761743485272897, 0.7682709447415329, 0.7435107376283847, 0.503734827264239, 0.7513623631270689, 0.7266361089890501, 0.747440794499618, 0.6901196842373313, 0.6667430608607079, 0.7656395891690009, 0.6628809099397335, 0.7838808250572956, 0.7721585603938544]}, {\"categories\": [\"0\", \"1\", \"2\", \"3\", \"4\", \"5\", \"6\", \"7\", \"8\", \"9\", \"10\", \"11\", \"12\", \"13\", \"14\", \"15\", \"16\", \"17\", \"18\", \"19\", \"20\", \"21\", \"22\", \"23\", \"24\", \"25\", \"26\", \"27\", \"28\", \"29\", \"30\", \"31\", \"32\", \"33\", \"34\"], \"mode\": \"lines\", \"name\": \"recall_score_micro_max\", \"stepped\": true, \"type\": \"scatter\", \"data\": [0.7435277141159494, 0.7656395891690009, 0.7670571258806553, 0.7670571258806553, 0.7670571258806553, 0.7670571258806553, 0.7670571258806553, 0.7670571258806553, 0.7670571258806553, 0.7670571258806553, 0.7670571258806553, 0.7670571258806553, 0.7670571258806553, 0.7670571258806553, 0.7682624564977505, 0.7682624564977505, 0.7682624564977505, 0.7682624564977505, 0.7682624564977505, 0.7682624564977505, 0.7682624564977505, 0.7695781342840167, 0.7695781342840167, 0.7695781342840167, 0.7695781342840167, 0.7695781342840167, 0.7695781342840167, 0.7695781342840167, 0.7695781342840167, 0.7695781342840167, 0.7695781342840167, 0.7695781342840167, 0.7695781342840167, 0.7838808250572956, 0.7838808250572956]}], \"average_precision_score_micro\": [{\"categories\": [\"0\", \"1\", \"2\", \"3\", \"4\", \"5\", \"6\", \"7\", \"8\", \"9\", \"10\", \"11\", \"12\", \"13\", \"14\", \"15\", \"16\", \"17\", \"18\", \"19\", \"20\", \"21\", \"22\", \"23\", \"24\", \"25\", \"26\", \"27\", \"28\", \"29\", \"30\", \"31\", \"32\", \"33\", \"34\"], \"mode\": \"markers\", \"name\": \"average_precision_score_micro\", \"stepped\": false, \"type\": \"scatter\", \"data\": [0.8327853787564277, 0.8532463783590838, 0.8448864347999262, 0.8212765294193959, 0.8353359180764681, 0.8059476339631715, 0.8035091285138671, 0.7841739193583097, 0.7746861330663863, 0.727791529370266, 0.8482992242148205, 0.8514315790348022, 0.8419070379823059, 0.842228998751196, 0.8306284619426958, 0.8442146391925178, 0.8321332464815644, 0.847088076380756, 0.8466780027274581, 0.7677148442572238, 0.8291161329694262, 0.8384177166347542, 0.8544318029766884, 0.8342775416130237, 0.8164525613770147, 0.5272757958942593, 0.8347042119382317, 0.8223831206334025, 0.8577570657578384, 0.7697246114390854, 0.6773732163474318, 0.8513402169405708, 0.7459832343078883, 0.8544558243100763, 0.8544581321570769]}, {\"categories\": [\"0\", \"1\", \"2\", \"3\", \"4\", \"5\", \"6\", \"7\", \"8\", \"9\", \"10\", \"11\", \"12\", \"13\", \"14\", \"15\", \"16\", \"17\", \"18\", \"19\", \"20\", \"21\", \"22\", \"23\", \"24\", \"25\", \"26\", \"27\", \"28\", \"29\", \"30\", \"31\", \"32\", \"33\", \"34\"], \"mode\": \"lines\", \"name\": \"average_precision_score_micro_max\", \"stepped\": true, \"type\": \"scatter\", \"data\": [0.8327853787564277, 0.8532463783590838, 0.8532463783590838, 0.8532463783590838, 0.8532463783590838, 0.8532463783590838, 0.8532463783590838, 0.8532463783590838, 0.8532463783590838, 0.8532463783590838, 0.8532463783590838, 0.8532463783590838, 0.8532463783590838, 0.8532463783590838, 0.8532463783590838, 0.8532463783590838, 0.8532463783590838, 0.8532463783590838, 0.8532463783590838, 0.8532463783590838, 0.8532463783590838, 0.8532463783590838, 0.8544318029766884, 0.8544318029766884, 0.8544318029766884, 0.8544318029766884, 0.8544318029766884, 0.8544318029766884, 0.8577570657578384, 0.8577570657578384, 0.8577570657578384, 0.8577570657578384, 0.8577570657578384, 0.8577570657578384, 0.8577570657578384]}], \"norm_macro_recall\": [{\"categories\": [\"0\", \"1\", \"2\", \"3\", \"4\", \"5\", \"6\", \"7\", \"8\", \"9\", \"10\", \"11\", \"12\", \"13\", \"14\", \"15\", \"16\", \"17\", \"18\", \"19\", \"20\", \"21\", \"22\", \"23\", \"24\", \"25\", \"26\", \"27\", \"28\", \"29\", \"30\", \"31\", \"32\", \"33\", \"34\"], \"mode\": \"markers\", \"name\": \"norm_macro_recall\", \"stepped\": false, \"type\": \"scatter\", \"data\": [0.420946354852849, 0.4667111240616652, 0.4363912815479605, 0.3684079605639478, 0.4995468397762378, 0.45403906502664493, 0.33191911840507854, 0.3030262927030176, 0.30223876786824594, 0.08972431522364399, 0.4036501122174626, 0.3851675163596996, 0.37817645130037425, 0.368511696972428, 0.4263174121899708, 0.33889906693779404, 0.3020529686503032, 0.36881125626039857, 0.4024034115790872, 0.2904034074098781, 0.317885654596194, 0.44238217274466407, 0.44929322080708084, 0.4734541366375561, 0.4648594729242454, 0.0, 0.3424019428596976, 0.2693507569296057, 0.41414990931139695, 0.26250903003412823, 0.14219906364473278, 0.4537407121140407, 0.09690013379818127, 0.4512523004686737, 0.42506299045128715]}, {\"categories\": [\"0\", \"1\", \"2\", \"3\", \"4\", \"5\", \"6\", \"7\", \"8\", \"9\", \"10\", \"11\", \"12\", \"13\", \"14\", \"15\", \"16\", \"17\", \"18\", \"19\", \"20\", \"21\", \"22\", \"23\", \"24\", \"25\", \"26\", \"27\", \"28\", \"29\", \"30\", \"31\", \"32\", \"33\", \"34\"], \"mode\": \"lines\", \"name\": \"norm_macro_recall_max\", \"stepped\": true, \"type\": \"scatter\", \"data\": [0.420946354852849, 0.4667111240616652, 0.4667111240616652, 0.4667111240616652, 0.4995468397762378, 0.4995468397762378, 0.4995468397762378, 0.4995468397762378, 0.4995468397762378, 0.4995468397762378, 0.4995468397762378, 0.4995468397762378, 0.4995468397762378, 0.4995468397762378, 0.4995468397762378, 0.4995468397762378, 0.4995468397762378, 0.4995468397762378, 0.4995468397762378, 0.4995468397762378, 0.4995468397762378, 0.4995468397762378, 0.4995468397762378, 0.4995468397762378, 0.4995468397762378, 0.4995468397762378, 0.4995468397762378, 0.4995468397762378, 0.4995468397762378, 0.4995468397762378, 0.4995468397762378, 0.4995468397762378, 0.4995468397762378, 0.4995468397762378, 0.4995468397762378]}], \"matthews_correlation\": [{\"categories\": [\"0\", \"1\", \"2\", \"3\", \"4\", \"5\", \"6\", \"7\", \"8\", \"9\", \"10\", \"11\", \"12\", \"13\", \"14\", \"15\", \"16\", \"17\", \"18\", \"19\", \"20\", \"21\", \"22\", \"23\", \"24\", \"25\", \"26\", \"27\", \"28\", \"29\", \"30\", \"31\", \"32\", \"33\", \"34\"], \"mode\": \"markers\", \"name\": \"matthews_correlation\", \"stepped\": false, \"type\": \"scatter\", \"data\": [0.4246377532584085, 0.4736437134256053, 0.46522288626720787, 0.42214980658347534, 0.4863290308592145, 0.4357336506597429, 0.3536736003429463, 0.3296689207197475, 0.32056869029928875, 0.10804772018981312, 0.4271688848161639, 0.43202464020407394, 0.43429962137758193, 0.4235450973958789, 0.4663102387993311, 0.3992591464532271, 0.3895168417318529, 0.42035140006271804, 0.4543161724782239, 0.3193622518281412, 0.4017949450106289, 0.47181122674863935, 0.45930124378300485, 0.4801794175575827, 0.4519130394488119, 0.0, 0.4190219630401411, 0.36235518661452193, 0.42686540041505605, 0.28698160999480293, 0.18658179183000112, 0.4668235250529764, 0.15867929199543157, 0.4971803464333945, 0.47041093987709665]}, {\"categories\": [\"0\", \"1\", \"2\", \"3\", \"4\", \"5\", \"6\", \"7\", \"8\", \"9\", \"10\", \"11\", \"12\", \"13\", \"14\", \"15\", \"16\", \"17\", \"18\", \"19\", \"20\", \"21\", \"22\", \"23\", \"24\", \"25\", \"26\", \"27\", \"28\", \"29\", \"30\", \"31\", \"32\", \"33\", \"34\"], \"mode\": \"lines\", \"name\": \"matthews_correlation_max\", \"stepped\": true, \"type\": \"scatter\", \"data\": [0.4246377532584085, 0.4736437134256053, 0.4736437134256053, 0.4736437134256053, 0.4863290308592145, 0.4863290308592145, 0.4863290308592145, 0.4863290308592145, 0.4863290308592145, 0.4863290308592145, 0.4863290308592145, 0.4863290308592145, 0.4863290308592145, 0.4863290308592145, 0.4863290308592145, 0.4863290308592145, 0.4863290308592145, 0.4863290308592145, 0.4863290308592145, 0.4863290308592145, 0.4863290308592145, 0.4863290308592145, 0.4863290308592145, 0.4863290308592145, 0.4863290308592145, 0.4863290308592145, 0.4863290308592145, 0.4863290308592145, 0.4863290308592145, 0.4863290308592145, 0.4863290308592145, 0.4863290308592145, 0.4863290308592145, 0.4971803464333945, 0.4971803464333945]}]}, \"metricName\": null, \"primaryMetricName\": \"accuracy\", \"showLegend\": false}, \"run_metrics\": [{\"name\": \"experiment_status\", \"run_id\": \"AutoML_19c071de-d41b-40ad-8e7a-f803cbabbb3f\", \"categories\": [0, 1, 2, 3, 4, 5], \"series\": [{\"data\": [\"DatasetEvaluation\", \"FeaturesGeneration\", \"DatasetFeaturization\", \"DatasetFeaturizationCompleted\", \"DatasetCrossValidationSplit\", \"ModelSelection\"]}]}, {\"name\": \"experiment_status_description\", \"run_id\": \"AutoML_19c071de-d41b-40ad-8e7a-f803cbabbb3f\", \"categories\": [0, 1, 2, 3, 4, 5], \"series\": [{\"data\": [\"Gathering dataset statistics.\", \"Generating features for the dataset.\", \"Beginning to fit featurizers and featurize the dataset.\", \"Completed fit featurizers and featurizing the dataset.\", \"Generating individually featurized CV splits.\", \"Beginning model selection.\"]}]}, {\"name\": \"average_precision_score_micro\", \"run_id\": \"AutoML_19c071de-d41b-40ad-8e7a-f803cbabbb3f\", \"categories\": [0], \"series\": [{\"data\": [0.8544558243100763]}]}, {\"name\": \"recall_score_macro\", \"run_id\": \"AutoML_19c071de-d41b-40ad-8e7a-f803cbabbb3f\", \"categories\": [0], \"series\": [{\"data\": [0.7256261502343369]}]}, {\"name\": \"average_precision_score_macro\", \"run_id\": \"AutoML_19c071de-d41b-40ad-8e7a-f803cbabbb3f\", \"categories\": [0], \"series\": [{\"data\": [0.818316044418577]}]}, {\"name\": \"AUC_micro\", \"run_id\": \"AutoML_19c071de-d41b-40ad-8e7a-f803cbabbb3f\", \"categories\": [0], \"series\": [{\"data\": [0.8537627013570331]}]}, {\"name\": \"precision_score_macro\", \"run_id\": \"AutoML_19c071de-d41b-40ad-8e7a-f803cbabbb3f\", \"categories\": [0], \"series\": [{\"data\": [0.7739996623901533]}]}, {\"name\": \"weighted_accuracy\", \"run_id\": \"AutoML_19c071de-d41b-40ad-8e7a-f803cbabbb3f\", \"categories\": [0], \"series\": [{\"data\": [0.8287890676251946]}]}, {\"name\": \"recall_score_micro\", \"run_id\": \"AutoML_19c071de-d41b-40ad-8e7a-f803cbabbb3f\", \"categories\": [0], \"series\": [{\"data\": [0.7838808250572956]}]}, {\"name\": \"recall_score_weighted\", \"run_id\": \"AutoML_19c071de-d41b-40ad-8e7a-f803cbabbb3f\", \"categories\": [0], \"series\": [{\"data\": [0.7838808250572956]}]}, {\"name\": \"f1_score_macro\", \"run_id\": \"AutoML_19c071de-d41b-40ad-8e7a-f803cbabbb3f\", \"categories\": [0], \"series\": [{\"data\": [0.7378117319769111]}]}, {\"name\": \"log_loss\", \"run_id\": \"AutoML_19c071de-d41b-40ad-8e7a-f803cbabbb3f\", \"categories\": [0], \"series\": [{\"data\": [0.49152947406313163]}]}, {\"name\": \"f1_score_micro\", \"run_id\": \"AutoML_19c071de-d41b-40ad-8e7a-f803cbabbb3f\", \"categories\": [0], \"series\": [{\"data\": [0.7838808250572955]}]}, {\"name\": \"norm_macro_recall\", \"run_id\": \"AutoML_19c071de-d41b-40ad-8e7a-f803cbabbb3f\", \"categories\": [0], \"series\": [{\"data\": [0.4512523004686737]}]}, {\"name\": \"matthews_correlation\", \"run_id\": \"AutoML_19c071de-d41b-40ad-8e7a-f803cbabbb3f\", \"categories\": [0], \"series\": [{\"data\": [0.4971803464333945]}]}, {\"name\": \"f1_score_weighted\", \"run_id\": \"AutoML_19c071de-d41b-40ad-8e7a-f803cbabbb3f\", \"categories\": [0], \"series\": [{\"data\": [0.7733442844763984]}]}, {\"name\": \"precision_score_weighted\", \"run_id\": \"AutoML_19c071de-d41b-40ad-8e7a-f803cbabbb3f\", \"categories\": [0], \"series\": [{\"data\": [0.7825578519131027]}]}, {\"name\": \"average_precision_score_weighted\", \"run_id\": \"AutoML_19c071de-d41b-40ad-8e7a-f803cbabbb3f\", \"categories\": [0], \"series\": [{\"data\": [0.8469454344552944]}]}, {\"name\": \"balanced_accuracy\", \"run_id\": \"AutoML_19c071de-d41b-40ad-8e7a-f803cbabbb3f\", \"categories\": [0], \"series\": [{\"data\": [0.7256261502343369]}]}, {\"name\": \"AUC_weighted\", \"run_id\": \"AutoML_19c071de-d41b-40ad-8e7a-f803cbabbb3f\", \"categories\": [0], \"series\": [{\"data\": [0.8371253118340632]}]}, {\"name\": \"precision_score_micro\", \"run_id\": \"AutoML_19c071de-d41b-40ad-8e7a-f803cbabbb3f\", \"categories\": [0], \"series\": [{\"data\": [0.7838808250572956]}]}, {\"name\": \"AUC_macro\", \"run_id\": \"AutoML_19c071de-d41b-40ad-8e7a-f803cbabbb3f\", \"categories\": [0], \"series\": [{\"data\": [0.8371253118340632]}]}, {\"name\": \"accuracy\", \"run_id\": \"AutoML_19c071de-d41b-40ad-8e7a-f803cbabbb3f\", \"categories\": [0], \"series\": [{\"data\": [0.7838808250572956]}]}], \"run_logs\": \"\\nRun is completed.\", \"graph\": {}, \"widget_settings\": {\"childWidgetDisplay\": \"popup\", \"send_telemetry\": false, \"log_level\": \"INFO\", \"sdk_version\": \"1.20.0\"}, \"loading\": false}"
     },
     "metadata": {},
     "output_type": "display_data"
    }
   ],
   "source": [
    "RunDetails(remote_run).show()"
   ]
  },
  {
   "cell_type": "code",
   "execution_count": 10,
   "metadata": {},
   "outputs": [
    {
     "name": "stdout",
     "output_type": "stream",
     "text": [
      "\n",
      "\n",
      "****************************************************************************************************\n",
      "DATA GUARDRAILS: \n",
      "\n",
      "TYPE:         Class balancing detection\n",
      "STATUS:       PASSED\n",
      "DESCRIPTION:  Your inputs were analyzed, and all classes are balanced in your training data.\n",
      "              Learn more about imbalanced data: https://aka.ms/AutomatedMLImbalancedData\n",
      "\n",
      "****************************************************************************************************\n",
      "\n",
      "TYPE:         Missing feature values imputation\n",
      "STATUS:       PASSED\n",
      "DESCRIPTION:  No feature missing values were detected in the training data.\n",
      "              Learn more about missing value imputation: https://aka.ms/AutomatedMLFeaturization\n",
      "\n",
      "****************************************************************************************************\n",
      "\n",
      "TYPE:         High cardinality feature detection\n",
      "STATUS:       PASSED\n",
      "DESCRIPTION:  Your inputs were analyzed, and no high cardinality features were detected.\n",
      "              Learn more about high cardinality feature handling: https://aka.ms/AutomatedMLFeaturization\n",
      "\n",
      "****************************************************************************************************\n",
      "\n",
      "****************************************************************************************************\n",
      "ITERATION: The iteration being evaluated.\n",
      "PIPELINE: A summary description of the pipeline being evaluated.\n",
      "DURATION: Time taken for the current iteration.\n",
      "METRIC: The result of computing score on the fitted pipeline.\n",
      "BEST: The best observed score thus far.\n",
      "****************************************************************************************************\n",
      "\n",
      " ITERATION   PIPELINE                                       DURATION      METRIC      BEST\n",
      "         0   MaxAbsScaler LightGBM                          0:02:01       0.7435    0.7435\n",
      "         1   MaxAbsScaler XGBoostClassifier                 0:00:52       0.7656    0.7656\n",
      "         2   MaxAbsScaler RandomForest                      0:00:46       0.7671    0.7671\n",
      "         3   MaxAbsScaler RandomForest                      0:02:06       0.7514    0.7671\n",
      "         4   MaxAbsScaler RandomForest                      0:02:24       0.7592    0.7671\n",
      "         5   MaxAbsScaler RandomForest                      0:00:51       0.7253    0.7671\n",
      "         6   SparseNormalizer XGBoostClassifier             0:00:50       0.7189    0.7671\n",
      "         7   SparseNormalizer XGBoostClassifier             0:00:42       0.7110    0.7671\n",
      "        10   MaxAbsScaler RandomForest                      0:00:51       0.7514    0.7671\n",
      "        11   StandardScalerWrapper RandomForest             0:01:01       0.7565    0.7671\n",
      "         8   SparseNormalizer XGBoostClassifier             0:00:51       0.7045    0.7671\n",
      "         9   SparseNormalizer XGBoostClassifier             0:00:43       0.6485    0.7671\n",
      "        12   MaxAbsScaler LightGBM                          0:00:58       0.7578    0.7671\n",
      "        13   MaxAbsScaler LightGBM                          0:00:49       0.7540    0.7671\n",
      "        14   MaxAbsScaler LogisticRegression                0:00:46       0.7683    0.7683\n",
      "        15   MaxAbsScaler LightGBM                          0:00:49       0.7474    0.7683\n",
      "        16   MaxAbsScaler LightGBM                          0:00:55       0.7409    0.7683\n",
      "        17   MaxAbsScaler LightGBM                          0:00:52       0.7527    0.7683\n",
      "        18   MaxAbsScaler LightGBM                          0:00:43       0.7670    0.7683\n",
      "        19   SparseNormalizer RandomForest                  0:00:46       0.7084    0.7683\n",
      "        20   StandardScalerWrapper RandomForest             0:00:42       0.7435    0.7683\n",
      "        21   MaxAbsScaler LogisticRegression                0:00:46       0.7696    0.7696\n",
      "        22   MaxAbsScaler LightGBM                          0:00:55       0.7617    0.7696\n",
      "        23   MaxAbsScaler LightGBM                          0:00:55       0.7683    0.7696\n",
      "        24   MaxAbsScaler LogisticRegression                0:00:39       0.7435    0.7696\n",
      "        25   SparseNormalizer LogisticRegression            0:00:45       0.5037    0.7696\n",
      "        26   MaxAbsScaler ExtremeRandomTrees                0:00:53       0.7514    0.7696\n",
      "        27   StandardScalerWrapper ExtremeRandomTrees       0:00:49       0.7266    0.7696\n",
      "        28   MaxAbsScaler LightGBM                          0:00:56       0.7474    0.7696\n",
      "        29   SparseNormalizer LightGBM                      0:00:49       0.6901    0.7696\n",
      "        30   TruncatedSVDWrapper LogisticRegression         0:00:51       0.6667    0.7696\n",
      "        31   MaxAbsScaler LightGBM                          0:00:57       0.7656    0.7696\n",
      "        32   SparseNormalizer LightGBM                      0:00:48       0.6629    0.7696\n",
      "        33    VotingEnsemble                                0:01:18       0.7839    0.7839\n",
      "        34    StackEnsemble                                 0:01:31       0.7722    0.7839\n"
     ]
    },
    {
     "data": {
      "text/plain": [
       "{'runId': 'AutoML_19c071de-d41b-40ad-8e7a-f803cbabbb3f',\n",
       " 'target': 'project-cluster',\n",
       " 'status': 'Completed',\n",
       " 'startTimeUtc': '2021-02-02T17:13:22.008642Z',\n",
       " 'endTimeUtc': '2021-02-02T17:33:19.866738Z',\n",
       " 'properties': {'num_iterations': '35',\n",
       "  'training_type': 'TrainFull',\n",
       "  'acquisition_function': 'EI',\n",
       "  'primary_metric': 'accuracy',\n",
       "  'train_split': '0',\n",
       "  'acquisition_parameter': '0',\n",
       "  'num_cross_validation': '5',\n",
       "  'target': 'project-cluster',\n",
       "  'AMLSettingsJsonString': '{\"path\":null,\"name\":\"automl-exp\",\"subscription_id\":\"f5091c60-1c3c-430f-8d81-d802f6bf2414\",\"resource_group\":\"aml-quickstarts-136869\",\"workspace_name\":\"quick-starts-ws-136869\",\"region\":\"southcentralus\",\"compute_target\":\"project-cluster\",\"spark_service\":null,\"azure_service\":\"remote\",\"many_models\":false,\"pipeline_fetch_max_batch_size\":1,\"iterations\":35,\"primary_metric\":\"accuracy\",\"task_type\":\"classification\",\"data_script\":null,\"validation_size\":0.0,\"n_cross_validations\":5,\"y_min\":null,\"y_max\":null,\"num_classes\":null,\"featurization\":\"auto\",\"_ignore_package_version_incompatibilities\":false,\"is_timeseries\":false,\"max_cores_per_iteration\":1,\"max_concurrent_iterations\":4,\"iteration_timeout_minutes\":null,\"mem_in_mb\":null,\"enforce_time_on_windows\":false,\"experiment_timeout_minutes\":40,\"experiment_exit_score\":null,\"whitelist_models\":null,\"blacklist_algos\":[\"TensorFlowLinearClassifier\",\"TensorFlowDNN\"],\"supported_models\":[\"TensorFlowLinearClassifier\",\"LinearSVM\",\"BernoulliNaiveBayes\",\"SGD\",\"RandomForest\",\"KNN\",\"GradientBoosting\",\"LightGBM\",\"TensorFlowDNN\",\"AveragedPerceptronClassifier\",\"DecisionTree\",\"XGBoostClassifier\",\"MultinomialNaiveBayes\",\"ExtremeRandomTrees\",\"SVM\",\"LogisticRegression\"],\"auto_blacklist\":true,\"blacklist_samples_reached\":false,\"exclude_nan_labels\":true,\"verbosity\":20,\"_debug_log\":\"azureml_automl.log\",\"show_warnings\":false,\"model_explainability\":true,\"service_url\":null,\"sdk_url\":null,\"sdk_packages\":null,\"enable_onnx_compatible_models\":false,\"enable_split_onnx_featurizer_estimator_models\":false,\"vm_type\":\"STANDARD_DS12_V2\",\"telemetry_verbosity\":20,\"send_telemetry\":true,\"enable_dnn\":false,\"scenario\":\"SDK-1.13.0\",\"environment_label\":null,\"force_text_dnn\":false,\"enable_feature_sweeping\":true,\"enable_early_stopping\":true,\"early_stopping_n_iters\":10,\"metrics\":null,\"enable_ensembling\":true,\"enable_stack_ensembling\":true,\"ensemble_iterations\":15,\"enable_tf\":false,\"enable_subsampling\":false,\"subsample_seed\":null,\"enable_nimbusml\":false,\"enable_streaming\":false,\"force_streaming\":false,\"track_child_runs\":true,\"allowed_private_models\":[],\"label_column_name\":\"Outcome\",\"weight_column_name\":null,\"cv_split_column_names\":null,\"enable_local_managed\":false,\"_local_managed_run_id\":null,\"cost_mode\":1,\"lag_length\":0,\"metric_operation\":\"maximize\",\"preprocess\":true}',\n",
       "  'DataPrepJsonString': '{\\\\\"training_data\\\\\": \\\\\"{\\\\\\\\\\\\\"blocks\\\\\\\\\\\\\": [{\\\\\\\\\\\\\"id\\\\\\\\\\\\\": \\\\\\\\\\\\\"ca5dac64-4b06-4e8a-83fe-3e8cfff980ef\\\\\\\\\\\\\", \\\\\\\\\\\\\"type\\\\\\\\\\\\\": \\\\\\\\\\\\\"Microsoft.DPrep.GetDatastoreFilesBlock\\\\\\\\\\\\\", \\\\\\\\\\\\\"arguments\\\\\\\\\\\\\": {\\\\\\\\\\\\\"datastores\\\\\\\\\\\\\": [{\\\\\\\\\\\\\"datastoreName\\\\\\\\\\\\\": \\\\\\\\\\\\\"workspaceblobstore\\\\\\\\\\\\\", \\\\\\\\\\\\\"path\\\\\\\\\\\\\": \\\\\\\\\\\\\"UI/02-02-2021_042553_UTC/diabetes.csv\\\\\\\\\\\\\", \\\\\\\\\\\\\"resourceGroup\\\\\\\\\\\\\": \\\\\\\\\\\\\"aml-quickstarts-136869\\\\\\\\\\\\\", \\\\\\\\\\\\\"subscription\\\\\\\\\\\\\": \\\\\\\\\\\\\"f5091c60-1c3c-430f-8d81-d802f6bf2414\\\\\\\\\\\\\", \\\\\\\\\\\\\"workspaceName\\\\\\\\\\\\\": \\\\\\\\\\\\\"quick-starts-ws-136869\\\\\\\\\\\\\"}]}, \\\\\\\\\\\\\"localData\\\\\\\\\\\\\": {}, \\\\\\\\\\\\\"isEnabled\\\\\\\\\\\\\": true, \\\\\\\\\\\\\"name\\\\\\\\\\\\\": null, \\\\\\\\\\\\\"annotation\\\\\\\\\\\\\": null}, {\\\\\\\\\\\\\"id\\\\\\\\\\\\\": \\\\\\\\\\\\\"d13e6bed-e309-4154-95dc-ac1e2268c09d\\\\\\\\\\\\\", \\\\\\\\\\\\\"type\\\\\\\\\\\\\": \\\\\\\\\\\\\"Microsoft.DPrep.ParseDelimitedBlock\\\\\\\\\\\\\", \\\\\\\\\\\\\"arguments\\\\\\\\\\\\\": {\\\\\\\\\\\\\"columnHeadersMode\\\\\\\\\\\\\": 3, \\\\\\\\\\\\\"fileEncoding\\\\\\\\\\\\\": 0, \\\\\\\\\\\\\"handleQuotedLineBreaks\\\\\\\\\\\\\": false, \\\\\\\\\\\\\"preview\\\\\\\\\\\\\": false, \\\\\\\\\\\\\"separator\\\\\\\\\\\\\": \\\\\\\\\\\\\",\\\\\\\\\\\\\", \\\\\\\\\\\\\"skipRows\\\\\\\\\\\\\": 0, \\\\\\\\\\\\\"skipRowsMode\\\\\\\\\\\\\": 0}, \\\\\\\\\\\\\"localData\\\\\\\\\\\\\": {}, \\\\\\\\\\\\\"isEnabled\\\\\\\\\\\\\": true, \\\\\\\\\\\\\"name\\\\\\\\\\\\\": null, \\\\\\\\\\\\\"annotation\\\\\\\\\\\\\": null}, {\\\\\\\\\\\\\"id\\\\\\\\\\\\\": \\\\\\\\\\\\\"1ee0820e-54dc-4fd7-aa73-0da15c14003b\\\\\\\\\\\\\", \\\\\\\\\\\\\"type\\\\\\\\\\\\\": \\\\\\\\\\\\\"Microsoft.DPrep.DropColumnsBlock\\\\\\\\\\\\\", \\\\\\\\\\\\\"arguments\\\\\\\\\\\\\": {\\\\\\\\\\\\\"columns\\\\\\\\\\\\\": {\\\\\\\\\\\\\"type\\\\\\\\\\\\\": 0, \\\\\\\\\\\\\"details\\\\\\\\\\\\\": {\\\\\\\\\\\\\"selectedColumns\\\\\\\\\\\\\": [\\\\\\\\\\\\\"Path\\\\\\\\\\\\\"]}}}, \\\\\\\\\\\\\"localData\\\\\\\\\\\\\": {}, \\\\\\\\\\\\\"isEnabled\\\\\\\\\\\\\": true, \\\\\\\\\\\\\"name\\\\\\\\\\\\\": null, \\\\\\\\\\\\\"annotation\\\\\\\\\\\\\": null}, {\\\\\\\\\\\\\"id\\\\\\\\\\\\\": \\\\\\\\\\\\\"54133a5a-7649-4870-9b46-f376db85ee76\\\\\\\\\\\\\", \\\\\\\\\\\\\"type\\\\\\\\\\\\\": \\\\\\\\\\\\\"Microsoft.DPrep.SetColumnTypesBlock\\\\\\\\\\\\\", \\\\\\\\\\\\\"arguments\\\\\\\\\\\\\": {\\\\\\\\\\\\\"columnConversion\\\\\\\\\\\\\": [{\\\\\\\\\\\\\"column\\\\\\\\\\\\\": {\\\\\\\\\\\\\"type\\\\\\\\\\\\\": 2, \\\\\\\\\\\\\"details\\\\\\\\\\\\\": {\\\\\\\\\\\\\"selectedColumn\\\\\\\\\\\\\": \\\\\\\\\\\\\"Path\\\\\\\\\\\\\"}}, \\\\\\\\\\\\\"typeProperty\\\\\\\\\\\\\": 0}, {\\\\\\\\\\\\\"column\\\\\\\\\\\\\": {\\\\\\\\\\\\\"type\\\\\\\\\\\\\": 2, \\\\\\\\\\\\\"details\\\\\\\\\\\\\": {\\\\\\\\\\\\\"selectedColumn\\\\\\\\\\\\\": \\\\\\\\\\\\\"Pregnancies\\\\\\\\\\\\\"}}, \\\\\\\\\\\\\"typeProperty\\\\\\\\\\\\\": 2}, {\\\\\\\\\\\\\"column\\\\\\\\\\\\\": {\\\\\\\\\\\\\"type\\\\\\\\\\\\\": 2, \\\\\\\\\\\\\"details\\\\\\\\\\\\\": {\\\\\\\\\\\\\"selectedColumn\\\\\\\\\\\\\": \\\\\\\\\\\\\"Glucose\\\\\\\\\\\\\"}}, \\\\\\\\\\\\\"typeProperty\\\\\\\\\\\\\": 2}, {\\\\\\\\\\\\\"column\\\\\\\\\\\\\": {\\\\\\\\\\\\\"type\\\\\\\\\\\\\": 2, \\\\\\\\\\\\\"details\\\\\\\\\\\\\": {\\\\\\\\\\\\\"selectedColumn\\\\\\\\\\\\\": \\\\\\\\\\\\\"BloodPressure\\\\\\\\\\\\\"}}, \\\\\\\\\\\\\"typeProperty\\\\\\\\\\\\\": 2}, {\\\\\\\\\\\\\"column\\\\\\\\\\\\\": {\\\\\\\\\\\\\"type\\\\\\\\\\\\\": 2, \\\\\\\\\\\\\"details\\\\\\\\\\\\\": {\\\\\\\\\\\\\"selectedColumn\\\\\\\\\\\\\": \\\\\\\\\\\\\"SkinThickness\\\\\\\\\\\\\"}}, \\\\\\\\\\\\\"typeProperty\\\\\\\\\\\\\": 2}, {\\\\\\\\\\\\\"column\\\\\\\\\\\\\": {\\\\\\\\\\\\\"type\\\\\\\\\\\\\": 2, \\\\\\\\\\\\\"details\\\\\\\\\\\\\": {\\\\\\\\\\\\\"selectedColumn\\\\\\\\\\\\\": \\\\\\\\\\\\\"Insulin\\\\\\\\\\\\\"}}, \\\\\\\\\\\\\"typeProperty\\\\\\\\\\\\\": 2}, {\\\\\\\\\\\\\"column\\\\\\\\\\\\\": {\\\\\\\\\\\\\"type\\\\\\\\\\\\\": 2, \\\\\\\\\\\\\"details\\\\\\\\\\\\\": {\\\\\\\\\\\\\"selectedColumn\\\\\\\\\\\\\": \\\\\\\\\\\\\"BMI\\\\\\\\\\\\\"}}, \\\\\\\\\\\\\"typeProperty\\\\\\\\\\\\\": 3}, {\\\\\\\\\\\\\"column\\\\\\\\\\\\\": {\\\\\\\\\\\\\"type\\\\\\\\\\\\\": 2, \\\\\\\\\\\\\"details\\\\\\\\\\\\\": {\\\\\\\\\\\\\"selectedColumn\\\\\\\\\\\\\": \\\\\\\\\\\\\"DiabetesPedigreeFunction\\\\\\\\\\\\\"}}, \\\\\\\\\\\\\"typeProperty\\\\\\\\\\\\\": 3}, {\\\\\\\\\\\\\"column\\\\\\\\\\\\\": {\\\\\\\\\\\\\"type\\\\\\\\\\\\\": 2, \\\\\\\\\\\\\"details\\\\\\\\\\\\\": {\\\\\\\\\\\\\"selectedColumn\\\\\\\\\\\\\": \\\\\\\\\\\\\"Age\\\\\\\\\\\\\"}}, \\\\\\\\\\\\\"typeProperty\\\\\\\\\\\\\": 2}, {\\\\\\\\\\\\\"column\\\\\\\\\\\\\": {\\\\\\\\\\\\\"type\\\\\\\\\\\\\": 2, \\\\\\\\\\\\\"details\\\\\\\\\\\\\": {\\\\\\\\\\\\\"selectedColumn\\\\\\\\\\\\\": \\\\\\\\\\\\\"Outcome\\\\\\\\\\\\\"}}, \\\\\\\\\\\\\"typeProperty\\\\\\\\\\\\\": 2}]}, \\\\\\\\\\\\\"localData\\\\\\\\\\\\\": {}, \\\\\\\\\\\\\"isEnabled\\\\\\\\\\\\\": true, \\\\\\\\\\\\\"name\\\\\\\\\\\\\": null, \\\\\\\\\\\\\"annotation\\\\\\\\\\\\\": null}], \\\\\\\\\\\\\"inspectors\\\\\\\\\\\\\": [], \\\\\\\\\\\\\"meta\\\\\\\\\\\\\": {\\\\\\\\\\\\\"savedDatasetId\\\\\\\\\\\\\": \\\\\\\\\\\\\"8849043c-d9d9-466e-b985-f4dbae2deb89\\\\\\\\\\\\\", \\\\\\\\\\\\\"datasetType\\\\\\\\\\\\\": \\\\\\\\\\\\\"tabular\\\\\\\\\\\\\", \\\\\\\\\\\\\"subscriptionId\\\\\\\\\\\\\": \\\\\\\\\\\\\"f5091c60-1c3c-430f-8d81-d802f6bf2414\\\\\\\\\\\\\", \\\\\\\\\\\\\"workspaceId\\\\\\\\\\\\\": \\\\\\\\\\\\\"a6251af2-72e3-4817-ab18-076c807e1087\\\\\\\\\\\\\", \\\\\\\\\\\\\"workspaceLocation\\\\\\\\\\\\\": \\\\\\\\\\\\\"southcentralus\\\\\\\\\\\\\"}}\\\\\", \\\\\"activities\\\\\": 0}',\n",
       "  'EnableSubsampling': 'False',\n",
       "  'runTemplate': 'AutoML',\n",
       "  'azureml.runsource': 'automl',\n",
       "  'display_task_type': 'classification',\n",
       "  'dependencies_versions': '{\"azureml-widgets\": \"1.20.0\", \"azureml-train\": \"1.20.0\", \"azureml-train-restclients-hyperdrive\": \"1.20.0\", \"azureml-train-core\": \"1.20.0\", \"azureml-train-automl\": \"1.20.0\", \"azureml-train-automl-runtime\": \"1.20.0\", \"azureml-train-automl-client\": \"1.20.0\", \"azureml-tensorboard\": \"1.20.0\", \"azureml-telemetry\": \"1.20.0\", \"azureml-sdk\": \"1.20.0\", \"azureml-samples\": \"0+unknown\", \"azureml-pipeline\": \"1.20.0\", \"azureml-pipeline-steps\": \"1.20.0\", \"azureml-pipeline-core\": \"1.20.0\", \"azureml-opendatasets\": \"1.20.0\", \"azureml-model-management-sdk\": \"1.0.1b6.post1\", \"azureml-mlflow\": \"1.20.0.post1\", \"azureml-interpret\": \"1.20.0\", \"azureml-explain-model\": \"1.20.0\", \"azureml-defaults\": \"1.20.0\", \"azureml-dataset-runtime\": \"1.20.0\", \"azureml-dataprep\": \"2.7.3\", \"azureml-dataprep-rslex\": \"1.5.0\", \"azureml-dataprep-native\": \"27.0.0\", \"azureml-datadrift\": \"1.20.0\", \"azureml-core\": \"1.20.0\", \"azureml-contrib-services\": \"1.20.0\", \"azureml-contrib-server\": \"1.20.0\", \"azureml-contrib-reinforcementlearning\": \"1.20.0\", \"azureml-contrib-pipeline-steps\": \"1.20.0\", \"azureml-contrib-notebook\": \"1.20.0\", \"azureml-contrib-interpret\": \"1.20.0\", \"azureml-contrib-gbdt\": \"1.20.0\", \"azureml-contrib-fairness\": \"1.20.0\", \"azureml-contrib-dataset\": \"1.20.0\", \"azureml-cli-common\": \"1.20.0\", \"azureml-automl-runtime\": \"1.20.0\", \"azureml-automl-core\": \"1.20.0\", \"azureml-accel-models\": \"1.20.0\"}',\n",
       "  '_aml_system_scenario_identification': 'Remote.Parent',\n",
       "  'ClientType': 'SDK',\n",
       "  'environment_cpu_name': 'AzureML-AutoML',\n",
       "  'environment_cpu_label': 'prod',\n",
       "  'environment_gpu_name': 'AzureML-AutoML-GPU',\n",
       "  'environment_gpu_label': 'prod',\n",
       "  'root_attribution': 'automl',\n",
       "  'attribution': 'AutoML',\n",
       "  'Orchestrator': 'AutoML',\n",
       "  'CancelUri': 'https://southcentralus.experiments.azureml.net/jasmine/v1.0/subscriptions/f5091c60-1c3c-430f-8d81-d802f6bf2414/resourceGroups/aml-quickstarts-136869/providers/Microsoft.MachineLearningServices/workspaces/quick-starts-ws-136869/experimentids/00348683-dd26-430b-beda-8be4381bb20b/cancel/AutoML_19c071de-d41b-40ad-8e7a-f803cbabbb3f',\n",
       "  'ClientSdkVersion': '1.21.0',\n",
       "  'snapshotId': '00000000-0000-0000-0000-000000000000',\n",
       "  'SetupRunId': 'AutoML_19c071de-d41b-40ad-8e7a-f803cbabbb3f_setup',\n",
       "  'SetupRunContainerId': 'dcid.AutoML_19c071de-d41b-40ad-8e7a-f803cbabbb3f_setup',\n",
       "  'FeaturizationRunJsonPath': 'featurizer_container.json',\n",
       "  'FeaturizationRunId': 'AutoML_19c071de-d41b-40ad-8e7a-f803cbabbb3f_featurize',\n",
       "  'ProblemInfoJsonString': '{\"dataset_num_categorical\": 0, \"is_sparse\": true, \"subsampling\": false, \"dataset_classes\": 2, \"dataset_features\": 24, \"dataset_samples\": 768, \"single_frequency_class_detected\": false}',\n",
       "  'ModelExplainRunId': 'AutoML_19c071de-d41b-40ad-8e7a-f803cbabbb3f_ModelExplain'},\n",
       " 'inputDatasets': [{'dataset': {'id': '8849043c-d9d9-466e-b985-f4dbae2deb89'}, 'consumptionDetails': {'type': 'RunInput', 'inputName': 'training_data', 'mechanism': 'Direct'}}],\n",
       " 'outputDatasets': [],\n",
       " 'logFiles': {},\n",
       " 'submittedBy': 'ODL_User 136869'}"
      ]
     },
     "execution_count": 10,
     "metadata": {},
     "output_type": "execute_result"
    }
   ],
   "source": [
    "remote_run.wait_for_completion(show_output=True)"
   ]
  },
  {
   "cell_type": "code",
   "execution_count": 11,
   "metadata": {},
   "outputs": [
    {
     "data": {
      "text/html": [
       "<table style=\"width:100%\"><tr><th>Experiment</th><th>Id</th><th>Type</th><th>Status</th><th>Details Page</th><th>Docs Page</th></tr><tr><td>automl-exp</td><td>AutoML_19c071de-d41b-40ad-8e7a-f803cbabbb3f</td><td>automl</td><td>Completed</td><td><a href=\"https://ml.azure.com/experiments/automl-exp/runs/AutoML_19c071de-d41b-40ad-8e7a-f803cbabbb3f?wsid=/subscriptions/f5091c60-1c3c-430f-8d81-d802f6bf2414/resourcegroups/aml-quickstarts-136869/workspaces/quick-starts-ws-136869\" target=\"_blank\" rel=\"noopener\">Link to Azure Machine Learning studio</a></td><td><a href=\"https://docs.microsoft.com/en-us/python/api/overview/azure/ml/intro?view=azure-ml-py\" target=\"_blank\" rel=\"noopener\">Link to Documentation</a></td></tr></table>"
      ],
      "text/plain": [
       "Run(Experiment: automl-exp,\n",
       "Id: AutoML_19c071de-d41b-40ad-8e7a-f803cbabbb3f,\n",
       "Type: automl,\n",
       "Status: Completed)"
      ]
     },
     "execution_count": 11,
     "metadata": {},
     "output_type": "execute_result"
    }
   ],
   "source": [
    "remote_run"
   ]
  },
  {
   "cell_type": "markdown",
   "metadata": {},
   "source": [
    "## Best Model\n",
    "\n",
    "TODO: In the cell below, get the best model from the automl experiments and display all the properties of the model.\n",
    "\n"
   ]
  },
  {
   "cell_type": "code",
   "execution_count": 18,
   "metadata": {
    "gather": {
     "logged": 1598431425670
    },
    "jupyter": {
     "outputs_hidden": false,
     "source_hidden": false
    },
    "nteract": {
     "transient": {
      "deleting": false
     }
    }
   },
   "outputs": [
    {
     "data": {
      "text/plain": [
       "(Run(Experiment: automl-exp,\n",
       " Id: AutoML_695b34cd-c5ff-41eb-a951-ada26ec0b959_33,\n",
       " Type: azureml.scriptrun,\n",
       " Status: Completed),\n",
       " Pipeline(memory=None,\n",
       "          steps=[('datatransformer',\n",
       "                  DataTransformer(enable_dnn=None, enable_feature_sweeping=None,\n",
       "                                  feature_sweeping_config=None,\n",
       "                                  feature_sweeping_timeout=None,\n",
       "                                  featurization_config=None, force_text_dnn=None,\n",
       "                                  is_cross_validation=None,\n",
       "                                  is_onnx_compatible=None, logger=None,\n",
       "                                  observer=None, task=None, working_dir=None)),\n",
       "                 ('prefittedsoftvotingclassifier',...\n",
       "                                                                                                 subsample=0.09947368421052633,\n",
       "                                                                                                 subsample_for_bin=200000,\n",
       "                                                                                                 subsample_freq=0,\n",
       "                                                                                                 verbose=-10))],\n",
       "                                                                      verbose=False))],\n",
       "                                                flatten_transform=None,\n",
       "                                                weights=[0.13333333333333333,\n",
       "                                                         0.06666666666666667,\n",
       "                                                         0.06666666666666667,\n",
       "                                                         0.06666666666666667,\n",
       "                                                         0.06666666666666667,\n",
       "                                                         0.06666666666666667,\n",
       "                                                         0.06666666666666667,\n",
       "                                                         0.2,\n",
       "                                                         0.06666666666666667,\n",
       "                                                         0.06666666666666667,\n",
       "                                                         0.06666666666666667,\n",
       "                                                         0.06666666666666667]))],\n",
       "          verbose=False))"
      ]
     },
     "execution_count": 18,
     "metadata": {},
     "output_type": "execute_result"
    }
   ],
   "source": [
    "# Retrieve and save best automl model.\n",
    "best_model = remote_run.get_output()\n",
    "best_model"
   ]
  },
  {
   "cell_type": "code",
   "execution_count": 12,
   "metadata": {},
   "outputs": [
    {
     "data": {
      "text/plain": [
       "{'experiment_status': ['DatasetEvaluation',\n",
       "  'FeaturesGeneration',\n",
       "  'DatasetFeaturization',\n",
       "  'DatasetFeaturizationCompleted',\n",
       "  'DatasetCrossValidationSplit',\n",
       "  'ModelSelection'],\n",
       " 'experiment_status_description': ['Gathering dataset statistics.',\n",
       "  'Generating features for the dataset.',\n",
       "  'Beginning to fit featurizers and featurize the dataset.',\n",
       "  'Completed fit featurizers and featurizing the dataset.',\n",
       "  'Generating individually featurized CV splits.',\n",
       "  'Beginning model selection.'],\n",
       " 'average_precision_score_micro': 0.8544558243100763,\n",
       " 'recall_score_macro': 0.7256261502343369,\n",
       " 'average_precision_score_macro': 0.818316044418577,\n",
       " 'AUC_micro': 0.8537627013570331,\n",
       " 'precision_score_macro': 0.7739996623901533,\n",
       " 'weighted_accuracy': 0.8287890676251946,\n",
       " 'recall_score_micro': 0.7838808250572956,\n",
       " 'recall_score_weighted': 0.7838808250572956,\n",
       " 'f1_score_macro': 0.7378117319769111,\n",
       " 'log_loss': 0.49152947406313163,\n",
       " 'f1_score_micro': 0.7838808250572955,\n",
       " 'norm_macro_recall': 0.4512523004686737,\n",
       " 'matthews_correlation': 0.4971803464333945,\n",
       " 'f1_score_weighted': 0.7733442844763984,\n",
       " 'precision_score_weighted': 0.7825578519131027,\n",
       " 'average_precision_score_weighted': 0.8469454344552944,\n",
       " 'balanced_accuracy': 0.7256261502343369,\n",
       " 'AUC_weighted': 0.8371253118340632,\n",
       " 'precision_score_micro': 0.7838808250572956,\n",
       " 'AUC_macro': 0.8371253118340632,\n",
       " 'accuracy': 0.7838808250572956}"
      ]
     },
     "execution_count": 12,
     "metadata": {},
     "output_type": "execute_result"
    }
   ],
   "source": [
    "remote_run.get_metrics()"
   ]
  },
  {
   "cell_type": "markdown",
   "metadata": {},
   "source": [
    "## Model Deployment\n",
    "\n",
    "Remember you have to deploy only one of the two models you trained.. Perform the steps in the rest of this notebook only if you wish to deploy this model.\n",
    "\n",
    "TODO: In the cell below, register the model, create an inference config and deploy the model as a web service."
   ]
  },
  {
   "cell_type": "code",
   "execution_count": 14,
   "metadata": {
    "gather": {
     "logged": 1598431435189
    },
    "jupyter": {
     "outputs_hidden": false,
     "source_hidden": false
    },
    "nteract": {
     "transient": {
      "deleting": false
     }
    }
   },
   "outputs": [],
   "source": [
    "# Registring the best model\n",
    "model = remote_run.register_model(model_name='automl-best-model')"
   ]
  },
  {
   "cell_type": "code",
   "execution_count": 15,
   "metadata": {},
   "outputs": [],
   "source": [
    "from azureml.core.conda_dependencies import CondaDependencies\n",
    "\n",
    "# create environment\n",
    "environment = Environment(name=\"azure-env\")\n",
    "conda_dep = CondaDependencies()\n",
    "\n",
    "# Nedded packages and scripts\n",
    "conda_dep.add_conda_package(\"pandas\")\n",
    "conda_dep.add_conda_package(\"numpy\")\n",
    "conda_dep.add_conda_package(\"scikit-learn\")\n",
    "conda_dep.add_pip_package(\"azureml-defaults\")\n",
    "\n",
    "# Adding dependencies to the created environment\n",
    "environment.python.conda_dependencies=conda_dep\n",
    "\n",
    "#remote_run.download_file('outputs/scoring_file_v_1_0_0.py', script_file)"
   ]
  },
  {
   "cell_type": "code",
   "execution_count": 16,
   "metadata": {},
   "outputs": [
    {
     "name": "stdout",
     "output_type": "stream",
     "text": [
      "Tips: You can try get_logs(): https://aka.ms/debugimage#dockerlog or local deployment: https://aka.ms/debugimage#debug-locally to debug if deployment takes longer than 10 minutes.\n",
      "Running...........................\n",
      "Succeeded\n",
      "ACI service creation operation finished, operation \"Succeeded\"\n"
     ]
    }
   ],
   "source": [
    "inference_config = InferenceConfig(entry_script='score.py',\n",
    "                                   environment=environment)\n",
    "service_name = 'automl-deploy-1'\n",
    "deployment_config = AciWebservice.deploy_configuration(cpu_cores=1, memory_gb=1)\n",
    "\n",
    "service = Model.deploy(workspace=ws,\n",
    "                       name=service_name,\n",
    "                       models=[model],\n",
    "                       inference_config=inference_config,\n",
    "                       deployment_config=deployment_config,\n",
    "                       overwrite=True\n",
    "                      )\n",
    "service.wait_for_deployment(show_output=True)"
   ]
  },
  {
   "cell_type": "code",
   "execution_count": 17,
   "metadata": {},
   "outputs": [],
   "source": [
    "# Enable app insights\n",
    "service.update(enable_app_insights=True)"
   ]
  },
  {
   "cell_type": "markdown",
   "metadata": {
    "gather": {
     "logged": 1598431657736
    },
    "jupyter": {
     "outputs_hidden": false,
     "source_hidden": false
    },
    "nteract": {
     "transient": {
      "deleting": false
     }
    }
   },
   "source": [
    "TODO: In the cell below, send a request to the web service you deployed to test it."
   ]
  },
  {
   "cell_type": "code",
   "execution_count": 18,
   "metadata": {
    "gather": {
     "logged": 1598432707604
    },
    "jupyter": {
     "outputs_hidden": false,
     "source_hidden": false
    },
    "nteract": {
     "transient": {
      "deleting": false
     }
    }
   },
   "outputs": [
    {
     "name": "stdout",
     "output_type": "stream",
     "text": [
      "{'data': [{'Pregnancies': 6, 'Glucose': 148, 'BloodPressure': 72, 'SkinThickness': 35, 'Insulin': 0, 'BMI': 33.5, 'DiabetesPedigreeFunction': 0.627, 'Age': 50}, {'Pregnancies': 1, 'Glucose': 85, 'BloodPressure': 66, 'SkinThickness': 29, 'Insulin': 20, 'BMI': 26.5, 'DiabetesPedigreeFunction': 0.351, 'Age': 31}]}\n"
     ]
    }
   ],
   "source": [
    "\n",
    "data = {\"data\":\n",
    "        [\n",
    "          {\n",
    "           \"Pregnancies\": 6, \n",
    " \"Glucose\": 148, \n",
    " \"BloodPressure\": 72, \n",
    " \"SkinThickness\": 35, \n",
    " \"Insulin\": 0, \n",
    " \"BMI\": 33.5, \n",
    " \"DiabetesPedigreeFunction\": 0.627, \n",
    " \"Age\": 50\n",
    "          },\n",
    "          {\n",
    "            \"Pregnancies\": 1, \n",
    " \"Glucose\": 85, \n",
    " \"BloodPressure\": 66, \n",
    " \"SkinThickness\": 29, \n",
    " \"Insulin\": 20, \n",
    " \"BMI\": 26.5, \n",
    " \"DiabetesPedigreeFunction\": 0.351, \n",
    " \"Age\": 31\n",
    "          },\n",
    "      ]\n",
    "    }\n",
    "print(data)"
   ]
  },
  {
   "cell_type": "code",
   "execution_count": 22,
   "metadata": {},
   "outputs": [
    {
     "data": {
      "text/plain": [
       "\"name 'model' is not defined\""
      ]
     },
     "execution_count": 22,
     "metadata": {},
     "output_type": "execute_result"
    }
   ],
   "source": [
    "#input_data = json.dumps(data)\n",
    "input_data = json.dumps({\n",
    "    'data': df[0:2].values.tolist()\n",
    "})\n",
    "\n",
    "output = service.run(input_data)\n",
    "output"
   ]
  },
  {
   "cell_type": "markdown",
   "metadata": {
    "gather": {
     "logged": 1598432765711
    },
    "jupyter": {
     "outputs_hidden": false,
     "source_hidden": false
    },
    "nteract": {
     "transient": {
      "deleting": false
     }
    }
   },
   "source": [
    "TODO: In the cell below, print the logs of the web service and delete the service"
   ]
  },
  {
   "cell_type": "code",
   "execution_count": 29,
   "metadata": {
    "jupyter": {
     "outputs_hidden": false,
     "source_hidden": false
    },
    "nteract": {
     "transient": {
      "deleting": false
     }
    }
   },
   "outputs": [
    {
     "data": {
      "text/plain": [
       "'2021-01-30T19:46:59,284869390+00:00 - rsyslog/run \\n2021-01-30T19:46:59,285985442+00:00 - gunicorn/run \\n2021-01-30T19:46:59,287908931+00:00 - iot-server/run \\n2021-01-30T19:46:59,295289172+00:00 - nginx/run \\n/usr/sbin/nginx: /azureml-envs/azureml_6f548a71a771959c69a66d86feeed23b/lib/libcrypto.so.1.0.0: no version information available (required by /usr/sbin/nginx)\\n/usr/sbin/nginx: /azureml-envs/azureml_6f548a71a771959c69a66d86feeed23b/lib/libcrypto.so.1.0.0: no version information available (required by /usr/sbin/nginx)\\n/usr/sbin/nginx: /azureml-envs/azureml_6f548a71a771959c69a66d86feeed23b/lib/libssl.so.1.0.0: no version information available (required by /usr/sbin/nginx)\\n/usr/sbin/nginx: /azureml-envs/azureml_6f548a71a771959c69a66d86feeed23b/lib/libssl.so.1.0.0: no version information available (required by /usr/sbin/nginx)\\n/usr/sbin/nginx: /azureml-envs/azureml_6f548a71a771959c69a66d86feeed23b/lib/libssl.so.1.0.0: no version information available (required by /usr/sbin/nginx)\\nEdgeHubConnectionString and IOTEDGE_IOTHUBHOSTNAME are not set. Exiting...\\n2021-01-30T19:46:59,464510909+00:00 - iot-server/finish 1 0\\n2021-01-30T19:46:59,465768167+00:00 - Exit code 1 is normal. Not restarting iot-server.\\nStarting gunicorn 19.9.0\\nListening at: http://127.0.0.1:31311 (14)\\nUsing worker: sync\\nworker timeout is set to 300\\nBooting worker with pid: 42\\nSPARK_HOME not set. Skipping PySpark Initialization.\\nInitializing logger\\n2021-01-30 19:47:00,291 | root | INFO | Starting up app insights client\\n2021-01-30 19:47:00,292 | root | INFO | Starting up request id generator\\n2021-01-30 19:47:00,292 | root | INFO | Starting up app insight hooks\\n2021-01-30 19:47:00,292 | root | INFO | Invoking user\\'s init function\\n2021-01-30 19:47:00,578 | root | INFO | Users\\'s init has completed successfully\\n2021-01-30 19:47:00,581 | root | INFO | Skipping middleware: dbg_model_info as it\\'s not enabled.\\n2021-01-30 19:47:00,581 | root | INFO | Skipping middleware: dbg_resource_usage as it\\'s not enabled.\\n2021-01-30 19:47:00,582 | root | INFO | Scoring timeout is found from os.environ: 60000 ms\\n2021-01-30 19:47:09,146 | root | INFO | Swagger file not present\\n2021-01-30 19:47:09,146 | root | INFO | 404\\n127.0.0.1 - - [30/Jan/2021:19:47:09 +0000] \"GET /swagger.json HTTP/1.0\" 404 19 \"-\" \"Go-http-client/1.1\"\\n2021-01-30 19:47:22,372 | root | INFO | Validation Request Content-Type\\n2021-01-30 19:47:22,372 | root | INFO | Scoring Timer is set to 60.0 seconds\\n2021-01-30 19:47:22,373 | root | INFO | 200\\n127.0.0.1 - - [30/Jan/2021:19:47:22 +0000] \"POST /score HTTP/1.0\" 200 50 \"-\" \"python-requests/2.25.1\"\\n2021-01-30 19:48:03,437 | root | INFO | Validation Request Content-Type\\n2021-01-30 19:48:03,437 | root | INFO | Scoring Timer is set to 60.0 seconds\\n2021-01-30 19:48:03,440 | root | INFO | 200\\n127.0.0.1 - - [30/Jan/2021:19:48:03 +0000] \"POST /score HTTP/1.0\" 200 29 \"-\" \"python-requests/2.25.1\"\\n'"
      ]
     },
     "execution_count": 29,
     "metadata": {},
     "output_type": "execute_result"
    }
   ],
   "source": [
    "logs = service.get_logs()\n",
    "logs"
   ]
  },
  {
   "cell_type": "code",
   "execution_count": null,
   "metadata": {},
   "outputs": [],
   "source": [
    "service.delete()"
   ]
  }
 ],
 "metadata": {
  "kernel_info": {
   "name": "python3"
  },
  "kernelspec": {
   "display_name": "Python 3",
   "language": "python",
   "name": "python3"
  },
  "language_info": {
   "codemirror_mode": {
    "name": "ipython",
    "version": 3
   },
   "file_extension": ".py",
   "mimetype": "text/x-python",
   "name": "python",
   "nbconvert_exporter": "python",
   "pygments_lexer": "ipython3",
   "version": "3.6.9"
  },
  "nteract": {
   "version": "nteract-front-end@1.0.0"
  }
 },
 "nbformat": 4,
 "nbformat_minor": 4
}
