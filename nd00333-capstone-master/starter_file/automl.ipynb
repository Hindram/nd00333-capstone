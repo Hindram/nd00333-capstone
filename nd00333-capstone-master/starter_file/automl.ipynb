{
 "cells": [
  {
   "cell_type": "markdown",
   "metadata": {},
   "source": [
    "# Automated ML\n",
    "\n",
    "Importing all needed dependencies to complete the project."
   ]
  },
  {
   "cell_type": "code",
   "execution_count": 1,
   "metadata": {
    "collapsed": false,
    "gather": {
     "logged": 1612018493821
    },
    "jupyter": {
     "outputs_hidden": false,
     "source_hidden": false
    },
    "nteract": {
     "transient": {
      "deleting": false
     }
    }
   },
   "outputs": [
    {
     "name": "stdout",
     "output_type": "stream",
     "text": [
      "SDK version: 1.20.0\n"
     ]
    }
   ],
   "source": [
    "import logging\n",
    "import os\n",
    "import json\n",
    "import csv\n",
    "import numpy as np\n",
    "import pandas as pd\n",
    "import pkg_resources\n",
    "\n",
    "import azureml.core\n",
    "from azureml.core.experiment import Experiment\n",
    "from azureml.core.workspace import Workspace\n",
    "from azureml.train.automl import AutoMLConfig\n",
    "from azureml.core.dataset import Dataset\n",
    "from azureml.core.compute import AmlCompute\n",
    "from azureml.core.compute import ComputeTarget\n",
    "from azureml.core.compute_target import ComputeTargetException\n",
    "from azureml.pipeline.steps import AutoMLStep\n",
    "from azureml.widgets import RunDetails\n",
    "from azureml.core import Model, Environment\n",
    "from azureml.core.model import InferenceConfig\n",
    "from azureml.core.webservice import AciWebservice\n",
    "\n",
    "# Check core SDK version number\n",
    "print(\"SDK version:\", azureml.core.VERSION)"
   ]
  },
  {
   "cell_type": "markdown",
   "metadata": {},
   "source": [
    "## Dataset\n",
    "\n",
    "### Overview\n",
    "TODO: In this markdown cell, give an overview of the dataset you are using. Also mention the task you will be performing.\n",
    "\n",
    "\n",
    "TODO: Get data. In the cell below, write code to access the data you will be using in this project. Remember that the dataset needs to be external.\n",
    "\n",
    "https://www.kaggle.com/mathchi/diabetes-data-set"
   ]
  },
  {
   "cell_type": "code",
   "execution_count": 2,
   "metadata": {
    "collapsed": false,
    "gather": {
     "logged": 1598423890461
    },
    "jupyter": {
     "outputs_hidden": false,
     "source_hidden": false
    },
    "nteract": {
     "transient": {
      "deleting": false
     }
    }
   },
   "outputs": [],
   "source": [
    "ws = Workspace.from_config()\n",
    "\n",
    "# choose a name for experiment\n",
    "experiment_name = 'automl-exp'\n",
    "\n",
    "experiment=Experiment(ws, experiment_name)"
   ]
  },
  {
   "cell_type": "code",
   "execution_count": 3,
   "metadata": {},
   "outputs": [
    {
     "name": "stdout",
     "output_type": "stream",
     "text": [
      "<class 'pandas.core.frame.DataFrame'>\n",
      "RangeIndex: 768 entries, 0 to 767\n",
      "Data columns (total 9 columns):\n",
      "Pregnancies                 768 non-null int64\n",
      "Glucose                     768 non-null int64\n",
      "BloodPressure               768 non-null int64\n",
      "SkinThickness               768 non-null int64\n",
      "Insulin                     768 non-null int64\n",
      "BMI                         768 non-null float64\n",
      "DiabetesPedigreeFunction    768 non-null float64\n",
      "Age                         768 non-null int64\n",
      "Outcome                     768 non-null int64\n",
      "dtypes: float64(2), int64(7)\n",
      "memory usage: 54.1 KB\n"
     ]
    }
   ],
   "source": [
    "# Load the registered dataset from workspace\n",
    "dataset = Dataset.get_by_name(ws, name='diabetes_data_set')\n",
    "\n",
    "# Convert the dataset to dataframe\n",
    "df = dataset.to_pandas_dataframe()\n",
    "df.info()"
   ]
  },
  {
   "cell_type": "code",
   "execution_count": 4,
   "metadata": {},
   "outputs": [
    {
     "data": {
      "text/html": [
       "<div>\n",
       "<style scoped>\n",
       "    .dataframe tbody tr th:only-of-type {\n",
       "        vertical-align: middle;\n",
       "    }\n",
       "\n",
       "    .dataframe tbody tr th {\n",
       "        vertical-align: top;\n",
       "    }\n",
       "\n",
       "    .dataframe thead th {\n",
       "        text-align: right;\n",
       "    }\n",
       "</style>\n",
       "<table border=\"1\" class=\"dataframe\">\n",
       "  <thead>\n",
       "    <tr style=\"text-align: right;\">\n",
       "      <th></th>\n",
       "      <th>Pregnancies</th>\n",
       "      <th>Glucose</th>\n",
       "      <th>BloodPressure</th>\n",
       "      <th>SkinThickness</th>\n",
       "      <th>Insulin</th>\n",
       "      <th>BMI</th>\n",
       "      <th>DiabetesPedigreeFunction</th>\n",
       "      <th>Age</th>\n",
       "      <th>Outcome</th>\n",
       "    </tr>\n",
       "  </thead>\n",
       "  <tbody>\n",
       "    <tr>\n",
       "      <th>count</th>\n",
       "      <td>768.000000</td>\n",
       "      <td>768.000000</td>\n",
       "      <td>768.000000</td>\n",
       "      <td>768.000000</td>\n",
       "      <td>768.000000</td>\n",
       "      <td>768.000000</td>\n",
       "      <td>768.000000</td>\n",
       "      <td>768.000000</td>\n",
       "      <td>768.000000</td>\n",
       "    </tr>\n",
       "    <tr>\n",
       "      <th>mean</th>\n",
       "      <td>3.845052</td>\n",
       "      <td>120.894531</td>\n",
       "      <td>69.105469</td>\n",
       "      <td>20.536458</td>\n",
       "      <td>79.799479</td>\n",
       "      <td>31.992578</td>\n",
       "      <td>0.471876</td>\n",
       "      <td>33.240885</td>\n",
       "      <td>0.348958</td>\n",
       "    </tr>\n",
       "    <tr>\n",
       "      <th>std</th>\n",
       "      <td>3.369578</td>\n",
       "      <td>31.972618</td>\n",
       "      <td>19.355807</td>\n",
       "      <td>15.952218</td>\n",
       "      <td>115.244002</td>\n",
       "      <td>7.884160</td>\n",
       "      <td>0.331329</td>\n",
       "      <td>11.760232</td>\n",
       "      <td>0.476951</td>\n",
       "    </tr>\n",
       "    <tr>\n",
       "      <th>min</th>\n",
       "      <td>0.000000</td>\n",
       "      <td>0.000000</td>\n",
       "      <td>0.000000</td>\n",
       "      <td>0.000000</td>\n",
       "      <td>0.000000</td>\n",
       "      <td>0.000000</td>\n",
       "      <td>0.078000</td>\n",
       "      <td>21.000000</td>\n",
       "      <td>0.000000</td>\n",
       "    </tr>\n",
       "    <tr>\n",
       "      <th>25%</th>\n",
       "      <td>1.000000</td>\n",
       "      <td>99.000000</td>\n",
       "      <td>62.000000</td>\n",
       "      <td>0.000000</td>\n",
       "      <td>0.000000</td>\n",
       "      <td>27.300000</td>\n",
       "      <td>0.243750</td>\n",
       "      <td>24.000000</td>\n",
       "      <td>0.000000</td>\n",
       "    </tr>\n",
       "    <tr>\n",
       "      <th>50%</th>\n",
       "      <td>3.000000</td>\n",
       "      <td>117.000000</td>\n",
       "      <td>72.000000</td>\n",
       "      <td>23.000000</td>\n",
       "      <td>30.500000</td>\n",
       "      <td>32.000000</td>\n",
       "      <td>0.372500</td>\n",
       "      <td>29.000000</td>\n",
       "      <td>0.000000</td>\n",
       "    </tr>\n",
       "    <tr>\n",
       "      <th>75%</th>\n",
       "      <td>6.000000</td>\n",
       "      <td>140.250000</td>\n",
       "      <td>80.000000</td>\n",
       "      <td>32.000000</td>\n",
       "      <td>127.250000</td>\n",
       "      <td>36.600000</td>\n",
       "      <td>0.626250</td>\n",
       "      <td>41.000000</td>\n",
       "      <td>1.000000</td>\n",
       "    </tr>\n",
       "    <tr>\n",
       "      <th>max</th>\n",
       "      <td>17.000000</td>\n",
       "      <td>199.000000</td>\n",
       "      <td>122.000000</td>\n",
       "      <td>99.000000</td>\n",
       "      <td>846.000000</td>\n",
       "      <td>67.100000</td>\n",
       "      <td>2.420000</td>\n",
       "      <td>81.000000</td>\n",
       "      <td>1.000000</td>\n",
       "    </tr>\n",
       "  </tbody>\n",
       "</table>\n",
       "</div>"
      ],
      "text/plain": [
       "       Pregnancies     Glucose  BloodPressure  SkinThickness     Insulin  \\\n",
       "count   768.000000  768.000000     768.000000     768.000000  768.000000   \n",
       "mean      3.845052  120.894531      69.105469      20.536458   79.799479   \n",
       "std       3.369578   31.972618      19.355807      15.952218  115.244002   \n",
       "min       0.000000    0.000000       0.000000       0.000000    0.000000   \n",
       "25%       1.000000   99.000000      62.000000       0.000000    0.000000   \n",
       "50%       3.000000  117.000000      72.000000      23.000000   30.500000   \n",
       "75%       6.000000  140.250000      80.000000      32.000000  127.250000   \n",
       "max      17.000000  199.000000     122.000000      99.000000  846.000000   \n",
       "\n",
       "              BMI  DiabetesPedigreeFunction         Age     Outcome  \n",
       "count  768.000000                768.000000  768.000000  768.000000  \n",
       "mean    31.992578                  0.471876   33.240885    0.348958  \n",
       "std      7.884160                  0.331329   11.760232    0.476951  \n",
       "min      0.000000                  0.078000   21.000000    0.000000  \n",
       "25%     27.300000                  0.243750   24.000000    0.000000  \n",
       "50%     32.000000                  0.372500   29.000000    0.000000  \n",
       "75%     36.600000                  0.626250   41.000000    1.000000  \n",
       "max     67.100000                  2.420000   81.000000    1.000000  "
      ]
     },
     "execution_count": 4,
     "metadata": {},
     "output_type": "execute_result"
    }
   ],
   "source": [
    "df.describe()"
   ]
  },
  {
   "cell_type": "code",
   "execution_count": 5,
   "metadata": {},
   "outputs": [
    {
     "data": {
      "text/html": [
       "<div>\n",
       "<style scoped>\n",
       "    .dataframe tbody tr th:only-of-type {\n",
       "        vertical-align: middle;\n",
       "    }\n",
       "\n",
       "    .dataframe tbody tr th {\n",
       "        vertical-align: top;\n",
       "    }\n",
       "\n",
       "    .dataframe thead th {\n",
       "        text-align: right;\n",
       "    }\n",
       "</style>\n",
       "<table border=\"1\" class=\"dataframe\">\n",
       "  <thead>\n",
       "    <tr style=\"text-align: right;\">\n",
       "      <th></th>\n",
       "      <th>Pregnancies</th>\n",
       "      <th>Glucose</th>\n",
       "      <th>BloodPressure</th>\n",
       "      <th>SkinThickness</th>\n",
       "      <th>Insulin</th>\n",
       "      <th>BMI</th>\n",
       "      <th>DiabetesPedigreeFunction</th>\n",
       "      <th>Age</th>\n",
       "      <th>Outcome</th>\n",
       "    </tr>\n",
       "  </thead>\n",
       "  <tbody>\n",
       "    <tr>\n",
       "      <th>0</th>\n",
       "      <td>6</td>\n",
       "      <td>148</td>\n",
       "      <td>72</td>\n",
       "      <td>35</td>\n",
       "      <td>0</td>\n",
       "      <td>33.6</td>\n",
       "      <td>0.627</td>\n",
       "      <td>50</td>\n",
       "      <td>1</td>\n",
       "    </tr>\n",
       "    <tr>\n",
       "      <th>1</th>\n",
       "      <td>1</td>\n",
       "      <td>85</td>\n",
       "      <td>66</td>\n",
       "      <td>29</td>\n",
       "      <td>0</td>\n",
       "      <td>26.6</td>\n",
       "      <td>0.351</td>\n",
       "      <td>31</td>\n",
       "      <td>0</td>\n",
       "    </tr>\n",
       "    <tr>\n",
       "      <th>2</th>\n",
       "      <td>8</td>\n",
       "      <td>183</td>\n",
       "      <td>64</td>\n",
       "      <td>0</td>\n",
       "      <td>0</td>\n",
       "      <td>23.3</td>\n",
       "      <td>0.672</td>\n",
       "      <td>32</td>\n",
       "      <td>1</td>\n",
       "    </tr>\n",
       "    <tr>\n",
       "      <th>3</th>\n",
       "      <td>1</td>\n",
       "      <td>89</td>\n",
       "      <td>66</td>\n",
       "      <td>23</td>\n",
       "      <td>94</td>\n",
       "      <td>28.1</td>\n",
       "      <td>0.167</td>\n",
       "      <td>21</td>\n",
       "      <td>0</td>\n",
       "    </tr>\n",
       "    <tr>\n",
       "      <th>4</th>\n",
       "      <td>0</td>\n",
       "      <td>137</td>\n",
       "      <td>40</td>\n",
       "      <td>35</td>\n",
       "      <td>168</td>\n",
       "      <td>43.1</td>\n",
       "      <td>2.288</td>\n",
       "      <td>33</td>\n",
       "      <td>1</td>\n",
       "    </tr>\n",
       "  </tbody>\n",
       "</table>\n",
       "</div>"
      ],
      "text/plain": [
       "   Pregnancies  Glucose  BloodPressure  SkinThickness  Insulin   BMI  \\\n",
       "0            6      148             72             35        0  33.6   \n",
       "1            1       85             66             29        0  26.6   \n",
       "2            8      183             64              0        0  23.3   \n",
       "3            1       89             66             23       94  28.1   \n",
       "4            0      137             40             35      168  43.1   \n",
       "\n",
       "   DiabetesPedigreeFunction  Age  Outcome  \n",
       "0                     0.627   50        1  \n",
       "1                     0.351   31        0  \n",
       "2                     0.672   32        1  \n",
       "3                     0.167   21        0  \n",
       "4                     2.288   33        1  "
      ]
     },
     "execution_count": 5,
     "metadata": {},
     "output_type": "execute_result"
    }
   ],
   "source": [
    "#Display the first five records of the dataset\n",
    "df.head()"
   ]
  },
  {
   "cell_type": "code",
   "execution_count": 6,
   "metadata": {},
   "outputs": [
    {
     "name": "stdout",
     "output_type": "stream",
     "text": [
      "Found existing cluster, use it.\n",
      "Succeeded....................................................................................................................\n",
      "AmlCompute wait for completion finished\n",
      "\n",
      "Wait timeout has been reached\n",
      "Current provisioning state of AmlCompute is \"Succeeded\" and current node count is \"0\"\n"
     ]
    }
   ],
   "source": [
    "# Create CPU cluster\n",
    "amlcompute_cluster_name = \"project-cluster\"\n",
    "\n",
    "# Verify if cluster does not exist otherwise use the existing one\n",
    "try:\n",
    "    compute_target = ComputeTarget(workspace=ws, name=amlcompute_cluster_name)\n",
    "    print('Found existing cluster, use it.')\n",
    "except ComputeTargetException:\n",
    "    compute_config = AmlCompute.provisioning_configuration(vm_size='Standard_DS12_V2',\n",
    "                                                           vm_priority = 'lowpriority', \n",
    "                                                           max_nodes=4)\n",
    "    compute_target = ComputeTarget.create(ws, amlcompute_cluster_name, compute_config)\n",
    "\n",
    "compute_target.wait_for_completion(show_output=True, min_node_count = 1, timeout_in_minutes = 10)\n"
   ]
  },
  {
   "cell_type": "markdown",
   "metadata": {},
   "source": [
    "## AutoML Configuration\n",
    "\n",
    "TODO: Explain why you chose the automl settings and cofiguration you used below."
   ]
  },
  {
   "cell_type": "code",
   "execution_count": 7,
   "metadata": {
    "collapsed": false,
    "gather": {
     "logged": 1598429217746
    },
    "jupyter": {
     "outputs_hidden": false,
     "source_hidden": false
    },
    "nteract": {
     "transient": {
      "deleting": false
     }
    }
   },
   "outputs": [
    {
     "name": "stderr",
     "output_type": "stream",
     "text": [
      "WARNING:root:Parameter `preprocess` will be deprecated. Use `featurization`\n",
      "WARNING:root:Detected both `preprocess` and `featurization`. `preprocess` is being deprecated and will be overridden by `featurization` setting.\n"
     ]
    }
   ],
   "source": [
    "# Automl settings \n",
    "automl_settings = {\n",
    "    \"experiment_timeout_minutes\": 40,\n",
    "    \"max_concurrent_iterations\": 4,\n",
    "    \"primary_metric\" : 'accuracy',\n",
    "    \"n_cross_validations\": 5,\n",
    "    \"iterations\": 35\n",
    "    \n",
    "}\n",
    "\n",
    "# Automl config \n",
    "automl_config = AutoMLConfig(compute_target=compute_target,\n",
    "                             task = \"classification\",\n",
    "                             training_data=dataset,\n",
    "                             label_column_name=\"Outcome\",\n",
    "                             enable_early_stopping= True,\n",
    "                             featurization = 'auto',\n",
    "                             debug_log = \"automl_errors.log\",\n",
    "                             preprocess = True,\n",
    "                             **automl_settings\n",
    "                            )\n",
    "\n"
   ]
  },
  {
   "cell_type": "code",
   "execution_count": 8,
   "metadata": {
    "collapsed": false,
    "gather": {
     "logged": 1598431107951
    },
    "jupyter": {
     "outputs_hidden": false,
     "source_hidden": false
    },
    "nteract": {
     "transient": {
      "deleting": false
     }
    }
   },
   "outputs": [
    {
     "name": "stdout",
     "output_type": "stream",
     "text": [
      "Running on remote.\n",
      "No run_configuration provided, running on project-cluster with default configuration\n",
      "Running on remote compute: project-cluster\n",
      "Parent Run ID: AutoML_0eccbbce-21de-4ace-9209-a32fc27aa840\n",
      "\n",
      "Current status: FeaturesGeneration. Generating features for the dataset.\n",
      "Current status: ModelSelection. Beginning model selection.\n",
      "\n",
      "****************************************************************************************************\n",
      "DATA GUARDRAILS: \n",
      "\n",
      "TYPE:         Class balancing detection\n",
      "STATUS:       PASSED\n",
      "DESCRIPTION:  Your inputs were analyzed, and all classes are balanced in your training data.\n",
      "              Learn more about imbalanced data: https://aka.ms/AutomatedMLImbalancedData\n",
      "\n",
      "****************************************************************************************************\n",
      "\n",
      "TYPE:         Missing feature values imputation\n",
      "STATUS:       PASSED\n",
      "DESCRIPTION:  No feature missing values were detected in the training data.\n",
      "              Learn more about missing value imputation: https://aka.ms/AutomatedMLFeaturization\n",
      "\n",
      "****************************************************************************************************\n",
      "\n",
      "TYPE:         High cardinality feature detection\n",
      "STATUS:       PASSED\n",
      "DESCRIPTION:  Your inputs were analyzed, and no high cardinality features were detected.\n",
      "              Learn more about high cardinality feature handling: https://aka.ms/AutomatedMLFeaturization\n",
      "\n",
      "****************************************************************************************************\n",
      "\n",
      "****************************************************************************************************\n",
      "ITERATION: The iteration being evaluated.\n",
      "PIPELINE: A summary description of the pipeline being evaluated.\n",
      "DURATION: Time taken for the current iteration.\n",
      "METRIC: The result of computing score on the fitted pipeline.\n",
      "BEST: The best observed score thus far.\n",
      "****************************************************************************************************\n",
      "\n",
      " ITERATION   PIPELINE                                       DURATION      METRIC      BEST\n",
      "         2   MaxAbsScaler RandomForest                      0:00:53       0.7631    0.7631\n",
      "         0   MaxAbsScaler LightGBM                          0:00:51       0.7435    0.7631\n",
      "         3   MaxAbsScaler RandomForest                      0:01:00       0.7384    0.7631\n",
      "         1   MaxAbsScaler XGBoostClassifier                 0:00:53       0.7656    0.7656\n",
      "         7   SparseNormalizer XGBoostClassifier             0:00:55       0.7110    0.7656\n",
      "         4   MaxAbsScaler RandomForest                      0:02:07       0.7656    0.7656\n",
      "         5   MaxAbsScaler RandomForest                      0:01:58       0.7018    0.7656\n",
      "         6   SparseNormalizer XGBoostClassifier             0:01:52       0.7189    0.7656\n",
      "         8   SparseNormalizer XGBoostClassifier             0:00:48       0.6485    0.7656\n",
      "         9   MaxAbsScaler RandomForest                      0:00:45       0.7618    0.7656\n",
      "        10   MaxAbsScaler ExtremeRandomTrees                0:00:49       0.7605    0.7656\n",
      "        11   StandardScalerWrapper RandomForest             0:00:47       0.7514    0.7656\n",
      "        13   MaxAbsScaler LogisticRegression                0:00:47       0.7683    0.7683\n",
      "        12   MaxAbsScaler ExtremeRandomTrees                0:00:56       0.7449    0.7683\n",
      "        14   MaxAbsScaler LightGBM                          0:00:47       0.7474    0.7683\n",
      "        15   MaxAbsScaler LogisticRegression                0:00:53       0.7696    0.7696\n",
      "        16   SparseNormalizer XGBoostClassifier             0:00:45       0.6915    0.7696\n",
      "        17   MaxAbsScaler LightGBM                          0:00:52       0.7657    0.7696\n",
      "        18   StandardScalerWrapper LightGBM                 0:00:52       0.7344    0.7696\n",
      "        19   SparseNormalizer XGBoostClassifier             0:00:49       0.7032    0.7696\n",
      "        20   StandardScalerWrapper LightGBM                 0:00:59       0.6916    0.7696\n",
      "        21   MaxAbsScaler LightGBM                          0:00:49       0.7592    0.7696\n",
      "        22   MaxAbsScaler ExtremeRandomTrees                0:01:10       0.7566    0.7696\n",
      "        23   MaxAbsScaler GradientBoosting                  0:00:55       0.7709    0.7709\n",
      "        25   TruncatedSVDWrapper LogisticRegression         0:00:49       0.6667    0.7709\n",
      "        24   SparseNormalizer XGBoostClassifier             0:00:58       0.6602    0.7709\n",
      "        26   StandardScalerWrapper LightGBM                 0:00:48       0.7631    0.7709\n",
      "        27   StandardScalerWrapper XGBoostClassifier        0:00:42       0.7643    0.7709\n",
      "        28   MaxAbsScaler LightGBM                          0:00:42       0.7565    0.7709\n",
      "        29   MaxAbsScaler LightGBM                          0:00:45       0.7527    0.7709\n",
      "        30   MaxAbsScaler GradientBoosting                  0:00:55       0.6511    0.7709\n",
      "        31   StandardScalerWrapper XGBoostClassifier        0:00:45       0.7396    0.7709\n",
      "        32   MaxAbsScaler LightGBM                          0:00:52       0.7656    0.7709\n",
      "        33    VotingEnsemble                                0:01:29       0.7852    0.7852\n",
      "        34    StackEnsemble                                 0:01:37       0.7734    0.7852\n"
     ]
    }
   ],
   "source": [
    "# Submit experiment\n",
    "remote_run = experiment.submit(automl_config, show_output=True)"
   ]
  },
  {
   "cell_type": "markdown",
   "metadata": {},
   "source": [
    "## Run Details\n",
    "\n",
    "OPTIONAL: Write about the different models trained and their performance. Why do you think some models did better than others?\n",
    "\n",
    "TODO: In the cell below, use the `RunDetails` widget to show the different experiments."
   ]
  },
  {
   "cell_type": "code",
   "execution_count": 9,
   "metadata": {
    "collapsed": false,
    "gather": {
     "logged": 1598431121770
    },
    "jupyter": {
     "outputs_hidden": false,
     "source_hidden": false
    },
    "nteract": {
     "transient": {
      "deleting": false
     }
    }
   },
   "outputs": [
    {
     "data": {
      "application/vnd.jupyter.widget-view+json": {
       "model_id": "59ec132531014af39376967d3897a71c",
       "version_major": 2,
       "version_minor": 0
      },
      "text/plain": [
       "_AutoMLWidget(widget_settings={'childWidgetDisplay': 'popup', 'send_telemetry': False, 'log_level': 'INFO', 's…"
      ]
     },
     "metadata": {},
     "output_type": "display_data"
    },
    {
     "data": {
      "application/aml.mini.widget.v1": "{\"status\": \"Completed\", \"workbench_run_details_uri\": \"https://ml.azure.com/experiments/automl-exp/runs/AutoML_0eccbbce-21de-4ace-9209-a32fc27aa840?wsid=/subscriptions/b968fb36-f06a-4c76-a15f-afab68ae7667/resourcegroups/aml-quickstarts-136609/workspaces/quick-starts-ws-136609\", \"run_id\": \"AutoML_0eccbbce-21de-4ace-9209-a32fc27aa840\", \"run_properties\": {\"run_id\": \"AutoML_0eccbbce-21de-4ace-9209-a32fc27aa840\", \"created_utc\": \"2021-01-30T15:14:32.104117Z\", \"properties\": {\"num_iterations\": \"35\", \"training_type\": \"TrainFull\", \"acquisition_function\": \"EI\", \"primary_metric\": \"accuracy\", \"train_split\": \"0\", \"acquisition_parameter\": \"0\", \"num_cross_validation\": \"5\", \"target\": \"project-cluster\", \"AMLSettingsJsonString\": \"{\\\"path\\\":null,\\\"name\\\":\\\"automl-exp\\\",\\\"subscription_id\\\":\\\"b968fb36-f06a-4c76-a15f-afab68ae7667\\\",\\\"resource_group\\\":\\\"aml-quickstarts-136609\\\",\\\"workspace_name\\\":\\\"quick-starts-ws-136609\\\",\\\"region\\\":\\\"southcentralus\\\",\\\"compute_target\\\":\\\"project-cluster\\\",\\\"spark_service\\\":null,\\\"azure_service\\\":\\\"remote\\\",\\\"many_models\\\":false,\\\"pipeline_fetch_max_batch_size\\\":1,\\\"iterations\\\":35,\\\"primary_metric\\\":\\\"accuracy\\\",\\\"task_type\\\":\\\"classification\\\",\\\"data_script\\\":null,\\\"validation_size\\\":0.0,\\\"n_cross_validations\\\":5,\\\"y_min\\\":null,\\\"y_max\\\":null,\\\"num_classes\\\":null,\\\"featurization\\\":\\\"auto\\\",\\\"_ignore_package_version_incompatibilities\\\":false,\\\"is_timeseries\\\":false,\\\"max_cores_per_iteration\\\":1,\\\"max_concurrent_iterations\\\":4,\\\"iteration_timeout_minutes\\\":null,\\\"mem_in_mb\\\":null,\\\"enforce_time_on_windows\\\":false,\\\"experiment_timeout_minutes\\\":40,\\\"experiment_exit_score\\\":null,\\\"whitelist_models\\\":null,\\\"blacklist_algos\\\":[\\\"TensorFlowLinearClassifier\\\",\\\"TensorFlowDNN\\\"],\\\"supported_models\\\":[\\\"LogisticRegression\\\",\\\"KNN\\\",\\\"LightGBM\\\",\\\"TensorFlowLinearClassifier\\\",\\\"ExtremeRandomTrees\\\",\\\"SVM\\\",\\\"AveragedPerceptronClassifier\\\",\\\"MultinomialNaiveBayes\\\",\\\"DecisionTree\\\",\\\"RandomForest\\\",\\\"TensorFlowDNN\\\",\\\"GradientBoosting\\\",\\\"BernoulliNaiveBayes\\\",\\\"LinearSVM\\\",\\\"SGD\\\",\\\"XGBoostClassifier\\\"],\\\"auto_blacklist\\\":true,\\\"blacklist_samples_reached\\\":false,\\\"exclude_nan_labels\\\":true,\\\"verbosity\\\":20,\\\"_debug_log\\\":\\\"azureml_automl.log\\\",\\\"show_warnings\\\":false,\\\"model_explainability\\\":true,\\\"service_url\\\":null,\\\"sdk_url\\\":null,\\\"sdk_packages\\\":null,\\\"enable_onnx_compatible_models\\\":false,\\\"enable_split_onnx_featurizer_estimator_models\\\":false,\\\"vm_type\\\":\\\"STANDARD_DS12_V2\\\",\\\"telemetry_verbosity\\\":20,\\\"send_telemetry\\\":true,\\\"enable_dnn\\\":false,\\\"scenario\\\":\\\"SDK-1.13.0\\\",\\\"environment_label\\\":null,\\\"force_text_dnn\\\":false,\\\"enable_feature_sweeping\\\":true,\\\"enable_early_stopping\\\":true,\\\"early_stopping_n_iters\\\":10,\\\"metrics\\\":null,\\\"enable_ensembling\\\":true,\\\"enable_stack_ensembling\\\":true,\\\"ensemble_iterations\\\":15,\\\"enable_tf\\\":false,\\\"enable_subsampling\\\":false,\\\"subsample_seed\\\":null,\\\"enable_nimbusml\\\":false,\\\"enable_streaming\\\":false,\\\"force_streaming\\\":false,\\\"track_child_runs\\\":true,\\\"allowed_private_models\\\":[],\\\"label_column_name\\\":\\\"Outcome\\\",\\\"weight_column_name\\\":null,\\\"cv_split_column_names\\\":null,\\\"enable_local_managed\\\":false,\\\"_local_managed_run_id\\\":null,\\\"cost_mode\\\":1,\\\"lag_length\\\":0,\\\"metric_operation\\\":\\\"maximize\\\",\\\"preprocess\\\":true}\", \"DataPrepJsonString\": \"{\\\\\\\"training_data\\\\\\\": \\\\\\\"{\\\\\\\\\\\\\\\"blocks\\\\\\\\\\\\\\\": [{\\\\\\\\\\\\\\\"id\\\\\\\\\\\\\\\": \\\\\\\\\\\\\\\"46c9e481-a231-473e-9588-0a1202f50e3d\\\\\\\\\\\\\\\", \\\\\\\\\\\\\\\"type\\\\\\\\\\\\\\\": \\\\\\\\\\\\\\\"Microsoft.DPrep.GetDatastoreFilesBlock\\\\\\\\\\\\\\\", \\\\\\\\\\\\\\\"arguments\\\\\\\\\\\\\\\": {\\\\\\\\\\\\\\\"datastores\\\\\\\\\\\\\\\": [{\\\\\\\\\\\\\\\"datastoreName\\\\\\\\\\\\\\\": \\\\\\\\\\\\\\\"workspaceblobstore\\\\\\\\\\\\\\\", \\\\\\\\\\\\\\\"path\\\\\\\\\\\\\\\": \\\\\\\\\\\\\\\"UI/01-30-2021_024627_UTC/diabetes.csv\\\\\\\\\\\\\\\", \\\\\\\\\\\\\\\"resourceGroup\\\\\\\\\\\\\\\": \\\\\\\\\\\\\\\"aml-quickstarts-136609\\\\\\\\\\\\\\\", \\\\\\\\\\\\\\\"subscription\\\\\\\\\\\\\\\": \\\\\\\\\\\\\\\"b968fb36-f06a-4c76-a15f-afab68ae7667\\\\\\\\\\\\\\\", \\\\\\\\\\\\\\\"workspaceName\\\\\\\\\\\\\\\": \\\\\\\\\\\\\\\"quick-starts-ws-136609\\\\\\\\\\\\\\\"}]}, \\\\\\\\\\\\\\\"localData\\\\\\\\\\\\\\\": {}, \\\\\\\\\\\\\\\"isEnabled\\\\\\\\\\\\\\\": true, \\\\\\\\\\\\\\\"name\\\\\\\\\\\\\\\": null, \\\\\\\\\\\\\\\"annotation\\\\\\\\\\\\\\\": null}, {\\\\\\\\\\\\\\\"id\\\\\\\\\\\\\\\": \\\\\\\\\\\\\\\"5d17d698-3d1a-4ad4-a0a5-672f88718ddc\\\\\\\\\\\\\\\", \\\\\\\\\\\\\\\"type\\\\\\\\\\\\\\\": \\\\\\\\\\\\\\\"Microsoft.DPrep.ParseDelimitedBlock\\\\\\\\\\\\\\\", \\\\\\\\\\\\\\\"arguments\\\\\\\\\\\\\\\": {\\\\\\\\\\\\\\\"columnHeadersMode\\\\\\\\\\\\\\\": 3, \\\\\\\\\\\\\\\"fileEncoding\\\\\\\\\\\\\\\": 0, \\\\\\\\\\\\\\\"handleQuotedLineBreaks\\\\\\\\\\\\\\\": false, \\\\\\\\\\\\\\\"preview\\\\\\\\\\\\\\\": false, \\\\\\\\\\\\\\\"separator\\\\\\\\\\\\\\\": \\\\\\\\\\\\\\\",\\\\\\\\\\\\\\\", \\\\\\\\\\\\\\\"skipRows\\\\\\\\\\\\\\\": 0, \\\\\\\\\\\\\\\"skipRowsMode\\\\\\\\\\\\\\\": 0}, \\\\\\\\\\\\\\\"localData\\\\\\\\\\\\\\\": {}, \\\\\\\\\\\\\\\"isEnabled\\\\\\\\\\\\\\\": true, \\\\\\\\\\\\\\\"name\\\\\\\\\\\\\\\": null, \\\\\\\\\\\\\\\"annotation\\\\\\\\\\\\\\\": null}, {\\\\\\\\\\\\\\\"id\\\\\\\\\\\\\\\": \\\\\\\\\\\\\\\"62f2b54a-e853-4ba3-8a73-4336b25973cc\\\\\\\\\\\\\\\", \\\\\\\\\\\\\\\"type\\\\\\\\\\\\\\\": \\\\\\\\\\\\\\\"Microsoft.DPrep.DropColumnsBlock\\\\\\\\\\\\\\\", \\\\\\\\\\\\\\\"arguments\\\\\\\\\\\\\\\": {\\\\\\\\\\\\\\\"columns\\\\\\\\\\\\\\\": {\\\\\\\\\\\\\\\"type\\\\\\\\\\\\\\\": 0, \\\\\\\\\\\\\\\"details\\\\\\\\\\\\\\\": {\\\\\\\\\\\\\\\"selectedColumns\\\\\\\\\\\\\\\": [\\\\\\\\\\\\\\\"Path\\\\\\\\\\\\\\\"]}}}, \\\\\\\\\\\\\\\"localData\\\\\\\\\\\\\\\": {}, \\\\\\\\\\\\\\\"isEnabled\\\\\\\\\\\\\\\": true, \\\\\\\\\\\\\\\"name\\\\\\\\\\\\\\\": null, \\\\\\\\\\\\\\\"annotation\\\\\\\\\\\\\\\": null}, {\\\\\\\\\\\\\\\"id\\\\\\\\\\\\\\\": \\\\\\\\\\\\\\\"fd52c575-ed38-4bd2-9214-11f65a305a9a\\\\\\\\\\\\\\\", \\\\\\\\\\\\\\\"type\\\\\\\\\\\\\\\": \\\\\\\\\\\\\\\"Microsoft.DPrep.SetColumnTypesBlock\\\\\\\\\\\\\\\", \\\\\\\\\\\\\\\"arguments\\\\\\\\\\\\\\\": {\\\\\\\\\\\\\\\"columnConversion\\\\\\\\\\\\\\\": [{\\\\\\\\\\\\\\\"column\\\\\\\\\\\\\\\": {\\\\\\\\\\\\\\\"type\\\\\\\\\\\\\\\": 2, \\\\\\\\\\\\\\\"details\\\\\\\\\\\\\\\": {\\\\\\\\\\\\\\\"selectedColumn\\\\\\\\\\\\\\\": \\\\\\\\\\\\\\\"Path\\\\\\\\\\\\\\\"}}, \\\\\\\\\\\\\\\"typeProperty\\\\\\\\\\\\\\\": 0}, {\\\\\\\\\\\\\\\"column\\\\\\\\\\\\\\\": {\\\\\\\\\\\\\\\"type\\\\\\\\\\\\\\\": 2, \\\\\\\\\\\\\\\"details\\\\\\\\\\\\\\\": {\\\\\\\\\\\\\\\"selectedColumn\\\\\\\\\\\\\\\": \\\\\\\\\\\\\\\"Pregnancies\\\\\\\\\\\\\\\"}}, \\\\\\\\\\\\\\\"typeProperty\\\\\\\\\\\\\\\": 2}, {\\\\\\\\\\\\\\\"column\\\\\\\\\\\\\\\": {\\\\\\\\\\\\\\\"type\\\\\\\\\\\\\\\": 2, \\\\\\\\\\\\\\\"details\\\\\\\\\\\\\\\": {\\\\\\\\\\\\\\\"selectedColumn\\\\\\\\\\\\\\\": \\\\\\\\\\\\\\\"Glucose\\\\\\\\\\\\\\\"}}, \\\\\\\\\\\\\\\"typeProperty\\\\\\\\\\\\\\\": 2}, {\\\\\\\\\\\\\\\"column\\\\\\\\\\\\\\\": {\\\\\\\\\\\\\\\"type\\\\\\\\\\\\\\\": 2, \\\\\\\\\\\\\\\"details\\\\\\\\\\\\\\\": {\\\\\\\\\\\\\\\"selectedColumn\\\\\\\\\\\\\\\": \\\\\\\\\\\\\\\"BloodPressure\\\\\\\\\\\\\\\"}}, \\\\\\\\\\\\\\\"typeProperty\\\\\\\\\\\\\\\": 2}, {\\\\\\\\\\\\\\\"column\\\\\\\\\\\\\\\": {\\\\\\\\\\\\\\\"type\\\\\\\\\\\\\\\": 2, \\\\\\\\\\\\\\\"details\\\\\\\\\\\\\\\": {\\\\\\\\\\\\\\\"selectedColumn\\\\\\\\\\\\\\\": \\\\\\\\\\\\\\\"SkinThickness\\\\\\\\\\\\\\\"}}, \\\\\\\\\\\\\\\"typeProperty\\\\\\\\\\\\\\\": 2}, {\\\\\\\\\\\\\\\"column\\\\\\\\\\\\\\\": {\\\\\\\\\\\\\\\"type\\\\\\\\\\\\\\\": 2, \\\\\\\\\\\\\\\"details\\\\\\\\\\\\\\\": {\\\\\\\\\\\\\\\"selectedColumn\\\\\\\\\\\\\\\": \\\\\\\\\\\\\\\"Insulin\\\\\\\\\\\\\\\"}}, \\\\\\\\\\\\\\\"typeProperty\\\\\\\\\\\\\\\": 2}, {\\\\\\\\\\\\\\\"column\\\\\\\\\\\\\\\": {\\\\\\\\\\\\\\\"type\\\\\\\\\\\\\\\": 2, \\\\\\\\\\\\\\\"details\\\\\\\\\\\\\\\": {\\\\\\\\\\\\\\\"selectedColumn\\\\\\\\\\\\\\\": \\\\\\\\\\\\\\\"BMI\\\\\\\\\\\\\\\"}}, \\\\\\\\\\\\\\\"typeProperty\\\\\\\\\\\\\\\": 3}, {\\\\\\\\\\\\\\\"column\\\\\\\\\\\\\\\": {\\\\\\\\\\\\\\\"type\\\\\\\\\\\\\\\": 2, \\\\\\\\\\\\\\\"details\\\\\\\\\\\\\\\": {\\\\\\\\\\\\\\\"selectedColumn\\\\\\\\\\\\\\\": \\\\\\\\\\\\\\\"DiabetesPedigreeFunction\\\\\\\\\\\\\\\"}}, \\\\\\\\\\\\\\\"typeProperty\\\\\\\\\\\\\\\": 3}, {\\\\\\\\\\\\\\\"column\\\\\\\\\\\\\\\": {\\\\\\\\\\\\\\\"type\\\\\\\\\\\\\\\": 2, \\\\\\\\\\\\\\\"details\\\\\\\\\\\\\\\": {\\\\\\\\\\\\\\\"selectedColumn\\\\\\\\\\\\\\\": \\\\\\\\\\\\\\\"Age\\\\\\\\\\\\\\\"}}, \\\\\\\\\\\\\\\"typeProperty\\\\\\\\\\\\\\\": 2}, {\\\\\\\\\\\\\\\"column\\\\\\\\\\\\\\\": {\\\\\\\\\\\\\\\"type\\\\\\\\\\\\\\\": 2, \\\\\\\\\\\\\\\"details\\\\\\\\\\\\\\\": {\\\\\\\\\\\\\\\"selectedColumn\\\\\\\\\\\\\\\": \\\\\\\\\\\\\\\"Outcome\\\\\\\\\\\\\\\"}}, \\\\\\\\\\\\\\\"typeProperty\\\\\\\\\\\\\\\": 2}]}, \\\\\\\\\\\\\\\"localData\\\\\\\\\\\\\\\": {}, \\\\\\\\\\\\\\\"isEnabled\\\\\\\\\\\\\\\": true, \\\\\\\\\\\\\\\"name\\\\\\\\\\\\\\\": null, \\\\\\\\\\\\\\\"annotation\\\\\\\\\\\\\\\": null}], \\\\\\\\\\\\\\\"inspectors\\\\\\\\\\\\\\\": [], \\\\\\\\\\\\\\\"meta\\\\\\\\\\\\\\\": {\\\\\\\\\\\\\\\"savedDatasetId\\\\\\\\\\\\\\\": \\\\\\\\\\\\\\\"df13e08a-7454-4857-a46c-7385bdc20d88\\\\\\\\\\\\\\\", \\\\\\\\\\\\\\\"datasetType\\\\\\\\\\\\\\\": \\\\\\\\\\\\\\\"tabular\\\\\\\\\\\\\\\", \\\\\\\\\\\\\\\"subscriptionId\\\\\\\\\\\\\\\": \\\\\\\\\\\\\\\"b968fb36-f06a-4c76-a15f-afab68ae7667\\\\\\\\\\\\\\\", \\\\\\\\\\\\\\\"workspaceId\\\\\\\\\\\\\\\": \\\\\\\\\\\\\\\"d80cb306-36af-477f-b62a-8117ab8215f1\\\\\\\\\\\\\\\", \\\\\\\\\\\\\\\"workspaceLocation\\\\\\\\\\\\\\\": \\\\\\\\\\\\\\\"southcentralus\\\\\\\\\\\\\\\"}}\\\\\\\", \\\\\\\"activities\\\\\\\": 0}\", \"EnableSubsampling\": \"False\", \"runTemplate\": \"AutoML\", \"azureml.runsource\": \"automl\", \"display_task_type\": \"classification\", \"dependencies_versions\": \"{\\\"azureml-widgets\\\": \\\"1.20.0\\\", \\\"azureml-train\\\": \\\"1.20.0\\\", \\\"azureml-train-restclients-hyperdrive\\\": \\\"1.20.0\\\", \\\"azureml-train-core\\\": \\\"1.20.0\\\", \\\"azureml-train-automl\\\": \\\"1.20.0\\\", \\\"azureml-train-automl-runtime\\\": \\\"1.20.0\\\", \\\"azureml-train-automl-client\\\": \\\"1.20.0\\\", \\\"azureml-tensorboard\\\": \\\"1.20.0\\\", \\\"azureml-telemetry\\\": \\\"1.20.0\\\", \\\"azureml-sdk\\\": \\\"1.20.0\\\", \\\"azureml-samples\\\": \\\"0+unknown\\\", \\\"azureml-pipeline\\\": \\\"1.20.0\\\", \\\"azureml-pipeline-steps\\\": \\\"1.20.0\\\", \\\"azureml-pipeline-core\\\": \\\"1.20.0\\\", \\\"azureml-opendatasets\\\": \\\"1.20.0\\\", \\\"azureml-model-management-sdk\\\": \\\"1.0.1b6.post1\\\", \\\"azureml-mlflow\\\": \\\"1.20.0.post1\\\", \\\"azureml-interpret\\\": \\\"1.20.0\\\", \\\"azureml-explain-model\\\": \\\"1.20.0\\\", \\\"azureml-defaults\\\": \\\"1.20.0\\\", \\\"azureml-dataset-runtime\\\": \\\"1.20.0\\\", \\\"azureml-dataprep\\\": \\\"2.7.3\\\", \\\"azureml-dataprep-rslex\\\": \\\"1.5.0\\\", \\\"azureml-dataprep-native\\\": \\\"27.0.0\\\", \\\"azureml-datadrift\\\": \\\"1.20.0\\\", \\\"azureml-core\\\": \\\"1.20.0\\\", \\\"azureml-contrib-services\\\": \\\"1.20.0\\\", \\\"azureml-contrib-server\\\": \\\"1.20.0\\\", \\\"azureml-contrib-reinforcementlearning\\\": \\\"1.20.0\\\", \\\"azureml-contrib-pipeline-steps\\\": \\\"1.20.0\\\", \\\"azureml-contrib-notebook\\\": \\\"1.20.0\\\", \\\"azureml-contrib-interpret\\\": \\\"1.20.0\\\", \\\"azureml-contrib-gbdt\\\": \\\"1.20.0\\\", \\\"azureml-contrib-fairness\\\": \\\"1.20.0\\\", \\\"azureml-contrib-dataset\\\": \\\"1.20.0\\\", \\\"azureml-cli-common\\\": \\\"1.20.0\\\", \\\"azureml-automl-runtime\\\": \\\"1.20.0\\\", \\\"azureml-automl-core\\\": \\\"1.20.0\\\", \\\"azureml-accel-models\\\": \\\"1.20.0\\\"}\", \"_aml_system_scenario_identification\": \"Remote.Parent\", \"ClientType\": \"SDK\", \"environment_cpu_name\": \"AzureML-AutoML\", \"environment_cpu_label\": \"prod\", \"environment_gpu_name\": \"AzureML-AutoML-GPU\", \"environment_gpu_label\": \"prod\", \"root_attribution\": \"automl\", \"attribution\": \"AutoML\", \"Orchestrator\": \"AutoML\", \"CancelUri\": \"https://southcentralus.experiments.azureml.net/jasmine/v1.0/subscriptions/b968fb36-f06a-4c76-a15f-afab68ae7667/resourceGroups/aml-quickstarts-136609/providers/Microsoft.MachineLearningServices/workspaces/quick-starts-ws-136609/experimentids/34e5db24-6038-4b0a-8346-948e6e6b2030/cancel/AutoML_0eccbbce-21de-4ace-9209-a32fc27aa840\", \"ClientSdkVersion\": \"1.20.0.post1\", \"snapshotId\": \"00000000-0000-0000-0000-000000000000\", \"SetupRunId\": \"AutoML_0eccbbce-21de-4ace-9209-a32fc27aa840_setup\", \"SetupRunContainerId\": \"dcid.AutoML_0eccbbce-21de-4ace-9209-a32fc27aa840_setup\", \"FeaturizationRunJsonPath\": \"featurizer_container.json\", \"FeaturizationRunId\": \"AutoML_0eccbbce-21de-4ace-9209-a32fc27aa840_featurize\", \"ProblemInfoJsonString\": \"{\\\"dataset_num_categorical\\\": 0, \\\"is_sparse\\\": true, \\\"subsampling\\\": false, \\\"dataset_classes\\\": 2, \\\"dataset_features\\\": 24, \\\"dataset_samples\\\": 768, \\\"single_frequency_class_detected\\\": false}\", \"ModelExplainRunId\": \"AutoML_0eccbbce-21de-4ace-9209-a32fc27aa840_ModelExplain\"}, \"tags\": {\"model_explain_run\": \"best_run\", \"_aml_system_azureml.automlComponent\": \"AutoML\", \"pipeline_id\": \"\", \"score\": \"\", \"predicted_cost\": \"\", \"fit_time\": \"\", \"training_percent\": \"\", \"iteration\": \"\", \"run_preprocessor\": \"\", \"run_algorithm\": \"\", \"dynamic_whitelisting_iterations\": \"<25>;<30>;\", \"automl_best_child_run_id\": \"AutoML_0eccbbce-21de-4ace-9209-a32fc27aa840_33\", \"model_explain_best_run_child_id\": \"AutoML_0eccbbce-21de-4ace-9209-a32fc27aa840_33\"}, \"end_time_utc\": \"2021-01-30T15:36:21.157067Z\", \"status\": \"Completed\", \"log_files\": {}, \"log_groups\": [], \"run_duration\": \"0:21:49\"}, \"child_runs\": [{\"run_id\": \"AutoML_0eccbbce-21de-4ace-9209-a32fc27aa840_0\", \"run_number\": 5, \"metric\": null, \"status\": \"Completed\", \"run_type\": \"azureml.scriptrun\", \"training_percent\": \"100\", \"start_time\": \"2021-01-30T15:22:57.137013Z\", \"end_time\": \"2021-01-30T15:23:48.205599Z\", \"created_time\": \"2021-01-30T15:21:51.605857Z\", \"created_time_dt\": \"2021-01-30T15:21:51.605857Z\", \"duration\": \"0:01:56\", \"iteration\": \"0\", \"goal\": \"accuracy_max\", \"run_name\": \"MaxAbsScaler, LightGBM\", \"run_properties\": \"copy=True\", \"primary_metric\": 0.74352771, \"best_metric\": 0.74352771}, {\"run_id\": \"AutoML_0eccbbce-21de-4ace-9209-a32fc27aa840_2\", \"run_number\": 6, \"metric\": null, \"status\": \"Completed\", \"run_type\": \"azureml.scriptrun\", \"training_percent\": \"100\", \"start_time\": \"2021-01-30T15:22:02.685949Z\", \"end_time\": \"2021-01-30T15:22:56.124429Z\", \"created_time\": \"2021-01-30T15:21:51.744942Z\", \"created_time_dt\": \"2021-01-30T15:21:51.744942Z\", \"duration\": \"0:01:04\", \"iteration\": \"2\", \"goal\": \"accuracy_max\", \"run_name\": \"MaxAbsScaler, RandomForest\", \"run_properties\": \"copy=True\", \"primary_metric\": 0.76311009, \"best_metric\": 0.76563959}, {\"run_id\": \"AutoML_0eccbbce-21de-4ace-9209-a32fc27aa840_3\", \"run_number\": 7, \"metric\": null, \"status\": \"Completed\", \"run_type\": \"azureml.scriptrun\", \"training_percent\": \"100\", \"start_time\": \"2021-01-30T15:23:52.802229Z\", \"end_time\": \"2021-01-30T15:24:53.001371Z\", \"created_time\": \"2021-01-30T15:21:51.751947Z\", \"created_time_dt\": \"2021-01-30T15:21:51.751947Z\", \"duration\": \"0:03:01\", \"iteration\": \"3\", \"goal\": \"accuracy_max\", \"run_name\": \"MaxAbsScaler, RandomForest\", \"run_properties\": \"copy=True\", \"primary_metric\": 0.73838384, \"best_metric\": 0.76563959}, {\"run_id\": \"AutoML_0eccbbce-21de-4ace-9209-a32fc27aa840_1\", \"run_number\": 8, \"metric\": null, \"status\": \"Completed\", \"run_type\": \"azureml.scriptrun\", \"training_percent\": \"100\", \"start_time\": \"2021-01-30T15:24:55.453171Z\", \"end_time\": \"2021-01-30T15:25:48.064349Z\", \"created_time\": \"2021-01-30T15:21:51.777533Z\", \"created_time_dt\": \"2021-01-30T15:21:51.777533Z\", \"duration\": \"0:03:56\", \"iteration\": \"1\", \"goal\": \"accuracy_max\", \"run_name\": \"MaxAbsScaler, XGBoostClassifier\", \"run_properties\": \"copy=True\", \"primary_metric\": 0.76563959, \"best_metric\": 0.76563959}, {\"run_id\": \"AutoML_0eccbbce-21de-4ace-9209-a32fc27aa840_4\", \"run_number\": 9, \"metric\": null, \"status\": \"Completed\", \"run_type\": \"azureml.scriptrun\", \"training_percent\": \"100\", \"start_time\": \"2021-01-30T15:24:58.00604Z\", \"end_time\": \"2021-01-30T15:27:04.59887Z\", \"created_time\": \"2021-01-30T15:23:02.223867Z\", \"created_time_dt\": \"2021-01-30T15:23:02.223867Z\", \"duration\": \"0:04:02\", \"iteration\": \"4\", \"goal\": \"accuracy_max\", \"run_name\": \"MaxAbsScaler, RandomForest\", \"run_properties\": \"copy=True\", \"primary_metric\": 0.76563959, \"best_metric\": 0.76563959}, {\"run_id\": \"AutoML_0eccbbce-21de-4ace-9209-a32fc27aa840_5\", \"run_number\": 10, \"metric\": null, \"status\": \"Completed\", \"run_type\": \"azureml.scriptrun\", \"training_percent\": \"100\", \"start_time\": \"2021-01-30T15:25:04.166957Z\", \"end_time\": \"2021-01-30T15:27:01.801335Z\", \"created_time\": \"2021-01-30T15:23:52.529604Z\", \"created_time_dt\": \"2021-01-30T15:23:52.529604Z\", \"duration\": \"0:03:09\", \"iteration\": \"5\", \"goal\": \"accuracy_max\", \"run_name\": \"MaxAbsScaler, RandomForest\", \"run_properties\": \"copy=True\", \"primary_metric\": 0.70176555, \"best_metric\": 0.76563959}, {\"run_id\": \"AutoML_0eccbbce-21de-4ace-9209-a32fc27aa840_6\", \"run_number\": 11, \"metric\": null, \"status\": \"Completed\", \"run_type\": \"azureml.scriptrun\", \"training_percent\": \"100\", \"start_time\": \"2021-01-30T15:25:10.646887Z\", \"end_time\": \"2021-01-30T15:27:02.900486Z\", \"created_time\": \"2021-01-30T15:24:56.208898Z\", \"created_time_dt\": \"2021-01-30T15:24:56.208898Z\", \"duration\": \"0:02:06\", \"iteration\": \"6\", \"goal\": \"accuracy_max\", \"run_name\": \"SparseNormalizer, XGBoostClassifier\", \"run_properties\": \"<azureml.automl.runtime.shared.model_wrappers.SparseNormalizer object at 0x7f9378172c18\", \"primary_metric\": 0.71886088, \"best_metric\": 0.76563959}, {\"run_id\": \"AutoML_0eccbbce-21de-4ace-9209-a32fc27aa840_7\", \"run_number\": 12, \"metric\": null, \"status\": \"Completed\", \"run_type\": \"azureml.scriptrun\", \"training_percent\": \"100\", \"start_time\": \"2021-01-30T15:26:04.414203Z\", \"end_time\": \"2021-01-30T15:26:58.951824Z\", \"created_time\": \"2021-01-30T15:25:51.081409Z\", \"created_time_dt\": \"2021-01-30T15:25:51.081409Z\", \"duration\": \"0:01:07\", \"iteration\": \"7\", \"goal\": \"accuracy_max\", \"run_name\": \"SparseNormalizer, XGBoostClassifier\", \"run_properties\": \"<azureml.automl.runtime.shared.model_wrappers.SparseNormalizer object at 0x7f3190fbcbe0\", \"primary_metric\": 0.71102623, \"best_metric\": 0.76563959}, {\"run_id\": \"AutoML_0eccbbce-21de-4ace-9209-a32fc27aa840_8\", \"run_number\": 13, \"metric\": null, \"status\": \"Completed\", \"run_type\": \"azureml.scriptrun\", \"training_percent\": \"100\", \"start_time\": \"2021-01-30T15:27:12.477446Z\", \"end_time\": \"2021-01-30T15:28:00.577106Z\", \"created_time\": \"2021-01-30T15:27:01.661271Z\", \"created_time_dt\": \"2021-01-30T15:27:01.661271Z\", \"duration\": \"0:00:58\", \"iteration\": \"8\", \"goal\": \"accuracy_max\", \"run_name\": \"SparseNormalizer, XGBoostClassifier\", \"run_properties\": \"<azureml.automl.runtime.shared.model_wrappers.SparseNormalizer object at 0x7f1678f272e8\", \"primary_metric\": 0.64846787, \"best_metric\": 0.76563959}, {\"run_id\": \"AutoML_0eccbbce-21de-4ace-9209-a32fc27aa840_9\", \"run_number\": 14, \"metric\": null, \"status\": \"Completed\", \"run_type\": \"azureml.scriptrun\", \"training_percent\": \"100\", \"start_time\": \"2021-01-30T15:27:15.494544Z\", \"end_time\": \"2021-01-30T15:28:00.124154Z\", \"created_time\": \"2021-01-30T15:27:05.40438Z\", \"created_time_dt\": \"2021-01-30T15:27:05.40438Z\", \"duration\": \"0:00:54\", \"iteration\": \"9\", \"goal\": \"accuracy_max\", \"run_name\": \"MaxAbsScaler, RandomForest\", \"run_properties\": \"copy=True\", \"primary_metric\": 0.76176046, \"best_metric\": 0.76563959}, {\"run_id\": \"AutoML_0eccbbce-21de-4ace-9209-a32fc27aa840_10\", \"run_number\": 15, \"metric\": null, \"status\": \"Completed\", \"run_type\": \"azureml.scriptrun\", \"training_percent\": \"100\", \"start_time\": \"2021-01-30T15:27:18.102306Z\", \"end_time\": \"2021-01-30T15:28:07.048355Z\", \"created_time\": \"2021-01-30T15:27:05.450038Z\", \"created_time_dt\": \"2021-01-30T15:27:05.450038Z\", \"duration\": \"0:01:01\", \"iteration\": \"10\", \"goal\": \"accuracy_max\", \"run_name\": \"MaxAbsScaler, ExtremeRandomTrees\", \"run_properties\": \"copy=True\", \"primary_metric\": 0.76048723, \"best_metric\": 0.76563959}, {\"run_id\": \"AutoML_0eccbbce-21de-4ace-9209-a32fc27aa840_11\", \"run_number\": 16, \"metric\": null, \"status\": \"Completed\", \"run_type\": \"azureml.scriptrun\", \"training_percent\": \"100\", \"start_time\": \"2021-01-30T15:27:19.181027Z\", \"end_time\": \"2021-01-30T15:28:06.562783Z\", \"created_time\": \"2021-01-30T15:27:09.418132Z\", \"created_time_dt\": \"2021-01-30T15:27:09.418132Z\", \"duration\": \"0:00:57\", \"iteration\": \"11\", \"goal\": \"accuracy_max\", \"run_name\": \"StandardScalerWrapper, RandomForest\", \"run_properties\": \"<azureml.automl.runtime.shared.model_wrappers.StandardScalerWrapper object at 0x7f646c16fbe0\", \"primary_metric\": 0.75136236, \"best_metric\": 0.76563959}, {\"run_id\": \"AutoML_0eccbbce-21de-4ace-9209-a32fc27aa840_12\", \"run_number\": 17, \"metric\": null, \"status\": \"Completed\", \"run_type\": \"azureml.scriptrun\", \"training_percent\": \"100\", \"start_time\": \"2021-01-30T15:28:13.035311Z\", \"end_time\": \"2021-01-30T15:29:09.349456Z\", \"created_time\": \"2021-01-30T15:28:02.112152Z\", \"created_time_dt\": \"2021-01-30T15:28:02.112152Z\", \"duration\": \"0:01:07\", \"iteration\": \"12\", \"goal\": \"accuracy_max\", \"run_name\": \"MaxAbsScaler, ExtremeRandomTrees\", \"run_properties\": \"copy=True\", \"primary_metric\": 0.74485188, \"best_metric\": 0.76563959}, {\"run_id\": \"AutoML_0eccbbce-21de-4ace-9209-a32fc27aa840_13\", \"run_number\": 18, \"metric\": null, \"status\": \"Completed\", \"run_type\": \"azureml.scriptrun\", \"training_percent\": \"100\", \"start_time\": \"2021-01-30T15:28:16.447895Z\", \"end_time\": \"2021-01-30T15:29:03.827899Z\", \"created_time\": \"2021-01-30T15:28:05.718774Z\", \"created_time_dt\": \"2021-01-30T15:28:05.718774Z\", \"duration\": \"0:00:58\", \"iteration\": \"13\", \"goal\": \"accuracy_max\", \"run_name\": \"MaxAbsScaler, LogisticRegression\", \"run_properties\": \"copy=True\", \"primary_metric\": 0.76826246, \"best_metric\": 0.76826246}, {\"run_id\": \"AutoML_0eccbbce-21de-4ace-9209-a32fc27aa840_15\", \"run_number\": 19, \"metric\": null, \"status\": \"Completed\", \"run_type\": \"azureml.scriptrun\", \"training_percent\": \"100\", \"start_time\": \"2021-01-30T15:28:20.531866Z\", \"end_time\": \"2021-01-30T15:29:13.892218Z\", \"created_time\": \"2021-01-30T15:28:09.320047Z\", \"created_time_dt\": \"2021-01-30T15:28:09.320047Z\", \"duration\": \"0:01:04\", \"iteration\": \"15\", \"goal\": \"accuracy_max\", \"run_name\": \"MaxAbsScaler, LogisticRegression\", \"run_properties\": \"copy=True\", \"primary_metric\": 0.76959511, \"best_metric\": 0.76959511}, {\"run_id\": \"AutoML_0eccbbce-21de-4ace-9209-a32fc27aa840_14\", \"run_number\": 20, \"metric\": null, \"status\": \"Completed\", \"run_type\": \"azureml.scriptrun\", \"training_percent\": \"100\", \"start_time\": \"2021-01-30T15:28:19.786913Z\", \"end_time\": \"2021-01-30T15:29:07.24442Z\", \"created_time\": \"2021-01-30T15:28:09.321076Z\", \"created_time_dt\": \"2021-01-30T15:28:09.321076Z\", \"duration\": \"0:00:57\", \"iteration\": \"14\", \"goal\": \"accuracy_max\", \"run_name\": \"MaxAbsScaler, LightGBM\", \"run_properties\": \"copy=True\", \"primary_metric\": 0.74740684, \"best_metric\": 0.76826246}, {\"run_id\": \"AutoML_0eccbbce-21de-4ace-9209-a32fc27aa840_16\", \"run_number\": 21, \"metric\": null, \"status\": \"Completed\", \"run_type\": \"azureml.scriptrun\", \"training_percent\": \"100\", \"start_time\": \"2021-01-30T15:29:15.314511Z\", \"end_time\": \"2021-01-30T15:30:00.311347Z\", \"created_time\": \"2021-01-30T15:29:05.444481Z\", \"created_time_dt\": \"2021-01-30T15:29:05.444481Z\", \"duration\": \"0:00:54\", \"iteration\": \"16\", \"goal\": \"accuracy_max\", \"run_name\": \"SparseNormalizer, XGBoostClassifier\", \"run_properties\": \"<azureml.automl.runtime.shared.model_wrappers.SparseNormalizer object at 0x7fed8cfc2d30\", \"primary_metric\": 0.69154571, \"best_metric\": 0.76959511}, {\"run_id\": \"AutoML_0eccbbce-21de-4ace-9209-a32fc27aa840_17\", \"run_number\": 22, \"metric\": null, \"status\": \"Completed\", \"run_type\": \"azureml.scriptrun\", \"training_percent\": \"100\", \"start_time\": \"2021-01-30T15:29:22.500133Z\", \"end_time\": \"2021-01-30T15:30:14.511629Z\", \"created_time\": \"2021-01-30T15:29:08.857608Z\", \"created_time_dt\": \"2021-01-30T15:29:08.857608Z\", \"duration\": \"0:01:05\", \"iteration\": \"17\", \"goal\": \"accuracy_max\", \"run_name\": \"MaxAbsScaler, LightGBM\", \"run_properties\": \"copy=True\", \"primary_metric\": 0.76569052, \"best_metric\": 0.76959511}, {\"run_id\": \"AutoML_0eccbbce-21de-4ace-9209-a32fc27aa840_18\", \"run_number\": 23, \"metric\": null, \"status\": \"Completed\", \"run_type\": \"azureml.scriptrun\", \"training_percent\": \"100\", \"start_time\": \"2021-01-30T15:29:25.033268Z\", \"end_time\": \"2021-01-30T15:30:16.574327Z\", \"created_time\": \"2021-01-30T15:29:12.593224Z\", \"created_time_dt\": \"2021-01-30T15:29:12.593224Z\", \"duration\": \"0:01:03\", \"iteration\": \"18\", \"goal\": \"accuracy_max\", \"run_name\": \"StandardScalerWrapper, LightGBM\", \"run_properties\": \"<azureml.automl.runtime.shared.model_wrappers.StandardScalerWrapper object at 0x7f764ffdceb8\", \"primary_metric\": 0.73439436, \"best_metric\": 0.76959511}, {\"run_id\": \"AutoML_0eccbbce-21de-4ace-9209-a32fc27aa840_19\", \"run_number\": 24, \"metric\": null, \"status\": \"Completed\", \"run_type\": \"azureml.scriptrun\", \"training_percent\": \"100\", \"start_time\": \"2021-01-30T15:29:27.250429Z\", \"end_time\": \"2021-01-30T15:30:15.829804Z\", \"created_time\": \"2021-01-30T15:29:15.597506Z\", \"created_time_dt\": \"2021-01-30T15:29:15.597506Z\", \"duration\": \"0:01:00\", \"iteration\": \"19\", \"goal\": \"accuracy_max\", \"run_name\": \"SparseNormalizer, XGBoostClassifier\", \"run_properties\": \"<azureml.automl.runtime.shared.model_wrappers.SparseNormalizer object at 0x7f493102c1d0\", \"primary_metric\": 0.70318309, \"best_metric\": 0.76959511}, {\"run_id\": \"AutoML_0eccbbce-21de-4ace-9209-a32fc27aa840_20\", \"run_number\": 25, \"metric\": null, \"status\": \"Completed\", \"run_type\": \"azureml.scriptrun\", \"training_percent\": \"100\", \"start_time\": \"2021-01-30T15:30:15.770536Z\", \"end_time\": \"2021-01-30T15:31:14.520419Z\", \"created_time\": \"2021-01-30T15:30:01.908858Z\", \"created_time_dt\": \"2021-01-30T15:30:01.908858Z\", \"duration\": \"0:01:12\", \"iteration\": \"20\", \"goal\": \"accuracy_max\", \"run_name\": \"StandardScalerWrapper, LightGBM\", \"run_properties\": \"<azureml.automl.runtime.shared.model_wrappers.StandardScalerWrapper object at 0x7fbba02c4eb8\", \"primary_metric\": 0.69156269, \"best_metric\": 0.76959511}, {\"run_id\": \"AutoML_0eccbbce-21de-4ace-9209-a32fc27aa840_21\", \"run_number\": 26, \"metric\": null, \"status\": \"Completed\", \"run_type\": \"azureml.scriptrun\", \"training_percent\": \"100\", \"start_time\": \"2021-01-30T15:30:29.037748Z\", \"end_time\": \"2021-01-30T15:31:18.215109Z\", \"created_time\": \"2021-01-30T15:30:16.32727Z\", \"created_time_dt\": \"2021-01-30T15:30:16.32727Z\", \"duration\": \"0:01:01\", \"iteration\": \"21\", \"goal\": \"accuracy_max\", \"run_name\": \"MaxAbsScaler, LightGBM\", \"run_properties\": \"copy=True\", \"primary_metric\": 0.75915457, \"best_metric\": 0.76959511}, {\"run_id\": \"AutoML_0eccbbce-21de-4ace-9209-a32fc27aa840_22\", \"run_number\": 27, \"metric\": null, \"status\": \"Completed\", \"run_type\": \"azureml.scriptrun\", \"training_percent\": \"100\", \"start_time\": \"2021-01-30T15:30:31.35285Z\", \"end_time\": \"2021-01-30T15:31:41.440844Z\", \"created_time\": \"2021-01-30T15:30:19.668353Z\", \"created_time_dt\": \"2021-01-30T15:30:19.668353Z\", \"duration\": \"0:01:21\", \"iteration\": \"22\", \"goal\": \"accuracy_max\", \"run_name\": \"MaxAbsScaler, ExtremeRandomTrees\", \"run_properties\": \"copy=True\", \"primary_metric\": 0.75657414, \"best_metric\": 0.76959511}, {\"run_id\": \"AutoML_0eccbbce-21de-4ace-9209-a32fc27aa840_23\", \"run_number\": 28, \"metric\": null, \"status\": \"Completed\", \"run_type\": \"azureml.scriptrun\", \"training_percent\": \"100\", \"start_time\": \"2021-01-30T15:30:31.488605Z\", \"end_time\": \"2021-01-30T15:31:26.119551Z\", \"created_time\": \"2021-01-30T15:30:19.76235Z\", \"created_time_dt\": \"2021-01-30T15:30:19.76235Z\", \"duration\": \"0:01:06\", \"iteration\": \"23\", \"goal\": \"accuracy_max\", \"run_name\": \"MaxAbsScaler, GradientBoosting\", \"run_properties\": \"copy=True\", \"primary_metric\": 0.77085986, \"best_metric\": 0.77085986}, {\"run_id\": \"AutoML_0eccbbce-21de-4ace-9209-a32fc27aa840_24\", \"run_number\": 29, \"metric\": null, \"status\": \"Completed\", \"run_type\": \"azureml.scriptrun\", \"training_percent\": \"100\", \"start_time\": \"2021-01-30T15:31:29.132707Z\", \"end_time\": \"2021-01-30T15:32:27.223475Z\", \"created_time\": \"2021-01-30T15:31:16.547447Z\", \"created_time_dt\": \"2021-01-30T15:31:16.547447Z\", \"duration\": \"0:01:10\", \"iteration\": \"24\", \"goal\": \"accuracy_max\", \"run_name\": \"SparseNormalizer, XGBoostClassifier\", \"run_properties\": \"<azureml.automl.runtime.shared.model_wrappers.SparseNormalizer object at 0x7f0518303780\", \"primary_metric\": 0.66023258, \"best_metric\": 0.77085986}, {\"run_id\": \"AutoML_0eccbbce-21de-4ace-9209-a32fc27aa840_25\", \"run_number\": 30, \"metric\": null, \"status\": \"Completed\", \"run_type\": \"azureml.scriptrun\", \"training_percent\": \"100\", \"start_time\": \"2021-01-30T15:31:33.415387Z\", \"end_time\": \"2021-01-30T15:32:22.458205Z\", \"created_time\": \"2021-01-30T15:31:21.607255Z\", \"created_time_dt\": \"2021-01-30T15:31:21.607255Z\", \"duration\": \"0:01:00\", \"iteration\": \"25\", \"goal\": \"accuracy_max\", \"run_name\": \"TruncatedSVDWrapper, LogisticRegression\", \"run_properties\": \"n_components=0.7026315789473684, random_state=None\", \"primary_metric\": 0.66674306, \"best_metric\": 0.77085986}, {\"run_id\": \"AutoML_0eccbbce-21de-4ace-9209-a32fc27aa840_26\", \"run_number\": 31, \"metric\": null, \"status\": \"Completed\", \"run_type\": \"azureml.scriptrun\", \"training_percent\": \"100\", \"start_time\": \"2021-01-30T15:31:38.628528Z\", \"end_time\": \"2021-01-30T15:32:26.455674Z\", \"created_time\": \"2021-01-30T15:31:27.689952Z\", \"created_time_dt\": \"2021-01-30T15:31:27.689952Z\", \"duration\": \"0:00:58\", \"iteration\": \"26\", \"goal\": \"accuracy_max\", \"run_name\": \"StandardScalerWrapper, LightGBM\", \"run_properties\": \"<azureml.automl.runtime.shared.model_wrappers.StandardScalerWrapper object at 0x7eff59671dd8\", \"primary_metric\": 0.76306765, \"best_metric\": 0.77085986}, {\"run_id\": \"AutoML_0eccbbce-21de-4ace-9209-a32fc27aa840_27\", \"run_number\": 32, \"metric\": null, \"status\": \"Completed\", \"run_type\": \"azureml.scriptrun\", \"training_percent\": \"100\", \"start_time\": \"2021-01-30T15:31:53.710957Z\", \"end_time\": \"2021-01-30T15:32:36.090427Z\", \"created_time\": \"2021-01-30T15:31:43.278679Z\", \"created_time_dt\": \"2021-01-30T15:31:43.278679Z\", \"duration\": \"0:00:52\", \"iteration\": \"27\", \"goal\": \"accuracy_max\", \"run_name\": \"StandardScalerWrapper, XGBoostClassifier\", \"run_properties\": \"<azureml.automl.runtime.shared.model_wrappers.StandardScalerWrapper object at 0x7f86a6f60c18\", \"primary_metric\": 0.76434089, \"best_metric\": 0.77085986}, {\"run_id\": \"AutoML_0eccbbce-21de-4ace-9209-a32fc27aa840_28\", \"run_number\": 33, \"metric\": null, \"status\": \"Completed\", \"run_type\": \"azureml.scriptrun\", \"training_percent\": \"100\", \"start_time\": \"2021-01-30T15:32:35.418905Z\", \"end_time\": \"2021-01-30T15:33:17.252958Z\", \"created_time\": \"2021-01-30T15:32:24.209543Z\", \"created_time_dt\": \"2021-01-30T15:32:24.209543Z\", \"duration\": \"0:00:53\", \"iteration\": \"28\", \"goal\": \"accuracy_max\", \"run_name\": \"MaxAbsScaler, LightGBM\", \"run_properties\": \"copy=True\", \"primary_metric\": 0.75648926, \"best_metric\": 0.77085986}, {\"run_id\": \"AutoML_0eccbbce-21de-4ace-9209-a32fc27aa840_29\", \"run_number\": 34, \"metric\": null, \"status\": \"Completed\", \"run_type\": \"azureml.scriptrun\", \"training_percent\": \"100\", \"start_time\": \"2021-01-30T15:32:39.586753Z\", \"end_time\": \"2021-01-30T15:33:24.131266Z\", \"created_time\": \"2021-01-30T15:32:28.57015Z\", \"created_time_dt\": \"2021-01-30T15:32:28.57015Z\", \"duration\": \"0:00:55\", \"iteration\": \"29\", \"goal\": \"accuracy_max\", \"run_name\": \"MaxAbsScaler, LightGBM\", \"run_properties\": \"copy=True\", \"primary_metric\": 0.75265258, \"best_metric\": 0.77085986}, {\"run_id\": \"AutoML_0eccbbce-21de-4ace-9209-a32fc27aa840_30\", \"run_number\": 35, \"metric\": null, \"status\": \"Completed\", \"run_type\": \"azureml.scriptrun\", \"training_percent\": \"100\", \"start_time\": \"2021-01-30T15:32:47.150587Z\", \"end_time\": \"2021-01-30T15:33:42.01616Z\", \"created_time\": \"2021-01-30T15:32:34.70477Z\", \"created_time_dt\": \"2021-01-30T15:32:34.70477Z\", \"duration\": \"0:01:07\", \"iteration\": \"30\", \"goal\": \"accuracy_max\", \"run_name\": \"MaxAbsScaler, GradientBoosting\", \"run_properties\": \"copy=True\", \"primary_metric\": 0.65114167, \"best_metric\": 0.77085986}, {\"run_id\": \"AutoML_0eccbbce-21de-4ace-9209-a32fc27aa840_31\", \"run_number\": 36, \"metric\": null, \"status\": \"Completed\", \"run_type\": \"azureml.scriptrun\", \"training_percent\": \"100\", \"start_time\": \"2021-01-30T15:32:49.971495Z\", \"end_time\": \"2021-01-30T15:33:34.580523Z\", \"created_time\": \"2021-01-30T15:32:38.426174Z\", \"created_time_dt\": \"2021-01-30T15:32:38.426174Z\", \"duration\": \"0:00:56\", \"iteration\": \"31\", \"goal\": \"accuracy_max\", \"run_name\": \"StandardScalerWrapper, XGBoostClassifier\", \"run_properties\": \"<azureml.automl.runtime.shared.model_wrappers.StandardScalerWrapper object at 0x7f262c273080\", \"primary_metric\": 0.73961463, \"best_metric\": 0.77085986}, {\"run_id\": \"AutoML_0eccbbce-21de-4ace-9209-a32fc27aa840_32\", \"run_number\": 37, \"metric\": null, \"status\": \"Completed\", \"run_type\": \"azureml.scriptrun\", \"training_percent\": \"100\", \"start_time\": \"2021-01-30T15:33:32.299107Z\", \"end_time\": \"2021-01-30T15:34:24.771858Z\", \"created_time\": \"2021-01-30T15:33:18.952633Z\", \"created_time_dt\": \"2021-01-30T15:33:18.952633Z\", \"duration\": \"0:01:05\", \"iteration\": \"32\", \"goal\": \"accuracy_max\", \"run_name\": \"MaxAbsScaler, LightGBM\", \"run_properties\": \"copy=True\", \"primary_metric\": 0.76563959, \"best_metric\": 0.77085986}, {\"run_id\": \"AutoML_0eccbbce-21de-4ace-9209-a32fc27aa840_33\", \"run_number\": 38, \"metric\": null, \"status\": \"Completed\", \"run_type\": \"azureml.scriptrun\", \"training_percent\": \"100\", \"start_time\": \"2021-01-30T15:34:35.91625Z\", \"end_time\": \"2021-01-30T15:36:05.106201Z\", \"created_time\": \"2021-01-30T15:34:25.520364Z\", \"created_time_dt\": \"2021-01-30T15:34:25.520364Z\", \"duration\": \"0:01:39\", \"iteration\": \"33\", \"goal\": \"accuracy_max\", \"run_name\": \"VotingEnsemble\", \"run_properties\": \"classification_labels=None,\\n                              estimators=[('23',\\n                                           Pipeline(memory=None,\\n                                                    steps=[('maxabsscaler',\\n                                                            MaxAbsScaler(copy=True\", \"primary_metric\": 0.78518801, \"best_metric\": 0.78518801}, {\"run_id\": \"AutoML_0eccbbce-21de-4ace-9209-a32fc27aa840_34\", \"run_number\": 39, \"metric\": null, \"status\": \"Completed\", \"run_type\": \"azureml.scriptrun\", \"training_percent\": \"100\", \"start_time\": \"2021-01-30T15:34:35.873742Z\", \"end_time\": \"2021-01-30T15:36:12.49573Z\", \"created_time\": \"2021-01-30T15:34:25.571539Z\", \"created_time_dt\": \"2021-01-30T15:34:25.571539Z\", \"duration\": \"0:01:46\", \"iteration\": \"34\", \"goal\": \"accuracy_max\", \"run_name\": \"StackEnsemble\", \"run_properties\": \"base_learners=[('23',\\n                                        Pipeline(memory=None,\\n                                                 steps=[('maxabsscaler',\\n                                                         MaxAbsScaler(copy=True\", \"primary_metric\": 0.77344029, \"best_metric\": 0.78518801}], \"children_metrics\": {\"categories\": [0], \"series\": {\"recall_score_micro\": [{\"categories\": [\"0\", \"1\", \"2\", \"3\", \"4\", \"5\", \"6\", \"7\", \"8\", \"9\", \"10\", \"11\", \"12\", \"13\", \"14\", \"15\", \"16\", \"17\", \"18\", \"19\", \"20\", \"21\", \"22\", \"23\", \"24\", \"25\", \"26\", \"27\", \"28\", \"29\", \"30\", \"31\", \"32\", \"33\", \"34\"], \"mode\": \"markers\", \"name\": \"recall_score_micro\", \"stepped\": false, \"type\": \"scatter\", \"data\": [0.7435277141159494, 0.7656395891690009, 0.7631100925218572, 0.7383838383838384, 0.7656395891690009, 0.7017655547067312, 0.718860877684407, 0.7110262286732875, 0.6484678719972838, 0.7617604617604619, 0.7604872251931075, 0.7513623631270689, 0.7448518801459978, 0.7682624564977505, 0.7474068415244887, 0.7695951107715814, 0.691545709192768, 0.765690518631695, 0.7343943638061285, 0.7031830914183855, 0.6915626856803329, 0.7591545709192768, 0.756574144809439, 0.7708598590951532, 0.6602325778796367, 0.6667430608607079, 0.7630676513029454, 0.7643408878702995, 0.7564892623716153, 0.752652576181988, 0.6511416687887276, 0.7396146337322808, 0.7656395891690009, 0.7851880145997793, 0.7734402852049911]}, {\"categories\": [\"0\", \"1\", \"2\", \"3\", \"4\", \"5\", \"6\", \"7\", \"8\", \"9\", \"10\", \"11\", \"12\", \"13\", \"14\", \"15\", \"16\", \"17\", \"18\", \"19\", \"20\", \"21\", \"22\", \"23\", \"24\", \"25\", \"26\", \"27\", \"28\", \"29\", \"30\", \"31\", \"32\", \"33\", \"34\"], \"mode\": \"lines\", \"name\": \"recall_score_micro_max\", \"stepped\": true, \"type\": \"scatter\", \"data\": [0.7435277141159494, 0.7656395891690009, 0.7656395891690009, 0.7656395891690009, 0.7656395891690009, 0.7656395891690009, 0.7656395891690009, 0.7656395891690009, 0.7656395891690009, 0.7656395891690009, 0.7656395891690009, 0.7656395891690009, 0.7656395891690009, 0.7682624564977505, 0.7682624564977505, 0.7695951107715814, 0.7695951107715814, 0.7695951107715814, 0.7695951107715814, 0.7695951107715814, 0.7695951107715814, 0.7695951107715814, 0.7695951107715814, 0.7708598590951532, 0.7708598590951532, 0.7708598590951532, 0.7708598590951532, 0.7708598590951532, 0.7708598590951532, 0.7708598590951532, 0.7708598590951532, 0.7708598590951532, 0.7708598590951532, 0.7851880145997793, 0.7851880145997793]}], \"average_precision_score_weighted\": [{\"categories\": [\"0\", \"1\", \"2\", \"3\", \"4\", \"5\", \"6\", \"7\", \"8\", \"9\", \"10\", \"11\", \"12\", \"13\", \"14\", \"15\", \"16\", \"17\", \"18\", \"19\", \"20\", \"21\", \"22\", \"23\", \"24\", \"25\", \"26\", \"27\", \"28\", \"29\", \"30\", \"31\", \"32\", \"33\", \"34\"], \"mode\": \"markers\", \"name\": \"average_precision_score_weighted\", \"stepped\": false, \"type\": \"scatter\", \"data\": [0.8183229088104544, 0.8410481501195661, 0.8335765555503858, 0.8286876318033268, 0.8353216774609397, 0.8069633034519976, 0.7880625636552105, 0.767257478177501, 0.7026049990417864, 0.8350676684180061, 0.8327582071798426, 0.8388537610093054, 0.8326593372623774, 0.8220410812986781, 0.8390655714193421, 0.8339481954074144, 0.7713980747989277, 0.8438213707654096, 0.8280685184939529, 0.7625548441476403, 0.8093030621663235, 0.8442499577225894, 0.8384687642167771, 0.8462812822419611, 0.7332733591646494, 0.6718298665971119, 0.8413673869368509, 0.8363217300793299, 0.848341806138122, 0.8389536203467177, 0.8306664604232991, 0.8035048533048968, 0.8384147473834502, 0.849597425242146, 0.8511876876893533]}, {\"categories\": [\"0\", \"1\", \"2\", \"3\", \"4\", \"5\", \"6\", \"7\", \"8\", \"9\", \"10\", \"11\", \"12\", \"13\", \"14\", \"15\", \"16\", \"17\", \"18\", \"19\", \"20\", \"21\", \"22\", \"23\", \"24\", \"25\", \"26\", \"27\", \"28\", \"29\", \"30\", \"31\", \"32\", \"33\", \"34\"], \"mode\": \"lines\", \"name\": \"average_precision_score_weighted_max\", \"stepped\": true, \"type\": \"scatter\", \"data\": [0.8183229088104544, 0.8410481501195661, 0.8410481501195661, 0.8410481501195661, 0.8410481501195661, 0.8410481501195661, 0.8410481501195661, 0.8410481501195661, 0.8410481501195661, 0.8410481501195661, 0.8410481501195661, 0.8410481501195661, 0.8410481501195661, 0.8410481501195661, 0.8410481501195661, 0.8410481501195661, 0.8410481501195661, 0.8438213707654096, 0.8438213707654096, 0.8438213707654096, 0.8438213707654096, 0.8442499577225894, 0.8442499577225894, 0.8462812822419611, 0.8462812822419611, 0.8462812822419611, 0.8462812822419611, 0.8462812822419611, 0.848341806138122, 0.848341806138122, 0.848341806138122, 0.848341806138122, 0.848341806138122, 0.849597425242146, 0.8511876876893533]}], \"norm_macro_recall\": [{\"categories\": [\"0\", \"1\", \"2\", \"3\", \"4\", \"5\", \"6\", \"7\", \"8\", \"9\", \"10\", \"11\", \"12\", \"13\", \"14\", \"15\", \"16\", \"17\", \"18\", \"19\", \"20\", \"21\", \"22\", \"23\", \"24\", \"25\", \"26\", \"27\", \"28\", \"29\", \"30\", \"31\", \"32\", \"33\", \"34\"], \"mode\": \"markers\", \"name\": \"norm_macro_recall\", \"stepped\": false, \"type\": \"scatter\", \"data\": [0.420946354852849, 0.4667111240616652, 0.42337780385235674, 0.32164655628229133, 0.5358259385936299, 0.4115240905257833, 0.33191911840507854, 0.3030262927030176, 0.08972431522364399, 0.41694062544043387, 0.42306338051458897, 0.37251259333194553, 0.32182230097334596, 0.4263174121899708, 0.33889906693779404, 0.43916300225472116, 0.26248980861478094, 0.4422652856994649, 0.3846867594507467, 0.2835593315869146, 0.1476714262841635, 0.38036269151056834, 0.3698056628192485, 0.45066354866678154, 0.07305100909693704, 0.14219906364473278, 0.44977258236153456, 0.39684916448728247, 0.41030506383830423, 0.36881125626039857, 0.0, 0.38452551635212995, 0.4537407121140407, 0.47095873972433216, 0.4393018419379944]}, {\"categories\": [\"0\", \"1\", \"2\", \"3\", \"4\", \"5\", \"6\", \"7\", \"8\", \"9\", \"10\", \"11\", \"12\", \"13\", \"14\", \"15\", \"16\", \"17\", \"18\", \"19\", \"20\", \"21\", \"22\", \"23\", \"24\", \"25\", \"26\", \"27\", \"28\", \"29\", \"30\", \"31\", \"32\", \"33\", \"34\"], \"mode\": \"lines\", \"name\": \"norm_macro_recall_max\", \"stepped\": true, \"type\": \"scatter\", \"data\": [0.420946354852849, 0.4667111240616652, 0.4667111240616652, 0.4667111240616652, 0.5358259385936299, 0.5358259385936299, 0.5358259385936299, 0.5358259385936299, 0.5358259385936299, 0.5358259385936299, 0.5358259385936299, 0.5358259385936299, 0.5358259385936299, 0.5358259385936299, 0.5358259385936299, 0.5358259385936299, 0.5358259385936299, 0.5358259385936299, 0.5358259385936299, 0.5358259385936299, 0.5358259385936299, 0.5358259385936299, 0.5358259385936299, 0.5358259385936299, 0.5358259385936299, 0.5358259385936299, 0.5358259385936299, 0.5358259385936299, 0.5358259385936299, 0.5358259385936299, 0.5358259385936299, 0.5358259385936299, 0.5358259385936299, 0.5358259385936299, 0.5358259385936299]}], \"recall_score_weighted\": [{\"categories\": [\"0\", \"1\", \"2\", \"3\", \"4\", \"5\", \"6\", \"7\", \"8\", \"9\", \"10\", \"11\", \"12\", \"13\", \"14\", \"15\", \"16\", \"17\", \"18\", \"19\", \"20\", \"21\", \"22\", \"23\", \"24\", \"25\", \"26\", \"27\", \"28\", \"29\", \"30\", \"31\", \"32\", \"33\", \"34\"], \"mode\": \"markers\", \"name\": \"recall_score_weighted\", \"stepped\": false, \"type\": \"scatter\", \"data\": [0.7435277141159494, 0.7656395891690009, 0.7631100925218572, 0.7383838383838384, 0.7656395891690009, 0.7017655547067312, 0.718860877684407, 0.7110262286732875, 0.6484678719972838, 0.7617604617604619, 0.7604872251931075, 0.7513623631270689, 0.7448518801459978, 0.7682624564977505, 0.7474068415244887, 0.7695951107715814, 0.691545709192768, 0.765690518631695, 0.7343943638061285, 0.7031830914183855, 0.6915626856803329, 0.7591545709192768, 0.756574144809439, 0.7708598590951532, 0.6602325778796367, 0.6667430608607079, 0.7630676513029454, 0.7643408878702995, 0.7564892623716153, 0.752652576181988, 0.6511416687887276, 0.7396146337322808, 0.7656395891690009, 0.7851880145997793, 0.7734402852049911]}, {\"categories\": [\"0\", \"1\", \"2\", \"3\", \"4\", \"5\", \"6\", \"7\", \"8\", \"9\", \"10\", \"11\", \"12\", \"13\", \"14\", \"15\", \"16\", \"17\", \"18\", \"19\", \"20\", \"21\", \"22\", \"23\", \"24\", \"25\", \"26\", \"27\", \"28\", \"29\", \"30\", \"31\", \"32\", \"33\", \"34\"], \"mode\": \"lines\", \"name\": \"recall_score_weighted_max\", \"stepped\": true, \"type\": \"scatter\", \"data\": [0.7435277141159494, 0.7656395891690009, 0.7656395891690009, 0.7656395891690009, 0.7656395891690009, 0.7656395891690009, 0.7656395891690009, 0.7656395891690009, 0.7656395891690009, 0.7656395891690009, 0.7656395891690009, 0.7656395891690009, 0.7656395891690009, 0.7682624564977505, 0.7682624564977505, 0.7695951107715814, 0.7695951107715814, 0.7695951107715814, 0.7695951107715814, 0.7695951107715814, 0.7695951107715814, 0.7695951107715814, 0.7695951107715814, 0.7708598590951532, 0.7708598590951532, 0.7708598590951532, 0.7708598590951532, 0.7708598590951532, 0.7708598590951532, 0.7708598590951532, 0.7708598590951532, 0.7708598590951532, 0.7708598590951532, 0.7851880145997793, 0.7851880145997793]}], \"average_precision_score_macro\": [{\"categories\": [\"0\", \"1\", \"2\", \"3\", \"4\", \"5\", \"6\", \"7\", \"8\", \"9\", \"10\", \"11\", \"12\", \"13\", \"14\", \"15\", \"16\", \"17\", \"18\", \"19\", \"20\", \"21\", \"22\", \"23\", \"24\", \"25\", \"26\", \"27\", \"28\", \"29\", \"30\", \"31\", \"32\", \"33\", \"34\"], \"mode\": \"markers\", \"name\": \"average_precision_score_macro\", \"stepped\": false, \"type\": \"scatter\", \"data\": [0.7848257443237637, 0.8102231075585553, 0.8034309575431091, 0.7957885104120621, 0.8041801382508915, 0.7719862396220986, 0.7543822265332896, 0.7317267872368305, 0.657615829876303, 0.8044942064821925, 0.802053065388356, 0.808849240919628, 0.8001644757070661, 0.7930287546840451, 0.8055460327710318, 0.8057998662962266, 0.734106207220483, 0.8135316963093115, 0.7936976818588629, 0.7253530584265245, 0.7742451527208403, 0.8128502111162617, 0.806886256265153, 0.81642583807912, 0.6889135461773007, 0.6306846731577168, 0.8109747293123662, 0.8058624532647846, 0.8165505992089835, 0.8077254240399853, 0.7983677326967571, 0.7689067037749935, 0.8079379461871165, 0.8206069325712531, 0.8224987015314298]}, {\"categories\": [\"0\", \"1\", \"2\", \"3\", \"4\", \"5\", \"6\", \"7\", \"8\", \"9\", \"10\", \"11\", \"12\", \"13\", \"14\", \"15\", \"16\", \"17\", \"18\", \"19\", \"20\", \"21\", \"22\", \"23\", \"24\", \"25\", \"26\", \"27\", \"28\", \"29\", \"30\", \"31\", \"32\", \"33\", \"34\"], \"mode\": \"lines\", \"name\": \"average_precision_score_macro_max\", \"stepped\": true, \"type\": \"scatter\", \"data\": [0.7848257443237637, 0.8102231075585553, 0.8102231075585553, 0.8102231075585553, 0.8102231075585553, 0.8102231075585553, 0.8102231075585553, 0.8102231075585553, 0.8102231075585553, 0.8102231075585553, 0.8102231075585553, 0.8102231075585553, 0.8102231075585553, 0.8102231075585553, 0.8102231075585553, 0.8102231075585553, 0.8102231075585553, 0.8135316963093115, 0.8135316963093115, 0.8135316963093115, 0.8135316963093115, 0.8135316963093115, 0.8135316963093115, 0.81642583807912, 0.81642583807912, 0.81642583807912, 0.81642583807912, 0.81642583807912, 0.8165505992089835, 0.8165505992089835, 0.8165505992089835, 0.8165505992089835, 0.8165505992089835, 0.8206069325712531, 0.8224987015314298]}], \"log_loss\": [{\"categories\": [\"0\", \"1\", \"2\", \"3\", \"4\", \"5\", \"6\", \"7\", \"8\", \"9\", \"10\", \"11\", \"12\", \"13\", \"14\", \"15\", \"16\", \"17\", \"18\", \"19\", \"20\", \"21\", \"22\", \"23\", \"24\", \"25\", \"26\", \"27\", \"28\", \"29\", \"30\", \"31\", \"32\", \"33\", \"34\"], \"mode\": \"markers\", \"name\": \"log_loss\", \"stepped\": false, \"type\": \"scatter\", \"data\": [0.62702930996628, 0.48040462908306597, 0.49593889972303806, 0.5212796990245763, 0.5042462459553418, 0.5770599508089752, 0.5429842329358994, 0.554407651698379, 0.6129305394703799, 0.48392264645457067, 0.4859537140145343, 0.49442747832708384, 0.532628594622236, 0.5024038100178364, 0.5170969785506008, 0.48982709454636114, 0.5579425904111488, 0.47923121658083645, 0.4985416549278863, 0.5614128292200697, 0.5669369841239333, 0.49676352197952384, 0.5099194440032262, 0.4735263408357577, 0.5957851806111838, 0.6321970602181299, 0.4737450779177971, 0.5038995378966481, 0.4756811461342121, 0.509182188517032, 0.6322829015372078, 0.5567252728753825, 0.4781708044664431, 0.49026046224474157, 0.4785451391021544]}, {\"categories\": [\"0\", \"1\", \"2\", \"3\", \"4\", \"5\", \"6\", \"7\", \"8\", \"9\", \"10\", \"11\", \"12\", \"13\", \"14\", \"15\", \"16\", \"17\", \"18\", \"19\", \"20\", \"21\", \"22\", \"23\", \"24\", \"25\", \"26\", \"27\", \"28\", \"29\", \"30\", \"31\", \"32\", \"33\", \"34\"], \"mode\": \"lines\", \"name\": \"log_loss_min\", \"stepped\": true, \"type\": \"scatter\", \"data\": [0.62702930996628, 0.48040462908306597, 0.48040462908306597, 0.48040462908306597, 0.48040462908306597, 0.48040462908306597, 0.48040462908306597, 0.48040462908306597, 0.48040462908306597, 0.48040462908306597, 0.48040462908306597, 0.48040462908306597, 0.48040462908306597, 0.48040462908306597, 0.48040462908306597, 0.48040462908306597, 0.48040462908306597, 0.47923121658083645, 0.47923121658083645, 0.47923121658083645, 0.47923121658083645, 0.47923121658083645, 0.47923121658083645, 0.4735263408357577, 0.4735263408357577, 0.4735263408357577, 0.4735263408357577, 0.4735263408357577, 0.4735263408357577, 0.4735263408357577, 0.4735263408357577, 0.4735263408357577, 0.4735263408357577, 0.4735263408357577, 0.4735263408357577]}], \"f1_score_micro\": [{\"categories\": [\"0\", \"1\", \"2\", \"3\", \"4\", \"5\", \"6\", \"7\", \"8\", \"9\", \"10\", \"11\", \"12\", \"13\", \"14\", \"15\", \"16\", \"17\", \"18\", \"19\", \"20\", \"21\", \"22\", \"23\", \"24\", \"25\", \"26\", \"27\", \"28\", \"29\", \"30\", \"31\", \"32\", \"33\", \"34\"], \"mode\": \"markers\", \"name\": \"f1_score_micro\", \"stepped\": false, \"type\": \"scatter\", \"data\": [0.7435277141159494, 0.7656395891690009, 0.7631100925218572, 0.7383838383838384, 0.7656395891690009, 0.7017655547067312, 0.718860877684407, 0.7110262286732875, 0.6484678719972838, 0.7617604617604617, 0.7604872251931075, 0.751362363127069, 0.7448518801459978, 0.7682624564977505, 0.7474068415244886, 0.7695951107715813, 0.691545709192768, 0.7656905186316949, 0.7343943638061285, 0.7031830914183855, 0.6915626856803326, 0.7591545709192767, 0.756574144809439, 0.7708598590951532, 0.6602325778796367, 0.6667430608607079, 0.7630676513029454, 0.7643408878702995, 0.7564892623716153, 0.752652576181988, 0.6511416687887276, 0.7396146337322808, 0.7656395891690009, 0.7851880145997792, 0.7734402852049911]}, {\"categories\": [\"0\", \"1\", \"2\", \"3\", \"4\", \"5\", \"6\", \"7\", \"8\", \"9\", \"10\", \"11\", \"12\", \"13\", \"14\", \"15\", \"16\", \"17\", \"18\", \"19\", \"20\", \"21\", \"22\", \"23\", \"24\", \"25\", \"26\", \"27\", \"28\", \"29\", \"30\", \"31\", \"32\", \"33\", \"34\"], \"mode\": \"lines\", \"name\": \"f1_score_micro_max\", \"stepped\": true, \"type\": \"scatter\", \"data\": [0.7435277141159494, 0.7656395891690009, 0.7656395891690009, 0.7656395891690009, 0.7656395891690009, 0.7656395891690009, 0.7656395891690009, 0.7656395891690009, 0.7656395891690009, 0.7656395891690009, 0.7656395891690009, 0.7656395891690009, 0.7656395891690009, 0.7682624564977505, 0.7682624564977505, 0.7695951107715813, 0.7695951107715813, 0.7695951107715813, 0.7695951107715813, 0.7695951107715813, 0.7695951107715813, 0.7695951107715813, 0.7695951107715813, 0.7708598590951532, 0.7708598590951532, 0.7708598590951532, 0.7708598590951532, 0.7708598590951532, 0.7708598590951532, 0.7708598590951532, 0.7708598590951532, 0.7708598590951532, 0.7708598590951532, 0.7851880145997792, 0.7851880145997792]}], \"precision_score_weighted\": [{\"categories\": [\"0\", \"1\", \"2\", \"3\", \"4\", \"5\", \"6\", \"7\", \"8\", \"9\", \"10\", \"11\", \"12\", \"13\", \"14\", \"15\", \"16\", \"17\", \"18\", \"19\", \"20\", \"21\", \"22\", \"23\", \"24\", \"25\", \"26\", \"27\", \"28\", \"29\", \"30\", \"31\", \"32\", \"33\", \"34\"], \"mode\": \"markers\", \"name\": \"precision_score_weighted\", \"stepped\": false, \"type\": \"scatter\", \"data\": [0.7422913189086859, 0.7669645066030578, 0.7601893332411958, 0.7395976211970379, 0.7869875189305431, 0.7339620661431491, 0.7115161895977773, 0.7024304162613891, 0.5918911276357762, 0.7565537047084676, 0.7543360200837255, 0.7479094391294201, 0.7561951677517434, 0.7686820578442385, 0.7462394955403763, 0.7696244720654124, 0.6826558866509245, 0.763140791409396, 0.7312380250793963, 0.693343958300922, 0.7499395525052985, 0.7588266055378025, 0.76004128197125, 0.7685995146014595, 0.7235409157050033, 0.649778663281906, 0.7610717829771566, 0.7620095219531832, 0.75381485625813, 0.7495722445531372, 0.4265500510508674, 0.7348379967684361, 0.7643790353353014, 0.784386776983734, 0.7689013377316504]}, {\"categories\": [\"0\", \"1\", \"2\", \"3\", \"4\", \"5\", \"6\", \"7\", \"8\", \"9\", \"10\", \"11\", \"12\", \"13\", \"14\", \"15\", \"16\", \"17\", \"18\", \"19\", \"20\", \"21\", \"22\", \"23\", \"24\", \"25\", \"26\", \"27\", \"28\", \"29\", \"30\", \"31\", \"32\", \"33\", \"34\"], \"mode\": \"lines\", \"name\": \"precision_score_weighted_max\", \"stepped\": true, \"type\": \"scatter\", \"data\": [0.7422913189086859, 0.7669645066030578, 0.7669645066030578, 0.7669645066030578, 0.7869875189305431, 0.7869875189305431, 0.7869875189305431, 0.7869875189305431, 0.7869875189305431, 0.7869875189305431, 0.7869875189305431, 0.7869875189305431, 0.7869875189305431, 0.7869875189305431, 0.7869875189305431, 0.7869875189305431, 0.7869875189305431, 0.7869875189305431, 0.7869875189305431, 0.7869875189305431, 0.7869875189305431, 0.7869875189305431, 0.7869875189305431, 0.7869875189305431, 0.7869875189305431, 0.7869875189305431, 0.7869875189305431, 0.7869875189305431, 0.7869875189305431, 0.7869875189305431, 0.7869875189305431, 0.7869875189305431, 0.7869875189305431, 0.7869875189305431, 0.7869875189305431]}], \"AUC_macro\": [{\"categories\": [\"0\", \"1\", \"2\", \"3\", \"4\", \"5\", \"6\", \"7\", \"8\", \"9\", \"10\", \"11\", \"12\", \"13\", \"14\", \"15\", \"16\", \"17\", \"18\", \"19\", \"20\", \"21\", \"22\", \"23\", \"24\", \"25\", \"26\", \"27\", \"28\", \"29\", \"30\", \"31\", \"32\", \"33\", \"34\"], \"mode\": \"markers\", \"name\": \"AUC_macro\", \"stepped\": false, \"type\": \"scatter\", \"data\": [0.8062007971845107, 0.8324149004567104, 0.824503282138901, 0.815909524649274, 0.8295369073598053, 0.7938530655768851, 0.7660757757340357, 0.750158214052964, 0.6971397124948764, 0.8269311165038247, 0.8237673048565582, 0.8324480262427827, 0.8196482134270203, 0.8097163236129455, 0.8293667821011453, 0.8215315620275468, 0.7514026105725903, 0.8353983570196322, 0.8167540349324515, 0.7433235236512271, 0.7928013014153359, 0.8382713607976304, 0.8285513565388394, 0.836186114342002, 0.7139430320958928, 0.646924142509637, 0.8329957198376132, 0.8291455282044424, 0.8379432389273331, 0.8298858118028015, 0.8216223674783368, 0.79426017478707, 0.8299635782946924, 0.838447800591115, 0.8407773511456489]}, {\"categories\": [\"0\", \"1\", \"2\", \"3\", \"4\", \"5\", \"6\", \"7\", \"8\", \"9\", \"10\", \"11\", \"12\", \"13\", \"14\", \"15\", \"16\", \"17\", \"18\", \"19\", \"20\", \"21\", \"22\", \"23\", \"24\", \"25\", \"26\", \"27\", \"28\", \"29\", \"30\", \"31\", \"32\", \"33\", \"34\"], \"mode\": \"lines\", \"name\": \"AUC_macro_max\", \"stepped\": true, \"type\": \"scatter\", \"data\": [0.8062007971845107, 0.8324149004567104, 0.8324149004567104, 0.8324149004567104, 0.8324149004567104, 0.8324149004567104, 0.8324149004567104, 0.8324149004567104, 0.8324149004567104, 0.8324149004567104, 0.8324149004567104, 0.8324480262427827, 0.8324480262427827, 0.8324480262427827, 0.8324480262427827, 0.8324480262427827, 0.8324480262427827, 0.8353983570196322, 0.8353983570196322, 0.8353983570196322, 0.8353983570196322, 0.8382713607976304, 0.8382713607976304, 0.8382713607976304, 0.8382713607976304, 0.8382713607976304, 0.8382713607976304, 0.8382713607976304, 0.8382713607976304, 0.8382713607976304, 0.8382713607976304, 0.8382713607976304, 0.8382713607976304, 0.838447800591115, 0.8407773511456489]}], \"precision_score_micro\": [{\"categories\": [\"0\", \"1\", \"2\", \"3\", \"4\", \"5\", \"6\", \"7\", \"8\", \"9\", \"10\", \"11\", \"12\", \"13\", \"14\", \"15\", \"16\", \"17\", \"18\", \"19\", \"20\", \"21\", \"22\", \"23\", \"24\", \"25\", \"26\", \"27\", \"28\", \"29\", \"30\", \"31\", \"32\", \"33\", \"34\"], \"mode\": \"markers\", \"name\": \"precision_score_micro\", \"stepped\": false, \"type\": \"scatter\", \"data\": [0.7435277141159494, 0.7656395891690009, 0.7631100925218572, 0.7383838383838384, 0.7656395891690009, 0.7017655547067312, 0.718860877684407, 0.7110262286732875, 0.6484678719972838, 0.7617604617604619, 0.7604872251931075, 0.7513623631270689, 0.7448518801459978, 0.7682624564977505, 0.7474068415244887, 0.7695951107715814, 0.691545709192768, 0.765690518631695, 0.7343943638061285, 0.7031830914183855, 0.6915626856803329, 0.7591545709192768, 0.756574144809439, 0.7708598590951532, 0.6602325778796367, 0.6667430608607079, 0.7630676513029454, 0.7643408878702995, 0.7564892623716153, 0.752652576181988, 0.6511416687887276, 0.7396146337322808, 0.7656395891690009, 0.7851880145997793, 0.7734402852049911]}, {\"categories\": [\"0\", \"1\", \"2\", \"3\", \"4\", \"5\", \"6\", \"7\", \"8\", \"9\", \"10\", \"11\", \"12\", \"13\", \"14\", \"15\", \"16\", \"17\", \"18\", \"19\", \"20\", \"21\", \"22\", \"23\", \"24\", \"25\", \"26\", \"27\", \"28\", \"29\", \"30\", \"31\", \"32\", \"33\", \"34\"], \"mode\": \"lines\", \"name\": \"precision_score_micro_max\", \"stepped\": true, \"type\": \"scatter\", \"data\": [0.7435277141159494, 0.7656395891690009, 0.7656395891690009, 0.7656395891690009, 0.7656395891690009, 0.7656395891690009, 0.7656395891690009, 0.7656395891690009, 0.7656395891690009, 0.7656395891690009, 0.7656395891690009, 0.7656395891690009, 0.7656395891690009, 0.7682624564977505, 0.7682624564977505, 0.7695951107715814, 0.7695951107715814, 0.7695951107715814, 0.7695951107715814, 0.7695951107715814, 0.7695951107715814, 0.7695951107715814, 0.7695951107715814, 0.7708598590951532, 0.7708598590951532, 0.7708598590951532, 0.7708598590951532, 0.7708598590951532, 0.7708598590951532, 0.7708598590951532, 0.7708598590951532, 0.7708598590951532, 0.7708598590951532, 0.7851880145997793, 0.7851880145997793]}], \"balanced_accuracy\": [{\"categories\": [\"0\", \"1\", \"2\", \"3\", \"4\", \"5\", \"6\", \"7\", \"8\", \"9\", \"10\", \"11\", \"12\", \"13\", \"14\", \"15\", \"16\", \"17\", \"18\", \"19\", \"20\", \"21\", \"22\", \"23\", \"24\", \"25\", \"26\", \"27\", \"28\", \"29\", \"30\", \"31\", \"32\", \"33\", \"34\"], \"mode\": \"markers\", \"name\": \"balanced_accuracy\", \"stepped\": false, \"type\": \"scatter\", \"data\": [0.7104731774264245, 0.7333555620308326, 0.7116889019261784, 0.6608232781411457, 0.767912969296815, 0.7057620452628917, 0.6659595592025392, 0.6515131463515089, 0.5438204909451553, 0.7084703127202168, 0.7115316902572946, 0.6862562966659728, 0.660911150486673, 0.7131587060949854, 0.669449533468897, 0.7195815011273605, 0.6312449043073906, 0.7211326428497324, 0.6923433797253733, 0.6417796657934574, 0.5738357131420817, 0.6901813457552841, 0.6849028314096243, 0.7253317743333907, 0.5365255045484686, 0.5710995318223664, 0.7248862911807674, 0.6984245822436412, 0.7051525319191521, 0.6844056281301993, 0.5, 0.692262758176065, 0.7268703560570204, 0.7354793698621661, 0.7196509209689973]}, {\"categories\": [\"0\", \"1\", \"2\", \"3\", \"4\", \"5\", \"6\", \"7\", \"8\", \"9\", \"10\", \"11\", \"12\", \"13\", \"14\", \"15\", \"16\", \"17\", \"18\", \"19\", \"20\", \"21\", \"22\", \"23\", \"24\", \"25\", \"26\", \"27\", \"28\", \"29\", \"30\", \"31\", \"32\", \"33\", \"34\"], \"mode\": \"lines\", \"name\": \"balanced_accuracy_max\", \"stepped\": true, \"type\": \"scatter\", \"data\": [0.7104731774264245, 0.7333555620308326, 0.7333555620308326, 0.7333555620308326, 0.767912969296815, 0.767912969296815, 0.767912969296815, 0.767912969296815, 0.767912969296815, 0.767912969296815, 0.767912969296815, 0.767912969296815, 0.767912969296815, 0.767912969296815, 0.767912969296815, 0.767912969296815, 0.767912969296815, 0.767912969296815, 0.767912969296815, 0.767912969296815, 0.767912969296815, 0.767912969296815, 0.767912969296815, 0.767912969296815, 0.767912969296815, 0.767912969296815, 0.767912969296815, 0.767912969296815, 0.767912969296815, 0.767912969296815, 0.767912969296815, 0.767912969296815, 0.767912969296815, 0.767912969296815, 0.767912969296815]}], \"accuracy\": [{\"categories\": [\"0\", \"1\", \"2\", \"3\", \"4\", \"5\", \"6\", \"7\", \"8\", \"9\", \"10\", \"11\", \"12\", \"13\", \"14\", \"15\", \"16\", \"17\", \"18\", \"19\", \"20\", \"21\", \"22\", \"23\", \"24\", \"25\", \"26\", \"27\", \"28\", \"29\", \"30\", \"31\", \"32\", \"33\", \"34\"], \"mode\": \"markers\", \"name\": \"accuracy\", \"stepped\": false, \"type\": \"scatter\", \"data\": [0.7435277141159494, 0.7656395891690009, 0.7631100925218572, 0.7383838383838384, 0.7656395891690009, 0.7017655547067312, 0.718860877684407, 0.7110262286732875, 0.6484678719972838, 0.7617604617604619, 0.7604872251931075, 0.7513623631270689, 0.7448518801459978, 0.7682624564977505, 0.7474068415244887, 0.7695951107715814, 0.691545709192768, 0.765690518631695, 0.7343943638061285, 0.7031830914183855, 0.6915626856803329, 0.7591545709192768, 0.756574144809439, 0.7708598590951532, 0.6602325778796367, 0.6667430608607079, 0.7630676513029454, 0.7643408878702995, 0.7564892623716153, 0.752652576181988, 0.6511416687887276, 0.7396146337322808, 0.7656395891690009, 0.7851880145997793, 0.7734402852049911]}, {\"categories\": [\"0\", \"1\", \"2\", \"3\", \"4\", \"5\", \"6\", \"7\", \"8\", \"9\", \"10\", \"11\", \"12\", \"13\", \"14\", \"15\", \"16\", \"17\", \"18\", \"19\", \"20\", \"21\", \"22\", \"23\", \"24\", \"25\", \"26\", \"27\", \"28\", \"29\", \"30\", \"31\", \"32\", \"33\", \"34\"], \"mode\": \"lines\", \"name\": \"accuracy_max\", \"stepped\": true, \"type\": \"scatter\", \"data\": [0.7435277141159494, 0.7656395891690009, 0.7656395891690009, 0.7656395891690009, 0.7656395891690009, 0.7656395891690009, 0.7656395891690009, 0.7656395891690009, 0.7656395891690009, 0.7656395891690009, 0.7656395891690009, 0.7656395891690009, 0.7656395891690009, 0.7682624564977505, 0.7682624564977505, 0.7695951107715814, 0.7695951107715814, 0.7695951107715814, 0.7695951107715814, 0.7695951107715814, 0.7695951107715814, 0.7695951107715814, 0.7695951107715814, 0.7708598590951532, 0.7708598590951532, 0.7708598590951532, 0.7708598590951532, 0.7708598590951532, 0.7708598590951532, 0.7708598590951532, 0.7708598590951532, 0.7708598590951532, 0.7708598590951532, 0.7851880145997793, 0.7851880145997793]}], \"f1_score_macro\": [{\"categories\": [\"0\", \"1\", \"2\", \"3\", \"4\", \"5\", \"6\", \"7\", \"8\", \"9\", \"10\", \"11\", \"12\", \"13\", \"14\", \"15\", \"16\", \"17\", \"18\", \"19\", \"20\", \"21\", \"22\", \"23\", \"24\", \"25\", \"26\", \"27\", \"28\", \"29\", \"30\", \"31\", \"32\", \"33\", \"34\"], \"mode\": \"markers\", \"name\": \"f1_score_macro\", \"stepped\": false, \"type\": \"scatter\", \"data\": [0.7110567297826602, 0.7345738794182582, 0.7199800963095113, 0.6660835387220623, 0.7508163982315619, 0.687328728668142, 0.6695423199560285, 0.6557501423243692, 0.4955795022259055, 0.7167586559418135, 0.7196519093218747, 0.6954831796445823, 0.6672800170313298, 0.7222107295619971, 0.6773310328489138, 0.7280893658517833, 0.6335647536549452, 0.7270794945014348, 0.694546485001365, 0.6460484175482464, 0.5266813881967252, 0.7009091625881659, 0.6945329656482533, 0.7320039786431431, 0.4676332798820069, 0.5609353801176288, 0.7287817919436421, 0.7093522812944764, 0.7117657197056033, 0.6947975033204765, 0.39381232791863974, 0.6971576938234607, 0.730760046267663, 0.7451787764724928, 0.7287240919051952]}, {\"categories\": [\"0\", \"1\", \"2\", \"3\", \"4\", \"5\", \"6\", \"7\", \"8\", \"9\", \"10\", \"11\", \"12\", \"13\", \"14\", \"15\", \"16\", \"17\", \"18\", \"19\", \"20\", \"21\", \"22\", \"23\", \"24\", \"25\", \"26\", \"27\", \"28\", \"29\", \"30\", \"31\", \"32\", \"33\", \"34\"], \"mode\": \"lines\", \"name\": \"f1_score_macro_max\", \"stepped\": true, \"type\": \"scatter\", \"data\": [0.7110567297826602, 0.7345738794182582, 0.7345738794182582, 0.7345738794182582, 0.7508163982315619, 0.7508163982315619, 0.7508163982315619, 0.7508163982315619, 0.7508163982315619, 0.7508163982315619, 0.7508163982315619, 0.7508163982315619, 0.7508163982315619, 0.7508163982315619, 0.7508163982315619, 0.7508163982315619, 0.7508163982315619, 0.7508163982315619, 0.7508163982315619, 0.7508163982315619, 0.7508163982315619, 0.7508163982315619, 0.7508163982315619, 0.7508163982315619, 0.7508163982315619, 0.7508163982315619, 0.7508163982315619, 0.7508163982315619, 0.7508163982315619, 0.7508163982315619, 0.7508163982315619, 0.7508163982315619, 0.7508163982315619, 0.7508163982315619, 0.7508163982315619]}], \"average_precision_score_micro\": [{\"categories\": [\"0\", \"1\", \"2\", \"3\", \"4\", \"5\", \"6\", \"7\", \"8\", \"9\", \"10\", \"11\", \"12\", \"13\", \"14\", \"15\", \"16\", \"17\", \"18\", \"19\", \"20\", \"21\", \"22\", \"23\", \"24\", \"25\", \"26\", \"27\", \"28\", \"29\", \"30\", \"31\", \"32\", \"33\", \"34\"], \"mode\": \"markers\", \"name\": \"average_precision_score_micro\", \"stepped\": false, \"type\": \"scatter\", \"data\": [0.8327853787564277, 0.8532463783590838, 0.8452178476035765, 0.8347407723030884, 0.840501873828394, 0.7964564713978259, 0.8035091285138671, 0.7841739193583097, 0.727791529370266, 0.8474588363656702, 0.8441031407667055, 0.849372041277866, 0.8283770060957923, 0.83053758945992, 0.8442146391925178, 0.8400316836938634, 0.7860600179819284, 0.8547189952754015, 0.8409451362764917, 0.780102632301887, 0.8008967715329505, 0.8511967102154283, 0.8430406444086621, 0.8568718080432273, 0.7490616050498112, 0.6774430438647695, 0.8538166196719044, 0.8451685858477254, 0.8586132647219678, 0.847088076380756, 0.8086503137073869, 0.820346859319131, 0.8513402169405708, 0.8591377401807783, 0.8613821132952889]}, {\"categories\": [\"0\", \"1\", \"2\", \"3\", \"4\", \"5\", \"6\", \"7\", \"8\", \"9\", \"10\", \"11\", \"12\", \"13\", \"14\", \"15\", \"16\", \"17\", \"18\", \"19\", \"20\", \"21\", \"22\", \"23\", \"24\", \"25\", \"26\", \"27\", \"28\", \"29\", \"30\", \"31\", \"32\", \"33\", \"34\"], \"mode\": \"lines\", \"name\": \"average_precision_score_micro_max\", \"stepped\": true, \"type\": \"scatter\", \"data\": [0.8327853787564277, 0.8532463783590838, 0.8532463783590838, 0.8532463783590838, 0.8532463783590838, 0.8532463783590838, 0.8532463783590838, 0.8532463783590838, 0.8532463783590838, 0.8532463783590838, 0.8532463783590838, 0.8532463783590838, 0.8532463783590838, 0.8532463783590838, 0.8532463783590838, 0.8532463783590838, 0.8532463783590838, 0.8547189952754015, 0.8547189952754015, 0.8547189952754015, 0.8547189952754015, 0.8547189952754015, 0.8547189952754015, 0.8568718080432273, 0.8568718080432273, 0.8568718080432273, 0.8568718080432273, 0.8568718080432273, 0.8586132647219678, 0.8586132647219678, 0.8586132647219678, 0.8586132647219678, 0.8586132647219678, 0.8591377401807783, 0.8613821132952889]}], \"weighted_accuracy\": [{\"categories\": [\"0\", \"1\", \"2\", \"3\", \"4\", \"5\", \"6\", \"7\", \"8\", \"9\", \"10\", \"11\", \"12\", \"13\", \"14\", \"15\", \"16\", \"17\", \"18\", \"19\", \"20\", \"21\", \"22\", \"23\", \"24\", \"25\", \"26\", \"27\", \"28\", \"29\", \"30\", \"31\", \"32\", \"33\", \"34\"], \"mode\": \"markers\", \"name\": \"weighted_accuracy\", \"stepped\": false, \"type\": \"scatter\", \"data\": [0.7692349431628938, 0.7906595742312594, 0.8037887592815156, 0.7995004357705492, 0.7643065763203751, 0.6988439228377474, 0.7611297202652938, 0.7579924122975384, 0.7347270245101865, 0.803269398939824, 0.7973794005509374, 0.8025264235508487, 0.811126076902984, 0.8117980132034847, 0.807476535700738, 0.8086071962998101, 0.7395886207474287, 0.8007629011703562, 0.7667145773763393, 0.7512290497182608, 0.7868392686966084, 0.8127546168614422, 0.8130292105911646, 0.8065508121078, 0.7610222940817927, 0.7417753312171305, 0.792418008110102, 0.8152351504496747, 0.7964058841618702, 0.804981866892515, 0.7698004941684061, 0.7761590985642878, 0.7952507520712734, 0.8238366497696088, 0.8141530178178599]}, {\"categories\": [\"0\", \"1\", \"2\", \"3\", \"4\", \"5\", \"6\", \"7\", \"8\", \"9\", \"10\", \"11\", \"12\", \"13\", \"14\", \"15\", \"16\", \"17\", \"18\", \"19\", \"20\", \"21\", \"22\", \"23\", \"24\", \"25\", \"26\", \"27\", \"28\", \"29\", \"30\", \"31\", \"32\", \"33\", \"34\"], \"mode\": \"lines\", \"name\": \"weighted_accuracy_max\", \"stepped\": true, \"type\": \"scatter\", \"data\": [0.7692349431628938, 0.7906595742312594, 0.8037887592815156, 0.8037887592815156, 0.8037887592815156, 0.8037887592815156, 0.8037887592815156, 0.8037887592815156, 0.8037887592815156, 0.8037887592815156, 0.8037887592815156, 0.8037887592815156, 0.811126076902984, 0.8117980132034847, 0.8117980132034847, 0.8117980132034847, 0.8117980132034847, 0.8117980132034847, 0.8117980132034847, 0.8117980132034847, 0.8117980132034847, 0.8127546168614422, 0.8130292105911646, 0.8130292105911646, 0.8130292105911646, 0.8130292105911646, 0.8130292105911646, 0.8152351504496747, 0.8152351504496747, 0.8152351504496747, 0.8152351504496747, 0.8152351504496747, 0.8152351504496747, 0.8238366497696088, 0.8238366497696088]}], \"precision_score_macro\": [{\"categories\": [\"0\", \"1\", \"2\", \"3\", \"4\", \"5\", \"6\", \"7\", \"8\", \"9\", \"10\", \"11\", \"12\", \"13\", \"14\", \"15\", \"16\", \"17\", \"18\", \"19\", \"20\", \"21\", \"22\", \"23\", \"24\", \"25\", \"26\", \"27\", \"28\", \"29\", \"30\", \"31\", \"32\", \"33\", \"34\"], \"mode\": \"markers\", \"name\": \"precision_score_macro\", \"stepped\": false, \"type\": \"scatter\", \"data\": [0.7143475727069413, 0.7406688342517045, 0.7459597620624093, 0.7315725179266725, 0.7478925323938194, 0.6884257677522616, 0.6888042471539706, 0.6796406069772238, 0.5497013636174286, 0.7408454836478848, 0.7359452984955741, 0.7381644191261676, 0.7551296460447166, 0.7555216454114074, 0.7357082751165097, 0.7542431022889781, 0.6579780898346377, 0.7441100788888677, 0.7043122537380226, 0.6684307637985493, 0.7664007431110309, 0.7505228124045968, 0.7535313231867681, 0.7499116804115787, 0.7301826200777732, 0.6229737617290605, 0.7373941405621055, 0.7523752101003505, 0.7330564631551999, 0.7400679466871797, 0.3255708343943638, 0.7107904155019187, 0.7404048458674929, 0.7709647814567365, 0.7518230816472589]}, {\"categories\": [\"0\", \"1\", \"2\", \"3\", \"4\", \"5\", \"6\", \"7\", \"8\", \"9\", \"10\", \"11\", \"12\", \"13\", \"14\", \"15\", \"16\", \"17\", \"18\", \"19\", \"20\", \"21\", \"22\", \"23\", \"24\", \"25\", \"26\", \"27\", \"28\", \"29\", \"30\", \"31\", \"32\", \"33\", \"34\"], \"mode\": \"lines\", \"name\": \"precision_score_macro_max\", \"stepped\": true, \"type\": \"scatter\", \"data\": [0.7143475727069413, 0.7406688342517045, 0.7459597620624093, 0.7459597620624093, 0.7478925323938194, 0.7478925323938194, 0.7478925323938194, 0.7478925323938194, 0.7478925323938194, 0.7478925323938194, 0.7478925323938194, 0.7478925323938194, 0.7551296460447166, 0.7555216454114074, 0.7555216454114074, 0.7555216454114074, 0.7555216454114074, 0.7555216454114074, 0.7555216454114074, 0.7555216454114074, 0.7664007431110309, 0.7664007431110309, 0.7664007431110309, 0.7664007431110309, 0.7664007431110309, 0.7664007431110309, 0.7664007431110309, 0.7664007431110309, 0.7664007431110309, 0.7664007431110309, 0.7664007431110309, 0.7664007431110309, 0.7664007431110309, 0.7709647814567365, 0.7709647814567365]}], \"recall_score_macro\": [{\"categories\": [\"0\", \"1\", \"2\", \"3\", \"4\", \"5\", \"6\", \"7\", \"8\", \"9\", \"10\", \"11\", \"12\", \"13\", \"14\", \"15\", \"16\", \"17\", \"18\", \"19\", \"20\", \"21\", \"22\", \"23\", \"24\", \"25\", \"26\", \"27\", \"28\", \"29\", \"30\", \"31\", \"32\", \"33\", \"34\"], \"mode\": \"markers\", \"name\": \"recall_score_macro\", \"stepped\": false, \"type\": \"scatter\", \"data\": [0.7104731774264245, 0.7333555620308326, 0.7116889019261784, 0.6608232781411457, 0.767912969296815, 0.7057620452628917, 0.6659595592025392, 0.6515131463515089, 0.5438204909451553, 0.7084703127202168, 0.7115316902572946, 0.6862562966659728, 0.660911150486673, 0.7131587060949854, 0.669449533468897, 0.7195815011273605, 0.6312449043073906, 0.7211326428497324, 0.6923433797253733, 0.6417796657934574, 0.5738357131420817, 0.6901813457552841, 0.6849028314096243, 0.7253317743333907, 0.5365255045484686, 0.5710995318223664, 0.7248862911807674, 0.6984245822436412, 0.7051525319191521, 0.6844056281301993, 0.5, 0.692262758176065, 0.7268703560570204, 0.7354793698621661, 0.7196509209689973]}, {\"categories\": [\"0\", \"1\", \"2\", \"3\", \"4\", \"5\", \"6\", \"7\", \"8\", \"9\", \"10\", \"11\", \"12\", \"13\", \"14\", \"15\", \"16\", \"17\", \"18\", \"19\", \"20\", \"21\", \"22\", \"23\", \"24\", \"25\", \"26\", \"27\", \"28\", \"29\", \"30\", \"31\", \"32\", \"33\", \"34\"], \"mode\": \"lines\", \"name\": \"recall_score_macro_max\", \"stepped\": true, \"type\": \"scatter\", \"data\": [0.7104731774264245, 0.7333555620308326, 0.7333555620308326, 0.7333555620308326, 0.767912969296815, 0.767912969296815, 0.767912969296815, 0.767912969296815, 0.767912969296815, 0.767912969296815, 0.767912969296815, 0.767912969296815, 0.767912969296815, 0.767912969296815, 0.767912969296815, 0.767912969296815, 0.767912969296815, 0.767912969296815, 0.767912969296815, 0.767912969296815, 0.767912969296815, 0.767912969296815, 0.767912969296815, 0.767912969296815, 0.767912969296815, 0.767912969296815, 0.767912969296815, 0.767912969296815, 0.767912969296815, 0.767912969296815, 0.767912969296815, 0.767912969296815, 0.767912969296815, 0.767912969296815, 0.767912969296815]}], \"matthews_correlation\": [{\"categories\": [\"0\", \"1\", \"2\", \"3\", \"4\", \"5\", \"6\", \"7\", \"8\", \"9\", \"10\", \"11\", \"12\", \"13\", \"14\", \"15\", \"16\", \"17\", \"18\", \"19\", \"20\", \"21\", \"22\", \"23\", \"24\", \"25\", \"26\", \"27\", \"28\", \"29\", \"30\", \"31\", \"32\", \"33\", \"34\"], \"mode\": \"markers\", \"name\": \"matthews_correlation\", \"stepped\": false, \"type\": \"scatter\", \"data\": [0.4246377532584085, 0.4736437134256053, 0.45613342040953536, 0.3849686212903264, 0.5150079055415139, 0.3935056630587025, 0.3536736003429463, 0.3296689207197475, 0.10804772018981312, 0.4480240341665862, 0.4467159366624502, 0.42099121117783256, 0.40487511299232654, 0.4663102387993311, 0.3992591464532271, 0.4720759687480867, 0.2874775870451614, 0.4643574109422179, 0.3961200575269794, 0.308897005200673, 0.25453963051599227, 0.43644212050863374, 0.43277223199228987, 0.47436377582377515, 0.16184081790019483, 0.18658179183000112, 0.46194514153937216, 0.44742264506195967, 0.43699121242061745, 0.42035140006271804, 0.0, 0.4024050316440885, 0.4668235250529764, 0.5049694976695853, 0.4702217194272281]}, {\"categories\": [\"0\", \"1\", \"2\", \"3\", \"4\", \"5\", \"6\", \"7\", \"8\", \"9\", \"10\", \"11\", \"12\", \"13\", \"14\", \"15\", \"16\", \"17\", \"18\", \"19\", \"20\", \"21\", \"22\", \"23\", \"24\", \"25\", \"26\", \"27\", \"28\", \"29\", \"30\", \"31\", \"32\", \"33\", \"34\"], \"mode\": \"lines\", \"name\": \"matthews_correlation_max\", \"stepped\": true, \"type\": \"scatter\", \"data\": [0.4246377532584085, 0.4736437134256053, 0.4736437134256053, 0.4736437134256053, 0.5150079055415139, 0.5150079055415139, 0.5150079055415139, 0.5150079055415139, 0.5150079055415139, 0.5150079055415139, 0.5150079055415139, 0.5150079055415139, 0.5150079055415139, 0.5150079055415139, 0.5150079055415139, 0.5150079055415139, 0.5150079055415139, 0.5150079055415139, 0.5150079055415139, 0.5150079055415139, 0.5150079055415139, 0.5150079055415139, 0.5150079055415139, 0.5150079055415139, 0.5150079055415139, 0.5150079055415139, 0.5150079055415139, 0.5150079055415139, 0.5150079055415139, 0.5150079055415139, 0.5150079055415139, 0.5150079055415139, 0.5150079055415139, 0.5150079055415139, 0.5150079055415139]}], \"f1_score_weighted\": [{\"categories\": [\"0\", \"1\", \"2\", \"3\", \"4\", \"5\", \"6\", \"7\", \"8\", \"9\", \"10\", \"11\", \"12\", \"13\", \"14\", \"15\", \"16\", \"17\", \"18\", \"19\", \"20\", \"21\", \"22\", \"23\", \"24\", \"25\", \"26\", \"27\", \"28\", \"29\", \"30\", \"31\", \"32\", \"33\", \"34\"], \"mode\": \"markers\", \"name\": \"f1_score_weighted\", \"stepped\": false, \"type\": \"scatter\", \"data\": [0.7417695202219394, 0.7642691151373454, 0.7541023061760116, 0.7142858898192566, 0.7705795219199546, 0.7096454837067273, 0.7084351228263952, 0.6983345257108604, 0.57560877087662, 0.7524764800659625, 0.7541253143985281, 0.7358183476687916, 0.7173332581072069, 0.7581895994889724, 0.7263033197713257, 0.7621537594041591, 0.6776512177835418, 0.7596671335828268, 0.7295589938189513, 0.6905096442225045, 0.6069118138582053, 0.7430235283150545, 0.7378833553937312, 0.7649050629488918, 0.5598396249372403, 0.6282690492162035, 0.7600345498899965, 0.7500346883888275, 0.7488689160386157, 0.7372010234198063, 0.5146586817401758, 0.7334661476269603, 0.7625386340526964, 0.7779614809772879, 0.7653322260464488]}, {\"categories\": [\"0\", \"1\", \"2\", \"3\", \"4\", \"5\", \"6\", \"7\", \"8\", \"9\", \"10\", \"11\", \"12\", \"13\", \"14\", \"15\", \"16\", \"17\", \"18\", \"19\", \"20\", \"21\", \"22\", \"23\", \"24\", \"25\", \"26\", \"27\", \"28\", \"29\", \"30\", \"31\", \"32\", \"33\", \"34\"], \"mode\": \"lines\", \"name\": \"f1_score_weighted_max\", \"stepped\": true, \"type\": \"scatter\", \"data\": [0.7417695202219394, 0.7642691151373454, 0.7642691151373454, 0.7642691151373454, 0.7705795219199546, 0.7705795219199546, 0.7705795219199546, 0.7705795219199546, 0.7705795219199546, 0.7705795219199546, 0.7705795219199546, 0.7705795219199546, 0.7705795219199546, 0.7705795219199546, 0.7705795219199546, 0.7705795219199546, 0.7705795219199546, 0.7705795219199546, 0.7705795219199546, 0.7705795219199546, 0.7705795219199546, 0.7705795219199546, 0.7705795219199546, 0.7705795219199546, 0.7705795219199546, 0.7705795219199546, 0.7705795219199546, 0.7705795219199546, 0.7705795219199546, 0.7705795219199546, 0.7705795219199546, 0.7705795219199546, 0.7705795219199546, 0.7779614809772879, 0.7779614809772879]}], \"AUC_micro\": [{\"categories\": [\"0\", \"1\", \"2\", \"3\", \"4\", \"5\", \"6\", \"7\", \"8\", \"9\", \"10\", \"11\", \"12\", \"13\", \"14\", \"15\", \"16\", \"17\", \"18\", \"19\", \"20\", \"21\", \"22\", \"23\", \"24\", \"25\", \"26\", \"27\", \"28\", \"29\", \"30\", \"31\", \"32\", \"33\", \"34\"], \"mode\": \"markers\", \"name\": \"AUC_micro\", \"stepped\": false, \"type\": \"scatter\", \"data\": [0.8308010717565983, 0.8534052480172104, 0.8439095211717629, 0.829333541875671, 0.8393828133893144, 0.7915681578992894, 0.8008986208502378, 0.7864944562603305, 0.7397627788399069, 0.8460051940616358, 0.8453302951026105, 0.8461387414217745, 0.8217643841057912, 0.8371045427479766, 0.8378389156126989, 0.8462292668377241, 0.7828501850334112, 0.8525468931878555, 0.8375436740893083, 0.783005079091, 0.7901330592915248, 0.8495174666492392, 0.8384046537104552, 0.8556677861191112, 0.7482517009756783, 0.7072852940668517, 0.8535636797436703, 0.8458237858603352, 0.8554301102496851, 0.8450741217641561, 0.7952606757966335, 0.8195069057349798, 0.8510764330219385, 0.8570264314516025, 0.8593262966433626]}, {\"categories\": [\"0\", \"1\", \"2\", \"3\", \"4\", \"5\", \"6\", \"7\", \"8\", \"9\", \"10\", \"11\", \"12\", \"13\", \"14\", \"15\", \"16\", \"17\", \"18\", \"19\", \"20\", \"21\", \"22\", \"23\", \"24\", \"25\", \"26\", \"27\", \"28\", \"29\", \"30\", \"31\", \"32\", \"33\", \"34\"], \"mode\": \"lines\", \"name\": \"AUC_micro_max\", \"stepped\": true, \"type\": \"scatter\", \"data\": [0.8308010717565983, 0.8534052480172104, 0.8534052480172104, 0.8534052480172104, 0.8534052480172104, 0.8534052480172104, 0.8534052480172104, 0.8534052480172104, 0.8534052480172104, 0.8534052480172104, 0.8534052480172104, 0.8534052480172104, 0.8534052480172104, 0.8534052480172104, 0.8534052480172104, 0.8534052480172104, 0.8534052480172104, 0.8534052480172104, 0.8534052480172104, 0.8534052480172104, 0.8534052480172104, 0.8534052480172104, 0.8534052480172104, 0.8556677861191112, 0.8556677861191112, 0.8556677861191112, 0.8556677861191112, 0.8556677861191112, 0.8556677861191112, 0.8556677861191112, 0.8556677861191112, 0.8556677861191112, 0.8556677861191112, 0.8570264314516025, 0.8593262966433626]}], \"AUC_weighted\": [{\"categories\": [\"0\", \"1\", \"2\", \"3\", \"4\", \"5\", \"6\", \"7\", \"8\", \"9\", \"10\", \"11\", \"12\", \"13\", \"14\", \"15\", \"16\", \"17\", \"18\", \"19\", \"20\", \"21\", \"22\", \"23\", \"24\", \"25\", \"26\", \"27\", \"28\", \"29\", \"30\", \"31\", \"32\", \"33\", \"34\"], \"mode\": \"markers\", \"name\": \"AUC_weighted\", \"stepped\": false, \"type\": \"scatter\", \"data\": [0.8062007971845107, 0.8324149004567104, 0.824503282138901, 0.815909524649274, 0.8295369073598053, 0.7938530655768851, 0.7660757757340357, 0.750158214052964, 0.6971397124948764, 0.8269311165038244, 0.8237673048565582, 0.8324480262427825, 0.8196482134270203, 0.8097163236129458, 0.8293667821011453, 0.8215315620275468, 0.7514026105725902, 0.8353983570196322, 0.8167540349324515, 0.7433235236512271, 0.7928013014153359, 0.8382713607976303, 0.8285513565388396, 0.8361861143420019, 0.7139430320958928, 0.646924142509637, 0.8329957198376132, 0.8291455282044424, 0.8379432389273331, 0.8298858118028015, 0.8216223674783368, 0.79426017478707, 0.8299635782946924, 0.838447800591115, 0.8407773511456489]}, {\"categories\": [\"0\", \"1\", \"2\", \"3\", \"4\", \"5\", \"6\", \"7\", \"8\", \"9\", \"10\", \"11\", \"12\", \"13\", \"14\", \"15\", \"16\", \"17\", \"18\", \"19\", \"20\", \"21\", \"22\", \"23\", \"24\", \"25\", \"26\", \"27\", \"28\", \"29\", \"30\", \"31\", \"32\", \"33\", \"34\"], \"mode\": \"lines\", \"name\": \"AUC_weighted_max\", \"stepped\": true, \"type\": \"scatter\", \"data\": [0.8062007971845107, 0.8324149004567104, 0.8324149004567104, 0.8324149004567104, 0.8324149004567104, 0.8324149004567104, 0.8324149004567104, 0.8324149004567104, 0.8324149004567104, 0.8324149004567104, 0.8324149004567104, 0.8324480262427825, 0.8324480262427825, 0.8324480262427825, 0.8324480262427825, 0.8324480262427825, 0.8324480262427825, 0.8353983570196322, 0.8353983570196322, 0.8353983570196322, 0.8353983570196322, 0.8382713607976303, 0.8382713607976303, 0.8382713607976303, 0.8382713607976303, 0.8382713607976303, 0.8382713607976303, 0.8382713607976303, 0.8382713607976303, 0.8382713607976303, 0.8382713607976303, 0.8382713607976303, 0.8382713607976303, 0.838447800591115, 0.8407773511456489]}]}, \"metricName\": null, \"primaryMetricName\": \"accuracy\", \"showLegend\": false}, \"run_metrics\": [{\"name\": \"experiment_status\", \"run_id\": \"AutoML_0eccbbce-21de-4ace-9209-a32fc27aa840\", \"categories\": [0, 1, 2, 3, 4, 5, 6, 7, 8, 9, 10, 11, 12, 13], \"series\": [{\"data\": [\"DatasetEvaluation\", \"FeaturesGeneration\", \"DatasetFeaturization\", \"DatasetFeaturizationCompleted\", \"DatasetCrossValidationSplit\", \"ModelSelection\", \"BestRunExplainModel\", \"ModelExplanationDataSetSetup\", \"PickSurrogateModel\", \"EngineeredFeatureExplanations\", \"EngineeredFeatureExplanations\", \"RawFeaturesExplanations\", \"RawFeaturesExplanations\", \"BestRunExplainModel\"]}]}, {\"name\": \"experiment_status_description\", \"run_id\": \"AutoML_0eccbbce-21de-4ace-9209-a32fc27aa840\", \"categories\": [0, 1, 2, 3, 4, 5, 6, 7, 8, 9, 10, 11, 12, 13], \"series\": [{\"data\": [\"Gathering dataset statistics.\", \"Generating features for the dataset.\", \"Beginning to fit featurizers and featurize the dataset.\", \"Completed fit featurizers and featurizing the dataset.\", \"Generating individually featurized CV splits.\", \"Beginning model selection.\", \"Best run model explanations started\", \"Model explanations data setup completed\", \"Choosing LightGBM as the surrogate model for explanations\", \"Computation of engineered features started\", \"Computation of engineered features completed\", \"Computation of raw features started\", \"Computation of raw features completed\", \"Best run model explanations completed\"]}]}, {\"name\": \"accuracy\", \"run_id\": \"AutoML_0eccbbce-21de-4ace-9209-a32fc27aa840\", \"categories\": [0], \"series\": [{\"data\": [0.7851880145997793]}]}, {\"name\": \"matthews_correlation\", \"run_id\": \"AutoML_0eccbbce-21de-4ace-9209-a32fc27aa840\", \"categories\": [0], \"series\": [{\"data\": [0.5049694976695853]}]}, {\"name\": \"f1_score_micro\", \"run_id\": \"AutoML_0eccbbce-21de-4ace-9209-a32fc27aa840\", \"categories\": [0], \"series\": [{\"data\": [0.7851880145997792]}]}, {\"name\": \"f1_score_weighted\", \"run_id\": \"AutoML_0eccbbce-21de-4ace-9209-a32fc27aa840\", \"categories\": [0], \"series\": [{\"data\": [0.7779614809772879]}]}, {\"name\": \"norm_macro_recall\", \"run_id\": \"AutoML_0eccbbce-21de-4ace-9209-a32fc27aa840\", \"categories\": [0], \"series\": [{\"data\": [0.47095873972433216]}]}, {\"name\": \"average_precision_score_macro\", \"run_id\": \"AutoML_0eccbbce-21de-4ace-9209-a32fc27aa840\", \"categories\": [0], \"series\": [{\"data\": [0.8206069325712531]}]}, {\"name\": \"recall_score_micro\", \"run_id\": \"AutoML_0eccbbce-21de-4ace-9209-a32fc27aa840\", \"categories\": [0], \"series\": [{\"data\": [0.7851880145997793]}]}, {\"name\": \"AUC_macro\", \"run_id\": \"AutoML_0eccbbce-21de-4ace-9209-a32fc27aa840\", \"categories\": [0], \"series\": [{\"data\": [0.838447800591115]}]}, {\"name\": \"AUC_micro\", \"run_id\": \"AutoML_0eccbbce-21de-4ace-9209-a32fc27aa840\", \"categories\": [0], \"series\": [{\"data\": [0.8570264314516025]}]}, {\"name\": \"recall_score_weighted\", \"run_id\": \"AutoML_0eccbbce-21de-4ace-9209-a32fc27aa840\", \"categories\": [0], \"series\": [{\"data\": [0.7851880145997793]}]}, {\"name\": \"f1_score_macro\", \"run_id\": \"AutoML_0eccbbce-21de-4ace-9209-a32fc27aa840\", \"categories\": [0], \"series\": [{\"data\": [0.7451787764724928]}]}, {\"name\": \"AUC_weighted\", \"run_id\": \"AutoML_0eccbbce-21de-4ace-9209-a32fc27aa840\", \"categories\": [0], \"series\": [{\"data\": [0.838447800591115]}]}, {\"name\": \"average_precision_score_weighted\", \"run_id\": \"AutoML_0eccbbce-21de-4ace-9209-a32fc27aa840\", \"categories\": [0], \"series\": [{\"data\": [0.849597425242146]}]}, {\"name\": \"precision_score_micro\", \"run_id\": \"AutoML_0eccbbce-21de-4ace-9209-a32fc27aa840\", \"categories\": [0], \"series\": [{\"data\": [0.7851880145997793]}]}, {\"name\": \"precision_score_weighted\", \"run_id\": \"AutoML_0eccbbce-21de-4ace-9209-a32fc27aa840\", \"categories\": [0], \"series\": [{\"data\": [0.784386776983734]}]}, {\"name\": \"average_precision_score_micro\", \"run_id\": \"AutoML_0eccbbce-21de-4ace-9209-a32fc27aa840\", \"categories\": [0], \"series\": [{\"data\": [0.8591377401807783]}]}, {\"name\": \"recall_score_macro\", \"run_id\": \"AutoML_0eccbbce-21de-4ace-9209-a32fc27aa840\", \"categories\": [0], \"series\": [{\"data\": [0.7354793698621661]}]}, {\"name\": \"weighted_accuracy\", \"run_id\": \"AutoML_0eccbbce-21de-4ace-9209-a32fc27aa840\", \"categories\": [0], \"series\": [{\"data\": [0.8238366497696088]}]}, {\"name\": \"balanced_accuracy\", \"run_id\": \"AutoML_0eccbbce-21de-4ace-9209-a32fc27aa840\", \"categories\": [0], \"series\": [{\"data\": [0.7354793698621661]}]}, {\"name\": \"log_loss\", \"run_id\": \"AutoML_0eccbbce-21de-4ace-9209-a32fc27aa840\", \"categories\": [0], \"series\": [{\"data\": [0.49026046224474157]}]}, {\"name\": \"precision_score_macro\", \"run_id\": \"AutoML_0eccbbce-21de-4ace-9209-a32fc27aa840\", \"categories\": [0], \"series\": [{\"data\": [0.7709647814567365]}]}], \"run_logs\": \"\\nRun is completed.\", \"graph\": {}, \"widget_settings\": {\"childWidgetDisplay\": \"popup\", \"send_telemetry\": false, \"log_level\": \"INFO\", \"sdk_version\": \"1.20.0\"}, \"loading\": false}"
     },
     "metadata": {},
     "output_type": "display_data"
    }
   ],
   "source": [
    "RunDetails(remote_run).show()"
   ]
  },
  {
   "cell_type": "code",
   "execution_count": 10,
   "metadata": {},
   "outputs": [
    {
     "name": "stdout",
     "output_type": "stream",
     "text": [
      "\n",
      "\n",
      "****************************************************************************************************\n",
      "DATA GUARDRAILS: \n",
      "\n",
      "TYPE:         Class balancing detection\n",
      "STATUS:       PASSED\n",
      "DESCRIPTION:  Your inputs were analyzed, and all classes are balanced in your training data.\n",
      "              Learn more about imbalanced data: https://aka.ms/AutomatedMLImbalancedData\n",
      "\n",
      "****************************************************************************************************\n",
      "\n",
      "TYPE:         Missing feature values imputation\n",
      "STATUS:       PASSED\n",
      "DESCRIPTION:  No feature missing values were detected in the training data.\n",
      "              Learn more about missing value imputation: https://aka.ms/AutomatedMLFeaturization\n",
      "\n",
      "****************************************************************************************************\n",
      "\n",
      "TYPE:         High cardinality feature detection\n",
      "STATUS:       PASSED\n",
      "DESCRIPTION:  Your inputs were analyzed, and no high cardinality features were detected.\n",
      "              Learn more about high cardinality feature handling: https://aka.ms/AutomatedMLFeaturization\n",
      "\n",
      "****************************************************************************************************\n",
      "\n",
      "****************************************************************************************************\n",
      "ITERATION: The iteration being evaluated.\n",
      "PIPELINE: A summary description of the pipeline being evaluated.\n",
      "DURATION: Time taken for the current iteration.\n",
      "METRIC: The result of computing score on the fitted pipeline.\n",
      "BEST: The best observed score thus far.\n",
      "****************************************************************************************************\n",
      "\n",
      " ITERATION   PIPELINE                                       DURATION      METRIC      BEST\n",
      "         0   MaxAbsScaler LightGBM                          0:00:51       0.7435    0.7435\n",
      "         1   MaxAbsScaler XGBoostClassifier                 0:00:53       0.7656    0.7656\n",
      "         2   MaxAbsScaler RandomForest                      0:00:53       0.7631    0.7656\n",
      "         3   MaxAbsScaler RandomForest                      0:01:00       0.7384    0.7656\n",
      "         4   MaxAbsScaler RandomForest                      0:02:07       0.7656    0.7656\n",
      "         5   MaxAbsScaler RandomForest                      0:01:58       0.7018    0.7656\n",
      "         6   SparseNormalizer XGBoostClassifier             0:01:52       0.7189    0.7656\n",
      "         7   SparseNormalizer XGBoostClassifier             0:00:55       0.7110    0.7656\n",
      "        10   MaxAbsScaler ExtremeRandomTrees                0:00:49       0.7605    0.7656\n",
      "        11   StandardScalerWrapper RandomForest             0:00:47       0.7514    0.7656\n",
      "         8   SparseNormalizer XGBoostClassifier             0:00:48       0.6485    0.7656\n",
      "         9   MaxAbsScaler RandomForest                      0:00:45       0.7618    0.7656\n",
      "        12   MaxAbsScaler ExtremeRandomTrees                0:00:56       0.7449    0.7656\n",
      "        13   MaxAbsScaler LogisticRegression                0:00:47       0.7683    0.7683\n",
      "        14   MaxAbsScaler LightGBM                          0:00:47       0.7474    0.7683\n",
      "        15   MaxAbsScaler LogisticRegression                0:00:53       0.7696    0.7696\n",
      "        16   SparseNormalizer XGBoostClassifier             0:00:45       0.6915    0.7696\n",
      "        17   MaxAbsScaler LightGBM                          0:00:52       0.7657    0.7696\n",
      "        18   StandardScalerWrapper LightGBM                 0:00:52       0.7344    0.7696\n",
      "        19   SparseNormalizer XGBoostClassifier             0:00:49       0.7032    0.7696\n",
      "        20   StandardScalerWrapper LightGBM                 0:00:59       0.6916    0.7696\n",
      "        21   MaxAbsScaler LightGBM                          0:00:49       0.7592    0.7696\n",
      "        22   MaxAbsScaler ExtremeRandomTrees                0:01:10       0.7566    0.7696\n",
      "        23   MaxAbsScaler GradientBoosting                  0:00:55       0.7709    0.7709\n",
      "        24   SparseNormalizer XGBoostClassifier             0:00:58       0.6602    0.7709\n",
      "        25   TruncatedSVDWrapper LogisticRegression         0:00:49       0.6667    0.7709\n",
      "        26   StandardScalerWrapper LightGBM                 0:00:48       0.7631    0.7709\n",
      "        27   StandardScalerWrapper XGBoostClassifier        0:00:42       0.7643    0.7709\n",
      "        28   MaxAbsScaler LightGBM                          0:00:42       0.7565    0.7709\n",
      "        29   MaxAbsScaler LightGBM                          0:00:45       0.7527    0.7709\n",
      "        30   MaxAbsScaler GradientBoosting                  0:00:55       0.6511    0.7709\n",
      "        31   StandardScalerWrapper XGBoostClassifier        0:00:45       0.7396    0.7709\n",
      "        32   MaxAbsScaler LightGBM                          0:00:52       0.7656    0.7709\n",
      "        33    VotingEnsemble                                0:01:29       0.7852    0.7852\n",
      "        34    StackEnsemble                                 0:01:37       0.7734    0.7852\n"
     ]
    },
    {
     "data": {
      "text/plain": [
       "{'runId': 'AutoML_0eccbbce-21de-4ace-9209-a32fc27aa840',\n",
       " 'target': 'project-cluster',\n",
       " 'status': 'Completed',\n",
       " 'startTimeUtc': '2021-01-30T15:14:48.521493Z',\n",
       " 'endTimeUtc': '2021-01-30T15:36:21.157067Z',\n",
       " 'properties': {'num_iterations': '35',\n",
       "  'training_type': 'TrainFull',\n",
       "  'acquisition_function': 'EI',\n",
       "  'primary_metric': 'accuracy',\n",
       "  'train_split': '0',\n",
       "  'acquisition_parameter': '0',\n",
       "  'num_cross_validation': '5',\n",
       "  'target': 'project-cluster',\n",
       "  'AMLSettingsJsonString': '{\"path\":null,\"name\":\"automl-exp\",\"subscription_id\":\"b968fb36-f06a-4c76-a15f-afab68ae7667\",\"resource_group\":\"aml-quickstarts-136609\",\"workspace_name\":\"quick-starts-ws-136609\",\"region\":\"southcentralus\",\"compute_target\":\"project-cluster\",\"spark_service\":null,\"azure_service\":\"remote\",\"many_models\":false,\"pipeline_fetch_max_batch_size\":1,\"iterations\":35,\"primary_metric\":\"accuracy\",\"task_type\":\"classification\",\"data_script\":null,\"validation_size\":0.0,\"n_cross_validations\":5,\"y_min\":null,\"y_max\":null,\"num_classes\":null,\"featurization\":\"auto\",\"_ignore_package_version_incompatibilities\":false,\"is_timeseries\":false,\"max_cores_per_iteration\":1,\"max_concurrent_iterations\":4,\"iteration_timeout_minutes\":null,\"mem_in_mb\":null,\"enforce_time_on_windows\":false,\"experiment_timeout_minutes\":40,\"experiment_exit_score\":null,\"whitelist_models\":null,\"blacklist_algos\":[\"TensorFlowLinearClassifier\",\"TensorFlowDNN\"],\"supported_models\":[\"LogisticRegression\",\"KNN\",\"LightGBM\",\"TensorFlowLinearClassifier\",\"ExtremeRandomTrees\",\"SVM\",\"AveragedPerceptronClassifier\",\"MultinomialNaiveBayes\",\"DecisionTree\",\"RandomForest\",\"TensorFlowDNN\",\"GradientBoosting\",\"BernoulliNaiveBayes\",\"LinearSVM\",\"SGD\",\"XGBoostClassifier\"],\"auto_blacklist\":true,\"blacklist_samples_reached\":false,\"exclude_nan_labels\":true,\"verbosity\":20,\"_debug_log\":\"azureml_automl.log\",\"show_warnings\":false,\"model_explainability\":true,\"service_url\":null,\"sdk_url\":null,\"sdk_packages\":null,\"enable_onnx_compatible_models\":false,\"enable_split_onnx_featurizer_estimator_models\":false,\"vm_type\":\"STANDARD_DS12_V2\",\"telemetry_verbosity\":20,\"send_telemetry\":true,\"enable_dnn\":false,\"scenario\":\"SDK-1.13.0\",\"environment_label\":null,\"force_text_dnn\":false,\"enable_feature_sweeping\":true,\"enable_early_stopping\":true,\"early_stopping_n_iters\":10,\"metrics\":null,\"enable_ensembling\":true,\"enable_stack_ensembling\":true,\"ensemble_iterations\":15,\"enable_tf\":false,\"enable_subsampling\":false,\"subsample_seed\":null,\"enable_nimbusml\":false,\"enable_streaming\":false,\"force_streaming\":false,\"track_child_runs\":true,\"allowed_private_models\":[],\"label_column_name\":\"Outcome\",\"weight_column_name\":null,\"cv_split_column_names\":null,\"enable_local_managed\":false,\"_local_managed_run_id\":null,\"cost_mode\":1,\"lag_length\":0,\"metric_operation\":\"maximize\",\"preprocess\":true}',\n",
       "  'DataPrepJsonString': '{\\\\\"training_data\\\\\": \\\\\"{\\\\\\\\\\\\\"blocks\\\\\\\\\\\\\": [{\\\\\\\\\\\\\"id\\\\\\\\\\\\\": \\\\\\\\\\\\\"46c9e481-a231-473e-9588-0a1202f50e3d\\\\\\\\\\\\\", \\\\\\\\\\\\\"type\\\\\\\\\\\\\": \\\\\\\\\\\\\"Microsoft.DPrep.GetDatastoreFilesBlock\\\\\\\\\\\\\", \\\\\\\\\\\\\"arguments\\\\\\\\\\\\\": {\\\\\\\\\\\\\"datastores\\\\\\\\\\\\\": [{\\\\\\\\\\\\\"datastoreName\\\\\\\\\\\\\": \\\\\\\\\\\\\"workspaceblobstore\\\\\\\\\\\\\", \\\\\\\\\\\\\"path\\\\\\\\\\\\\": \\\\\\\\\\\\\"UI/01-30-2021_024627_UTC/diabetes.csv\\\\\\\\\\\\\", \\\\\\\\\\\\\"resourceGroup\\\\\\\\\\\\\": \\\\\\\\\\\\\"aml-quickstarts-136609\\\\\\\\\\\\\", \\\\\\\\\\\\\"subscription\\\\\\\\\\\\\": \\\\\\\\\\\\\"b968fb36-f06a-4c76-a15f-afab68ae7667\\\\\\\\\\\\\", \\\\\\\\\\\\\"workspaceName\\\\\\\\\\\\\": \\\\\\\\\\\\\"quick-starts-ws-136609\\\\\\\\\\\\\"}]}, \\\\\\\\\\\\\"localData\\\\\\\\\\\\\": {}, \\\\\\\\\\\\\"isEnabled\\\\\\\\\\\\\": true, \\\\\\\\\\\\\"name\\\\\\\\\\\\\": null, \\\\\\\\\\\\\"annotation\\\\\\\\\\\\\": null}, {\\\\\\\\\\\\\"id\\\\\\\\\\\\\": \\\\\\\\\\\\\"5d17d698-3d1a-4ad4-a0a5-672f88718ddc\\\\\\\\\\\\\", \\\\\\\\\\\\\"type\\\\\\\\\\\\\": \\\\\\\\\\\\\"Microsoft.DPrep.ParseDelimitedBlock\\\\\\\\\\\\\", \\\\\\\\\\\\\"arguments\\\\\\\\\\\\\": {\\\\\\\\\\\\\"columnHeadersMode\\\\\\\\\\\\\": 3, \\\\\\\\\\\\\"fileEncoding\\\\\\\\\\\\\": 0, \\\\\\\\\\\\\"handleQuotedLineBreaks\\\\\\\\\\\\\": false, \\\\\\\\\\\\\"preview\\\\\\\\\\\\\": false, \\\\\\\\\\\\\"separator\\\\\\\\\\\\\": \\\\\\\\\\\\\",\\\\\\\\\\\\\", \\\\\\\\\\\\\"skipRows\\\\\\\\\\\\\": 0, \\\\\\\\\\\\\"skipRowsMode\\\\\\\\\\\\\": 0}, \\\\\\\\\\\\\"localData\\\\\\\\\\\\\": {}, \\\\\\\\\\\\\"isEnabled\\\\\\\\\\\\\": true, \\\\\\\\\\\\\"name\\\\\\\\\\\\\": null, \\\\\\\\\\\\\"annotation\\\\\\\\\\\\\": null}, {\\\\\\\\\\\\\"id\\\\\\\\\\\\\": \\\\\\\\\\\\\"62f2b54a-e853-4ba3-8a73-4336b25973cc\\\\\\\\\\\\\", \\\\\\\\\\\\\"type\\\\\\\\\\\\\": \\\\\\\\\\\\\"Microsoft.DPrep.DropColumnsBlock\\\\\\\\\\\\\", \\\\\\\\\\\\\"arguments\\\\\\\\\\\\\": {\\\\\\\\\\\\\"columns\\\\\\\\\\\\\": {\\\\\\\\\\\\\"type\\\\\\\\\\\\\": 0, \\\\\\\\\\\\\"details\\\\\\\\\\\\\": {\\\\\\\\\\\\\"selectedColumns\\\\\\\\\\\\\": [\\\\\\\\\\\\\"Path\\\\\\\\\\\\\"]}}}, \\\\\\\\\\\\\"localData\\\\\\\\\\\\\": {}, \\\\\\\\\\\\\"isEnabled\\\\\\\\\\\\\": true, \\\\\\\\\\\\\"name\\\\\\\\\\\\\": null, \\\\\\\\\\\\\"annotation\\\\\\\\\\\\\": null}, {\\\\\\\\\\\\\"id\\\\\\\\\\\\\": \\\\\\\\\\\\\"fd52c575-ed38-4bd2-9214-11f65a305a9a\\\\\\\\\\\\\", \\\\\\\\\\\\\"type\\\\\\\\\\\\\": \\\\\\\\\\\\\"Microsoft.DPrep.SetColumnTypesBlock\\\\\\\\\\\\\", \\\\\\\\\\\\\"arguments\\\\\\\\\\\\\": {\\\\\\\\\\\\\"columnConversion\\\\\\\\\\\\\": [{\\\\\\\\\\\\\"column\\\\\\\\\\\\\": {\\\\\\\\\\\\\"type\\\\\\\\\\\\\": 2, \\\\\\\\\\\\\"details\\\\\\\\\\\\\": {\\\\\\\\\\\\\"selectedColumn\\\\\\\\\\\\\": \\\\\\\\\\\\\"Path\\\\\\\\\\\\\"}}, \\\\\\\\\\\\\"typeProperty\\\\\\\\\\\\\": 0}, {\\\\\\\\\\\\\"column\\\\\\\\\\\\\": {\\\\\\\\\\\\\"type\\\\\\\\\\\\\": 2, \\\\\\\\\\\\\"details\\\\\\\\\\\\\": {\\\\\\\\\\\\\"selectedColumn\\\\\\\\\\\\\": \\\\\\\\\\\\\"Pregnancies\\\\\\\\\\\\\"}}, \\\\\\\\\\\\\"typeProperty\\\\\\\\\\\\\": 2}, {\\\\\\\\\\\\\"column\\\\\\\\\\\\\": {\\\\\\\\\\\\\"type\\\\\\\\\\\\\": 2, \\\\\\\\\\\\\"details\\\\\\\\\\\\\": {\\\\\\\\\\\\\"selectedColumn\\\\\\\\\\\\\": \\\\\\\\\\\\\"Glucose\\\\\\\\\\\\\"}}, \\\\\\\\\\\\\"typeProperty\\\\\\\\\\\\\": 2}, {\\\\\\\\\\\\\"column\\\\\\\\\\\\\": {\\\\\\\\\\\\\"type\\\\\\\\\\\\\": 2, \\\\\\\\\\\\\"details\\\\\\\\\\\\\": {\\\\\\\\\\\\\"selectedColumn\\\\\\\\\\\\\": \\\\\\\\\\\\\"BloodPressure\\\\\\\\\\\\\"}}, \\\\\\\\\\\\\"typeProperty\\\\\\\\\\\\\": 2}, {\\\\\\\\\\\\\"column\\\\\\\\\\\\\": {\\\\\\\\\\\\\"type\\\\\\\\\\\\\": 2, \\\\\\\\\\\\\"details\\\\\\\\\\\\\": {\\\\\\\\\\\\\"selectedColumn\\\\\\\\\\\\\": \\\\\\\\\\\\\"SkinThickness\\\\\\\\\\\\\"}}, \\\\\\\\\\\\\"typeProperty\\\\\\\\\\\\\": 2}, {\\\\\\\\\\\\\"column\\\\\\\\\\\\\": {\\\\\\\\\\\\\"type\\\\\\\\\\\\\": 2, \\\\\\\\\\\\\"details\\\\\\\\\\\\\": {\\\\\\\\\\\\\"selectedColumn\\\\\\\\\\\\\": \\\\\\\\\\\\\"Insulin\\\\\\\\\\\\\"}}, \\\\\\\\\\\\\"typeProperty\\\\\\\\\\\\\": 2}, {\\\\\\\\\\\\\"column\\\\\\\\\\\\\": {\\\\\\\\\\\\\"type\\\\\\\\\\\\\": 2, \\\\\\\\\\\\\"details\\\\\\\\\\\\\": {\\\\\\\\\\\\\"selectedColumn\\\\\\\\\\\\\": \\\\\\\\\\\\\"BMI\\\\\\\\\\\\\"}}, \\\\\\\\\\\\\"typeProperty\\\\\\\\\\\\\": 3}, {\\\\\\\\\\\\\"column\\\\\\\\\\\\\": {\\\\\\\\\\\\\"type\\\\\\\\\\\\\": 2, \\\\\\\\\\\\\"details\\\\\\\\\\\\\": {\\\\\\\\\\\\\"selectedColumn\\\\\\\\\\\\\": \\\\\\\\\\\\\"DiabetesPedigreeFunction\\\\\\\\\\\\\"}}, \\\\\\\\\\\\\"typeProperty\\\\\\\\\\\\\": 3}, {\\\\\\\\\\\\\"column\\\\\\\\\\\\\": {\\\\\\\\\\\\\"type\\\\\\\\\\\\\": 2, \\\\\\\\\\\\\"details\\\\\\\\\\\\\": {\\\\\\\\\\\\\"selectedColumn\\\\\\\\\\\\\": \\\\\\\\\\\\\"Age\\\\\\\\\\\\\"}}, \\\\\\\\\\\\\"typeProperty\\\\\\\\\\\\\": 2}, {\\\\\\\\\\\\\"column\\\\\\\\\\\\\": {\\\\\\\\\\\\\"type\\\\\\\\\\\\\": 2, \\\\\\\\\\\\\"details\\\\\\\\\\\\\": {\\\\\\\\\\\\\"selectedColumn\\\\\\\\\\\\\": \\\\\\\\\\\\\"Outcome\\\\\\\\\\\\\"}}, \\\\\\\\\\\\\"typeProperty\\\\\\\\\\\\\": 2}]}, \\\\\\\\\\\\\"localData\\\\\\\\\\\\\": {}, \\\\\\\\\\\\\"isEnabled\\\\\\\\\\\\\": true, \\\\\\\\\\\\\"name\\\\\\\\\\\\\": null, \\\\\\\\\\\\\"annotation\\\\\\\\\\\\\": null}], \\\\\\\\\\\\\"inspectors\\\\\\\\\\\\\": [], \\\\\\\\\\\\\"meta\\\\\\\\\\\\\": {\\\\\\\\\\\\\"savedDatasetId\\\\\\\\\\\\\": \\\\\\\\\\\\\"df13e08a-7454-4857-a46c-7385bdc20d88\\\\\\\\\\\\\", \\\\\\\\\\\\\"datasetType\\\\\\\\\\\\\": \\\\\\\\\\\\\"tabular\\\\\\\\\\\\\", \\\\\\\\\\\\\"subscriptionId\\\\\\\\\\\\\": \\\\\\\\\\\\\"b968fb36-f06a-4c76-a15f-afab68ae7667\\\\\\\\\\\\\", \\\\\\\\\\\\\"workspaceId\\\\\\\\\\\\\": \\\\\\\\\\\\\"d80cb306-36af-477f-b62a-8117ab8215f1\\\\\\\\\\\\\", \\\\\\\\\\\\\"workspaceLocation\\\\\\\\\\\\\": \\\\\\\\\\\\\"southcentralus\\\\\\\\\\\\\"}}\\\\\", \\\\\"activities\\\\\": 0}',\n",
       "  'EnableSubsampling': 'False',\n",
       "  'runTemplate': 'AutoML',\n",
       "  'azureml.runsource': 'automl',\n",
       "  'display_task_type': 'classification',\n",
       "  'dependencies_versions': '{\"azureml-widgets\": \"1.20.0\", \"azureml-train\": \"1.20.0\", \"azureml-train-restclients-hyperdrive\": \"1.20.0\", \"azureml-train-core\": \"1.20.0\", \"azureml-train-automl\": \"1.20.0\", \"azureml-train-automl-runtime\": \"1.20.0\", \"azureml-train-automl-client\": \"1.20.0\", \"azureml-tensorboard\": \"1.20.0\", \"azureml-telemetry\": \"1.20.0\", \"azureml-sdk\": \"1.20.0\", \"azureml-samples\": \"0+unknown\", \"azureml-pipeline\": \"1.20.0\", \"azureml-pipeline-steps\": \"1.20.0\", \"azureml-pipeline-core\": \"1.20.0\", \"azureml-opendatasets\": \"1.20.0\", \"azureml-model-management-sdk\": \"1.0.1b6.post1\", \"azureml-mlflow\": \"1.20.0.post1\", \"azureml-interpret\": \"1.20.0\", \"azureml-explain-model\": \"1.20.0\", \"azureml-defaults\": \"1.20.0\", \"azureml-dataset-runtime\": \"1.20.0\", \"azureml-dataprep\": \"2.7.3\", \"azureml-dataprep-rslex\": \"1.5.0\", \"azureml-dataprep-native\": \"27.0.0\", \"azureml-datadrift\": \"1.20.0\", \"azureml-core\": \"1.20.0\", \"azureml-contrib-services\": \"1.20.0\", \"azureml-contrib-server\": \"1.20.0\", \"azureml-contrib-reinforcementlearning\": \"1.20.0\", \"azureml-contrib-pipeline-steps\": \"1.20.0\", \"azureml-contrib-notebook\": \"1.20.0\", \"azureml-contrib-interpret\": \"1.20.0\", \"azureml-contrib-gbdt\": \"1.20.0\", \"azureml-contrib-fairness\": \"1.20.0\", \"azureml-contrib-dataset\": \"1.20.0\", \"azureml-cli-common\": \"1.20.0\", \"azureml-automl-runtime\": \"1.20.0\", \"azureml-automl-core\": \"1.20.0\", \"azureml-accel-models\": \"1.20.0\"}',\n",
       "  '_aml_system_scenario_identification': 'Remote.Parent',\n",
       "  'ClientType': 'SDK',\n",
       "  'environment_cpu_name': 'AzureML-AutoML',\n",
       "  'environment_cpu_label': 'prod',\n",
       "  'environment_gpu_name': 'AzureML-AutoML-GPU',\n",
       "  'environment_gpu_label': 'prod',\n",
       "  'root_attribution': 'automl',\n",
       "  'attribution': 'AutoML',\n",
       "  'Orchestrator': 'AutoML',\n",
       "  'CancelUri': 'https://southcentralus.experiments.azureml.net/jasmine/v1.0/subscriptions/b968fb36-f06a-4c76-a15f-afab68ae7667/resourceGroups/aml-quickstarts-136609/providers/Microsoft.MachineLearningServices/workspaces/quick-starts-ws-136609/experimentids/34e5db24-6038-4b0a-8346-948e6e6b2030/cancel/AutoML_0eccbbce-21de-4ace-9209-a32fc27aa840',\n",
       "  'ClientSdkVersion': '1.20.0.post1',\n",
       "  'snapshotId': '00000000-0000-0000-0000-000000000000',\n",
       "  'SetupRunId': 'AutoML_0eccbbce-21de-4ace-9209-a32fc27aa840_setup',\n",
       "  'SetupRunContainerId': 'dcid.AutoML_0eccbbce-21de-4ace-9209-a32fc27aa840_setup',\n",
       "  'FeaturizationRunJsonPath': 'featurizer_container.json',\n",
       "  'FeaturizationRunId': 'AutoML_0eccbbce-21de-4ace-9209-a32fc27aa840_featurize',\n",
       "  'ProblemInfoJsonString': '{\"dataset_num_categorical\": 0, \"is_sparse\": true, \"subsampling\": false, \"dataset_classes\": 2, \"dataset_features\": 24, \"dataset_samples\": 768, \"single_frequency_class_detected\": false}',\n",
       "  'ModelExplainRunId': 'AutoML_0eccbbce-21de-4ace-9209-a32fc27aa840_ModelExplain'},\n",
       " 'inputDatasets': [{'dataset': {'id': 'df13e08a-7454-4857-a46c-7385bdc20d88'}, 'consumptionDetails': {'type': 'RunInput', 'inputName': 'training_data', 'mechanism': 'Direct'}}],\n",
       " 'outputDatasets': [],\n",
       " 'logFiles': {},\n",
       " 'submittedBy': 'ODL_User 136609'}"
      ]
     },
     "execution_count": 10,
     "metadata": {},
     "output_type": "execute_result"
    }
   ],
   "source": [
    "remote_run.wait_for_completion(show_output=True)"
   ]
  },
  {
   "cell_type": "code",
   "execution_count": 11,
   "metadata": {},
   "outputs": [
    {
     "data": {
      "text/html": [
       "<table style=\"width:100%\"><tr><th>Experiment</th><th>Id</th><th>Type</th><th>Status</th><th>Details Page</th><th>Docs Page</th></tr><tr><td>automl-exp</td><td>AutoML_0eccbbce-21de-4ace-9209-a32fc27aa840</td><td>automl</td><td>Completed</td><td><a href=\"https://ml.azure.com/experiments/automl-exp/runs/AutoML_0eccbbce-21de-4ace-9209-a32fc27aa840?wsid=/subscriptions/b968fb36-f06a-4c76-a15f-afab68ae7667/resourcegroups/aml-quickstarts-136609/workspaces/quick-starts-ws-136609\" target=\"_blank\" rel=\"noopener\">Link to Azure Machine Learning studio</a></td><td><a href=\"https://docs.microsoft.com/en-us/python/api/overview/azure/ml/intro?view=azure-ml-py\" target=\"_blank\" rel=\"noopener\">Link to Documentation</a></td></tr></table>"
      ],
      "text/plain": [
       "Run(Experiment: automl-exp,\n",
       "Id: AutoML_0eccbbce-21de-4ace-9209-a32fc27aa840,\n",
       "Type: automl,\n",
       "Status: Completed)"
      ]
     },
     "execution_count": 11,
     "metadata": {},
     "output_type": "execute_result"
    }
   ],
   "source": [
    "remote_run"
   ]
  },
  {
   "cell_type": "markdown",
   "metadata": {},
   "source": [
    "## Best Model\n",
    "\n",
    "TODO: In the cell below, get the best model from the automl experiments and display all the properties of the model.\n",
    "\n"
   ]
  },
  {
   "cell_type": "code",
   "execution_count": 12,
   "metadata": {
    "collapsed": false,
    "gather": {
     "logged": 1598431425670
    },
    "jupyter": {
     "outputs_hidden": false,
     "source_hidden": false
    },
    "nteract": {
     "transient": {
      "deleting": false
     }
    }
   },
   "outputs": [
    {
     "data": {
      "text/plain": [
       "(Run(Experiment: automl-exp,\n",
       " Id: AutoML_0eccbbce-21de-4ace-9209-a32fc27aa840_33,\n",
       " Type: azureml.scriptrun,\n",
       " Status: Completed),\n",
       " Pipeline(memory=None,\n",
       "          steps=[('datatransformer',\n",
       "                  DataTransformer(enable_dnn=None, enable_feature_sweeping=None,\n",
       "                                  feature_sweeping_config=None,\n",
       "                                  feature_sweeping_timeout=None,\n",
       "                                  featurization_config=None, force_text_dnn=None,\n",
       "                                  is_cross_validation=None,\n",
       "                                  is_onnx_compatible=None, logger=None,\n",
       "                                  observer=None, task=None, working_dir=None)),\n",
       "                 ('prefittedsoftvotingclassifier',...\n",
       "                                                                                                reg_alpha=1.875,\n",
       "                                                                                                reg_lambda=2.5,\n",
       "                                                                                                scale_pos_weight=1,\n",
       "                                                                                                seed=None,\n",
       "                                                                                                silent=None,\n",
       "                                                                                                subsample=0.8,\n",
       "                                                                                                tree_method='hist',\n",
       "                                                                                                verbose=-10,\n",
       "                                                                                                verbosity=0))],\n",
       "                                                                      verbose=False))],\n",
       "                                                flatten_transform=None,\n",
       "                                                weights=[0.09090909090909091,\n",
       "                                                         0.09090909090909091,\n",
       "                                                         0.18181818181818182,\n",
       "                                                         0.09090909090909091,\n",
       "                                                         0.18181818181818182,\n",
       "                                                         0.09090909090909091,\n",
       "                                                         0.18181818181818182,\n",
       "                                                         0.09090909090909091]))],\n",
       "          verbose=False))"
      ]
     },
     "execution_count": 12,
     "metadata": {},
     "output_type": "execute_result"
    }
   ],
   "source": [
    "# Retrieve and save best automl model.\n",
    "best_model = remote_run.get_output()\n",
    "best_model"
   ]
  },
  {
   "cell_type": "code",
   "execution_count": 13,
   "metadata": {},
   "outputs": [
    {
     "data": {
      "text/plain": [
       "{'experiment_status': ['DatasetEvaluation',\n",
       "  'FeaturesGeneration',\n",
       "  'DatasetFeaturization',\n",
       "  'DatasetFeaturizationCompleted',\n",
       "  'DatasetCrossValidationSplit',\n",
       "  'ModelSelection'],\n",
       " 'experiment_status_description': ['Gathering dataset statistics.',\n",
       "  'Generating features for the dataset.',\n",
       "  'Beginning to fit featurizers and featurize the dataset.',\n",
       "  'Completed fit featurizers and featurizing the dataset.',\n",
       "  'Generating individually featurized CV splits.',\n",
       "  'Beginning model selection.'],\n",
       " 'accuracy': 0.7851880145997793,\n",
       " 'matthews_correlation': 0.5049694976695853,\n",
       " 'f1_score_micro': 0.7851880145997792,\n",
       " 'f1_score_weighted': 0.7779614809772879,\n",
       " 'norm_macro_recall': 0.47095873972433216,\n",
       " 'average_precision_score_macro': 0.8206069325712531,\n",
       " 'recall_score_micro': 0.7851880145997793,\n",
       " 'AUC_macro': 0.838447800591115,\n",
       " 'AUC_micro': 0.8570264314516025,\n",
       " 'recall_score_weighted': 0.7851880145997793,\n",
       " 'f1_score_macro': 0.7451787764724928,\n",
       " 'AUC_weighted': 0.838447800591115,\n",
       " 'average_precision_score_weighted': 0.849597425242146,\n",
       " 'precision_score_micro': 0.7851880145997793,\n",
       " 'precision_score_weighted': 0.784386776983734,\n",
       " 'average_precision_score_micro': 0.8591377401807783,\n",
       " 'recall_score_macro': 0.7354793698621661,\n",
       " 'weighted_accuracy': 0.8238366497696088,\n",
       " 'balanced_accuracy': 0.7354793698621661,\n",
       " 'log_loss': 0.49026046224474157,\n",
       " 'precision_score_macro': 0.7709647814567365}"
      ]
     },
     "execution_count": 13,
     "metadata": {},
     "output_type": "execute_result"
    }
   ],
   "source": [
    "remote_run.get_metrics()"
   ]
  },
  {
   "cell_type": "markdown",
   "metadata": {},
   "source": [
    "## Model Deployment\n",
    "\n",
    "Remember you have to deploy only one of the two models you trained.. Perform the steps in the rest of this notebook only if you wish to deploy this model.\n",
    "\n",
    "TODO: In the cell below, register the model, create an inference config and deploy the model as a web service."
   ]
  },
  {
   "cell_type": "code",
   "execution_count": 34,
   "metadata": {
    "collapsed": false,
    "gather": {
     "logged": 1598431435189
    },
    "jupyter": {
     "outputs_hidden": false,
     "source_hidden": false
    },
    "nteract": {
     "transient": {
      "deleting": false
     }
    }
   },
   "outputs": [],
   "source": [
    "# Registring the best model\n",
    "model = remote_run.register_model(model_name='automl-best-model')"
   ]
  },
  {
   "cell_type": "code",
   "execution_count": 36,
   "metadata": {},
   "outputs": [],
   "source": [
    "# fetch environment\n",
    "environment = Environment(name=\"autoenv\")\n",
    "\n",
    "script_file = 'score.py'\n",
    "#remote_run.download_file('outputs/scoring_file_v_1_0_0.py', script_file)"
   ]
  },
  {
   "cell_type": "code",
   "execution_count": 39,
   "metadata": {},
   "outputs": [
    {
     "name": "stdout",
     "output_type": "stream",
     "text": [
      "Tips: You can try get_logs(): https://aka.ms/debugimage#dockerlog or local deployment: https://aka.ms/debugimage#debug-locally to debug if deployment takes longer than 10 minutes.\n",
      "Running....................................\n",
      "Failed\n"
     ]
    },
    {
     "name": "stderr",
     "output_type": "stream",
     "text": [
      "ERROR:azureml.core.webservice.webservice:Service deployment polling reached non-successful terminal state, current service state: Failed\n",
      "Operation ID: 891c40a8-e056-4006-aba5-b8a2310b065d\n",
      "More information can be found using '.get_logs()'\n",
      "Error:\n",
      "{\n",
      "  \"code\": \"AciDeploymentFailed\",\n",
      "  \"message\": \"Aci Deployment failed with exception: Your container application crashed. This may be caused by errors in your scoring file's init() function.\\nPlease check the logs for your container instance: automl-deploy-1. From the AML SDK, you can run print(service.get_logs()) if you have service object to fetch the logs. \\nYou can interactively debug your scoring file locally. Please refer to https://docs.microsoft.com/azure/machine-learning/how-to-debug-visual-studio-code#debug-and-troubleshoot-deployments for more information.\\nYou can also try to run image d80cb30636af477fb62a8117ab8215f1.azurecr.io/azureml/azureml_b9e8a2e66019f74c902eacced9684631 locally. Please refer to https://aka.ms/debugimage#service-launch-fails for more information.\",\n",
      "  \"details\": [\n",
      "    {\n",
      "      \"code\": \"CrashLoopBackOff\",\n",
      "      \"message\": \"Your container application crashed. This may be caused by errors in your scoring file's init() function.\\nPlease check the logs for your container instance: automl-deploy-1. From the AML SDK, you can run print(service.get_logs()) if you have service object to fetch the logs. \\nYou can interactively debug your scoring file locally. Please refer to https://docs.microsoft.com/azure/machine-learning/how-to-debug-visual-studio-code#debug-and-troubleshoot-deployments for more information.\\nYou can also try to run image d80cb30636af477fb62a8117ab8215f1.azurecr.io/azureml/azureml_b9e8a2e66019f74c902eacced9684631 locally. Please refer to https://aka.ms/debugimage#service-launch-fails for more information.\"\n",
      "    },\n",
      "    {\n",
      "      \"code\": \"AciDeploymentFailed\",\n",
      "      \"message\": \"Your container application crashed. Please follow the steps to debug:\\n1. From the AML SDK, you can run print(service.get_logs()) if you have service object to fetch the logs. Please refer to https://aka.ms/debugimage#dockerlog for more information.\\n2. If your container application crashed. This may be caused by errors in your scoring file's init() function. You can try debugging locally first. Please refer to https://aka.ms/debugimage#debug-locally for more information.\\n3. You can also interactively debug your scoring file locally. Please refer to https://docs.microsoft.com/azure/machine-learning/how-to-debug-visual-studio-code#debug-and-troubleshoot-deployments for more information.\\n4. View the diagnostic events to check status of container, it may help you to debug the issue. {\\\"restartCount\\\":3,\\\"currentState\\\":{\\\"state\\\":\\\"Waiting\\\",\\\"startTime\\\":null,\\\"exitCode\\\":null,\\\"finishTime\\\":null,\\\"detailStatus\\\":\\\"CrashLoopBackOff: Back-off restarting failed\\\"},\\\"previousState\\\":{\\\"state\\\":\\\"Terminated\\\",\\\"startTime\\\":\\\"2021-01-30T16:16:04.875Z\\\",\\\"exitCode\\\":111,\\\"finishTime\\\":\\\"2021-01-30T16:16:08.285Z\\\",\\\"detailStatus\\\":\\\"Error\\\"},\\\"events\\\":[{\\\"count\\\":1,\\\"firstTimestamp\\\":\\\"2021-01-30T16:14:13Z\\\",\\\"lastTimestamp\\\":\\\"2021-01-30T16:14:13Z\\\",\\\"name\\\":\\\"Pulling\\\",\\\"message\\\":\\\"pulling image \\\\\\\"d80cb30636af477fb62a8117ab8215f1.azurecr.io/azureml/azureml_b9e8a2e66019f74c902eacced9684631:latest\\\\\\\"\\\",\\\"type\\\":\\\"Normal\\\"},{\\\"count\\\":1,\\\"firstTimestamp\\\":\\\"2021-01-30T16:14:16Z\\\",\\\"lastTimestamp\\\":\\\"2021-01-30T16:14:16Z\\\",\\\"name\\\":\\\"Pulled\\\",\\\"message\\\":\\\"Successfully pulled image \\\\\\\"d80cb30636af477fb62a8117ab8215f1.azurecr.io/azureml/azureml_b9e8a2e66019f74c902eacced9684631:latest\\\\\\\"\\\",\\\"type\\\":\\\"Normal\\\"},{\\\"count\\\":4,\\\"firstTimestamp\\\":\\\"2021-01-30T16:14:38Z\\\",\\\"lastTimestamp\\\":\\\"2021-01-30T16:16:04Z\\\",\\\"name\\\":\\\"Started\\\",\\\"message\\\":\\\"Started container\\\",\\\"type\\\":\\\"Normal\\\"},{\\\"count\\\":4,\\\"firstTimestamp\\\":\\\"2021-01-30T16:14:43Z\\\",\\\"lastTimestamp\\\":\\\"2021-01-30T16:16:08Z\\\",\\\"name\\\":\\\"Killing\\\",\\\"message\\\":\\\"Killing container with id 4311abdf8260197832c91d83e07702905ed8cee20198f826ea029e6e8dc98628.\\\",\\\"type\\\":\\\"Normal\\\"}]}\"\n",
      "    }\n",
      "  ]\n",
      "}\n",
      "\n"
     ]
    },
    {
     "ename": "WebserviceException",
     "evalue": "WebserviceException:\n\tMessage: Service deployment polling reached non-successful terminal state, current service state: Failed\nOperation ID: 891c40a8-e056-4006-aba5-b8a2310b065d\nMore information can be found using '.get_logs()'\nError:\n{\n  \"code\": \"AciDeploymentFailed\",\n  \"message\": \"Aci Deployment failed with exception: Your container application crashed. This may be caused by errors in your scoring file's init() function.\\nPlease check the logs for your container instance: automl-deploy-1. From the AML SDK, you can run print(service.get_logs()) if you have service object to fetch the logs. \\nYou can interactively debug your scoring file locally. Please refer to https://docs.microsoft.com/azure/machine-learning/how-to-debug-visual-studio-code#debug-and-troubleshoot-deployments for more information.\\nYou can also try to run image d80cb30636af477fb62a8117ab8215f1.azurecr.io/azureml/azureml_b9e8a2e66019f74c902eacced9684631 locally. Please refer to https://aka.ms/debugimage#service-launch-fails for more information.\",\n  \"details\": [\n    {\n      \"code\": \"CrashLoopBackOff\",\n      \"message\": \"Your container application crashed. This may be caused by errors in your scoring file's init() function.\\nPlease check the logs for your container instance: automl-deploy-1. From the AML SDK, you can run print(service.get_logs()) if you have service object to fetch the logs. \\nYou can interactively debug your scoring file locally. Please refer to https://docs.microsoft.com/azure/machine-learning/how-to-debug-visual-studio-code#debug-and-troubleshoot-deployments for more information.\\nYou can also try to run image d80cb30636af477fb62a8117ab8215f1.azurecr.io/azureml/azureml_b9e8a2e66019f74c902eacced9684631 locally. Please refer to https://aka.ms/debugimage#service-launch-fails for more information.\"\n    },\n    {\n      \"code\": \"AciDeploymentFailed\",\n      \"message\": \"Your container application crashed. Please follow the steps to debug:\\n1. From the AML SDK, you can run print(service.get_logs()) if you have service object to fetch the logs. Please refer to https://aka.ms/debugimage#dockerlog for more information.\\n2. If your container application crashed. This may be caused by errors in your scoring file's init() function. You can try debugging locally first. Please refer to https://aka.ms/debugimage#debug-locally for more information.\\n3. You can also interactively debug your scoring file locally. Please refer to https://docs.microsoft.com/azure/machine-learning/how-to-debug-visual-studio-code#debug-and-troubleshoot-deployments for more information.\\n4. View the diagnostic events to check status of container, it may help you to debug the issue. {\\\"restartCount\\\":3,\\\"currentState\\\":{\\\"state\\\":\\\"Waiting\\\",\\\"startTime\\\":null,\\\"exitCode\\\":null,\\\"finishTime\\\":null,\\\"detailStatus\\\":\\\"CrashLoopBackOff: Back-off restarting failed\\\"},\\\"previousState\\\":{\\\"state\\\":\\\"Terminated\\\",\\\"startTime\\\":\\\"2021-01-30T16:16:04.875Z\\\",\\\"exitCode\\\":111,\\\"finishTime\\\":\\\"2021-01-30T16:16:08.285Z\\\",\\\"detailStatus\\\":\\\"Error\\\"},\\\"events\\\":[{\\\"count\\\":1,\\\"firstTimestamp\\\":\\\"2021-01-30T16:14:13Z\\\",\\\"lastTimestamp\\\":\\\"2021-01-30T16:14:13Z\\\",\\\"name\\\":\\\"Pulling\\\",\\\"message\\\":\\\"pulling image \\\\\\\"d80cb30636af477fb62a8117ab8215f1.azurecr.io/azureml/azureml_b9e8a2e66019f74c902eacced9684631:latest\\\\\\\"\\\",\\\"type\\\":\\\"Normal\\\"},{\\\"count\\\":1,\\\"firstTimestamp\\\":\\\"2021-01-30T16:14:16Z\\\",\\\"lastTimestamp\\\":\\\"2021-01-30T16:14:16Z\\\",\\\"name\\\":\\\"Pulled\\\",\\\"message\\\":\\\"Successfully pulled image \\\\\\\"d80cb30636af477fb62a8117ab8215f1.azurecr.io/azureml/azureml_b9e8a2e66019f74c902eacced9684631:latest\\\\\\\"\\\",\\\"type\\\":\\\"Normal\\\"},{\\\"count\\\":4,\\\"firstTimestamp\\\":\\\"2021-01-30T16:14:38Z\\\",\\\"lastTimestamp\\\":\\\"2021-01-30T16:16:04Z\\\",\\\"name\\\":\\\"Started\\\",\\\"message\\\":\\\"Started container\\\",\\\"type\\\":\\\"Normal\\\"},{\\\"count\\\":4,\\\"firstTimestamp\\\":\\\"2021-01-30T16:14:43Z\\\",\\\"lastTimestamp\\\":\\\"2021-01-30T16:16:08Z\\\",\\\"name\\\":\\\"Killing\\\",\\\"message\\\":\\\"Killing container with id 4311abdf8260197832c91d83e07702905ed8cee20198f826ea029e6e8dc98628.\\\",\\\"type\\\":\\\"Normal\\\"}]}\"\n    }\n  ]\n}\n\tInnerException None\n\tErrorResponse \n{\n    \"error\": {\n        \"message\": \"Service deployment polling reached non-successful terminal state, current service state: Failed\\nOperation ID: 891c40a8-e056-4006-aba5-b8a2310b065d\\nMore information can be found using '.get_logs()'\\nError:\\n{\\n  \\\"code\\\": \\\"AciDeploymentFailed\\\",\\n  \\\"message\\\": \\\"Aci Deployment failed with exception: Your container application crashed. This may be caused by errors in your scoring file's init() function.\\\\nPlease check the logs for your container instance: automl-deploy-1. From the AML SDK, you can run print(service.get_logs()) if you have service object to fetch the logs. \\\\nYou can interactively debug your scoring file locally. Please refer to https://docs.microsoft.com/azure/machine-learning/how-to-debug-visual-studio-code#debug-and-troubleshoot-deployments for more information.\\\\nYou can also try to run image d80cb30636af477fb62a8117ab8215f1.azurecr.io/azureml/azureml_b9e8a2e66019f74c902eacced9684631 locally. Please refer to https://aka.ms/debugimage#service-launch-fails for more information.\\\",\\n  \\\"details\\\": [\\n    {\\n      \\\"code\\\": \\\"CrashLoopBackOff\\\",\\n      \\\"message\\\": \\\"Your container application crashed. This may be caused by errors in your scoring file's init() function.\\\\nPlease check the logs for your container instance: automl-deploy-1. From the AML SDK, you can run print(service.get_logs()) if you have service object to fetch the logs. \\\\nYou can interactively debug your scoring file locally. Please refer to https://docs.microsoft.com/azure/machine-learning/how-to-debug-visual-studio-code#debug-and-troubleshoot-deployments for more information.\\\\nYou can also try to run image d80cb30636af477fb62a8117ab8215f1.azurecr.io/azureml/azureml_b9e8a2e66019f74c902eacced9684631 locally. Please refer to https://aka.ms/debugimage#service-launch-fails for more information.\\\"\\n    },\\n    {\\n      \\\"code\\\": \\\"AciDeploymentFailed\\\",\\n      \\\"message\\\": \\\"Your container application crashed. Please follow the steps to debug:\\\\n1. From the AML SDK, you can run print(service.get_logs()) if you have service object to fetch the logs. Please refer to https://aka.ms/debugimage#dockerlog for more information.\\\\n2. If your container application crashed. This may be caused by errors in your scoring file's init() function. You can try debugging locally first. Please refer to https://aka.ms/debugimage#debug-locally for more information.\\\\n3. You can also interactively debug your scoring file locally. Please refer to https://docs.microsoft.com/azure/machine-learning/how-to-debug-visual-studio-code#debug-and-troubleshoot-deployments for more information.\\\\n4. View the diagnostic events to check status of container, it may help you to debug the issue. {\\\\\\\"restartCount\\\\\\\":3,\\\\\\\"currentState\\\\\\\":{\\\\\\\"state\\\\\\\":\\\\\\\"Waiting\\\\\\\",\\\\\\\"startTime\\\\\\\":null,\\\\\\\"exitCode\\\\\\\":null,\\\\\\\"finishTime\\\\\\\":null,\\\\\\\"detailStatus\\\\\\\":\\\\\\\"CrashLoopBackOff: Back-off restarting failed\\\\\\\"},\\\\\\\"previousState\\\\\\\":{\\\\\\\"state\\\\\\\":\\\\\\\"Terminated\\\\\\\",\\\\\\\"startTime\\\\\\\":\\\\\\\"2021-01-30T16:16:04.875Z\\\\\\\",\\\\\\\"exitCode\\\\\\\":111,\\\\\\\"finishTime\\\\\\\":\\\\\\\"2021-01-30T16:16:08.285Z\\\\\\\",\\\\\\\"detailStatus\\\\\\\":\\\\\\\"Error\\\\\\\"},\\\\\\\"events\\\\\\\":[{\\\\\\\"count\\\\\\\":1,\\\\\\\"firstTimestamp\\\\\\\":\\\\\\\"2021-01-30T16:14:13Z\\\\\\\",\\\\\\\"lastTimestamp\\\\\\\":\\\\\\\"2021-01-30T16:14:13Z\\\\\\\",\\\\\\\"name\\\\\\\":\\\\\\\"Pulling\\\\\\\",\\\\\\\"message\\\\\\\":\\\\\\\"pulling image \\\\\\\\\\\\\\\"d80cb30636af477fb62a8117ab8215f1.azurecr.io/azureml/azureml_b9e8a2e66019f74c902eacced9684631:latest\\\\\\\\\\\\\\\"\\\\\\\",\\\\\\\"type\\\\\\\":\\\\\\\"Normal\\\\\\\"},{\\\\\\\"count\\\\\\\":1,\\\\\\\"firstTimestamp\\\\\\\":\\\\\\\"2021-01-30T16:14:16Z\\\\\\\",\\\\\\\"lastTimestamp\\\\\\\":\\\\\\\"2021-01-30T16:14:16Z\\\\\\\",\\\\\\\"name\\\\\\\":\\\\\\\"Pulled\\\\\\\",\\\\\\\"message\\\\\\\":\\\\\\\"Successfully pulled image \\\\\\\\\\\\\\\"d80cb30636af477fb62a8117ab8215f1.azurecr.io/azureml/azureml_b9e8a2e66019f74c902eacced9684631:latest\\\\\\\\\\\\\\\"\\\\\\\",\\\\\\\"type\\\\\\\":\\\\\\\"Normal\\\\\\\"},{\\\\\\\"count\\\\\\\":4,\\\\\\\"firstTimestamp\\\\\\\":\\\\\\\"2021-01-30T16:14:38Z\\\\\\\",\\\\\\\"lastTimestamp\\\\\\\":\\\\\\\"2021-01-30T16:16:04Z\\\\\\\",\\\\\\\"name\\\\\\\":\\\\\\\"Started\\\\\\\",\\\\\\\"message\\\\\\\":\\\\\\\"Started container\\\\\\\",\\\\\\\"type\\\\\\\":\\\\\\\"Normal\\\\\\\"},{\\\\\\\"count\\\\\\\":4,\\\\\\\"firstTimestamp\\\\\\\":\\\\\\\"2021-01-30T16:14:43Z\\\\\\\",\\\\\\\"lastTimestamp\\\\\\\":\\\\\\\"2021-01-30T16:16:08Z\\\\\\\",\\\\\\\"name\\\\\\\":\\\\\\\"Killing\\\\\\\",\\\\\\\"message\\\\\\\":\\\\\\\"Killing container with id 4311abdf8260197832c91d83e07702905ed8cee20198f826ea029e6e8dc98628.\\\\\\\",\\\\\\\"type\\\\\\\":\\\\\\\"Normal\\\\\\\"}]}\\\"\\n    }\\n  ]\\n}\"\n    }\n}",
     "output_type": "error",
     "traceback": [
      "\u001b[0;31m---------------------------------------------------------------------------\u001b[0m",
      "\u001b[0;31mWebserviceException\u001b[0m                       Traceback (most recent call last)",
      "\u001b[0;32m<ipython-input-39-efcb0b4ec45f>\u001b[0m in \u001b[0;36m<module>\u001b[0;34m\u001b[0m\n\u001b[1;32m     10\u001b[0m                        \u001b[0mdeployment_config\u001b[0m\u001b[0;34m=\u001b[0m\u001b[0mdeployment_config\u001b[0m\u001b[0;34m\u001b[0m\u001b[0;34m\u001b[0m\u001b[0m\n\u001b[1;32m     11\u001b[0m                       )\n\u001b[0;32m---> 12\u001b[0;31m \u001b[0mservice\u001b[0m\u001b[0;34m.\u001b[0m\u001b[0mwait_for_deployment\u001b[0m\u001b[0;34m(\u001b[0m\u001b[0mshow_output\u001b[0m\u001b[0;34m=\u001b[0m\u001b[0;32mTrue\u001b[0m\u001b[0;34m)\u001b[0m\u001b[0;34m\u001b[0m\u001b[0;34m\u001b[0m\u001b[0m\n\u001b[0m",
      "\u001b[0;32m/anaconda/envs/azureml_py36/lib/python3.6/site-packages/azureml/core/webservice/webservice.py\u001b[0m in \u001b[0;36mwait_for_deployment\u001b[0;34m(self, show_output, timeout_sec)\u001b[0m\n\u001b[1;32m    913\u001b[0m                                           \u001b[0;34m'Error:\\n'\u001b[0m\u001b[0;34m\u001b[0m\u001b[0;34m\u001b[0m\u001b[0m\n\u001b[1;32m    914\u001b[0m                                           '{}'.format(self.state, self._operation_endpoint.split('/')[-1],\n\u001b[0;32m--> 915\u001b[0;31m                                                       logs_response, error_response), logger=module_logger)\n\u001b[0m\u001b[1;32m    916\u001b[0m             print('{} service creation operation finished, operation \"{}\"'.format(self._webservice_type,\n\u001b[1;32m    917\u001b[0m                                                                                   operation_state))\n",
      "\u001b[0;31mWebserviceException\u001b[0m: WebserviceException:\n\tMessage: Service deployment polling reached non-successful terminal state, current service state: Failed\nOperation ID: 891c40a8-e056-4006-aba5-b8a2310b065d\nMore information can be found using '.get_logs()'\nError:\n{\n  \"code\": \"AciDeploymentFailed\",\n  \"message\": \"Aci Deployment failed with exception: Your container application crashed. This may be caused by errors in your scoring file's init() function.\\nPlease check the logs for your container instance: automl-deploy-1. From the AML SDK, you can run print(service.get_logs()) if you have service object to fetch the logs. \\nYou can interactively debug your scoring file locally. Please refer to https://docs.microsoft.com/azure/machine-learning/how-to-debug-visual-studio-code#debug-and-troubleshoot-deployments for more information.\\nYou can also try to run image d80cb30636af477fb62a8117ab8215f1.azurecr.io/azureml/azureml_b9e8a2e66019f74c902eacced9684631 locally. Please refer to https://aka.ms/debugimage#service-launch-fails for more information.\",\n  \"details\": [\n    {\n      \"code\": \"CrashLoopBackOff\",\n      \"message\": \"Your container application crashed. This may be caused by errors in your scoring file's init() function.\\nPlease check the logs for your container instance: automl-deploy-1. From the AML SDK, you can run print(service.get_logs()) if you have service object to fetch the logs. \\nYou can interactively debug your scoring file locally. Please refer to https://docs.microsoft.com/azure/machine-learning/how-to-debug-visual-studio-code#debug-and-troubleshoot-deployments for more information.\\nYou can also try to run image d80cb30636af477fb62a8117ab8215f1.azurecr.io/azureml/azureml_b9e8a2e66019f74c902eacced9684631 locally. Please refer to https://aka.ms/debugimage#service-launch-fails for more information.\"\n    },\n    {\n      \"code\": \"AciDeploymentFailed\",\n      \"message\": \"Your container application crashed. Please follow the steps to debug:\\n1. From the AML SDK, you can run print(service.get_logs()) if you have service object to fetch the logs. Please refer to https://aka.ms/debugimage#dockerlog for more information.\\n2. If your container application crashed. This may be caused by errors in your scoring file's init() function. You can try debugging locally first. Please refer to https://aka.ms/debugimage#debug-locally for more information.\\n3. You can also interactively debug your scoring file locally. Please refer to https://docs.microsoft.com/azure/machine-learning/how-to-debug-visual-studio-code#debug-and-troubleshoot-deployments for more information.\\n4. View the diagnostic events to check status of container, it may help you to debug the issue. {\\\"restartCount\\\":3,\\\"currentState\\\":{\\\"state\\\":\\\"Waiting\\\",\\\"startTime\\\":null,\\\"exitCode\\\":null,\\\"finishTime\\\":null,\\\"detailStatus\\\":\\\"CrashLoopBackOff: Back-off restarting failed\\\"},\\\"previousState\\\":{\\\"state\\\":\\\"Terminated\\\",\\\"startTime\\\":\\\"2021-01-30T16:16:04.875Z\\\",\\\"exitCode\\\":111,\\\"finishTime\\\":\\\"2021-01-30T16:16:08.285Z\\\",\\\"detailStatus\\\":\\\"Error\\\"},\\\"events\\\":[{\\\"count\\\":1,\\\"firstTimestamp\\\":\\\"2021-01-30T16:14:13Z\\\",\\\"lastTimestamp\\\":\\\"2021-01-30T16:14:13Z\\\",\\\"name\\\":\\\"Pulling\\\",\\\"message\\\":\\\"pulling image \\\\\\\"d80cb30636af477fb62a8117ab8215f1.azurecr.io/azureml/azureml_b9e8a2e66019f74c902eacced9684631:latest\\\\\\\"\\\",\\\"type\\\":\\\"Normal\\\"},{\\\"count\\\":1,\\\"firstTimestamp\\\":\\\"2021-01-30T16:14:16Z\\\",\\\"lastTimestamp\\\":\\\"2021-01-30T16:14:16Z\\\",\\\"name\\\":\\\"Pulled\\\",\\\"message\\\":\\\"Successfully pulled image \\\\\\\"d80cb30636af477fb62a8117ab8215f1.azurecr.io/azureml/azureml_b9e8a2e66019f74c902eacced9684631:latest\\\\\\\"\\\",\\\"type\\\":\\\"Normal\\\"},{\\\"count\\\":4,\\\"firstTimestamp\\\":\\\"2021-01-30T16:14:38Z\\\",\\\"lastTimestamp\\\":\\\"2021-01-30T16:16:04Z\\\",\\\"name\\\":\\\"Started\\\",\\\"message\\\":\\\"Started container\\\",\\\"type\\\":\\\"Normal\\\"},{\\\"count\\\":4,\\\"firstTimestamp\\\":\\\"2021-01-30T16:14:43Z\\\",\\\"lastTimestamp\\\":\\\"2021-01-30T16:16:08Z\\\",\\\"name\\\":\\\"Killing\\\",\\\"message\\\":\\\"Killing container with id 4311abdf8260197832c91d83e07702905ed8cee20198f826ea029e6e8dc98628.\\\",\\\"type\\\":\\\"Normal\\\"}]}\"\n    }\n  ]\n}\n\tInnerException None\n\tErrorResponse \n{\n    \"error\": {\n        \"message\": \"Service deployment polling reached non-successful terminal state, current service state: Failed\\nOperation ID: 891c40a8-e056-4006-aba5-b8a2310b065d\\nMore information can be found using '.get_logs()'\\nError:\\n{\\n  \\\"code\\\": \\\"AciDeploymentFailed\\\",\\n  \\\"message\\\": \\\"Aci Deployment failed with exception: Your container application crashed. This may be caused by errors in your scoring file's init() function.\\\\nPlease check the logs for your container instance: automl-deploy-1. From the AML SDK, you can run print(service.get_logs()) if you have service object to fetch the logs. \\\\nYou can interactively debug your scoring file locally. Please refer to https://docs.microsoft.com/azure/machine-learning/how-to-debug-visual-studio-code#debug-and-troubleshoot-deployments for more information.\\\\nYou can also try to run image d80cb30636af477fb62a8117ab8215f1.azurecr.io/azureml/azureml_b9e8a2e66019f74c902eacced9684631 locally. Please refer to https://aka.ms/debugimage#service-launch-fails for more information.\\\",\\n  \\\"details\\\": [\\n    {\\n      \\\"code\\\": \\\"CrashLoopBackOff\\\",\\n      \\\"message\\\": \\\"Your container application crashed. This may be caused by errors in your scoring file's init() function.\\\\nPlease check the logs for your container instance: automl-deploy-1. From the AML SDK, you can run print(service.get_logs()) if you have service object to fetch the logs. \\\\nYou can interactively debug your scoring file locally. Please refer to https://docs.microsoft.com/azure/machine-learning/how-to-debug-visual-studio-code#debug-and-troubleshoot-deployments for more information.\\\\nYou can also try to run image d80cb30636af477fb62a8117ab8215f1.azurecr.io/azureml/azureml_b9e8a2e66019f74c902eacced9684631 locally. Please refer to https://aka.ms/debugimage#service-launch-fails for more information.\\\"\\n    },\\n    {\\n      \\\"code\\\": \\\"AciDeploymentFailed\\\",\\n      \\\"message\\\": \\\"Your container application crashed. Please follow the steps to debug:\\\\n1. From the AML SDK, you can run print(service.get_logs()) if you have service object to fetch the logs. Please refer to https://aka.ms/debugimage#dockerlog for more information.\\\\n2. If your container application crashed. This may be caused by errors in your scoring file's init() function. You can try debugging locally first. Please refer to https://aka.ms/debugimage#debug-locally for more information.\\\\n3. You can also interactively debug your scoring file locally. Please refer to https://docs.microsoft.com/azure/machine-learning/how-to-debug-visual-studio-code#debug-and-troubleshoot-deployments for more information.\\\\n4. View the diagnostic events to check status of container, it may help you to debug the issue. {\\\\\\\"restartCount\\\\\\\":3,\\\\\\\"currentState\\\\\\\":{\\\\\\\"state\\\\\\\":\\\\\\\"Waiting\\\\\\\",\\\\\\\"startTime\\\\\\\":null,\\\\\\\"exitCode\\\\\\\":null,\\\\\\\"finishTime\\\\\\\":null,\\\\\\\"detailStatus\\\\\\\":\\\\\\\"CrashLoopBackOff: Back-off restarting failed\\\\\\\"},\\\\\\\"previousState\\\\\\\":{\\\\\\\"state\\\\\\\":\\\\\\\"Terminated\\\\\\\",\\\\\\\"startTime\\\\\\\":\\\\\\\"2021-01-30T16:16:04.875Z\\\\\\\",\\\\\\\"exitCode\\\\\\\":111,\\\\\\\"finishTime\\\\\\\":\\\\\\\"2021-01-30T16:16:08.285Z\\\\\\\",\\\\\\\"detailStatus\\\\\\\":\\\\\\\"Error\\\\\\\"},\\\\\\\"events\\\\\\\":[{\\\\\\\"count\\\\\\\":1,\\\\\\\"firstTimestamp\\\\\\\":\\\\\\\"2021-01-30T16:14:13Z\\\\\\\",\\\\\\\"lastTimestamp\\\\\\\":\\\\\\\"2021-01-30T16:14:13Z\\\\\\\",\\\\\\\"name\\\\\\\":\\\\\\\"Pulling\\\\\\\",\\\\\\\"message\\\\\\\":\\\\\\\"pulling image \\\\\\\\\\\\\\\"d80cb30636af477fb62a8117ab8215f1.azurecr.io/azureml/azureml_b9e8a2e66019f74c902eacced9684631:latest\\\\\\\\\\\\\\\"\\\\\\\",\\\\\\\"type\\\\\\\":\\\\\\\"Normal\\\\\\\"},{\\\\\\\"count\\\\\\\":1,\\\\\\\"firstTimestamp\\\\\\\":\\\\\\\"2021-01-30T16:14:16Z\\\\\\\",\\\\\\\"lastTimestamp\\\\\\\":\\\\\\\"2021-01-30T16:14:16Z\\\\\\\",\\\\\\\"name\\\\\\\":\\\\\\\"Pulled\\\\\\\",\\\\\\\"message\\\\\\\":\\\\\\\"Successfully pulled image \\\\\\\\\\\\\\\"d80cb30636af477fb62a8117ab8215f1.azurecr.io/azureml/azureml_b9e8a2e66019f74c902eacced9684631:latest\\\\\\\\\\\\\\\"\\\\\\\",\\\\\\\"type\\\\\\\":\\\\\\\"Normal\\\\\\\"},{\\\\\\\"count\\\\\\\":4,\\\\\\\"firstTimestamp\\\\\\\":\\\\\\\"2021-01-30T16:14:38Z\\\\\\\",\\\\\\\"lastTimestamp\\\\\\\":\\\\\\\"2021-01-30T16:16:04Z\\\\\\\",\\\\\\\"name\\\\\\\":\\\\\\\"Started\\\\\\\",\\\\\\\"message\\\\\\\":\\\\\\\"Started container\\\\\\\",\\\\\\\"type\\\\\\\":\\\\\\\"Normal\\\\\\\"},{\\\\\\\"count\\\\\\\":4,\\\\\\\"firstTimestamp\\\\\\\":\\\\\\\"2021-01-30T16:14:43Z\\\\\\\",\\\\\\\"lastTimestamp\\\\\\\":\\\\\\\"2021-01-30T16:16:08Z\\\\\\\",\\\\\\\"name\\\\\\\":\\\\\\\"Killing\\\\\\\",\\\\\\\"message\\\\\\\":\\\\\\\"Killing container with id 4311abdf8260197832c91d83e07702905ed8cee20198f826ea029e6e8dc98628.\\\\\\\",\\\\\\\"type\\\\\\\":\\\\\\\"Normal\\\\\\\"}]}\\\"\\n    }\\n  ]\\n}\"\n    }\n}"
     ]
    }
   ],
   "source": [
    "inference_config = InferenceConfig(entry_script='score.py',\n",
    "                                   environment=environment)\n",
    "service_name = 'automl-deploy-1'\n",
    "deployment_config = AciWebservice.deploy_configuration(cpu_cores=1, memory_gb=1)\n",
    "\n",
    "service = Model.deploy(workspace=ws,\n",
    "                       name=service_name,\n",
    "                       models=[model],\n",
    "                       inference_config=inference_config,\n",
    "                       deployment_config=deployment_config\n",
    "                      )\n",
    "service.wait_for_deployment(show_output=True)"
   ]
  },
  {
   "cell_type": "code",
   "execution_count": 31,
   "metadata": {},
   "outputs": [],
   "source": [
    "# Enable app insights\n",
    "service.update(enable_app_insights=True)"
   ]
  },
  {
   "cell_type": "markdown",
   "metadata": {
    "gather": {
     "logged": 1598431657736
    },
    "jupyter": {
     "outputs_hidden": false,
     "source_hidden": false
    },
    "nteract": {
     "transient": {
      "deleting": false
     }
    }
   },
   "source": [
    "TODO: In the cell below, send a request to the web service you deployed to test it."
   ]
  },
  {
   "cell_type": "code",
   "execution_count": 32,
   "metadata": {
    "collapsed": false,
    "gather": {
     "logged": 1598432707604
    },
    "jupyter": {
     "outputs_hidden": false,
     "source_hidden": false
    },
    "nteract": {
     "transient": {
      "deleting": false
     }
    }
   },
   "outputs": [
    {
     "name": "stdout",
     "output_type": "stream",
     "text": [
      "[{'Pregnancies': 6, 'Glucose': 148, 'BloodPressure': 72, 'SkinThickness': 35, 'Insulin': 0, 'BMI': 33.5, 'DiabetesPedigreeFunction': 0.627, 'Age': 50}, {'Pregnancies': 1, 'Glucose': 85, 'BloodPressure': 66, 'SkinThickness': 29, 'Insulin': 20, 'BMI': 26.5, 'DiabetesPedigreeFunction': 0.351, 'Age': 31}]\n"
     ]
    }
   ],
   "source": [
    "data = [{\"Pregnancies\": 6, \n",
    " \"Glucose\": 148, \n",
    " \"BloodPressure\": 72, \n",
    " \"SkinThickness\": 35, \n",
    " \"Insulin\": 0, \n",
    " \"BMI\": 33.5, \n",
    " \"DiabetesPedigreeFunction\": 0.627, \n",
    " \"Age\": 50},\n",
    "{\"Pregnancies\": 1, \n",
    " \"Glucose\": 85, \n",
    " \"BloodPressure\": 66, \n",
    " \"SkinThickness\": 29, \n",
    " \"Insulin\": 20, \n",
    " \"BMI\": 26.5, \n",
    " \"DiabetesPedigreeFunction\": 0.351, \n",
    " \"Age\": 31}]\n",
    "\n",
    "print(data)"
   ]
  },
  {
   "cell_type": "code",
   "execution_count": 33,
   "metadata": {},
   "outputs": [
    {
     "name": "stderr",
     "output_type": "stream",
     "text": [
      "ERROR:azureml.core.webservice.aci:Error attempting to call webservice, scoring_uri unavailable. This could be due to a failed deployment, or the service is not ready yet.\n",
      "Current State: Failed\n",
      "Errors: {'code': 'AciDeploymentFailed', 'message': \"Aci Deployment failed with exception: Your container application crashed. This may be caused by errors in your scoring file's init() function.\\nPlease check the logs for your container instance: automl-deploy. From the AML SDK, you can run print(service.get_logs()) if you have service object to fetch the logs. \\nYou can interactively debug your scoring file locally. Please refer to https://docs.microsoft.com/azure/machine-learning/how-to-debug-visual-studio-code#debug-and-troubleshoot-deployments for more information.\\nYou can also try to run image d80cb30636af477fb62a8117ab8215f1.azurecr.io/azureml/azureml_b9e8a2e66019f74c902eacced9684631 locally. Please refer to https://aka.ms/debugimage#service-launch-fails for more information.\", 'details': [{'code': 'CrashLoopBackOff', 'message': \"Your container application crashed. This may be caused by errors in your scoring file's init() function.\\nPlease check the logs for your container instance: automl-deploy. From the AML SDK, you can run print(service.get_logs()) if you have service object to fetch the logs. \\nYou can interactively debug your scoring file locally. Please refer to https://docs.microsoft.com/azure/machine-learning/how-to-debug-visual-studio-code#debug-and-troubleshoot-deployments for more information.\\nYou can also try to run image d80cb30636af477fb62a8117ab8215f1.azurecr.io/azureml/azureml_b9e8a2e66019f74c902eacced9684631 locally. Please refer to https://aka.ms/debugimage#service-launch-fails for more information.\"}, {'code': 'AciDeploymentFailed', 'message': 'Your container application crashed. Please follow the steps to debug:\\n1. From the AML SDK, you can run print(service.get_logs()) if you have service object to fetch the logs. Please refer to https://aka.ms/debugimage#dockerlog for more information.\\n2. If your container application crashed. This may be caused by errors in your scoring file\\'s init() function. You can try debugging locally first. Please refer to https://aka.ms/debugimage#debug-locally for more information.\\n3. You can also interactively debug your scoring file locally. Please refer to https://docs.microsoft.com/azure/machine-learning/how-to-debug-visual-studio-code#debug-and-troubleshoot-deployments for more information.\\n4. View the diagnostic events to check status of container, it may help you to debug the issue. {\"restartCount\":3,\"currentState\":{\"state\":\"Waiting\",\"startTime\":null,\"exitCode\":null,\"finishTime\":null,\"detailStatus\":\"CrashLoopBackOff: Back-off restarting failed\"},\"previousState\":{\"state\":\"Terminated\",\"startTime\":\"2021-01-30T16:03:24.932Z\",\"exitCode\":111,\"finishTime\":\"2021-01-30T16:03:29.392Z\",\"detailStatus\":\"Error\"},\"events\":[{\"count\":1,\"firstTimestamp\":\"2021-01-30T16:01:06Z\",\"lastTimestamp\":\"2021-01-30T16:01:06Z\",\"name\":\"Pulling\",\"message\":\"pulling image \\\\\"d80cb30636af477fb62a8117ab8215f1.azurecr.io/azureml/azureml_b9e8a2e66019f74c902eacced9684631:latest\\\\\"\",\"type\":\"Normal\"},{\"count\":1,\"firstTimestamp\":\"2021-01-30T16:01:41Z\",\"lastTimestamp\":\"2021-01-30T16:01:41Z\",\"name\":\"Pulled\",\"message\":\"Successfully pulled image \\\\\"d80cb30636af477fb62a8117ab8215f1.azurecr.io/azureml/azureml_b9e8a2e66019f74c902eacced9684631:latest\\\\\"\",\"type\":\"Normal\"},{\"count\":4,\"firstTimestamp\":\"2021-01-30T16:02:02Z\",\"lastTimestamp\":\"2021-01-30T16:03:24Z\",\"name\":\"Started\",\"message\":\"Started container\",\"type\":\"Normal\"},{\"count\":4,\"firstTimestamp\":\"2021-01-30T16:02:08Z\",\"lastTimestamp\":\"2021-01-30T16:03:29Z\",\"name\":\"Killing\",\"message\":\"Killing container with id 4ec0b9a3b6b40bdf9f933bdd1b9fda3b4e659051608a0dbcda89bc56fc01d3b1.\",\"type\":\"Normal\"}]}'}]}\n",
      "\n"
     ]
    },
    {
     "ename": "WebserviceException",
     "evalue": "WebserviceException:\n\tMessage: Error attempting to call webservice, scoring_uri unavailable. This could be due to a failed deployment, or the service is not ready yet.\nCurrent State: Failed\nErrors: {'code': 'AciDeploymentFailed', 'message': \"Aci Deployment failed with exception: Your container application crashed. This may be caused by errors in your scoring file's init() function.\\nPlease check the logs for your container instance: automl-deploy. From the AML SDK, you can run print(service.get_logs()) if you have service object to fetch the logs. \\nYou can interactively debug your scoring file locally. Please refer to https://docs.microsoft.com/azure/machine-learning/how-to-debug-visual-studio-code#debug-and-troubleshoot-deployments for more information.\\nYou can also try to run image d80cb30636af477fb62a8117ab8215f1.azurecr.io/azureml/azureml_b9e8a2e66019f74c902eacced9684631 locally. Please refer to https://aka.ms/debugimage#service-launch-fails for more information.\", 'details': [{'code': 'CrashLoopBackOff', 'message': \"Your container application crashed. This may be caused by errors in your scoring file's init() function.\\nPlease check the logs for your container instance: automl-deploy. From the AML SDK, you can run print(service.get_logs()) if you have service object to fetch the logs. \\nYou can interactively debug your scoring file locally. Please refer to https://docs.microsoft.com/azure/machine-learning/how-to-debug-visual-studio-code#debug-and-troubleshoot-deployments for more information.\\nYou can also try to run image d80cb30636af477fb62a8117ab8215f1.azurecr.io/azureml/azureml_b9e8a2e66019f74c902eacced9684631 locally. Please refer to https://aka.ms/debugimage#service-launch-fails for more information.\"}, {'code': 'AciDeploymentFailed', 'message': 'Your container application crashed. Please follow the steps to debug:\\n1. From the AML SDK, you can run print(service.get_logs()) if you have service object to fetch the logs. Please refer to https://aka.ms/debugimage#dockerlog for more information.\\n2. If your container application crashed. This may be caused by errors in your scoring file\\'s init() function. You can try debugging locally first. Please refer to https://aka.ms/debugimage#debug-locally for more information.\\n3. You can also interactively debug your scoring file locally. Please refer to https://docs.microsoft.com/azure/machine-learning/how-to-debug-visual-studio-code#debug-and-troubleshoot-deployments for more information.\\n4. View the diagnostic events to check status of container, it may help you to debug the issue. {\"restartCount\":3,\"currentState\":{\"state\":\"Waiting\",\"startTime\":null,\"exitCode\":null,\"finishTime\":null,\"detailStatus\":\"CrashLoopBackOff: Back-off restarting failed\"},\"previousState\":{\"state\":\"Terminated\",\"startTime\":\"2021-01-30T16:03:24.932Z\",\"exitCode\":111,\"finishTime\":\"2021-01-30T16:03:29.392Z\",\"detailStatus\":\"Error\"},\"events\":[{\"count\":1,\"firstTimestamp\":\"2021-01-30T16:01:06Z\",\"lastTimestamp\":\"2021-01-30T16:01:06Z\",\"name\":\"Pulling\",\"message\":\"pulling image \\\\\"d80cb30636af477fb62a8117ab8215f1.azurecr.io/azureml/azureml_b9e8a2e66019f74c902eacced9684631:latest\\\\\"\",\"type\":\"Normal\"},{\"count\":1,\"firstTimestamp\":\"2021-01-30T16:01:41Z\",\"lastTimestamp\":\"2021-01-30T16:01:41Z\",\"name\":\"Pulled\",\"message\":\"Successfully pulled image \\\\\"d80cb30636af477fb62a8117ab8215f1.azurecr.io/azureml/azureml_b9e8a2e66019f74c902eacced9684631:latest\\\\\"\",\"type\":\"Normal\"},{\"count\":4,\"firstTimestamp\":\"2021-01-30T16:02:02Z\",\"lastTimestamp\":\"2021-01-30T16:03:24Z\",\"name\":\"Started\",\"message\":\"Started container\",\"type\":\"Normal\"},{\"count\":4,\"firstTimestamp\":\"2021-01-30T16:02:08Z\",\"lastTimestamp\":\"2021-01-30T16:03:29Z\",\"name\":\"Killing\",\"message\":\"Killing container with id 4ec0b9a3b6b40bdf9f933bdd1b9fda3b4e659051608a0dbcda89bc56fc01d3b1.\",\"type\":\"Normal\"}]}'}]}\n\tInnerException None\n\tErrorResponse \n{\n    \"error\": {\n        \"message\": \"Error attempting to call webservice, scoring_uri unavailable. This could be due to a failed deployment, or the service is not ready yet.\\nCurrent State: Failed\\nErrors: {'code': 'AciDeploymentFailed', 'message': \\\"Aci Deployment failed with exception: Your container application crashed. This may be caused by errors in your scoring file's init() function.\\\\nPlease check the logs for your container instance: automl-deploy. From the AML SDK, you can run print(service.get_logs()) if you have service object to fetch the logs. \\\\nYou can interactively debug your scoring file locally. Please refer to https://docs.microsoft.com/azure/machine-learning/how-to-debug-visual-studio-code#debug-and-troubleshoot-deployments for more information.\\\\nYou can also try to run image d80cb30636af477fb62a8117ab8215f1.azurecr.io/azureml/azureml_b9e8a2e66019f74c902eacced9684631 locally. Please refer to https://aka.ms/debugimage#service-launch-fails for more information.\\\", 'details': [{'code': 'CrashLoopBackOff', 'message': \\\"Your container application crashed. This may be caused by errors in your scoring file's init() function.\\\\nPlease check the logs for your container instance: automl-deploy. From the AML SDK, you can run print(service.get_logs()) if you have service object to fetch the logs. \\\\nYou can interactively debug your scoring file locally. Please refer to https://docs.microsoft.com/azure/machine-learning/how-to-debug-visual-studio-code#debug-and-troubleshoot-deployments for more information.\\\\nYou can also try to run image d80cb30636af477fb62a8117ab8215f1.azurecr.io/azureml/azureml_b9e8a2e66019f74c902eacced9684631 locally. Please refer to https://aka.ms/debugimage#service-launch-fails for more information.\\\"}, {'code': 'AciDeploymentFailed', 'message': 'Your container application crashed. Please follow the steps to debug:\\\\n1. From the AML SDK, you can run print(service.get_logs()) if you have service object to fetch the logs. Please refer to https://aka.ms/debugimage#dockerlog for more information.\\\\n2. If your container application crashed. This may be caused by errors in your scoring file\\\\'s init() function. You can try debugging locally first. Please refer to https://aka.ms/debugimage#debug-locally for more information.\\\\n3. You can also interactively debug your scoring file locally. Please refer to https://docs.microsoft.com/azure/machine-learning/how-to-debug-visual-studio-code#debug-and-troubleshoot-deployments for more information.\\\\n4. View the diagnostic events to check status of container, it may help you to debug the issue. {\\\"restartCount\\\":3,\\\"currentState\\\":{\\\"state\\\":\\\"Waiting\\\",\\\"startTime\\\":null,\\\"exitCode\\\":null,\\\"finishTime\\\":null,\\\"detailStatus\\\":\\\"CrashLoopBackOff: Back-off restarting failed\\\"},\\\"previousState\\\":{\\\"state\\\":\\\"Terminated\\\",\\\"startTime\\\":\\\"2021-01-30T16:03:24.932Z\\\",\\\"exitCode\\\":111,\\\"finishTime\\\":\\\"2021-01-30T16:03:29.392Z\\\",\\\"detailStatus\\\":\\\"Error\\\"},\\\"events\\\":[{\\\"count\\\":1,\\\"firstTimestamp\\\":\\\"2021-01-30T16:01:06Z\\\",\\\"lastTimestamp\\\":\\\"2021-01-30T16:01:06Z\\\",\\\"name\\\":\\\"Pulling\\\",\\\"message\\\":\\\"pulling image \\\\\\\\\\\"d80cb30636af477fb62a8117ab8215f1.azurecr.io/azureml/azureml_b9e8a2e66019f74c902eacced9684631:latest\\\\\\\\\\\"\\\",\\\"type\\\":\\\"Normal\\\"},{\\\"count\\\":1,\\\"firstTimestamp\\\":\\\"2021-01-30T16:01:41Z\\\",\\\"lastTimestamp\\\":\\\"2021-01-30T16:01:41Z\\\",\\\"name\\\":\\\"Pulled\\\",\\\"message\\\":\\\"Successfully pulled image \\\\\\\\\\\"d80cb30636af477fb62a8117ab8215f1.azurecr.io/azureml/azureml_b9e8a2e66019f74c902eacced9684631:latest\\\\\\\\\\\"\\\",\\\"type\\\":\\\"Normal\\\"},{\\\"count\\\":4,\\\"firstTimestamp\\\":\\\"2021-01-30T16:02:02Z\\\",\\\"lastTimestamp\\\":\\\"2021-01-30T16:03:24Z\\\",\\\"name\\\":\\\"Started\\\",\\\"message\\\":\\\"Started container\\\",\\\"type\\\":\\\"Normal\\\"},{\\\"count\\\":4,\\\"firstTimestamp\\\":\\\"2021-01-30T16:02:08Z\\\",\\\"lastTimestamp\\\":\\\"2021-01-30T16:03:29Z\\\",\\\"name\\\":\\\"Killing\\\",\\\"message\\\":\\\"Killing container with id 4ec0b9a3b6b40bdf9f933bdd1b9fda3b4e659051608a0dbcda89bc56fc01d3b1.\\\",\\\"type\\\":\\\"Normal\\\"}]}'}]}\"\n    }\n}",
     "output_type": "error",
     "traceback": [
      "\u001b[0;31m---------------------------------------------------------------------------\u001b[0m",
      "\u001b[0;31mWebserviceException\u001b[0m                       Traceback (most recent call last)",
      "\u001b[0;32m<ipython-input-33-826a35dbe904>\u001b[0m in \u001b[0;36m<module>\u001b[0;34m\u001b[0m\n\u001b[1;32m      4\u001b[0m \u001b[0;31m#})\u001b[0m\u001b[0;34m\u001b[0m\u001b[0;34m\u001b[0m\u001b[0;34m\u001b[0m\u001b[0m\n\u001b[1;32m      5\u001b[0m \u001b[0;34m\u001b[0m\u001b[0m\n\u001b[0;32m----> 6\u001b[0;31m \u001b[0moutput\u001b[0m \u001b[0;34m=\u001b[0m \u001b[0mservice\u001b[0m\u001b[0;34m.\u001b[0m\u001b[0mrun\u001b[0m\u001b[0;34m(\u001b[0m\u001b[0minput_data\u001b[0m\u001b[0;34m)\u001b[0m\u001b[0;34m\u001b[0m\u001b[0;34m\u001b[0m\u001b[0m\n\u001b[0m\u001b[1;32m      7\u001b[0m \u001b[0mprint\u001b[0m\u001b[0;34m(\u001b[0m\u001b[0moutput\u001b[0m\u001b[0;34m)\u001b[0m\u001b[0;34m\u001b[0m\u001b[0;34m\u001b[0m\u001b[0m\n",
      "\u001b[0;32m/anaconda/envs/azureml_py36/lib/python3.6/site-packages/azureml/core/webservice/aci.py\u001b[0m in \u001b[0;36mrun\u001b[0;34m(self, input_data)\u001b[0m\n\u001b[1;32m    384\u001b[0m                                       \u001b[0;34m'This could be due to a failed deployment, or the service is not ready yet.\\n'\u001b[0m\u001b[0;34m\u001b[0m\u001b[0;34m\u001b[0m\u001b[0m\n\u001b[1;32m    385\u001b[0m                                       \u001b[0;34m'Current State: {}\\n'\u001b[0m\u001b[0;34m\u001b[0m\u001b[0;34m\u001b[0m\u001b[0m\n\u001b[0;32m--> 386\u001b[0;31m                                       'Errors: {}'.format(self.state, self.error), logger=module_logger)\n\u001b[0m\u001b[1;32m    387\u001b[0m \u001b[0;34m\u001b[0m\u001b[0m\n\u001b[1;32m    388\u001b[0m         \u001b[0mresp\u001b[0m \u001b[0;34m=\u001b[0m \u001b[0mClientBase\u001b[0m\u001b[0;34m.\u001b[0m\u001b[0m_execute_func\u001b[0m\u001b[0;34m(\u001b[0m\u001b[0mself\u001b[0m\u001b[0;34m.\u001b[0m\u001b[0m_webservice_session\u001b[0m\u001b[0;34m.\u001b[0m\u001b[0mpost\u001b[0m\u001b[0;34m,\u001b[0m \u001b[0mself\u001b[0m\u001b[0;34m.\u001b[0m\u001b[0mscoring_uri\u001b[0m\u001b[0;34m,\u001b[0m \u001b[0mdata\u001b[0m\u001b[0;34m=\u001b[0m\u001b[0minput_data\u001b[0m\u001b[0;34m)\u001b[0m\u001b[0;34m\u001b[0m\u001b[0;34m\u001b[0m\u001b[0m\n",
      "\u001b[0;31mWebserviceException\u001b[0m: WebserviceException:\n\tMessage: Error attempting to call webservice, scoring_uri unavailable. This could be due to a failed deployment, or the service is not ready yet.\nCurrent State: Failed\nErrors: {'code': 'AciDeploymentFailed', 'message': \"Aci Deployment failed with exception: Your container application crashed. This may be caused by errors in your scoring file's init() function.\\nPlease check the logs for your container instance: automl-deploy. From the AML SDK, you can run print(service.get_logs()) if you have service object to fetch the logs. \\nYou can interactively debug your scoring file locally. Please refer to https://docs.microsoft.com/azure/machine-learning/how-to-debug-visual-studio-code#debug-and-troubleshoot-deployments for more information.\\nYou can also try to run image d80cb30636af477fb62a8117ab8215f1.azurecr.io/azureml/azureml_b9e8a2e66019f74c902eacced9684631 locally. Please refer to https://aka.ms/debugimage#service-launch-fails for more information.\", 'details': [{'code': 'CrashLoopBackOff', 'message': \"Your container application crashed. This may be caused by errors in your scoring file's init() function.\\nPlease check the logs for your container instance: automl-deploy. From the AML SDK, you can run print(service.get_logs()) if you have service object to fetch the logs. \\nYou can interactively debug your scoring file locally. Please refer to https://docs.microsoft.com/azure/machine-learning/how-to-debug-visual-studio-code#debug-and-troubleshoot-deployments for more information.\\nYou can also try to run image d80cb30636af477fb62a8117ab8215f1.azurecr.io/azureml/azureml_b9e8a2e66019f74c902eacced9684631 locally. Please refer to https://aka.ms/debugimage#service-launch-fails for more information.\"}, {'code': 'AciDeploymentFailed', 'message': 'Your container application crashed. Please follow the steps to debug:\\n1. From the AML SDK, you can run print(service.get_logs()) if you have service object to fetch the logs. Please refer to https://aka.ms/debugimage#dockerlog for more information.\\n2. If your container application crashed. This may be caused by errors in your scoring file\\'s init() function. You can try debugging locally first. Please refer to https://aka.ms/debugimage#debug-locally for more information.\\n3. You can also interactively debug your scoring file locally. Please refer to https://docs.microsoft.com/azure/machine-learning/how-to-debug-visual-studio-code#debug-and-troubleshoot-deployments for more information.\\n4. View the diagnostic events to check status of container, it may help you to debug the issue. {\"restartCount\":3,\"currentState\":{\"state\":\"Waiting\",\"startTime\":null,\"exitCode\":null,\"finishTime\":null,\"detailStatus\":\"CrashLoopBackOff: Back-off restarting failed\"},\"previousState\":{\"state\":\"Terminated\",\"startTime\":\"2021-01-30T16:03:24.932Z\",\"exitCode\":111,\"finishTime\":\"2021-01-30T16:03:29.392Z\",\"detailStatus\":\"Error\"},\"events\":[{\"count\":1,\"firstTimestamp\":\"2021-01-30T16:01:06Z\",\"lastTimestamp\":\"2021-01-30T16:01:06Z\",\"name\":\"Pulling\",\"message\":\"pulling image \\\\\"d80cb30636af477fb62a8117ab8215f1.azurecr.io/azureml/azureml_b9e8a2e66019f74c902eacced9684631:latest\\\\\"\",\"type\":\"Normal\"},{\"count\":1,\"firstTimestamp\":\"2021-01-30T16:01:41Z\",\"lastTimestamp\":\"2021-01-30T16:01:41Z\",\"name\":\"Pulled\",\"message\":\"Successfully pulled image \\\\\"d80cb30636af477fb62a8117ab8215f1.azurecr.io/azureml/azureml_b9e8a2e66019f74c902eacced9684631:latest\\\\\"\",\"type\":\"Normal\"},{\"count\":4,\"firstTimestamp\":\"2021-01-30T16:02:02Z\",\"lastTimestamp\":\"2021-01-30T16:03:24Z\",\"name\":\"Started\",\"message\":\"Started container\",\"type\":\"Normal\"},{\"count\":4,\"firstTimestamp\":\"2021-01-30T16:02:08Z\",\"lastTimestamp\":\"2021-01-30T16:03:29Z\",\"name\":\"Killing\",\"message\":\"Killing container with id 4ec0b9a3b6b40bdf9f933bdd1b9fda3b4e659051608a0dbcda89bc56fc01d3b1.\",\"type\":\"Normal\"}]}'}]}\n\tInnerException None\n\tErrorResponse \n{\n    \"error\": {\n        \"message\": \"Error attempting to call webservice, scoring_uri unavailable. This could be due to a failed deployment, or the service is not ready yet.\\nCurrent State: Failed\\nErrors: {'code': 'AciDeploymentFailed', 'message': \\\"Aci Deployment failed with exception: Your container application crashed. This may be caused by errors in your scoring file's init() function.\\\\nPlease check the logs for your container instance: automl-deploy. From the AML SDK, you can run print(service.get_logs()) if you have service object to fetch the logs. \\\\nYou can interactively debug your scoring file locally. Please refer to https://docs.microsoft.com/azure/machine-learning/how-to-debug-visual-studio-code#debug-and-troubleshoot-deployments for more information.\\\\nYou can also try to run image d80cb30636af477fb62a8117ab8215f1.azurecr.io/azureml/azureml_b9e8a2e66019f74c902eacced9684631 locally. Please refer to https://aka.ms/debugimage#service-launch-fails for more information.\\\", 'details': [{'code': 'CrashLoopBackOff', 'message': \\\"Your container application crashed. This may be caused by errors in your scoring file's init() function.\\\\nPlease check the logs for your container instance: automl-deploy. From the AML SDK, you can run print(service.get_logs()) if you have service object to fetch the logs. \\\\nYou can interactively debug your scoring file locally. Please refer to https://docs.microsoft.com/azure/machine-learning/how-to-debug-visual-studio-code#debug-and-troubleshoot-deployments for more information.\\\\nYou can also try to run image d80cb30636af477fb62a8117ab8215f1.azurecr.io/azureml/azureml_b9e8a2e66019f74c902eacced9684631 locally. Please refer to https://aka.ms/debugimage#service-launch-fails for more information.\\\"}, {'code': 'AciDeploymentFailed', 'message': 'Your container application crashed. Please follow the steps to debug:\\\\n1. From the AML SDK, you can run print(service.get_logs()) if you have service object to fetch the logs. Please refer to https://aka.ms/debugimage#dockerlog for more information.\\\\n2. If your container application crashed. This may be caused by errors in your scoring file\\\\'s init() function. You can try debugging locally first. Please refer to https://aka.ms/debugimage#debug-locally for more information.\\\\n3. You can also interactively debug your scoring file locally. Please refer to https://docs.microsoft.com/azure/machine-learning/how-to-debug-visual-studio-code#debug-and-troubleshoot-deployments for more information.\\\\n4. View the diagnostic events to check status of container, it may help you to debug the issue. {\\\"restartCount\\\":3,\\\"currentState\\\":{\\\"state\\\":\\\"Waiting\\\",\\\"startTime\\\":null,\\\"exitCode\\\":null,\\\"finishTime\\\":null,\\\"detailStatus\\\":\\\"CrashLoopBackOff: Back-off restarting failed\\\"},\\\"previousState\\\":{\\\"state\\\":\\\"Terminated\\\",\\\"startTime\\\":\\\"2021-01-30T16:03:24.932Z\\\",\\\"exitCode\\\":111,\\\"finishTime\\\":\\\"2021-01-30T16:03:29.392Z\\\",\\\"detailStatus\\\":\\\"Error\\\"},\\\"events\\\":[{\\\"count\\\":1,\\\"firstTimestamp\\\":\\\"2021-01-30T16:01:06Z\\\",\\\"lastTimestamp\\\":\\\"2021-01-30T16:01:06Z\\\",\\\"name\\\":\\\"Pulling\\\",\\\"message\\\":\\\"pulling image \\\\\\\\\\\"d80cb30636af477fb62a8117ab8215f1.azurecr.io/azureml/azureml_b9e8a2e66019f74c902eacced9684631:latest\\\\\\\\\\\"\\\",\\\"type\\\":\\\"Normal\\\"},{\\\"count\\\":1,\\\"firstTimestamp\\\":\\\"2021-01-30T16:01:41Z\\\",\\\"lastTimestamp\\\":\\\"2021-01-30T16:01:41Z\\\",\\\"name\\\":\\\"Pulled\\\",\\\"message\\\":\\\"Successfully pulled image \\\\\\\\\\\"d80cb30636af477fb62a8117ab8215f1.azurecr.io/azureml/azureml_b9e8a2e66019f74c902eacced9684631:latest\\\\\\\\\\\"\\\",\\\"type\\\":\\\"Normal\\\"},{\\\"count\\\":4,\\\"firstTimestamp\\\":\\\"2021-01-30T16:02:02Z\\\",\\\"lastTimestamp\\\":\\\"2021-01-30T16:03:24Z\\\",\\\"name\\\":\\\"Started\\\",\\\"message\\\":\\\"Started container\\\",\\\"type\\\":\\\"Normal\\\"},{\\\"count\\\":4,\\\"firstTimestamp\\\":\\\"2021-01-30T16:02:08Z\\\",\\\"lastTimestamp\\\":\\\"2021-01-30T16:03:29Z\\\",\\\"name\\\":\\\"Killing\\\",\\\"message\\\":\\\"Killing container with id 4ec0b9a3b6b40bdf9f933bdd1b9fda3b4e659051608a0dbcda89bc56fc01d3b1.\\\",\\\"type\\\":\\\"Normal\\\"}]}'}]}\"\n    }\n}"
     ]
    }
   ],
   "source": [
    "input_data = json.dumps(data)\n",
    "#input_data = json.dumps({\n",
    "#    'data': data\n",
    "#})\n",
    "\n",
    "output = service.run(input_data)\n",
    "print(output)"
   ]
  },
  {
   "cell_type": "markdown",
   "metadata": {
    "gather": {
     "logged": 1598432765711
    },
    "jupyter": {
     "outputs_hidden": false,
     "source_hidden": false
    },
    "nteract": {
     "transient": {
      "deleting": false
     }
    }
   },
   "source": [
    "TODO: In the cell below, print the logs of the web service and delete the service"
   ]
  },
  {
   "cell_type": "code",
   "execution_count": null,
   "metadata": {
    "collapsed": false,
    "jupyter": {
     "outputs_hidden": false,
     "source_hidden": false
    },
    "nteract": {
     "transient": {
      "deleting": false
     }
    }
   },
   "outputs": [],
   "source": [
    "logs = service.get_logs()\n",
    "logs"
   ]
  },
  {
   "cell_type": "code",
   "execution_count": null,
   "metadata": {},
   "outputs": [],
   "source": [
    "service.delete()"
   ]
  }
 ],
 "metadata": {
  "kernel_info": {
   "name": "python3"
  },
  "kernelspec": {
   "display_name": "Python 3",
   "language": "python",
   "name": "python3"
  },
  "language_info": {
   "codemirror_mode": {
    "name": "ipython",
    "version": 3
   },
   "file_extension": ".py",
   "mimetype": "text/x-python",
   "name": "python",
   "nbconvert_exporter": "python",
   "pygments_lexer": "ipython3",
   "version": "3.6.9"
  },
  "nteract": {
   "version": "nteract-front-end@1.0.0"
  }
 },
 "nbformat": 4,
 "nbformat_minor": 4
}
