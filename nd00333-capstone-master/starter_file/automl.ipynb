{
 "cells": [
  {
   "cell_type": "markdown",
   "metadata": {},
   "source": [
    "# Automated ML\n",
    "\n",
    "Importing all needed dependencies to complete the project."
   ]
  },
  {
   "cell_type": "code",
   "execution_count": 1,
   "metadata": {
    "collapsed": false,
    "gather": {
     "logged": 1612018493821
    },
    "jupyter": {
     "outputs_hidden": false,
     "source_hidden": false
    },
    "nteract": {
     "transient": {
      "deleting": false
     }
    }
   },
   "outputs": [
    {
     "name": "stdout",
     "output_type": "stream",
     "text": [
      "SDK version: 1.20.0\n"
     ]
    }
   ],
   "source": [
    "import logging\n",
    "import os\n",
    "import json\n",
    "import csv\n",
    "import numpy as np\n",
    "import pandas as pd\n",
    "import pkg_resources\n",
    "import joblib\n",
    "\n",
    "import azureml.core\n",
    "from azureml.core.experiment import Experiment\n",
    "from azureml.core.workspace import Workspace\n",
    "from azureml.train.automl import AutoMLConfig\n",
    "from azureml.core.dataset import Dataset\n",
    "from azureml.core.compute import AmlCompute\n",
    "from azureml.core.compute import ComputeTarget\n",
    "from azureml.core.compute_target import ComputeTargetException\n",
    "from azureml.pipeline.steps import AutoMLStep\n",
    "from azureml.widgets import RunDetails\n",
    "from azureml.core import Model, Environment\n",
    "from azureml.core.model import InferenceConfig\n",
    "from azureml.core.webservice import AciWebservice\n",
    "\n",
    "# Check core SDK version number\n",
    "print(\"SDK version:\", azureml.core.VERSION)"
   ]
  },
  {
   "cell_type": "markdown",
   "metadata": {},
   "source": [
    "## Dataset\n",
    "\n",
    "### Overview\n",
    "TODO: In this markdown cell, give an overview of the dataset you are using. Also mention the task you will be performing.\n",
    "\n",
    "\n",
    "TODO: Get data. In the cell below, write code to access the data you will be using in this project. Remember that the dataset needs to be external.\n",
    "\n",
    "https://www.kaggle.com/mathchi/diabetes-data-set"
   ]
  },
  {
   "cell_type": "code",
   "execution_count": 2,
   "metadata": {
    "collapsed": false,
    "gather": {
     "logged": 1598423890461
    },
    "jupyter": {
     "outputs_hidden": false,
     "source_hidden": false
    },
    "nteract": {
     "transient": {
      "deleting": false
     }
    }
   },
   "outputs": [],
   "source": [
    "ws = Workspace.from_config()\n",
    "\n",
    "# choose a name for experiment\n",
    "experiment_name = 'automl-exp'\n",
    "\n",
    "experiment=Experiment(ws, experiment_name)"
   ]
  },
  {
   "cell_type": "code",
   "execution_count": 3,
   "metadata": {},
   "outputs": [
    {
     "name": "stdout",
     "output_type": "stream",
     "text": [
      "<class 'pandas.core.frame.DataFrame'>\n",
      "RangeIndex: 768 entries, 0 to 767\n",
      "Data columns (total 9 columns):\n",
      "Pregnancies                 768 non-null int64\n",
      "Glucose                     768 non-null int64\n",
      "BloodPressure               768 non-null int64\n",
      "SkinThickness               768 non-null int64\n",
      "Insulin                     768 non-null int64\n",
      "BMI                         768 non-null float64\n",
      "DiabetesPedigreeFunction    768 non-null float64\n",
      "Age                         768 non-null int64\n",
      "Outcome                     768 non-null int64\n",
      "dtypes: float64(2), int64(7)\n",
      "memory usage: 54.1 KB\n"
     ]
    }
   ],
   "source": [
    "# Load the registered dataset from workspace\n",
    "dataset = Dataset.get_by_name(ws, name='diabetes_data_set')\n",
    "\n",
    "# Convert the dataset to dataframe\n",
    "df = dataset.to_pandas_dataframe()\n",
    "df.info()"
   ]
  },
  {
   "cell_type": "code",
   "execution_count": 4,
   "metadata": {},
   "outputs": [
    {
     "data": {
      "text/html": [
       "<div>\n",
       "<style scoped>\n",
       "    .dataframe tbody tr th:only-of-type {\n",
       "        vertical-align: middle;\n",
       "    }\n",
       "\n",
       "    .dataframe tbody tr th {\n",
       "        vertical-align: top;\n",
       "    }\n",
       "\n",
       "    .dataframe thead th {\n",
       "        text-align: right;\n",
       "    }\n",
       "</style>\n",
       "<table border=\"1\" class=\"dataframe\">\n",
       "  <thead>\n",
       "    <tr style=\"text-align: right;\">\n",
       "      <th></th>\n",
       "      <th>Pregnancies</th>\n",
       "      <th>Glucose</th>\n",
       "      <th>BloodPressure</th>\n",
       "      <th>SkinThickness</th>\n",
       "      <th>Insulin</th>\n",
       "      <th>BMI</th>\n",
       "      <th>DiabetesPedigreeFunction</th>\n",
       "      <th>Age</th>\n",
       "      <th>Outcome</th>\n",
       "    </tr>\n",
       "  </thead>\n",
       "  <tbody>\n",
       "    <tr>\n",
       "      <th>count</th>\n",
       "      <td>768.000000</td>\n",
       "      <td>768.000000</td>\n",
       "      <td>768.000000</td>\n",
       "      <td>768.000000</td>\n",
       "      <td>768.000000</td>\n",
       "      <td>768.000000</td>\n",
       "      <td>768.000000</td>\n",
       "      <td>768.000000</td>\n",
       "      <td>768.000000</td>\n",
       "    </tr>\n",
       "    <tr>\n",
       "      <th>mean</th>\n",
       "      <td>3.845052</td>\n",
       "      <td>120.894531</td>\n",
       "      <td>69.105469</td>\n",
       "      <td>20.536458</td>\n",
       "      <td>79.799479</td>\n",
       "      <td>31.992578</td>\n",
       "      <td>0.471876</td>\n",
       "      <td>33.240885</td>\n",
       "      <td>0.348958</td>\n",
       "    </tr>\n",
       "    <tr>\n",
       "      <th>std</th>\n",
       "      <td>3.369578</td>\n",
       "      <td>31.972618</td>\n",
       "      <td>19.355807</td>\n",
       "      <td>15.952218</td>\n",
       "      <td>115.244002</td>\n",
       "      <td>7.884160</td>\n",
       "      <td>0.331329</td>\n",
       "      <td>11.760232</td>\n",
       "      <td>0.476951</td>\n",
       "    </tr>\n",
       "    <tr>\n",
       "      <th>min</th>\n",
       "      <td>0.000000</td>\n",
       "      <td>0.000000</td>\n",
       "      <td>0.000000</td>\n",
       "      <td>0.000000</td>\n",
       "      <td>0.000000</td>\n",
       "      <td>0.000000</td>\n",
       "      <td>0.078000</td>\n",
       "      <td>21.000000</td>\n",
       "      <td>0.000000</td>\n",
       "    </tr>\n",
       "    <tr>\n",
       "      <th>25%</th>\n",
       "      <td>1.000000</td>\n",
       "      <td>99.000000</td>\n",
       "      <td>62.000000</td>\n",
       "      <td>0.000000</td>\n",
       "      <td>0.000000</td>\n",
       "      <td>27.300000</td>\n",
       "      <td>0.243750</td>\n",
       "      <td>24.000000</td>\n",
       "      <td>0.000000</td>\n",
       "    </tr>\n",
       "    <tr>\n",
       "      <th>50%</th>\n",
       "      <td>3.000000</td>\n",
       "      <td>117.000000</td>\n",
       "      <td>72.000000</td>\n",
       "      <td>23.000000</td>\n",
       "      <td>30.500000</td>\n",
       "      <td>32.000000</td>\n",
       "      <td>0.372500</td>\n",
       "      <td>29.000000</td>\n",
       "      <td>0.000000</td>\n",
       "    </tr>\n",
       "    <tr>\n",
       "      <th>75%</th>\n",
       "      <td>6.000000</td>\n",
       "      <td>140.250000</td>\n",
       "      <td>80.000000</td>\n",
       "      <td>32.000000</td>\n",
       "      <td>127.250000</td>\n",
       "      <td>36.600000</td>\n",
       "      <td>0.626250</td>\n",
       "      <td>41.000000</td>\n",
       "      <td>1.000000</td>\n",
       "    </tr>\n",
       "    <tr>\n",
       "      <th>max</th>\n",
       "      <td>17.000000</td>\n",
       "      <td>199.000000</td>\n",
       "      <td>122.000000</td>\n",
       "      <td>99.000000</td>\n",
       "      <td>846.000000</td>\n",
       "      <td>67.100000</td>\n",
       "      <td>2.420000</td>\n",
       "      <td>81.000000</td>\n",
       "      <td>1.000000</td>\n",
       "    </tr>\n",
       "  </tbody>\n",
       "</table>\n",
       "</div>"
      ],
      "text/plain": [
       "       Pregnancies     Glucose  BloodPressure  SkinThickness     Insulin  \\\n",
       "count   768.000000  768.000000     768.000000     768.000000  768.000000   \n",
       "mean      3.845052  120.894531      69.105469      20.536458   79.799479   \n",
       "std       3.369578   31.972618      19.355807      15.952218  115.244002   \n",
       "min       0.000000    0.000000       0.000000       0.000000    0.000000   \n",
       "25%       1.000000   99.000000      62.000000       0.000000    0.000000   \n",
       "50%       3.000000  117.000000      72.000000      23.000000   30.500000   \n",
       "75%       6.000000  140.250000      80.000000      32.000000  127.250000   \n",
       "max      17.000000  199.000000     122.000000      99.000000  846.000000   \n",
       "\n",
       "              BMI  DiabetesPedigreeFunction         Age     Outcome  \n",
       "count  768.000000                768.000000  768.000000  768.000000  \n",
       "mean    31.992578                  0.471876   33.240885    0.348958  \n",
       "std      7.884160                  0.331329   11.760232    0.476951  \n",
       "min      0.000000                  0.078000   21.000000    0.000000  \n",
       "25%     27.300000                  0.243750   24.000000    0.000000  \n",
       "50%     32.000000                  0.372500   29.000000    0.000000  \n",
       "75%     36.600000                  0.626250   41.000000    1.000000  \n",
       "max     67.100000                  2.420000   81.000000    1.000000  "
      ]
     },
     "execution_count": 4,
     "metadata": {},
     "output_type": "execute_result"
    }
   ],
   "source": [
    "df.describe()"
   ]
  },
  {
   "cell_type": "code",
   "execution_count": 5,
   "metadata": {},
   "outputs": [
    {
     "data": {
      "text/html": [
       "<div>\n",
       "<style scoped>\n",
       "    .dataframe tbody tr th:only-of-type {\n",
       "        vertical-align: middle;\n",
       "    }\n",
       "\n",
       "    .dataframe tbody tr th {\n",
       "        vertical-align: top;\n",
       "    }\n",
       "\n",
       "    .dataframe thead th {\n",
       "        text-align: right;\n",
       "    }\n",
       "</style>\n",
       "<table border=\"1\" class=\"dataframe\">\n",
       "  <thead>\n",
       "    <tr style=\"text-align: right;\">\n",
       "      <th></th>\n",
       "      <th>Pregnancies</th>\n",
       "      <th>Glucose</th>\n",
       "      <th>BloodPressure</th>\n",
       "      <th>SkinThickness</th>\n",
       "      <th>Insulin</th>\n",
       "      <th>BMI</th>\n",
       "      <th>DiabetesPedigreeFunction</th>\n",
       "      <th>Age</th>\n",
       "      <th>Outcome</th>\n",
       "    </tr>\n",
       "  </thead>\n",
       "  <tbody>\n",
       "    <tr>\n",
       "      <th>0</th>\n",
       "      <td>6</td>\n",
       "      <td>148</td>\n",
       "      <td>72</td>\n",
       "      <td>35</td>\n",
       "      <td>0</td>\n",
       "      <td>33.6</td>\n",
       "      <td>0.627</td>\n",
       "      <td>50</td>\n",
       "      <td>1</td>\n",
       "    </tr>\n",
       "    <tr>\n",
       "      <th>1</th>\n",
       "      <td>1</td>\n",
       "      <td>85</td>\n",
       "      <td>66</td>\n",
       "      <td>29</td>\n",
       "      <td>0</td>\n",
       "      <td>26.6</td>\n",
       "      <td>0.351</td>\n",
       "      <td>31</td>\n",
       "      <td>0</td>\n",
       "    </tr>\n",
       "    <tr>\n",
       "      <th>2</th>\n",
       "      <td>8</td>\n",
       "      <td>183</td>\n",
       "      <td>64</td>\n",
       "      <td>0</td>\n",
       "      <td>0</td>\n",
       "      <td>23.3</td>\n",
       "      <td>0.672</td>\n",
       "      <td>32</td>\n",
       "      <td>1</td>\n",
       "    </tr>\n",
       "    <tr>\n",
       "      <th>3</th>\n",
       "      <td>1</td>\n",
       "      <td>89</td>\n",
       "      <td>66</td>\n",
       "      <td>23</td>\n",
       "      <td>94</td>\n",
       "      <td>28.1</td>\n",
       "      <td>0.167</td>\n",
       "      <td>21</td>\n",
       "      <td>0</td>\n",
       "    </tr>\n",
       "    <tr>\n",
       "      <th>4</th>\n",
       "      <td>0</td>\n",
       "      <td>137</td>\n",
       "      <td>40</td>\n",
       "      <td>35</td>\n",
       "      <td>168</td>\n",
       "      <td>43.1</td>\n",
       "      <td>2.288</td>\n",
       "      <td>33</td>\n",
       "      <td>1</td>\n",
       "    </tr>\n",
       "  </tbody>\n",
       "</table>\n",
       "</div>"
      ],
      "text/plain": [
       "   Pregnancies  Glucose  BloodPressure  SkinThickness  Insulin   BMI  \\\n",
       "0            6      148             72             35        0  33.6   \n",
       "1            1       85             66             29        0  26.6   \n",
       "2            8      183             64              0        0  23.3   \n",
       "3            1       89             66             23       94  28.1   \n",
       "4            0      137             40             35      168  43.1   \n",
       "\n",
       "   DiabetesPedigreeFunction  Age  Outcome  \n",
       "0                     0.627   50        1  \n",
       "1                     0.351   31        0  \n",
       "2                     0.672   32        1  \n",
       "3                     0.167   21        0  \n",
       "4                     2.288   33        1  "
      ]
     },
     "execution_count": 5,
     "metadata": {},
     "output_type": "execute_result"
    }
   ],
   "source": [
    "#Display the first five records of the dataset\n",
    "df.head()"
   ]
  },
  {
   "cell_type": "code",
   "execution_count": 6,
   "metadata": {},
   "outputs": [
    {
     "name": "stdout",
     "output_type": "stream",
     "text": [
      "Creating\n",
      "Succeeded.................................................................................................................\n",
      "AmlCompute wait for completion finished\n",
      "\n",
      "Wait timeout has been reached\n",
      "Current provisioning state of AmlCompute is \"Succeeded\" and current node count is \"0\"\n"
     ]
    }
   ],
   "source": [
    "# Create CPU cluster\n",
    "amlcompute_cluster_name = \"project-cluster\"\n",
    "\n",
    "# Verify if cluster does not exist otherwise use the existing one\n",
    "try:\n",
    "    compute_target = ComputeTarget(workspace=ws, name=amlcompute_cluster_name)\n",
    "    print('Found existing cluster, use it.')\n",
    "except ComputeTargetException:\n",
    "    compute_config = AmlCompute.provisioning_configuration(vm_size='Standard_DS12_V2',\n",
    "                                                           vm_priority = 'lowpriority', \n",
    "                                                           max_nodes=4)\n",
    "    compute_target = ComputeTarget.create(ws, amlcompute_cluster_name, compute_config)\n",
    "\n",
    "compute_target.wait_for_completion(show_output=True, min_node_count = 1, timeout_in_minutes = 10)\n"
   ]
  },
  {
   "cell_type": "markdown",
   "metadata": {},
   "source": [
    "## AutoML Configuration\n",
    "\n",
    "TODO: Explain why you chose the automl settings and cofiguration you used below."
   ]
  },
  {
   "cell_type": "code",
   "execution_count": 7,
   "metadata": {
    "collapsed": false,
    "gather": {
     "logged": 1598429217746
    },
    "jupyter": {
     "outputs_hidden": false,
     "source_hidden": false
    },
    "nteract": {
     "transient": {
      "deleting": false
     }
    }
   },
   "outputs": [
    {
     "name": "stderr",
     "output_type": "stream",
     "text": [
      "WARNING:root:Parameter `preprocess` will be deprecated. Use `featurization`\n",
      "WARNING:root:Detected both `preprocess` and `featurization`. `preprocess` is being deprecated and will be overridden by `featurization` setting.\n"
     ]
    }
   ],
   "source": [
    "# Automl settings \n",
    "automl_settings = {\n",
    "    \"experiment_timeout_minutes\": 40,\n",
    "    \"max_concurrent_iterations\": 4,\n",
    "    \"primary_metric\" : 'accuracy',\n",
    "    \"n_cross_validations\": 5,\n",
    "    \"iterations\": 35\n",
    "    \n",
    "}\n",
    "\n",
    "# Automl config \n",
    "automl_config = AutoMLConfig(compute_target=compute_target,\n",
    "                             task = \"classification\",\n",
    "                             training_data=dataset,\n",
    "                             label_column_name=\"Outcome\",\n",
    "                             enable_early_stopping= True,\n",
    "                             featurization = 'auto',\n",
    "                             debug_log = \"automl_errors.log\",\n",
    "                             preprocess = True,\n",
    "                             **automl_settings\n",
    "                            )\n",
    "\n"
   ]
  },
  {
   "cell_type": "code",
   "execution_count": 14,
   "metadata": {
    "collapsed": false,
    "gather": {
     "logged": 1598431107951
    },
    "jupyter": {
     "outputs_hidden": false,
     "source_hidden": false
    },
    "nteract": {
     "transient": {
      "deleting": false
     }
    }
   },
   "outputs": [
    {
     "name": "stdout",
     "output_type": "stream",
     "text": [
      "Running on remote.\n",
      "Running on remote compute: project-cluster\n",
      "Parent Run ID: AutoML_695b34cd-c5ff-41eb-a951-ada26ec0b959\n",
      "\n",
      "Current status: FeaturesGeneration. Generating features for the dataset.\n",
      "Current status: DatasetCrossValidationSplit. Generating individually featurized CV splits.\n",
      "Current status: ModelSelection. Beginning model selection.\n",
      "\n",
      "****************************************************************************************************\n",
      "DATA GUARDRAILS: \n",
      "\n",
      "TYPE:         Class balancing detection\n",
      "STATUS:       PASSED\n",
      "DESCRIPTION:  Your inputs were analyzed, and all classes are balanced in your training data.\n",
      "              Learn more about imbalanced data: https://aka.ms/AutomatedMLImbalancedData\n",
      "\n",
      "****************************************************************************************************\n",
      "\n",
      "TYPE:         Missing feature values imputation\n",
      "STATUS:       PASSED\n",
      "DESCRIPTION:  No feature missing values were detected in the training data.\n",
      "              Learn more about missing value imputation: https://aka.ms/AutomatedMLFeaturization\n",
      "\n",
      "****************************************************************************************************\n",
      "\n",
      "TYPE:         High cardinality feature detection\n",
      "STATUS:       PASSED\n",
      "DESCRIPTION:  Your inputs were analyzed, and no high cardinality features were detected.\n",
      "              Learn more about high cardinality feature handling: https://aka.ms/AutomatedMLFeaturization\n",
      "\n",
      "****************************************************************************************************\n",
      "\n",
      "****************************************************************************************************\n",
      "ITERATION: The iteration being evaluated.\n",
      "PIPELINE: A summary description of the pipeline being evaluated.\n",
      "DURATION: Time taken for the current iteration.\n",
      "METRIC: The result of computing score on the fitted pipeline.\n",
      "BEST: The best observed score thus far.\n",
      "****************************************************************************************************\n",
      "\n",
      " ITERATION   PIPELINE                                       DURATION      METRIC      BEST\n",
      "         3   MaxAbsScaler RandomForest                      0:00:54       0.7526    0.7526\n",
      "         1   MaxAbsScaler XGBoostClassifier                 0:00:52       0.7656    0.7656\n",
      "         2   MaxAbsScaler RandomForest                      0:00:53       0.7579    0.7656\n",
      "         0   MaxAbsScaler LightGBM                          0:01:03       0.7435    0.7656\n",
      "         4   MaxAbsScaler RandomForest                      0:02:01       0.7605    0.7656\n",
      "         7   SparseNormalizer XGBoostClassifier             0:01:06       0.7110    0.7656\n",
      "         5   MaxAbsScaler RandomForest                      0:02:11       0.7149    0.7656\n",
      "         6   SparseNormalizer XGBoostClassifier             0:02:08       0.7189    0.7656\n",
      "         8   SparseNormalizer XGBoostClassifier             0:00:47       0.6485    0.7656\n",
      "        10   MaxAbsScaler RandomForest                      0:00:47       0.7683    0.7683\n",
      "        11   StandardScalerWrapper RandomForest             0:00:51       0.7683    0.7683\n",
      "         9   MaxAbsScaler RandomForest                      0:00:53       0.6759    0.7683\n",
      "        12   MaxAbsScaler LightGBM                          0:00:53       0.7540    0.7683\n",
      "        13   MaxAbsScaler LogisticRegression                0:00:48       0.7683    0.7683\n",
      "        14   MaxAbsScaler LightGBM                          0:00:44       0.7474    0.7683\n",
      "        15   MaxAbsScaler LightGBM                          0:00:46       0.7409    0.7683\n",
      "        16   MaxAbsScaler LogisticRegression                0:00:51       0.7709    0.7709\n",
      "        17   MaxAbsScaler LogisticRegression                0:00:51       0.7696    0.7709\n",
      "        18   SparseNormalizer XGBoostClassifier             0:00:51       0.6915    0.7709\n",
      "        19   MaxAbsScaler LogisticRegression                0:00:48       0.7696    0.7709\n",
      "        20   StandardScalerWrapper RandomForest             0:00:47       0.7501    0.7709\n",
      "        21   StandardScalerWrapper LightGBM                 0:00:58       0.7578    0.7709\n",
      "        22   SparseNormalizer XGBoostClassifier             0:01:00       0.7071    0.7709\n",
      "        23   MaxAbsScaler LightGBM                          0:01:13       0.7657    0.7709\n",
      "        25   TruncatedSVDWrapper LogisticRegression         0:00:43       0.6094    0.7709\n",
      "        26   MaxAbsScaler LightGBM                          0:00:54       0.7500    0.7709\n",
      "        27   SparseNormalizer XGBoostClassifier             0:00:55       0.6928    0.7709\n",
      "        28   SparseNormalizer LightGBM                      0:00:46       0.6915    0.7709\n",
      "        29   StandardScalerWrapper XGBoostClassifier        0:00:51       0.7682    0.7709\n",
      "        30   StandardScalerWrapper LogisticRegression       0:00:53       0.6667    0.7709\n",
      "        24   MaxAbsScaler LightGBM                          0:02:47       0.7670    0.7709\n",
      "        31   SparseNormalizer XGBoostClassifier             0:00:45       0.6980    0.7709\n",
      "        32   MaxAbsScaler LightGBM                          0:00:49       0.7656    0.7709\n",
      "        33    VotingEnsemble                                0:01:19       0.7826    0.7826\n",
      "        34    StackEnsemble                                 0:01:25       0.7709    0.7826\n"
     ]
    }
   ],
   "source": [
    "# Submit experiment\n",
    "remote_run = experiment.submit(automl_config, show_output=True)"
   ]
  },
  {
   "cell_type": "markdown",
   "metadata": {},
   "source": [
    "## Run Details\n",
    "\n",
    "OPTIONAL: Write about the different models trained and their performance. Why do you think some models did better than others?\n",
    "\n",
    "TODO: In the cell below, use the `RunDetails` widget to show the different experiments."
   ]
  },
  {
   "cell_type": "code",
   "execution_count": 15,
   "metadata": {
    "collapsed": false,
    "gather": {
     "logged": 1598431121770
    },
    "jupyter": {
     "outputs_hidden": false,
     "source_hidden": false
    },
    "nteract": {
     "transient": {
      "deleting": false
     }
    }
   },
   "outputs": [
    {
     "data": {
      "application/vnd.jupyter.widget-view+json": {
       "model_id": "48c44292ff3046f4a0475c072df50fa4",
       "version_major": 2,
       "version_minor": 0
      },
      "text/plain": [
       "_AutoMLWidget(widget_settings={'childWidgetDisplay': 'popup', 'send_telemetry': False, 'log_level': 'INFO', 's…"
      ]
     },
     "metadata": {},
     "output_type": "display_data"
    },
    {
     "data": {
      "application/aml.mini.widget.v1": "{\"status\": \"Completed\", \"workbench_run_details_uri\": \"https://ml.azure.com/experiments/automl-exp/runs/AutoML_695b34cd-c5ff-41eb-a951-ada26ec0b959?wsid=/subscriptions/6971f5ac-8af1-446e-8034-05acea24681f/resourcegroups/aml-quickstarts-136635/workspaces/quick-starts-ws-136635\", \"run_id\": \"AutoML_695b34cd-c5ff-41eb-a951-ada26ec0b959\", \"run_properties\": {\"run_id\": \"AutoML_695b34cd-c5ff-41eb-a951-ada26ec0b959\", \"created_utc\": \"2021-01-30T18:55:36.335371Z\", \"properties\": {\"num_iterations\": \"35\", \"training_type\": \"TrainFull\", \"acquisition_function\": \"EI\", \"primary_metric\": \"accuracy\", \"train_split\": \"0\", \"acquisition_parameter\": \"0\", \"num_cross_validation\": \"5\", \"target\": \"project-cluster\", \"AMLSettingsJsonString\": \"{\\\"path\\\":null,\\\"name\\\":\\\"automl-exp\\\",\\\"subscription_id\\\":\\\"6971f5ac-8af1-446e-8034-05acea24681f\\\",\\\"resource_group\\\":\\\"aml-quickstarts-136635\\\",\\\"workspace_name\\\":\\\"quick-starts-ws-136635\\\",\\\"region\\\":\\\"southcentralus\\\",\\\"compute_target\\\":\\\"project-cluster\\\",\\\"spark_service\\\":null,\\\"azure_service\\\":\\\"remote\\\",\\\"many_models\\\":false,\\\"pipeline_fetch_max_batch_size\\\":1,\\\"iterations\\\":35,\\\"primary_metric\\\":\\\"accuracy\\\",\\\"task_type\\\":\\\"classification\\\",\\\"data_script\\\":null,\\\"validation_size\\\":0.0,\\\"n_cross_validations\\\":5,\\\"y_min\\\":null,\\\"y_max\\\":null,\\\"num_classes\\\":null,\\\"featurization\\\":\\\"auto\\\",\\\"_ignore_package_version_incompatibilities\\\":false,\\\"is_timeseries\\\":false,\\\"max_cores_per_iteration\\\":1,\\\"max_concurrent_iterations\\\":4,\\\"iteration_timeout_minutes\\\":null,\\\"mem_in_mb\\\":null,\\\"enforce_time_on_windows\\\":false,\\\"experiment_timeout_minutes\\\":40,\\\"experiment_exit_score\\\":null,\\\"whitelist_models\\\":null,\\\"blacklist_algos\\\":[\\\"TensorFlowLinearClassifier\\\",\\\"TensorFlowDNN\\\"],\\\"supported_models\\\":[\\\"LinearSVM\\\",\\\"DecisionTree\\\",\\\"SGD\\\",\\\"LogisticRegression\\\",\\\"ExtremeRandomTrees\\\",\\\"XGBoostClassifier\\\",\\\"TensorFlowDNN\\\",\\\"GradientBoosting\\\",\\\"SVM\\\",\\\"RandomForest\\\",\\\"MultinomialNaiveBayes\\\",\\\"KNN\\\",\\\"LightGBM\\\",\\\"BernoulliNaiveBayes\\\",\\\"AveragedPerceptronClassifier\\\",\\\"TensorFlowLinearClassifier\\\"],\\\"auto_blacklist\\\":true,\\\"blacklist_samples_reached\\\":false,\\\"exclude_nan_labels\\\":true,\\\"verbosity\\\":20,\\\"_debug_log\\\":\\\"azureml_automl.log\\\",\\\"show_warnings\\\":false,\\\"model_explainability\\\":true,\\\"service_url\\\":null,\\\"sdk_url\\\":null,\\\"sdk_packages\\\":null,\\\"enable_onnx_compatible_models\\\":false,\\\"enable_split_onnx_featurizer_estimator_models\\\":false,\\\"vm_type\\\":\\\"STANDARD_DS12_V2\\\",\\\"telemetry_verbosity\\\":20,\\\"send_telemetry\\\":true,\\\"enable_dnn\\\":false,\\\"scenario\\\":\\\"SDK-1.13.0\\\",\\\"environment_label\\\":null,\\\"force_text_dnn\\\":false,\\\"enable_feature_sweeping\\\":true,\\\"enable_early_stopping\\\":true,\\\"early_stopping_n_iters\\\":10,\\\"metrics\\\":null,\\\"enable_ensembling\\\":true,\\\"enable_stack_ensembling\\\":true,\\\"ensemble_iterations\\\":15,\\\"enable_tf\\\":false,\\\"enable_subsampling\\\":false,\\\"subsample_seed\\\":null,\\\"enable_nimbusml\\\":false,\\\"enable_streaming\\\":false,\\\"force_streaming\\\":false,\\\"track_child_runs\\\":true,\\\"allowed_private_models\\\":[],\\\"label_column_name\\\":\\\"Outcome\\\",\\\"weight_column_name\\\":null,\\\"cv_split_column_names\\\":null,\\\"enable_local_managed\\\":false,\\\"_local_managed_run_id\\\":null,\\\"cost_mode\\\":1,\\\"lag_length\\\":0,\\\"metric_operation\\\":\\\"maximize\\\",\\\"preprocess\\\":true}\", \"DataPrepJsonString\": \"{\\\\\\\"training_data\\\\\\\": \\\\\\\"{\\\\\\\\\\\\\\\"blocks\\\\\\\\\\\\\\\": [{\\\\\\\\\\\\\\\"id\\\\\\\\\\\\\\\": \\\\\\\\\\\\\\\"94ebd732-58a5-4651-8463-986e0c12eb38\\\\\\\\\\\\\\\", \\\\\\\\\\\\\\\"type\\\\\\\\\\\\\\\": \\\\\\\\\\\\\\\"Microsoft.DPrep.GetDatastoreFilesBlock\\\\\\\\\\\\\\\", \\\\\\\\\\\\\\\"arguments\\\\\\\\\\\\\\\": {\\\\\\\\\\\\\\\"datastores\\\\\\\\\\\\\\\": [{\\\\\\\\\\\\\\\"datastoreName\\\\\\\\\\\\\\\": \\\\\\\\\\\\\\\"workspaceblobstore\\\\\\\\\\\\\\\", \\\\\\\\\\\\\\\"path\\\\\\\\\\\\\\\": \\\\\\\\\\\\\\\"UI/01-30-2021_063708_UTC/diabetes.csv\\\\\\\\\\\\\\\", \\\\\\\\\\\\\\\"resourceGroup\\\\\\\\\\\\\\\": \\\\\\\\\\\\\\\"aml-quickstarts-136635\\\\\\\\\\\\\\\", \\\\\\\\\\\\\\\"subscription\\\\\\\\\\\\\\\": \\\\\\\\\\\\\\\"6971f5ac-8af1-446e-8034-05acea24681f\\\\\\\\\\\\\\\", \\\\\\\\\\\\\\\"workspaceName\\\\\\\\\\\\\\\": \\\\\\\\\\\\\\\"quick-starts-ws-136635\\\\\\\\\\\\\\\"}]}, \\\\\\\\\\\\\\\"localData\\\\\\\\\\\\\\\": {}, \\\\\\\\\\\\\\\"isEnabled\\\\\\\\\\\\\\\": true, \\\\\\\\\\\\\\\"name\\\\\\\\\\\\\\\": null, \\\\\\\\\\\\\\\"annotation\\\\\\\\\\\\\\\": null}, {\\\\\\\\\\\\\\\"id\\\\\\\\\\\\\\\": \\\\\\\\\\\\\\\"fe3bcdcc-0c14-4ac2-b62e-228a7c675e65\\\\\\\\\\\\\\\", \\\\\\\\\\\\\\\"type\\\\\\\\\\\\\\\": \\\\\\\\\\\\\\\"Microsoft.DPrep.ParseDelimitedBlock\\\\\\\\\\\\\\\", \\\\\\\\\\\\\\\"arguments\\\\\\\\\\\\\\\": {\\\\\\\\\\\\\\\"columnHeadersMode\\\\\\\\\\\\\\\": 3, \\\\\\\\\\\\\\\"fileEncoding\\\\\\\\\\\\\\\": 0, \\\\\\\\\\\\\\\"handleQuotedLineBreaks\\\\\\\\\\\\\\\": false, \\\\\\\\\\\\\\\"preview\\\\\\\\\\\\\\\": false, \\\\\\\\\\\\\\\"separator\\\\\\\\\\\\\\\": \\\\\\\\\\\\\\\",\\\\\\\\\\\\\\\", \\\\\\\\\\\\\\\"skipRows\\\\\\\\\\\\\\\": 0, \\\\\\\\\\\\\\\"skipRowsMode\\\\\\\\\\\\\\\": 0}, \\\\\\\\\\\\\\\"localData\\\\\\\\\\\\\\\": {}, \\\\\\\\\\\\\\\"isEnabled\\\\\\\\\\\\\\\": true, \\\\\\\\\\\\\\\"name\\\\\\\\\\\\\\\": null, \\\\\\\\\\\\\\\"annotation\\\\\\\\\\\\\\\": null}, {\\\\\\\\\\\\\\\"id\\\\\\\\\\\\\\\": \\\\\\\\\\\\\\\"de648d9b-a69d-4467-a4e8-25ab21d324fe\\\\\\\\\\\\\\\", \\\\\\\\\\\\\\\"type\\\\\\\\\\\\\\\": \\\\\\\\\\\\\\\"Microsoft.DPrep.DropColumnsBlock\\\\\\\\\\\\\\\", \\\\\\\\\\\\\\\"arguments\\\\\\\\\\\\\\\": {\\\\\\\\\\\\\\\"columns\\\\\\\\\\\\\\\": {\\\\\\\\\\\\\\\"type\\\\\\\\\\\\\\\": 0, \\\\\\\\\\\\\\\"details\\\\\\\\\\\\\\\": {\\\\\\\\\\\\\\\"selectedColumns\\\\\\\\\\\\\\\": [\\\\\\\\\\\\\\\"Path\\\\\\\\\\\\\\\"]}}}, \\\\\\\\\\\\\\\"localData\\\\\\\\\\\\\\\": {}, \\\\\\\\\\\\\\\"isEnabled\\\\\\\\\\\\\\\": true, \\\\\\\\\\\\\\\"name\\\\\\\\\\\\\\\": null, \\\\\\\\\\\\\\\"annotation\\\\\\\\\\\\\\\": null}, {\\\\\\\\\\\\\\\"id\\\\\\\\\\\\\\\": \\\\\\\\\\\\\\\"114395d7-1863-48bc-8113-1e55319578e6\\\\\\\\\\\\\\\", \\\\\\\\\\\\\\\"type\\\\\\\\\\\\\\\": \\\\\\\\\\\\\\\"Microsoft.DPrep.SetColumnTypesBlock\\\\\\\\\\\\\\\", \\\\\\\\\\\\\\\"arguments\\\\\\\\\\\\\\\": {\\\\\\\\\\\\\\\"columnConversion\\\\\\\\\\\\\\\": [{\\\\\\\\\\\\\\\"column\\\\\\\\\\\\\\\": {\\\\\\\\\\\\\\\"type\\\\\\\\\\\\\\\": 2, \\\\\\\\\\\\\\\"details\\\\\\\\\\\\\\\": {\\\\\\\\\\\\\\\"selectedColumn\\\\\\\\\\\\\\\": \\\\\\\\\\\\\\\"Path\\\\\\\\\\\\\\\"}}, \\\\\\\\\\\\\\\"typeProperty\\\\\\\\\\\\\\\": 0}, {\\\\\\\\\\\\\\\"column\\\\\\\\\\\\\\\": {\\\\\\\\\\\\\\\"type\\\\\\\\\\\\\\\": 2, \\\\\\\\\\\\\\\"details\\\\\\\\\\\\\\\": {\\\\\\\\\\\\\\\"selectedColumn\\\\\\\\\\\\\\\": \\\\\\\\\\\\\\\"Pregnancies\\\\\\\\\\\\\\\"}}, \\\\\\\\\\\\\\\"typeProperty\\\\\\\\\\\\\\\": 2}, {\\\\\\\\\\\\\\\"column\\\\\\\\\\\\\\\": {\\\\\\\\\\\\\\\"type\\\\\\\\\\\\\\\": 2, \\\\\\\\\\\\\\\"details\\\\\\\\\\\\\\\": {\\\\\\\\\\\\\\\"selectedColumn\\\\\\\\\\\\\\\": \\\\\\\\\\\\\\\"Glucose\\\\\\\\\\\\\\\"}}, \\\\\\\\\\\\\\\"typeProperty\\\\\\\\\\\\\\\": 2}, {\\\\\\\\\\\\\\\"column\\\\\\\\\\\\\\\": {\\\\\\\\\\\\\\\"type\\\\\\\\\\\\\\\": 2, \\\\\\\\\\\\\\\"details\\\\\\\\\\\\\\\": {\\\\\\\\\\\\\\\"selectedColumn\\\\\\\\\\\\\\\": \\\\\\\\\\\\\\\"BloodPressure\\\\\\\\\\\\\\\"}}, \\\\\\\\\\\\\\\"typeProperty\\\\\\\\\\\\\\\": 2}, {\\\\\\\\\\\\\\\"column\\\\\\\\\\\\\\\": {\\\\\\\\\\\\\\\"type\\\\\\\\\\\\\\\": 2, \\\\\\\\\\\\\\\"details\\\\\\\\\\\\\\\": {\\\\\\\\\\\\\\\"selectedColumn\\\\\\\\\\\\\\\": \\\\\\\\\\\\\\\"SkinThickness\\\\\\\\\\\\\\\"}}, \\\\\\\\\\\\\\\"typeProperty\\\\\\\\\\\\\\\": 2}, {\\\\\\\\\\\\\\\"column\\\\\\\\\\\\\\\": {\\\\\\\\\\\\\\\"type\\\\\\\\\\\\\\\": 2, \\\\\\\\\\\\\\\"details\\\\\\\\\\\\\\\": {\\\\\\\\\\\\\\\"selectedColumn\\\\\\\\\\\\\\\": \\\\\\\\\\\\\\\"Insulin\\\\\\\\\\\\\\\"}}, \\\\\\\\\\\\\\\"typeProperty\\\\\\\\\\\\\\\": 2}, {\\\\\\\\\\\\\\\"column\\\\\\\\\\\\\\\": {\\\\\\\\\\\\\\\"type\\\\\\\\\\\\\\\": 2, \\\\\\\\\\\\\\\"details\\\\\\\\\\\\\\\": {\\\\\\\\\\\\\\\"selectedColumn\\\\\\\\\\\\\\\": \\\\\\\\\\\\\\\"BMI\\\\\\\\\\\\\\\"}}, \\\\\\\\\\\\\\\"typeProperty\\\\\\\\\\\\\\\": 3}, {\\\\\\\\\\\\\\\"column\\\\\\\\\\\\\\\": {\\\\\\\\\\\\\\\"type\\\\\\\\\\\\\\\": 2, \\\\\\\\\\\\\\\"details\\\\\\\\\\\\\\\": {\\\\\\\\\\\\\\\"selectedColumn\\\\\\\\\\\\\\\": \\\\\\\\\\\\\\\"DiabetesPedigreeFunction\\\\\\\\\\\\\\\"}}, \\\\\\\\\\\\\\\"typeProperty\\\\\\\\\\\\\\\": 3}, {\\\\\\\\\\\\\\\"column\\\\\\\\\\\\\\\": {\\\\\\\\\\\\\\\"type\\\\\\\\\\\\\\\": 2, \\\\\\\\\\\\\\\"details\\\\\\\\\\\\\\\": {\\\\\\\\\\\\\\\"selectedColumn\\\\\\\\\\\\\\\": \\\\\\\\\\\\\\\"Age\\\\\\\\\\\\\\\"}}, \\\\\\\\\\\\\\\"typeProperty\\\\\\\\\\\\\\\": 2}, {\\\\\\\\\\\\\\\"column\\\\\\\\\\\\\\\": {\\\\\\\\\\\\\\\"type\\\\\\\\\\\\\\\": 2, \\\\\\\\\\\\\\\"details\\\\\\\\\\\\\\\": {\\\\\\\\\\\\\\\"selectedColumn\\\\\\\\\\\\\\\": \\\\\\\\\\\\\\\"Outcome\\\\\\\\\\\\\\\"}}, \\\\\\\\\\\\\\\"typeProperty\\\\\\\\\\\\\\\": 2}]}, \\\\\\\\\\\\\\\"localData\\\\\\\\\\\\\\\": {}, \\\\\\\\\\\\\\\"isEnabled\\\\\\\\\\\\\\\": true, \\\\\\\\\\\\\\\"name\\\\\\\\\\\\\\\": null, \\\\\\\\\\\\\\\"annotation\\\\\\\\\\\\\\\": null}], \\\\\\\\\\\\\\\"inspectors\\\\\\\\\\\\\\\": [], \\\\\\\\\\\\\\\"meta\\\\\\\\\\\\\\\": {\\\\\\\\\\\\\\\"savedDatasetId\\\\\\\\\\\\\\\": \\\\\\\\\\\\\\\"04c6a829-8899-44ea-b74b-25bd5ca40ddb\\\\\\\\\\\\\\\", \\\\\\\\\\\\\\\"datasetType\\\\\\\\\\\\\\\": \\\\\\\\\\\\\\\"tabular\\\\\\\\\\\\\\\", \\\\\\\\\\\\\\\"subscriptionId\\\\\\\\\\\\\\\": \\\\\\\\\\\\\\\"6971f5ac-8af1-446e-8034-05acea24681f\\\\\\\\\\\\\\\", \\\\\\\\\\\\\\\"workspaceId\\\\\\\\\\\\\\\": \\\\\\\\\\\\\\\"419229e6-6633-4714-8768-bbcea17c1d8c\\\\\\\\\\\\\\\", \\\\\\\\\\\\\\\"workspaceLocation\\\\\\\\\\\\\\\": \\\\\\\\\\\\\\\"southcentralus\\\\\\\\\\\\\\\"}}\\\\\\\", \\\\\\\"activities\\\\\\\": 0}\", \"EnableSubsampling\": \"False\", \"runTemplate\": \"AutoML\", \"azureml.runsource\": \"automl\", \"display_task_type\": \"classification\", \"dependencies_versions\": \"{\\\"azureml-widgets\\\": \\\"1.20.0\\\", \\\"azureml-train\\\": \\\"1.20.0\\\", \\\"azureml-train-restclients-hyperdrive\\\": \\\"1.20.0\\\", \\\"azureml-train-core\\\": \\\"1.20.0\\\", \\\"azureml-train-automl\\\": \\\"1.20.0\\\", \\\"azureml-train-automl-runtime\\\": \\\"1.20.0\\\", \\\"azureml-train-automl-client\\\": \\\"1.20.0\\\", \\\"azureml-tensorboard\\\": \\\"1.20.0\\\", \\\"azureml-telemetry\\\": \\\"1.20.0\\\", \\\"azureml-sdk\\\": \\\"1.20.0\\\", \\\"azureml-samples\\\": \\\"0+unknown\\\", \\\"azureml-pipeline\\\": \\\"1.20.0\\\", \\\"azureml-pipeline-steps\\\": \\\"1.20.0\\\", \\\"azureml-pipeline-core\\\": \\\"1.20.0\\\", \\\"azureml-opendatasets\\\": \\\"1.20.0\\\", \\\"azureml-model-management-sdk\\\": \\\"1.0.1b6.post1\\\", \\\"azureml-mlflow\\\": \\\"1.20.0.post1\\\", \\\"azureml-interpret\\\": \\\"1.20.0\\\", \\\"azureml-explain-model\\\": \\\"1.20.0\\\", \\\"azureml-defaults\\\": \\\"1.20.0\\\", \\\"azureml-dataset-runtime\\\": \\\"1.20.0\\\", \\\"azureml-dataprep\\\": \\\"2.7.3\\\", \\\"azureml-dataprep-rslex\\\": \\\"1.5.0\\\", \\\"azureml-dataprep-native\\\": \\\"27.0.0\\\", \\\"azureml-datadrift\\\": \\\"1.20.0\\\", \\\"azureml-core\\\": \\\"1.20.0\\\", \\\"azureml-contrib-services\\\": \\\"1.20.0\\\", \\\"azureml-contrib-server\\\": \\\"1.20.0\\\", \\\"azureml-contrib-reinforcementlearning\\\": \\\"1.20.0\\\", \\\"azureml-contrib-pipeline-steps\\\": \\\"1.20.0\\\", \\\"azureml-contrib-notebook\\\": \\\"1.20.0\\\", \\\"azureml-contrib-interpret\\\": \\\"1.20.0\\\", \\\"azureml-contrib-gbdt\\\": \\\"1.20.0\\\", \\\"azureml-contrib-fairness\\\": \\\"1.20.0\\\", \\\"azureml-contrib-dataset\\\": \\\"1.20.0\\\", \\\"azureml-cli-common\\\": \\\"1.20.0\\\", \\\"azureml-automl-runtime\\\": \\\"1.20.0\\\", \\\"azureml-automl-core\\\": \\\"1.20.0\\\", \\\"azureml-accel-models\\\": \\\"1.20.0\\\"}\", \"_aml_system_scenario_identification\": \"Remote.Parent\", \"ClientType\": \"SDK\", \"environment_cpu_name\": \"AzureML-AutoML\", \"environment_cpu_label\": \"prod\", \"environment_gpu_name\": \"AzureML-AutoML-GPU\", \"environment_gpu_label\": \"prod\", \"root_attribution\": \"automl\", \"attribution\": \"AutoML\", \"Orchestrator\": \"AutoML\", \"CancelUri\": \"https://southcentralus.experiments.azureml.net/jasmine/v1.0/subscriptions/6971f5ac-8af1-446e-8034-05acea24681f/resourceGroups/aml-quickstarts-136635/providers/Microsoft.MachineLearningServices/workspaces/quick-starts-ws-136635/experimentids/b1370388-864e-45fb-910f-e582f619ec06/cancel/AutoML_695b34cd-c5ff-41eb-a951-ada26ec0b959\", \"ClientSdkVersion\": \"1.20.0.post1\", \"snapshotId\": \"00000000-0000-0000-0000-000000000000\", \"SetupRunId\": \"AutoML_695b34cd-c5ff-41eb-a951-ada26ec0b959_setup\", \"SetupRunContainerId\": \"dcid.AutoML_695b34cd-c5ff-41eb-a951-ada26ec0b959_setup\", \"FeaturizationRunJsonPath\": \"featurizer_container.json\", \"FeaturizationRunId\": \"AutoML_695b34cd-c5ff-41eb-a951-ada26ec0b959_featurize\", \"ProblemInfoJsonString\": \"{\\\"dataset_num_categorical\\\": 0, \\\"is_sparse\\\": true, \\\"subsampling\\\": false, \\\"dataset_classes\\\": 2, \\\"dataset_features\\\": 24, \\\"dataset_samples\\\": 768, \\\"single_frequency_class_detected\\\": false}\", \"ModelExplainRunId\": \"AutoML_695b34cd-c5ff-41eb-a951-ada26ec0b959_ModelExplain\"}, \"tags\": {\"model_explain_run\": \"best_run\", \"_aml_system_azureml.automlComponent\": \"AutoML\", \"pipeline_id\": \"\", \"score\": \"\", \"predicted_cost\": \"\", \"fit_time\": \"\", \"training_percent\": \"\", \"iteration\": \"\", \"run_preprocessor\": \"\", \"run_algorithm\": \"\", \"dynamic_whitelisting_iterations\": \"<25>;<30>;\", \"automl_best_child_run_id\": \"AutoML_695b34cd-c5ff-41eb-a951-ada26ec0b959_33\", \"model_explain_best_run_child_id\": \"AutoML_695b34cd-c5ff-41eb-a951-ada26ec0b959_33\"}, \"end_time_utc\": \"2021-01-30T19:18:08.967003Z\", \"status\": \"Completed\", \"log_files\": {}, \"log_groups\": [], \"run_duration\": \"0:22:32\"}, \"child_runs\": [{\"run_id\": \"AutoML_695b34cd-c5ff-41eb-a951-ada26ec0b959_0\", \"run_number\": 7, \"metric\": null, \"status\": \"Completed\", \"run_type\": \"azureml.scriptrun\", \"training_percent\": \"100\", \"start_time\": \"2021-01-30T19:05:53.737301Z\", \"end_time\": \"2021-01-30T19:06:57.057567Z\", \"created_time\": \"2021-01-30T19:02:52.077848Z\", \"created_time_dt\": \"2021-01-30T19:02:52.077848Z\", \"duration\": \"0:04:04\", \"iteration\": \"0\", \"goal\": \"accuracy_max\", \"run_name\": \"MaxAbsScaler, LightGBM\", \"run_properties\": \"copy=True\", \"primary_metric\": 0.74352771, \"best_metric\": 0.74352771}, {\"run_id\": \"AutoML_695b34cd-c5ff-41eb-a951-ada26ec0b959_3\", \"run_number\": 8, \"metric\": null, \"status\": \"Completed\", \"run_type\": \"azureml.scriptrun\", \"training_percent\": \"100\", \"start_time\": \"2021-01-30T19:03:03.247266Z\", \"end_time\": \"2021-01-30T19:03:56.813565Z\", \"created_time\": \"2021-01-30T19:02:52.216508Z\", \"created_time_dt\": \"2021-01-30T19:02:52.216508Z\", \"duration\": \"0:01:04\", \"iteration\": \"3\", \"goal\": \"accuracy_max\", \"run_name\": \"MaxAbsScaler, RandomForest\", \"run_properties\": \"copy=True\", \"primary_metric\": 0.75261013, \"best_metric\": 0.76563959}, {\"run_id\": \"AutoML_695b34cd-c5ff-41eb-a951-ada26ec0b959_1\", \"run_number\": 9, \"metric\": null, \"status\": \"Completed\", \"run_type\": \"azureml.scriptrun\", \"training_percent\": \"100\", \"start_time\": \"2021-01-30T19:04:03.84091Z\", \"end_time\": \"2021-01-30T19:04:55.644404Z\", \"created_time\": \"2021-01-30T19:02:52.228063Z\", \"created_time_dt\": \"2021-01-30T19:02:52.228063Z\", \"duration\": \"0:02:03\", \"iteration\": \"1\", \"goal\": \"accuracy_max\", \"run_name\": \"MaxAbsScaler, XGBoostClassifier\", \"run_properties\": \"copy=True\", \"primary_metric\": 0.76563959, \"best_metric\": 0.76563959}, {\"run_id\": \"AutoML_695b34cd-c5ff-41eb-a951-ada26ec0b959_2\", \"run_number\": 10, \"metric\": null, \"status\": \"Completed\", \"run_type\": \"azureml.scriptrun\", \"training_percent\": \"100\", \"start_time\": \"2021-01-30T19:05:00.574508Z\", \"end_time\": \"2021-01-30T19:05:53.406327Z\", \"created_time\": \"2021-01-30T19:02:52.242802Z\", \"created_time_dt\": \"2021-01-30T19:02:52.242802Z\", \"duration\": \"0:03:01\", \"iteration\": \"2\", \"goal\": \"accuracy_max\", \"run_name\": \"MaxAbsScaler, RandomForest\", \"run_properties\": \"copy=True\", \"primary_metric\": 0.75786436, \"best_metric\": 0.76563959}, {\"run_id\": \"AutoML_695b34cd-c5ff-41eb-a951-ada26ec0b959_4\", \"run_number\": 11, \"metric\": null, \"status\": \"Completed\", \"run_type\": \"azureml.scriptrun\", \"training_percent\": \"100\", \"start_time\": \"2021-01-30T19:06:20.492439Z\", \"end_time\": \"2021-01-30T19:08:21.537349Z\", \"created_time\": \"2021-01-30T19:04:01.034277Z\", \"created_time_dt\": \"2021-01-30T19:04:01.034277Z\", \"duration\": \"0:04:20\", \"iteration\": \"4\", \"goal\": \"accuracy_max\", \"run_name\": \"MaxAbsScaler, RandomForest\", \"run_properties\": \"copy=True\", \"primary_metric\": 0.76045327, \"best_metric\": 0.76563959}, {\"run_id\": \"AutoML_695b34cd-c5ff-41eb-a951-ada26ec0b959_5\", \"run_number\": 12, \"metric\": null, \"status\": \"Completed\", \"run_type\": \"azureml.scriptrun\", \"training_percent\": \"100\", \"start_time\": \"2021-01-30T19:06:21.339618Z\", \"end_time\": \"2021-01-30T19:08:32.429005Z\", \"created_time\": \"2021-01-30T19:04:58.871582Z\", \"created_time_dt\": \"2021-01-30T19:04:58.871582Z\", \"duration\": \"0:03:33\", \"iteration\": \"5\", \"goal\": \"accuracy_max\", \"run_name\": \"MaxAbsScaler, RandomForest\", \"run_properties\": \"copy=True\", \"primary_metric\": 0.71492233, \"best_metric\": 0.76563959}, {\"run_id\": \"AutoML_695b34cd-c5ff-41eb-a951-ada26ec0b959_6\", \"run_number\": 13, \"metric\": null, \"status\": \"Completed\", \"run_type\": \"azureml.scriptrun\", \"training_percent\": \"100\", \"start_time\": \"2021-01-30T19:06:22.5992Z\", \"end_time\": \"2021-01-30T19:08:30.320677Z\", \"created_time\": \"2021-01-30T19:05:56.556718Z\", \"created_time_dt\": \"2021-01-30T19:05:56.556718Z\", \"duration\": \"0:02:33\", \"iteration\": \"6\", \"goal\": \"accuracy_max\", \"run_name\": \"SparseNormalizer, XGBoostClassifier\", \"run_properties\": \"<azureml.automl.runtime.shared.model_wrappers.SparseNormalizer object at 0x7f983aeb6a20\", \"primary_metric\": 0.71886088, \"best_metric\": 0.76563959}, {\"run_id\": \"AutoML_695b34cd-c5ff-41eb-a951-ada26ec0b959_7\", \"run_number\": 14, \"metric\": null, \"status\": \"Completed\", \"run_type\": \"azureml.scriptrun\", \"training_percent\": \"100\", \"start_time\": \"2021-01-30T19:07:11.203285Z\", \"end_time\": \"2021-01-30T19:08:17.160269Z\", \"created_time\": \"2021-01-30T19:07:00.420977Z\", \"created_time_dt\": \"2021-01-30T19:07:00.420977Z\", \"duration\": \"0:01:16\", \"iteration\": \"7\", \"goal\": \"accuracy_max\", \"run_name\": \"SparseNormalizer, XGBoostClassifier\", \"run_properties\": \"<azureml.automl.runtime.shared.model_wrappers.SparseNormalizer object at 0x7f0c38bd2c50\", \"primary_metric\": 0.71102623, \"best_metric\": 0.76563959}, {\"run_id\": \"AutoML_695b34cd-c5ff-41eb-a951-ada26ec0b959_8\", \"run_number\": 15, \"metric\": null, \"status\": \"Completed\", \"run_type\": \"azureml.scriptrun\", \"training_percent\": \"100\", \"start_time\": \"2021-01-30T19:08:31.167794Z\", \"end_time\": \"2021-01-30T19:09:18.617225Z\", \"created_time\": \"2021-01-30T19:08:20.194038Z\", \"created_time_dt\": \"2021-01-30T19:08:20.194038Z\", \"duration\": \"0:00:58\", \"iteration\": \"8\", \"goal\": \"accuracy_max\", \"run_name\": \"SparseNormalizer, XGBoostClassifier\", \"run_properties\": \"<azureml.automl.runtime.shared.model_wrappers.SparseNormalizer object at 0x7fd5e0cdb7f0\", \"primary_metric\": 0.64846787, \"best_metric\": 0.76563959}, {\"run_id\": \"AutoML_695b34cd-c5ff-41eb-a951-ada26ec0b959_9\", \"run_number\": 16, \"metric\": null, \"status\": \"Completed\", \"run_type\": \"azureml.scriptrun\", \"training_percent\": \"100\", \"start_time\": \"2021-01-30T19:08:36.800532Z\", \"end_time\": \"2021-01-30T19:09:29.986229Z\", \"created_time\": \"2021-01-30T19:08:24.79782Z\", \"created_time_dt\": \"2021-01-30T19:08:24.79782Z\", \"duration\": \"0:01:05\", \"iteration\": \"9\", \"goal\": \"accuracy_max\", \"run_name\": \"MaxAbsScaler, RandomForest\", \"run_properties\": \"copy=True\", \"primary_metric\": 0.67591036, \"best_metric\": 0.76563959}, {\"run_id\": \"AutoML_695b34cd-c5ff-41eb-a951-ada26ec0b959_10\", \"run_number\": 17, \"metric\": null, \"status\": \"Completed\", \"run_type\": \"azureml.scriptrun\", \"training_percent\": \"100\", \"start_time\": \"2021-01-30T19:08:42.930822Z\", \"end_time\": \"2021-01-30T19:09:30.258672Z\", \"created_time\": \"2021-01-30T19:08:32.942475Z\", \"created_time_dt\": \"2021-01-30T19:08:32.942475Z\", \"duration\": \"0:00:57\", \"iteration\": \"10\", \"goal\": \"accuracy_max\", \"run_name\": \"MaxAbsScaler, RandomForest\", \"run_properties\": \"copy=True\", \"primary_metric\": 0.76827943, \"best_metric\": 0.76827943}, {\"run_id\": \"AutoML_695b34cd-c5ff-41eb-a951-ada26ec0b959_11\", \"run_number\": 18, \"metric\": null, \"status\": \"Completed\", \"run_type\": \"azureml.scriptrun\", \"training_percent\": \"100\", \"start_time\": \"2021-01-30T19:08:47.712745Z\", \"end_time\": \"2021-01-30T19:09:38.528976Z\", \"created_time\": \"2021-01-30T19:08:36.944828Z\", \"created_time_dt\": \"2021-01-30T19:08:36.944828Z\", \"duration\": \"0:01:01\", \"iteration\": \"11\", \"goal\": \"accuracy_max\", \"run_name\": \"StandardScalerWrapper, RandomForest\", \"run_properties\": \"<azureml.automl.runtime.shared.model_wrappers.StandardScalerWrapper object at 0x7f615e85fda0\", \"primary_metric\": 0.76828792, \"best_metric\": 0.76828792}, {\"run_id\": \"AutoML_695b34cd-c5ff-41eb-a951-ada26ec0b959_12\", \"run_number\": 19, \"metric\": null, \"status\": \"Completed\", \"run_type\": \"azureml.scriptrun\", \"training_percent\": \"100\", \"start_time\": \"2021-01-30T19:09:31.664537Z\", \"end_time\": \"2021-01-30T19:10:24.86105Z\", \"created_time\": \"2021-01-30T19:09:20.783858Z\", \"created_time_dt\": \"2021-01-30T19:09:20.783858Z\", \"duration\": \"0:01:04\", \"iteration\": \"12\", \"goal\": \"accuracy_max\", \"run_name\": \"MaxAbsScaler, LightGBM\", \"run_properties\": \"copy=True\", \"primary_metric\": 0.75395977, \"best_metric\": 0.76828792}, {\"run_id\": \"AutoML_695b34cd-c5ff-41eb-a951-ada26ec0b959_14\", \"run_number\": 20, \"metric\": null, \"status\": \"Completed\", \"run_type\": \"azureml.scriptrun\", \"training_percent\": \"100\", \"start_time\": \"2021-01-30T19:09:45.435689Z\", \"end_time\": \"2021-01-30T19:10:29.28747Z\", \"created_time\": \"2021-01-30T19:09:33.259354Z\", \"created_time_dt\": \"2021-01-30T19:09:33.259354Z\", \"duration\": \"0:00:56\", \"iteration\": \"14\", \"goal\": \"accuracy_max\", \"run_name\": \"MaxAbsScaler, LightGBM\", \"run_properties\": \"copy=True\", \"primary_metric\": 0.74740684, \"best_metric\": 0.76828792}, {\"run_id\": \"AutoML_695b34cd-c5ff-41eb-a951-ada26ec0b959_13\", \"run_number\": 21, \"metric\": null, \"status\": \"Completed\", \"run_type\": \"azureml.scriptrun\", \"training_percent\": \"100\", \"start_time\": \"2021-01-30T19:09:46.281389Z\", \"end_time\": \"2021-01-30T19:10:34.348468Z\", \"created_time\": \"2021-01-30T19:09:33.296201Z\", \"created_time_dt\": \"2021-01-30T19:09:33.296201Z\", \"duration\": \"0:01:01\", \"iteration\": \"13\", \"goal\": \"accuracy_max\", \"run_name\": \"MaxAbsScaler, LogisticRegression\", \"run_properties\": \"copy=True\", \"primary_metric\": 0.76826246, \"best_metric\": 0.76828792}, {\"run_id\": \"AutoML_695b34cd-c5ff-41eb-a951-ada26ec0b959_15\", \"run_number\": 22, \"metric\": null, \"status\": \"Completed\", \"run_type\": \"azureml.scriptrun\", \"training_percent\": \"100\", \"start_time\": \"2021-01-30T19:09:53.161669Z\", \"end_time\": \"2021-01-30T19:10:39.630733Z\", \"created_time\": \"2021-01-30T19:09:40.704475Z\", \"created_time_dt\": \"2021-01-30T19:09:40.704475Z\", \"duration\": \"0:00:58\", \"iteration\": \"15\", \"goal\": \"accuracy_max\", \"run_name\": \"MaxAbsScaler, LightGBM\", \"run_properties\": \"copy=True\", \"primary_metric\": 0.74094729, \"best_metric\": 0.76828792}, {\"run_id\": \"AutoML_695b34cd-c5ff-41eb-a951-ada26ec0b959_16\", \"run_number\": 23, \"metric\": null, \"status\": \"Completed\", \"run_type\": \"azureml.scriptrun\", \"training_percent\": \"100\", \"start_time\": \"2021-01-30T19:10:41.176548Z\", \"end_time\": \"2021-01-30T19:11:32.670744Z\", \"created_time\": \"2021-01-30T19:10:28.164209Z\", \"created_time_dt\": \"2021-01-30T19:10:28.164209Z\", \"duration\": \"0:01:04\", \"iteration\": \"16\", \"goal\": \"accuracy_max\", \"run_name\": \"MaxAbsScaler, LogisticRegression\", \"run_properties\": \"copy=True\", \"primary_metric\": 0.77089381, \"best_metric\": 0.77089381}, {\"run_id\": \"AutoML_695b34cd-c5ff-41eb-a951-ada26ec0b959_17\", \"run_number\": 24, \"metric\": null, \"status\": \"Completed\", \"run_type\": \"azureml.scriptrun\", \"training_percent\": \"100\", \"start_time\": \"2021-01-30T19:10:44.264925Z\", \"end_time\": \"2021-01-30T19:11:35.385959Z\", \"created_time\": \"2021-01-30T19:10:33.841403Z\", \"created_time_dt\": \"2021-01-30T19:10:33.841403Z\", \"duration\": \"0:01:01\", \"iteration\": \"17\", \"goal\": \"accuracy_max\", \"run_name\": \"MaxAbsScaler, LogisticRegression\", \"run_properties\": \"copy=True\", \"primary_metric\": 0.76959511, \"best_metric\": 0.77089381}, {\"run_id\": \"AutoML_695b34cd-c5ff-41eb-a951-ada26ec0b959_18\", \"run_number\": 25, \"metric\": null, \"status\": \"Completed\", \"run_type\": \"azureml.scriptrun\", \"training_percent\": \"100\", \"start_time\": \"2021-01-30T19:10:49.068976Z\", \"end_time\": \"2021-01-30T19:11:40.431804Z\", \"created_time\": \"2021-01-30T19:10:38.550161Z\", \"created_time_dt\": \"2021-01-30T19:10:38.550161Z\", \"duration\": \"0:01:01\", \"iteration\": \"18\", \"goal\": \"accuracy_max\", \"run_name\": \"SparseNormalizer, XGBoostClassifier\", \"run_properties\": \"<azureml.automl.runtime.shared.model_wrappers.SparseNormalizer object at 0x7f34fbffd7b8\", \"primary_metric\": 0.69154571, \"best_metric\": 0.77089381}, {\"run_id\": \"AutoML_695b34cd-c5ff-41eb-a951-ada26ec0b959_19\", \"run_number\": 26, \"metric\": null, \"status\": \"Completed\", \"run_type\": \"azureml.scriptrun\", \"training_percent\": \"100\", \"start_time\": \"2021-01-30T19:10:53.491337Z\", \"end_time\": \"2021-01-30T19:11:41.452157Z\", \"created_time\": \"2021-01-30T19:10:42.924966Z\", \"created_time_dt\": \"2021-01-30T19:10:42.924966Z\", \"duration\": \"0:00:58\", \"iteration\": \"19\", \"goal\": \"accuracy_max\", \"run_name\": \"MaxAbsScaler, LogisticRegression\", \"run_properties\": \"copy=True\", \"primary_metric\": 0.76958662, \"best_metric\": 0.77089381}, {\"run_id\": \"AutoML_695b34cd-c5ff-41eb-a951-ada26ec0b959_20\", \"run_number\": 27, \"metric\": null, \"status\": \"Completed\", \"run_type\": \"azureml.scriptrun\", \"training_percent\": \"100\", \"start_time\": \"2021-01-30T19:11:48.89184Z\", \"end_time\": \"2021-01-30T19:12:35.504128Z\", \"created_time\": \"2021-01-30T19:11:34.881435Z\", \"created_time_dt\": \"2021-01-30T19:11:34.881435Z\", \"duration\": \"0:01:00\", \"iteration\": \"20\", \"goal\": \"accuracy_max\", \"run_name\": \"StandardScalerWrapper, RandomForest\", \"run_properties\": \"<azureml.automl.runtime.shared.model_wrappers.StandardScalerWrapper object at 0x7f9377a5f5f8\", \"primary_metric\": 0.75007215, \"best_metric\": 0.77089381}, {\"run_id\": \"AutoML_695b34cd-c5ff-41eb-a951-ada26ec0b959_21\", \"run_number\": 28, \"metric\": null, \"status\": \"Completed\", \"run_type\": \"azureml.scriptrun\", \"training_percent\": \"100\", \"start_time\": \"2021-01-30T19:11:53.406999Z\", \"end_time\": \"2021-01-30T19:12:51.053823Z\", \"created_time\": \"2021-01-30T19:11:39.714785Z\", \"created_time_dt\": \"2021-01-30T19:11:39.714785Z\", \"duration\": \"0:01:11\", \"iteration\": \"21\", \"goal\": \"accuracy_max\", \"run_name\": \"StandardScalerWrapper, LightGBM\", \"run_properties\": \"<azureml.automl.runtime.shared.model_wrappers.StandardScalerWrapper object at 0x7f63ac8245c0\", \"primary_metric\": 0.75782192, \"best_metric\": 0.77089381}, {\"run_id\": \"AutoML_695b34cd-c5ff-41eb-a951-ada26ec0b959_22\", \"run_number\": 29, \"metric\": null, \"status\": \"Completed\", \"run_type\": \"azureml.scriptrun\", \"training_percent\": \"100\", \"start_time\": \"2021-01-30T19:11:57.896351Z\", \"end_time\": \"2021-01-30T19:12:58.368481Z\", \"created_time\": \"2021-01-30T19:11:45.329408Z\", \"created_time_dt\": \"2021-01-30T19:11:45.329408Z\", \"duration\": \"0:01:13\", \"iteration\": \"22\", \"goal\": \"accuracy_max\", \"run_name\": \"SparseNormalizer, XGBoostClassifier\", \"run_properties\": \"<azureml.automl.runtime.shared.model_wrappers.SparseNormalizer object at 0x7f80119ad940\", \"primary_metric\": 0.70713861, \"best_metric\": 0.77089381}, {\"run_id\": \"AutoML_695b34cd-c5ff-41eb-a951-ada26ec0b959_23\", \"run_number\": 30, \"metric\": null, \"status\": \"Completed\", \"run_type\": \"azureml.scriptrun\", \"training_percent\": \"100\", \"start_time\": \"2021-01-30T19:11:58.508167Z\", \"end_time\": \"2021-01-30T19:13:11.199341Z\", \"created_time\": \"2021-01-30T19:11:45.541983Z\", \"created_time_dt\": \"2021-01-30T19:11:45.541983Z\", \"duration\": \"0:01:25\", \"iteration\": \"23\", \"goal\": \"accuracy_max\", \"run_name\": \"MaxAbsScaler, LightGBM\", \"run_properties\": \"copy=True\", \"primary_metric\": 0.76566505, \"best_metric\": 0.77089381}, {\"run_id\": \"AutoML_695b34cd-c5ff-41eb-a951-ada26ec0b959_24\", \"run_number\": 31, \"metric\": null, \"status\": \"Completed\", \"run_type\": \"azureml.scriptrun\", \"training_percent\": \"100\", \"start_time\": \"2021-01-30T19:12:52.701149Z\", \"end_time\": \"2021-01-30T19:15:39.531366Z\", \"created_time\": \"2021-01-30T19:12:38.556424Z\", \"created_time_dt\": \"2021-01-30T19:12:38.556424Z\", \"duration\": \"0:03:00\", \"iteration\": \"24\", \"goal\": \"accuracy_max\", \"run_name\": \"MaxAbsScaler, LightGBM\", \"run_properties\": \"copy=True\", \"primary_metric\": 0.76698073, \"best_metric\": 0.77089381}, {\"run_id\": \"AutoML_695b34cd-c5ff-41eb-a951-ada26ec0b959_25\", \"run_number\": 32, \"metric\": null, \"status\": \"Completed\", \"run_type\": \"azureml.scriptrun\", \"training_percent\": \"100\", \"start_time\": \"2021-01-30T19:13:08.723111Z\", \"end_time\": \"2021-01-30T19:13:51.948503Z\", \"created_time\": \"2021-01-30T19:12:55.115455Z\", \"created_time_dt\": \"2021-01-30T19:12:55.115455Z\", \"duration\": \"0:00:56\", \"iteration\": \"25\", \"goal\": \"accuracy_max\", \"run_name\": \"TruncatedSVDWrapper, LogisticRegression\", \"run_properties\": \"n_components=0.20789473684210527, random_state=None\", \"primary_metric\": 0.60943893, \"best_metric\": 0.77089381}, {\"run_id\": \"AutoML_695b34cd-c5ff-41eb-a951-ada26ec0b959_26\", \"run_number\": 33, \"metric\": null, \"status\": \"Completed\", \"run_type\": \"azureml.scriptrun\", \"training_percent\": \"100\", \"start_time\": \"2021-01-30T19:13:13.163591Z\", \"end_time\": \"2021-01-30T19:14:07.552606Z\", \"created_time\": \"2021-01-30T19:13:01.165005Z\", \"created_time_dt\": \"2021-01-30T19:13:01.165005Z\", \"duration\": \"0:01:06\", \"iteration\": \"26\", \"goal\": \"accuracy_max\", \"run_name\": \"MaxAbsScaler, LightGBM\", \"run_properties\": \"copy=True\", \"primary_metric\": 0.7500382, \"best_metric\": 0.77089381}, {\"run_id\": \"AutoML_695b34cd-c5ff-41eb-a951-ada26ec0b959_27\", \"run_number\": 34, \"metric\": null, \"status\": \"Completed\", \"run_type\": \"azureml.scriptrun\", \"training_percent\": \"100\", \"start_time\": \"2021-01-30T19:13:27.493236Z\", \"end_time\": \"2021-01-30T19:14:22.571579Z\", \"created_time\": \"2021-01-30T19:13:13.462949Z\", \"created_time_dt\": \"2021-01-30T19:13:13.462949Z\", \"duration\": \"0:01:09\", \"iteration\": \"27\", \"goal\": \"accuracy_max\", \"run_name\": \"SparseNormalizer, XGBoostClassifier\", \"run_properties\": \"<azureml.automl.runtime.shared.model_wrappers.SparseNormalizer object at 0x7f6a15383a20\", \"primary_metric\": 0.69283592, \"best_metric\": 0.77089381}, {\"run_id\": \"AutoML_695b34cd-c5ff-41eb-a951-ada26ec0b959_28\", \"run_number\": 35, \"metric\": null, \"status\": \"Completed\", \"run_type\": \"azureml.scriptrun\", \"training_percent\": \"100\", \"start_time\": \"2021-01-30T19:14:07.241446Z\", \"end_time\": \"2021-01-30T19:14:53.66926Z\", \"created_time\": \"2021-01-30T19:13:55.110657Z\", \"created_time_dt\": \"2021-01-30T19:13:55.110657Z\", \"duration\": \"0:00:58\", \"iteration\": \"28\", \"goal\": \"accuracy_max\", \"run_name\": \"SparseNormalizer, LightGBM\", \"run_properties\": \"<azureml.automl.runtime.shared.model_wrappers.SparseNormalizer object at 0x7fe44a180208\", \"primary_metric\": 0.69150327, \"best_metric\": 0.77089381}, {\"run_id\": \"AutoML_695b34cd-c5ff-41eb-a951-ada26ec0b959_29\", \"run_number\": 36, \"metric\": null, \"status\": \"Completed\", \"run_type\": \"azureml.scriptrun\", \"training_percent\": \"100\", \"start_time\": \"2021-01-30T19:14:23.11091Z\", \"end_time\": \"2021-01-30T19:15:14.421168Z\", \"created_time\": \"2021-01-30T19:14:10.372818Z\", \"created_time_dt\": \"2021-01-30T19:14:10.372818Z\", \"duration\": \"0:01:04\", \"iteration\": \"29\", \"goal\": \"accuracy_max\", \"run_name\": \"StandardScalerWrapper, XGBoostClassifier\", \"run_properties\": \"<azureml.automl.runtime.shared.model_wrappers.StandardScalerWrapper object at 0x7fbea4b292e8\", \"primary_metric\": 0.76822002, \"best_metric\": 0.77089381}, {\"run_id\": \"AutoML_695b34cd-c5ff-41eb-a951-ada26ec0b959_30\", \"run_number\": 37, \"metric\": null, \"status\": \"Completed\", \"run_type\": \"azureml.scriptrun\", \"training_percent\": \"100\", \"start_time\": \"2021-01-30T19:14:36.703644Z\", \"end_time\": \"2021-01-30T19:15:29.884186Z\", \"created_time\": \"2021-01-30T19:14:25.883535Z\", \"created_time_dt\": \"2021-01-30T19:14:25.883535Z\", \"duration\": \"0:01:04\", \"iteration\": \"30\", \"goal\": \"accuracy_max\", \"run_name\": \"StandardScalerWrapper, LogisticRegression\", \"run_properties\": \"<azureml.automl.runtime.shared.model_wrappers.StandardScalerWrapper object at 0x7f31a6d9fef0\", \"primary_metric\": 0.66674306, \"best_metric\": 0.77089381}, {\"run_id\": \"AutoML_695b34cd-c5ff-41eb-a951-ada26ec0b959_31\", \"run_number\": 38, \"metric\": null, \"status\": \"Completed\", \"run_type\": \"azureml.scriptrun\", \"training_percent\": \"100\", \"start_time\": \"2021-01-30T19:15:06.969139Z\", \"end_time\": \"2021-01-30T19:15:52.052002Z\", \"created_time\": \"2021-01-30T19:14:56.870293Z\", \"created_time_dt\": \"2021-01-30T19:14:56.870293Z\", \"duration\": \"0:00:55\", \"iteration\": \"31\", \"goal\": \"accuracy_max\", \"run_name\": \"SparseNormalizer, XGBoostClassifier\", \"run_properties\": \"<azureml.automl.runtime.shared.model_wrappers.SparseNormalizer object at 0x7fd5fca4fcf8\", \"primary_metric\": 0.69798829, \"best_metric\": 0.77089381}, {\"run_id\": \"AutoML_695b34cd-c5ff-41eb-a951-ada26ec0b959_32\", \"run_number\": 39, \"metric\": null, \"status\": \"Completed\", \"run_type\": \"azureml.scriptrun\", \"training_percent\": \"100\", \"start_time\": \"2021-01-30T19:15:30.022848Z\", \"end_time\": \"2021-01-30T19:16:19.222346Z\", \"created_time\": \"2021-01-30T19:15:16.975904Z\", \"created_time_dt\": \"2021-01-30T19:15:16.975904Z\", \"duration\": \"0:01:02\", \"iteration\": \"32\", \"goal\": \"accuracy_max\", \"run_name\": \"MaxAbsScaler, LightGBM\", \"run_properties\": \"copy=True\", \"primary_metric\": 0.76563959, \"best_metric\": 0.77089381}, {\"run_id\": \"AutoML_695b34cd-c5ff-41eb-a951-ada26ec0b959_34\", \"run_number\": 40, \"metric\": null, \"status\": \"Completed\", \"run_type\": \"azureml.scriptrun\", \"training_percent\": \"100\", \"start_time\": \"2021-01-30T19:16:31.628761Z\", \"end_time\": \"2021-01-30T19:17:56.989133Z\", \"created_time\": \"2021-01-30T19:16:20.551Z\", \"created_time_dt\": \"2021-01-30T19:16:20.551Z\", \"duration\": \"0:01:36\", \"iteration\": \"34\", \"goal\": \"accuracy_max\", \"run_name\": \"StackEnsemble\", \"run_properties\": \"base_learners=[('16',\\n                                        Pipeline(memory=None,\\n                                                 steps=[('maxabsscaler',\\n                                                         MaxAbsScaler(copy=True\", \"primary_metric\": 0.77088532, \"best_metric\": 0.78257364}, {\"run_id\": \"AutoML_695b34cd-c5ff-41eb-a951-ada26ec0b959_33\", \"run_number\": 41, \"metric\": null, \"status\": \"Completed\", \"run_type\": \"azureml.scriptrun\", \"training_percent\": \"100\", \"start_time\": \"2021-01-30T19:16:33.570715Z\", \"end_time\": \"2021-01-30T19:17:52.342602Z\", \"created_time\": \"2021-01-30T19:16:20.556768Z\", \"created_time_dt\": \"2021-01-30T19:16:20.556768Z\", \"duration\": \"0:01:31\", \"iteration\": \"33\", \"goal\": \"accuracy_max\", \"run_name\": \"VotingEnsemble\", \"run_properties\": \"classification_labels=None,\\n                              estimators=[('16',\\n                                           Pipeline(memory=None,\\n                                                    steps=[('maxabsscaler',\\n                                                            MaxAbsScaler(copy=True\", \"primary_metric\": 0.78257364, \"best_metric\": 0.78257364}], \"children_metrics\": {\"categories\": [0], \"series\": {\"AUC_macro\": [{\"categories\": [\"0\", \"1\", \"2\", \"3\", \"4\", \"5\", \"6\", \"7\", \"8\", \"9\", \"10\", \"11\", \"12\", \"13\", \"14\", \"15\", \"16\", \"17\", \"18\", \"19\", \"20\", \"21\", \"22\", \"23\", \"24\", \"25\", \"26\", \"27\", \"28\", \"29\", \"30\", \"31\", \"32\", \"33\", \"34\"], \"mode\": \"markers\", \"name\": \"AUC_macro\", \"stepped\": false, \"type\": \"scatter\", \"data\": [0.8062007971845107, 0.8324149004567104, 0.8208521644946358, 0.8176536396829123, 0.8306647471809472, 0.8096084565185413, 0.7660757757340357, 0.750158214052964, 0.6971397124948764, 0.8255096711226996, 0.8257157642052088, 0.8360814226281029, 0.823780220832693, 0.8099884428532407, 0.8293667821011453, 0.8254411998706679, 0.8210775589255617, 0.8206058025306169, 0.7514026105725903, 0.821445025824606, 0.8268563288633635, 0.8360738354923305, 0.7486873537770867, 0.837243877065999, 0.8443763911520386, 0.675207483442254, 0.8272103522038904, 0.7185574255855157, 0.7269151893805391, 0.8122677916026667, 0.6461271390407864, 0.7560701657764028, 0.8299635782946924, 0.8434150439963579, 0.8424669112310536]}, {\"categories\": [\"0\", \"1\", \"2\", \"3\", \"4\", \"5\", \"6\", \"7\", \"8\", \"9\", \"10\", \"11\", \"12\", \"13\", \"14\", \"15\", \"16\", \"17\", \"18\", \"19\", \"20\", \"21\", \"22\", \"23\", \"24\", \"25\", \"26\", \"27\", \"28\", \"29\", \"30\", \"31\", \"32\", \"33\", \"34\"], \"mode\": \"lines\", \"name\": \"AUC_macro_max\", \"stepped\": true, \"type\": \"scatter\", \"data\": [0.8062007971845107, 0.8324149004567104, 0.8324149004567104, 0.8324149004567104, 0.8324149004567104, 0.8324149004567104, 0.8324149004567104, 0.8324149004567104, 0.8324149004567104, 0.8324149004567104, 0.8324149004567104, 0.8360814226281029, 0.8360814226281029, 0.8360814226281029, 0.8360814226281029, 0.8360814226281029, 0.8360814226281029, 0.8360814226281029, 0.8360814226281029, 0.8360814226281029, 0.8360814226281029, 0.8360814226281029, 0.8360814226281029, 0.837243877065999, 0.8443763911520386, 0.8443763911520386, 0.8443763911520386, 0.8443763911520386, 0.8443763911520386, 0.8443763911520386, 0.8443763911520386, 0.8443763911520386, 0.8443763911520386, 0.8443763911520386, 0.8443763911520386]}], \"AUC_weighted\": [{\"categories\": [\"0\", \"1\", \"2\", \"3\", \"4\", \"5\", \"6\", \"7\", \"8\", \"9\", \"10\", \"11\", \"12\", \"13\", \"14\", \"15\", \"16\", \"17\", \"18\", \"19\", \"20\", \"21\", \"22\", \"23\", \"24\", \"25\", \"26\", \"27\", \"28\", \"29\", \"30\", \"31\", \"32\", \"33\", \"34\"], \"mode\": \"markers\", \"name\": \"AUC_weighted\", \"stepped\": false, \"type\": \"scatter\", \"data\": [0.8062007971845107, 0.8324149004567104, 0.8208521644946358, 0.8176536396829123, 0.8306647471809472, 0.8096084565185414, 0.7660757757340357, 0.750158214052964, 0.6971397124948764, 0.8255096711226996, 0.8257157642052088, 0.8360814226281029, 0.823780220832693, 0.8099884428532407, 0.8293667821011453, 0.8254411998706679, 0.8210775589255617, 0.8206058025306169, 0.7514026105725902, 0.821445025824606, 0.8268563288633635, 0.8360738354923305, 0.7486873537770868, 0.837243877065999, 0.8443763911520386, 0.675207483442254, 0.8272103522038904, 0.7185574255855157, 0.7269151893805391, 0.8122677916026667, 0.6461271390407866, 0.7560701657764028, 0.8299635782946924, 0.8434150439963579, 0.8424669112310536]}, {\"categories\": [\"0\", \"1\", \"2\", \"3\", \"4\", \"5\", \"6\", \"7\", \"8\", \"9\", \"10\", \"11\", \"12\", \"13\", \"14\", \"15\", \"16\", \"17\", \"18\", \"19\", \"20\", \"21\", \"22\", \"23\", \"24\", \"25\", \"26\", \"27\", \"28\", \"29\", \"30\", \"31\", \"32\", \"33\", \"34\"], \"mode\": \"lines\", \"name\": \"AUC_weighted_max\", \"stepped\": true, \"type\": \"scatter\", \"data\": [0.8062007971845107, 0.8324149004567104, 0.8324149004567104, 0.8324149004567104, 0.8324149004567104, 0.8324149004567104, 0.8324149004567104, 0.8324149004567104, 0.8324149004567104, 0.8324149004567104, 0.8324149004567104, 0.8360814226281029, 0.8360814226281029, 0.8360814226281029, 0.8360814226281029, 0.8360814226281029, 0.8360814226281029, 0.8360814226281029, 0.8360814226281029, 0.8360814226281029, 0.8360814226281029, 0.8360814226281029, 0.8360814226281029, 0.837243877065999, 0.8443763911520386, 0.8443763911520386, 0.8443763911520386, 0.8443763911520386, 0.8443763911520386, 0.8443763911520386, 0.8443763911520386, 0.8443763911520386, 0.8443763911520386, 0.8443763911520386, 0.8443763911520386]}], \"precision_score_macro\": [{\"categories\": [\"0\", \"1\", \"2\", \"3\", \"4\", \"5\", \"6\", \"7\", \"8\", \"9\", \"10\", \"11\", \"12\", \"13\", \"14\", \"15\", \"16\", \"17\", \"18\", \"19\", \"20\", \"21\", \"22\", \"23\", \"24\", \"25\", \"26\", \"27\", \"28\", \"29\", \"30\", \"31\", \"32\", \"33\", \"34\"], \"mode\": \"markers\", \"name\": \"precision_score_macro\", \"stepped\": false, \"type\": \"scatter\", \"data\": [0.7143475727069413, 0.7406688342517045, 0.7411185065823809, 0.7413931090277572, 0.7387941561402573, 0.6994778582467239, 0.6888042471539706, 0.6796406069772238, 0.5497013636174286, 0.7376611585026457, 0.7462575197545398, 0.755256315515979, 0.7434713586195232, 0.7555216454114074, 0.7357082751165097, 0.7524575540231203, 0.7554232524140823, 0.7540319453588485, 0.6579780898346377, 0.7534505989459154, 0.7635671214026328, 0.7342679804036704, 0.6765855437798299, 0.7433692076240216, 0.7665806354357692, 0.6109556490480949, 0.7367642178217143, 0.6599296479512133, 0.6737888554184607, 0.7443120440347776, 0.6229737617290605, 0.6645571633678856, 0.7404048458674929, 0.7669071568859951, 0.7585815985300192]}, {\"categories\": [\"0\", \"1\", \"2\", \"3\", \"4\", \"5\", \"6\", \"7\", \"8\", \"9\", \"10\", \"11\", \"12\", \"13\", \"14\", \"15\", \"16\", \"17\", \"18\", \"19\", \"20\", \"21\", \"22\", \"23\", \"24\", \"25\", \"26\", \"27\", \"28\", \"29\", \"30\", \"31\", \"32\", \"33\", \"34\"], \"mode\": \"lines\", \"name\": \"precision_score_macro_max\", \"stepped\": true, \"type\": \"scatter\", \"data\": [0.7143475727069413, 0.7406688342517045, 0.7411185065823809, 0.7413931090277572, 0.7413931090277572, 0.7413931090277572, 0.7413931090277572, 0.7413931090277572, 0.7413931090277572, 0.7413931090277572, 0.7462575197545398, 0.755256315515979, 0.755256315515979, 0.7555216454114074, 0.7555216454114074, 0.7555216454114074, 0.7555216454114074, 0.7555216454114074, 0.7555216454114074, 0.7555216454114074, 0.7635671214026328, 0.7635671214026328, 0.7635671214026328, 0.7635671214026328, 0.7665806354357692, 0.7665806354357692, 0.7665806354357692, 0.7665806354357692, 0.7665806354357692, 0.7665806354357692, 0.7665806354357692, 0.7665806354357692, 0.7665806354357692, 0.7669071568859951, 0.7669071568859951]}], \"weighted_accuracy\": [{\"categories\": [\"0\", \"1\", \"2\", \"3\", \"4\", \"5\", \"6\", \"7\", \"8\", \"9\", \"10\", \"11\", \"12\", \"13\", \"14\", \"15\", \"16\", \"17\", \"18\", \"19\", \"20\", \"21\", \"22\", \"23\", \"24\", \"25\", \"26\", \"27\", \"28\", \"29\", \"30\", \"31\", \"32\", \"33\", \"34\"], \"mode\": \"markers\", \"name\": \"weighted_accuracy\", \"stepped\": false, \"type\": \"scatter\", \"data\": [0.7692349431628938, 0.7906595742312594, 0.8060655828931005, 0.8075258316394962, 0.7647947284136343, 0.7112801247608364, 0.7611297202652938, 0.7579924122975384, 0.7347270245101865, 0.7811332262648438, 0.8053042047043126, 0.8122475063213331, 0.8083467226922201, 0.8117980132034847, 0.807476535700738, 0.811351714371128, 0.8095292948689675, 0.8085857477715741, 0.7395886207474287, 0.8090111954756892, 0.8192547683047534, 0.8013683475106188, 0.7512844674270516, 0.7988017341344678, 0.8212327793641622, 0.5986948388347678, 0.8046103227511583, 0.7585767145269307, 0.7650394647151936, 0.7975466723468869, 0.7417753312171305, 0.7417244352315026, 0.7952507520712734, 0.8227757930535512, 0.8148419603746315]}, {\"categories\": [\"0\", \"1\", \"2\", \"3\", \"4\", \"5\", \"6\", \"7\", \"8\", \"9\", \"10\", \"11\", \"12\", \"13\", \"14\", \"15\", \"16\", \"17\", \"18\", \"19\", \"20\", \"21\", \"22\", \"23\", \"24\", \"25\", \"26\", \"27\", \"28\", \"29\", \"30\", \"31\", \"32\", \"33\", \"34\"], \"mode\": \"lines\", \"name\": \"weighted_accuracy_max\", \"stepped\": true, \"type\": \"scatter\", \"data\": [0.7692349431628938, 0.7906595742312594, 0.8060655828931005, 0.8075258316394962, 0.8075258316394962, 0.8075258316394962, 0.8075258316394962, 0.8075258316394962, 0.8075258316394962, 0.8075258316394962, 0.8075258316394962, 0.8122475063213331, 0.8122475063213331, 0.8122475063213331, 0.8122475063213331, 0.8122475063213331, 0.8122475063213331, 0.8122475063213331, 0.8122475063213331, 0.8122475063213331, 0.8192547683047534, 0.8192547683047534, 0.8192547683047534, 0.8192547683047534, 0.8212327793641622, 0.8212327793641622, 0.8212327793641622, 0.8212327793641622, 0.8212327793641622, 0.8212327793641622, 0.8212327793641622, 0.8212327793641622, 0.8212327793641622, 0.8227757930535512, 0.8227757930535512]}], \"f1_score_macro\": [{\"categories\": [\"0\", \"1\", \"2\", \"3\", \"4\", \"5\", \"6\", \"7\", \"8\", \"9\", \"10\", \"11\", \"12\", \"13\", \"14\", \"15\", \"16\", \"17\", \"18\", \"19\", \"20\", \"21\", \"22\", \"23\", \"24\", \"25\", \"26\", \"27\", \"28\", \"29\", \"30\", \"31\", \"32\", \"33\", \"34\"], \"mode\": \"markers\", \"name\": \"f1_score_macro\", \"stepped\": false, \"type\": \"scatter\", \"data\": [0.7110567297826602, 0.7345738794182582, 0.7051274246252847, 0.6911224951928825, 0.7416664265214006, 0.7005885363984469, 0.6695423199560285, 0.6557501423243692, 0.4955795022259055, 0.48524086793260557, 0.7281482048253733, 0.7222260629532803, 0.6940133154035025, 0.7222107295619971, 0.6773310328489138, 0.6541401691799467, 0.7297768568557624, 0.72815711229354, 0.6335647536549452, 0.727393289684436, 0.66621783146494, 0.7091570666295357, 0.6551444786186884, 0.7288336440003419, 0.7097740671895164, 0.5973751999687796, 0.6891381699058785, 0.6069120372469425, 0.5903977649627008, 0.733261963386129, 0.5609353801176288, 0.6458376405005464, 0.730760046267663, 0.7404612425955887, 0.7237706279170377]}, {\"categories\": [\"0\", \"1\", \"2\", \"3\", \"4\", \"5\", \"6\", \"7\", \"8\", \"9\", \"10\", \"11\", \"12\", \"13\", \"14\", \"15\", \"16\", \"17\", \"18\", \"19\", \"20\", \"21\", \"22\", \"23\", \"24\", \"25\", \"26\", \"27\", \"28\", \"29\", \"30\", \"31\", \"32\", \"33\", \"34\"], \"mode\": \"lines\", \"name\": \"f1_score_macro_max\", \"stepped\": true, \"type\": \"scatter\", \"data\": [0.7110567297826602, 0.7345738794182582, 0.7345738794182582, 0.7345738794182582, 0.7416664265214006, 0.7416664265214006, 0.7416664265214006, 0.7416664265214006, 0.7416664265214006, 0.7416664265214006, 0.7416664265214006, 0.7416664265214006, 0.7416664265214006, 0.7416664265214006, 0.7416664265214006, 0.7416664265214006, 0.7416664265214006, 0.7416664265214006, 0.7416664265214006, 0.7416664265214006, 0.7416664265214006, 0.7416664265214006, 0.7416664265214006, 0.7416664265214006, 0.7416664265214006, 0.7416664265214006, 0.7416664265214006, 0.7416664265214006, 0.7416664265214006, 0.7416664265214006, 0.7416664265214006, 0.7416664265214006, 0.7416664265214006, 0.7416664265214006, 0.7416664265214006]}], \"norm_macro_recall\": [{\"categories\": [\"0\", \"1\", \"2\", \"3\", \"4\", \"5\", \"6\", \"7\", \"8\", \"9\", \"10\", \"11\", \"12\", \"13\", \"14\", \"15\", \"16\", \"17\", \"18\", \"19\", \"20\", \"21\", \"22\", \"23\", \"24\", \"25\", \"26\", \"27\", \"28\", \"29\", \"30\", \"31\", \"32\", \"33\", \"34\"], \"mode\": \"markers\", \"name\": \"norm_macro_recall\", \"stepped\": false, \"type\": \"scatter\", \"data\": [0.420946354852849, 0.4667111240616652, 0.39108213246459833, 0.36351425031171725, 0.5080897704263709, 0.4396584063372563, 0.33191911840507854, 0.3030262927030176, 0.08972431522364399, 0.08548622060876929, 0.44021356890370916, 0.4250643842136169, 0.368511696972428, 0.4263174121899708, 0.33889906693779404, 0.3020529686503032, 0.44261127811679, 0.43922144760831544, 0.26248980861478094, 0.43734812022205316, 0.3203900545562752, 0.40188106405571267, 0.3034480694145636, 0.4469329030663899, 0.39538842997487583, 0.24263959730570006, 0.3598531183374251, 0.21835263049445253, 0.20028986017877845, 0.4609739676189505, 0.14219906364473278, 0.28661372745557534, 0.4537407121140407, 0.4602335640946299, 0.4281544420493061]}, {\"categories\": [\"0\", \"1\", \"2\", \"3\", \"4\", \"5\", \"6\", \"7\", \"8\", \"9\", \"10\", \"11\", \"12\", \"13\", \"14\", \"15\", \"16\", \"17\", \"18\", \"19\", \"20\", \"21\", \"22\", \"23\", \"24\", \"25\", \"26\", \"27\", \"28\", \"29\", \"30\", \"31\", \"32\", \"33\", \"34\"], \"mode\": \"lines\", \"name\": \"norm_macro_recall_max\", \"stepped\": true, \"type\": \"scatter\", \"data\": [0.420946354852849, 0.4667111240616652, 0.4667111240616652, 0.4667111240616652, 0.5080897704263709, 0.5080897704263709, 0.5080897704263709, 0.5080897704263709, 0.5080897704263709, 0.5080897704263709, 0.5080897704263709, 0.5080897704263709, 0.5080897704263709, 0.5080897704263709, 0.5080897704263709, 0.5080897704263709, 0.5080897704263709, 0.5080897704263709, 0.5080897704263709, 0.5080897704263709, 0.5080897704263709, 0.5080897704263709, 0.5080897704263709, 0.5080897704263709, 0.5080897704263709, 0.5080897704263709, 0.5080897704263709, 0.5080897704263709, 0.5080897704263709, 0.5080897704263709, 0.5080897704263709, 0.5080897704263709, 0.5080897704263709, 0.5080897704263709, 0.5080897704263709]}], \"AUC_micro\": [{\"categories\": [\"0\", \"1\", \"2\", \"3\", \"4\", \"5\", \"6\", \"7\", \"8\", \"9\", \"10\", \"11\", \"12\", \"13\", \"14\", \"15\", \"16\", \"17\", \"18\", \"19\", \"20\", \"21\", \"22\", \"23\", \"24\", \"25\", \"26\", \"27\", \"28\", \"29\", \"30\", \"31\", \"32\", \"33\", \"34\"], \"mode\": \"markers\", \"name\": \"AUC_micro\", \"stepped\": false, \"type\": \"scatter\", \"data\": [0.8308010717565983, 0.8534052480172104, 0.8390942894740135, 0.8323067310072808, 0.8382074848701071, 0.8070494378273105, 0.8008986208502378, 0.7864944562603305, 0.7397627788399069, 0.7998423788392182, 0.8465117623058875, 0.8482278062199871, 0.8379580579598555, 0.8372891867274648, 0.8378389156126989, 0.826554703337609, 0.8460674890961444, 0.8458897298814014, 0.7828501850334112, 0.8461792210717448, 0.8309076056645672, 0.8545395723603905, 0.782415506039287, 0.8565876045227144, 0.8510305622095793, 0.648450949547431, 0.838824457563504, 0.7642521867675031, 0.763047742729134, 0.8368297058645926, 0.7068787344967336, 0.7887504421095397, 0.8510764330219385, 0.861418513641435, 0.8562195889717273]}, {\"categories\": [\"0\", \"1\", \"2\", \"3\", \"4\", \"5\", \"6\", \"7\", \"8\", \"9\", \"10\", \"11\", \"12\", \"13\", \"14\", \"15\", \"16\", \"17\", \"18\", \"19\", \"20\", \"21\", \"22\", \"23\", \"24\", \"25\", \"26\", \"27\", \"28\", \"29\", \"30\", \"31\", \"32\", \"33\", \"34\"], \"mode\": \"lines\", \"name\": \"AUC_micro_max\", \"stepped\": true, \"type\": \"scatter\", \"data\": [0.8308010717565983, 0.8534052480172104, 0.8534052480172104, 0.8534052480172104, 0.8534052480172104, 0.8534052480172104, 0.8534052480172104, 0.8534052480172104, 0.8534052480172104, 0.8534052480172104, 0.8534052480172104, 0.8534052480172104, 0.8534052480172104, 0.8534052480172104, 0.8534052480172104, 0.8534052480172104, 0.8534052480172104, 0.8534052480172104, 0.8534052480172104, 0.8534052480172104, 0.8534052480172104, 0.8545395723603905, 0.8545395723603905, 0.8565876045227144, 0.8565876045227144, 0.8565876045227144, 0.8565876045227144, 0.8565876045227144, 0.8565876045227144, 0.8565876045227144, 0.8565876045227144, 0.8565876045227144, 0.8565876045227144, 0.861418513641435, 0.861418513641435]}], \"recall_score_micro\": [{\"categories\": [\"0\", \"1\", \"2\", \"3\", \"4\", \"5\", \"6\", \"7\", \"8\", \"9\", \"10\", \"11\", \"12\", \"13\", \"14\", \"15\", \"16\", \"17\", \"18\", \"19\", \"20\", \"21\", \"22\", \"23\", \"24\", \"25\", \"26\", \"27\", \"28\", \"29\", \"30\", \"31\", \"32\", \"33\", \"34\"], \"mode\": \"markers\", \"name\": \"recall_score_micro\", \"stepped\": false, \"type\": \"scatter\", \"data\": [0.7435277141159494, 0.7656395891690009, 0.7578643578643578, 0.7526101349630762, 0.7604532722179781, 0.7149223325693914, 0.718860877684407, 0.7110262286732875, 0.6484678719972838, 0.6759103641456582, 0.7682794329853152, 0.7682879212290977, 0.7539597657244717, 0.7682624564977505, 0.7474068415244887, 0.7409472880061115, 0.7708938120702825, 0.7695951107715814, 0.691545709192768, 0.7695866225277989, 0.75007215007215, 0.7578219166454461, 0.7071386130209659, 0.765665053900348, 0.7669807316866141, 0.6094389270859859, 0.7500381970970207, 0.692835922247687, 0.6915032679738562, 0.7682200152788388, 0.6667430608607079, 0.6979882862235802, 0.7656395891690009, 0.782573635514812, 0.7708853238265002]}, {\"categories\": [\"0\", \"1\", \"2\", \"3\", \"4\", \"5\", \"6\", \"7\", \"8\", \"9\", \"10\", \"11\", \"12\", \"13\", \"14\", \"15\", \"16\", \"17\", \"18\", \"19\", \"20\", \"21\", \"22\", \"23\", \"24\", \"25\", \"26\", \"27\", \"28\", \"29\", \"30\", \"31\", \"32\", \"33\", \"34\"], \"mode\": \"lines\", \"name\": \"recall_score_micro_max\", \"stepped\": true, \"type\": \"scatter\", \"data\": [0.7435277141159494, 0.7656395891690009, 0.7656395891690009, 0.7656395891690009, 0.7656395891690009, 0.7656395891690009, 0.7656395891690009, 0.7656395891690009, 0.7656395891690009, 0.7656395891690009, 0.7682794329853152, 0.7682879212290977, 0.7682879212290977, 0.7682879212290977, 0.7682879212290977, 0.7682879212290977, 0.7708938120702825, 0.7708938120702825, 0.7708938120702825, 0.7708938120702825, 0.7708938120702825, 0.7708938120702825, 0.7708938120702825, 0.7708938120702825, 0.7708938120702825, 0.7708938120702825, 0.7708938120702825, 0.7708938120702825, 0.7708938120702825, 0.7708938120702825, 0.7708938120702825, 0.7708938120702825, 0.7708938120702825, 0.782573635514812, 0.782573635514812]}], \"average_precision_score_macro\": [{\"categories\": [\"0\", \"1\", \"2\", \"3\", \"4\", \"5\", \"6\", \"7\", \"8\", \"9\", \"10\", \"11\", \"12\", \"13\", \"14\", \"15\", \"16\", \"17\", \"18\", \"19\", \"20\", \"21\", \"22\", \"23\", \"24\", \"25\", \"26\", \"27\", \"28\", \"29\", \"30\", \"31\", \"32\", \"33\", \"34\"], \"mode\": \"markers\", \"name\": \"average_precision_score_macro\", \"stepped\": false, \"type\": \"scatter\", \"data\": [0.7848257443237637, 0.8102231075585553, 0.7994438795509168, 0.7938019139353198, 0.8072592964038202, 0.7863783735323049, 0.7543822265332896, 0.7317267872368305, 0.657615829876303, 0.8034128236155469, 0.8052719787929238, 0.8109693347468643, 0.8046834856078584, 0.7932610615680789, 0.8055460327710318, 0.8052552710821775, 0.8061208903928498, 0.8056125238945905, 0.734106207220483, 0.8064040846789846, 0.8070403733298793, 0.814825478740001, 0.7312802440496983, 0.8139573052415511, 0.8232496768849945, 0.6628000175939728, 0.7984827497024777, 0.6976610122799239, 0.702664197507922, 0.7877000814188165, 0.6300814435856245, 0.7378324864069119, 0.8079379461871165, 0.8244980736844827, 0.8241879416096932]}, {\"categories\": [\"0\", \"1\", \"2\", \"3\", \"4\", \"5\", \"6\", \"7\", \"8\", \"9\", \"10\", \"11\", \"12\", \"13\", \"14\", \"15\", \"16\", \"17\", \"18\", \"19\", \"20\", \"21\", \"22\", \"23\", \"24\", \"25\", \"26\", \"27\", \"28\", \"29\", \"30\", \"31\", \"32\", \"33\", \"34\"], \"mode\": \"lines\", \"name\": \"average_precision_score_macro_max\", \"stepped\": true, \"type\": \"scatter\", \"data\": [0.7848257443237637, 0.8102231075585553, 0.8102231075585553, 0.8102231075585553, 0.8102231075585553, 0.8102231075585553, 0.8102231075585553, 0.8102231075585553, 0.8102231075585553, 0.8102231075585553, 0.8102231075585553, 0.8109693347468643, 0.8109693347468643, 0.8109693347468643, 0.8109693347468643, 0.8109693347468643, 0.8109693347468643, 0.8109693347468643, 0.8109693347468643, 0.8109693347468643, 0.8109693347468643, 0.814825478740001, 0.814825478740001, 0.814825478740001, 0.8232496768849945, 0.8232496768849945, 0.8232496768849945, 0.8232496768849945, 0.8232496768849945, 0.8232496768849945, 0.8232496768849945, 0.8232496768849945, 0.8232496768849945, 0.8244980736844827, 0.8244980736844827]}], \"f1_score_micro\": [{\"categories\": [\"0\", \"1\", \"2\", \"3\", \"4\", \"5\", \"6\", \"7\", \"8\", \"9\", \"10\", \"11\", \"12\", \"13\", \"14\", \"15\", \"16\", \"17\", \"18\", \"19\", \"20\", \"21\", \"22\", \"23\", \"24\", \"25\", \"26\", \"27\", \"28\", \"29\", \"30\", \"31\", \"32\", \"33\", \"34\"], \"mode\": \"markers\", \"name\": \"f1_score_micro\", \"stepped\": false, \"type\": \"scatter\", \"data\": [0.7435277141159494, 0.7656395891690009, 0.7578643578643578, 0.752610134963076, 0.760453272217978, 0.7149223325693914, 0.718860877684407, 0.7110262286732875, 0.6484678719972838, 0.6759103641456582, 0.7682794329853152, 0.7682879212290977, 0.7539597657244717, 0.7682624564977505, 0.7474068415244886, 0.7409472880061114, 0.7708938120702825, 0.7695951107715813, 0.691545709192768, 0.7695866225277989, 0.75007215007215, 0.7578219166454461, 0.7071386130209659, 0.7656650539003479, 0.7669807316866141, 0.6094389270859859, 0.7500381970970206, 0.692835922247687, 0.6915032679738562, 0.7682200152788388, 0.6667430608607079, 0.6979882862235802, 0.7656395891690009, 0.782573635514812, 0.7708853238265002]}, {\"categories\": [\"0\", \"1\", \"2\", \"3\", \"4\", \"5\", \"6\", \"7\", \"8\", \"9\", \"10\", \"11\", \"12\", \"13\", \"14\", \"15\", \"16\", \"17\", \"18\", \"19\", \"20\", \"21\", \"22\", \"23\", \"24\", \"25\", \"26\", \"27\", \"28\", \"29\", \"30\", \"31\", \"32\", \"33\", \"34\"], \"mode\": \"lines\", \"name\": \"f1_score_micro_max\", \"stepped\": true, \"type\": \"scatter\", \"data\": [0.7435277141159494, 0.7656395891690009, 0.7656395891690009, 0.7656395891690009, 0.7656395891690009, 0.7656395891690009, 0.7656395891690009, 0.7656395891690009, 0.7656395891690009, 0.7656395891690009, 0.7682794329853152, 0.7682879212290977, 0.7682879212290977, 0.7682879212290977, 0.7682879212290977, 0.7682879212290977, 0.7708938120702825, 0.7708938120702825, 0.7708938120702825, 0.7708938120702825, 0.7708938120702825, 0.7708938120702825, 0.7708938120702825, 0.7708938120702825, 0.7708938120702825, 0.7708938120702825, 0.7708938120702825, 0.7708938120702825, 0.7708938120702825, 0.7708938120702825, 0.7708938120702825, 0.7708938120702825, 0.7708938120702825, 0.782573635514812, 0.782573635514812]}], \"balanced_accuracy\": [{\"categories\": [\"0\", \"1\", \"2\", \"3\", \"4\", \"5\", \"6\", \"7\", \"8\", \"9\", \"10\", \"11\", \"12\", \"13\", \"14\", \"15\", \"16\", \"17\", \"18\", \"19\", \"20\", \"21\", \"22\", \"23\", \"24\", \"25\", \"26\", \"27\", \"28\", \"29\", \"30\", \"31\", \"32\", \"33\", \"34\"], \"mode\": \"markers\", \"name\": \"balanced_accuracy\", \"stepped\": false, \"type\": \"scatter\", \"data\": [0.7104731774264245, 0.7333555620308326, 0.6955410662322992, 0.6817571251558586, 0.7540448852131855, 0.7198292031686282, 0.6659595592025392, 0.6515131463515089, 0.5438204909451553, 0.5427431103043846, 0.7201067844518547, 0.7125321921068084, 0.684255848486214, 0.7131587060949854, 0.669449533468897, 0.6510264843251516, 0.721305639058395, 0.7196107238041578, 0.6312449043073906, 0.7186740601110266, 0.6601950272781376, 0.7009405320278563, 0.6517240347072819, 0.723466451533195, 0.6976942149874379, 0.62131979865285, 0.6799265591687126, 0.6091763152472263, 0.6001449300893892, 0.7304869838094752, 0.5710995318223664, 0.6433068637277877, 0.7268703560570204, 0.730116782047315, 0.7140772210246531]}, {\"categories\": [\"0\", \"1\", \"2\", \"3\", \"4\", \"5\", \"6\", \"7\", \"8\", \"9\", \"10\", \"11\", \"12\", \"13\", \"14\", \"15\", \"16\", \"17\", \"18\", \"19\", \"20\", \"21\", \"22\", \"23\", \"24\", \"25\", \"26\", \"27\", \"28\", \"29\", \"30\", \"31\", \"32\", \"33\", \"34\"], \"mode\": \"lines\", \"name\": \"balanced_accuracy_max\", \"stepped\": true, \"type\": \"scatter\", \"data\": [0.7104731774264245, 0.7333555620308326, 0.7333555620308326, 0.7333555620308326, 0.7540448852131855, 0.7540448852131855, 0.7540448852131855, 0.7540448852131855, 0.7540448852131855, 0.7540448852131855, 0.7540448852131855, 0.7540448852131855, 0.7540448852131855, 0.7540448852131855, 0.7540448852131855, 0.7540448852131855, 0.7540448852131855, 0.7540448852131855, 0.7540448852131855, 0.7540448852131855, 0.7540448852131855, 0.7540448852131855, 0.7540448852131855, 0.7540448852131855, 0.7540448852131855, 0.7540448852131855, 0.7540448852131855, 0.7540448852131855, 0.7540448852131855, 0.7540448852131855, 0.7540448852131855, 0.7540448852131855, 0.7540448852131855, 0.7540448852131855, 0.7540448852131855]}], \"precision_score_micro\": [{\"categories\": [\"0\", \"1\", \"2\", \"3\", \"4\", \"5\", \"6\", \"7\", \"8\", \"9\", \"10\", \"11\", \"12\", \"13\", \"14\", \"15\", \"16\", \"17\", \"18\", \"19\", \"20\", \"21\", \"22\", \"23\", \"24\", \"25\", \"26\", \"27\", \"28\", \"29\", \"30\", \"31\", \"32\", \"33\", \"34\"], \"mode\": \"markers\", \"name\": \"precision_score_micro\", \"stepped\": false, \"type\": \"scatter\", \"data\": [0.7435277141159494, 0.7656395891690009, 0.7578643578643578, 0.7526101349630762, 0.7604532722179781, 0.7149223325693914, 0.718860877684407, 0.7110262286732875, 0.6484678719972838, 0.6759103641456582, 0.7682794329853152, 0.7682879212290977, 0.7539597657244717, 0.7682624564977505, 0.7474068415244887, 0.7409472880061115, 0.7708938120702825, 0.7695951107715814, 0.691545709192768, 0.7695866225277989, 0.75007215007215, 0.7578219166454461, 0.7071386130209659, 0.765665053900348, 0.7669807316866141, 0.6094389270859859, 0.7500381970970207, 0.692835922247687, 0.6915032679738562, 0.7682200152788388, 0.6667430608607079, 0.6979882862235802, 0.7656395891690009, 0.782573635514812, 0.7708853238265002]}, {\"categories\": [\"0\", \"1\", \"2\", \"3\", \"4\", \"5\", \"6\", \"7\", \"8\", \"9\", \"10\", \"11\", \"12\", \"13\", \"14\", \"15\", \"16\", \"17\", \"18\", \"19\", \"20\", \"21\", \"22\", \"23\", \"24\", \"25\", \"26\", \"27\", \"28\", \"29\", \"30\", \"31\", \"32\", \"33\", \"34\"], \"mode\": \"lines\", \"name\": \"precision_score_micro_max\", \"stepped\": true, \"type\": \"scatter\", \"data\": [0.7435277141159494, 0.7656395891690009, 0.7656395891690009, 0.7656395891690009, 0.7656395891690009, 0.7656395891690009, 0.7656395891690009, 0.7656395891690009, 0.7656395891690009, 0.7656395891690009, 0.7682794329853152, 0.7682879212290977, 0.7682879212290977, 0.7682879212290977, 0.7682879212290977, 0.7682879212290977, 0.7708938120702825, 0.7708938120702825, 0.7708938120702825, 0.7708938120702825, 0.7708938120702825, 0.7708938120702825, 0.7708938120702825, 0.7708938120702825, 0.7708938120702825, 0.7708938120702825, 0.7708938120702825, 0.7708938120702825, 0.7708938120702825, 0.7708938120702825, 0.7708938120702825, 0.7708938120702825, 0.7708938120702825, 0.782573635514812, 0.782573635514812]}], \"accuracy\": [{\"categories\": [\"0\", \"1\", \"2\", \"3\", \"4\", \"5\", \"6\", \"7\", \"8\", \"9\", \"10\", \"11\", \"12\", \"13\", \"14\", \"15\", \"16\", \"17\", \"18\", \"19\", \"20\", \"21\", \"22\", \"23\", \"24\", \"25\", \"26\", \"27\", \"28\", \"29\", \"30\", \"31\", \"32\", \"33\", \"34\"], \"mode\": \"markers\", \"name\": \"accuracy\", \"stepped\": false, \"type\": \"scatter\", \"data\": [0.7435277141159494, 0.7656395891690009, 0.7578643578643578, 0.7526101349630762, 0.7604532722179781, 0.7149223325693914, 0.718860877684407, 0.7110262286732875, 0.6484678719972838, 0.6759103641456582, 0.7682794329853152, 0.7682879212290977, 0.7539597657244717, 0.7682624564977505, 0.7474068415244887, 0.7409472880061115, 0.7708938120702825, 0.7695951107715814, 0.691545709192768, 0.7695866225277989, 0.75007215007215, 0.7578219166454461, 0.7071386130209659, 0.765665053900348, 0.7669807316866141, 0.6094389270859859, 0.7500381970970207, 0.692835922247687, 0.6915032679738562, 0.7682200152788388, 0.6667430608607079, 0.6979882862235802, 0.7656395891690009, 0.782573635514812, 0.7708853238265002]}, {\"categories\": [\"0\", \"1\", \"2\", \"3\", \"4\", \"5\", \"6\", \"7\", \"8\", \"9\", \"10\", \"11\", \"12\", \"13\", \"14\", \"15\", \"16\", \"17\", \"18\", \"19\", \"20\", \"21\", \"22\", \"23\", \"24\", \"25\", \"26\", \"27\", \"28\", \"29\", \"30\", \"31\", \"32\", \"33\", \"34\"], \"mode\": \"lines\", \"name\": \"accuracy_max\", \"stepped\": true, \"type\": \"scatter\", \"data\": [0.7435277141159494, 0.7656395891690009, 0.7656395891690009, 0.7656395891690009, 0.7656395891690009, 0.7656395891690009, 0.7656395891690009, 0.7656395891690009, 0.7656395891690009, 0.7656395891690009, 0.7682794329853152, 0.7682879212290977, 0.7682879212290977, 0.7682879212290977, 0.7682879212290977, 0.7682879212290977, 0.7708938120702825, 0.7708938120702825, 0.7708938120702825, 0.7708938120702825, 0.7708938120702825, 0.7708938120702825, 0.7708938120702825, 0.7708938120702825, 0.7708938120702825, 0.7708938120702825, 0.7708938120702825, 0.7708938120702825, 0.7708938120702825, 0.7708938120702825, 0.7708938120702825, 0.7708938120702825, 0.7708938120702825, 0.782573635514812, 0.782573635514812]}], \"average_precision_score_weighted\": [{\"categories\": [\"0\", \"1\", \"2\", \"3\", \"4\", \"5\", \"6\", \"7\", \"8\", \"9\", \"10\", \"11\", \"12\", \"13\", \"14\", \"15\", \"16\", \"17\", \"18\", \"19\", \"20\", \"21\", \"22\", \"23\", \"24\", \"25\", \"26\", \"27\", \"28\", \"29\", \"30\", \"31\", \"32\", \"33\", \"34\"], \"mode\": \"markers\", \"name\": \"average_precision_score_weighted\", \"stepped\": false, \"type\": \"scatter\", \"data\": [0.8183229088104544, 0.8410481501195661, 0.8302863059665727, 0.8284157061096018, 0.8388763464273847, 0.8189104455155627, 0.7880625636552105, 0.767257478177501, 0.7026049990417864, 0.835707028340496, 0.8348313110561918, 0.8423811148076819, 0.8372081221333536, 0.8222686326430519, 0.8390655714193421, 0.8375111188302915, 0.8341830667541579, 0.8337138635378919, 0.7713980747989277, 0.8344028172571758, 0.8378447784752513, 0.8462073126544114, 0.7687140585059101, 0.8442860400532638, 0.8528373170800325, 0.7009379604584195, 0.8331355961576126, 0.7378674174126998, 0.7415075849459108, 0.8191386735195788, 0.6712582458406824, 0.7744258928613885, 0.8384147473834502, 0.8536360606180505, 0.853219123523355]}, {\"categories\": [\"0\", \"1\", \"2\", \"3\", \"4\", \"5\", \"6\", \"7\", \"8\", \"9\", \"10\", \"11\", \"12\", \"13\", \"14\", \"15\", \"16\", \"17\", \"18\", \"19\", \"20\", \"21\", \"22\", \"23\", \"24\", \"25\", \"26\", \"27\", \"28\", \"29\", \"30\", \"31\", \"32\", \"33\", \"34\"], \"mode\": \"lines\", \"name\": \"average_precision_score_weighted_max\", \"stepped\": true, \"type\": \"scatter\", \"data\": [0.8183229088104544, 0.8410481501195661, 0.8410481501195661, 0.8410481501195661, 0.8410481501195661, 0.8410481501195661, 0.8410481501195661, 0.8410481501195661, 0.8410481501195661, 0.8410481501195661, 0.8410481501195661, 0.8423811148076819, 0.8423811148076819, 0.8423811148076819, 0.8423811148076819, 0.8423811148076819, 0.8423811148076819, 0.8423811148076819, 0.8423811148076819, 0.8423811148076819, 0.8423811148076819, 0.8462073126544114, 0.8462073126544114, 0.8462073126544114, 0.8528373170800325, 0.8528373170800325, 0.8528373170800325, 0.8528373170800325, 0.8528373170800325, 0.8528373170800325, 0.8528373170800325, 0.8528373170800325, 0.8528373170800325, 0.8536360606180505, 0.8536360606180505]}], \"f1_score_weighted\": [{\"categories\": [\"0\", \"1\", \"2\", \"3\", \"4\", \"5\", \"6\", \"7\", \"8\", \"9\", \"10\", \"11\", \"12\", \"13\", \"14\", \"15\", \"16\", \"17\", \"18\", \"19\", \"20\", \"21\", \"22\", \"23\", \"24\", \"25\", \"26\", \"27\", \"28\", \"29\", \"30\", \"31\", \"32\", \"33\", \"34\"], \"mode\": \"markers\", \"name\": \"f1_score_weighted\", \"stepped\": false, \"type\": \"scatter\", \"data\": [0.7417695202219394, 0.7642691151373454, 0.7449740337334404, 0.7358888942044496, 0.763931388229172, 0.7210865527838387, 0.7084351228263952, 0.6983345257108604, 0.57560877087662, 0.5793422466598257, 0.7615079954036817, 0.757481153933668, 0.7370877868734704, 0.7581895994889724, 0.7263033197713257, 0.7088825852467542, 0.7636281956902014, 0.7621987096684271, 0.6776512177835418, 0.7620749795934738, 0.7195298248144966, 0.7482198708514212, 0.6958258261542436, 0.7607297952291082, 0.7499000545209535, 0.6179486461779201, 0.7327596276437351, 0.6638028669283776, 0.6509913242684975, 0.7642631289058498, 0.6282690492162035, 0.6872105493259629, 0.7625386340526964, 0.7747540509406159, 0.7605737498288697]}, {\"categories\": [\"0\", \"1\", \"2\", \"3\", \"4\", \"5\", \"6\", \"7\", \"8\", \"9\", \"10\", \"11\", \"12\", \"13\", \"14\", \"15\", \"16\", \"17\", \"18\", \"19\", \"20\", \"21\", \"22\", \"23\", \"24\", \"25\", \"26\", \"27\", \"28\", \"29\", \"30\", \"31\", \"32\", \"33\", \"34\"], \"mode\": \"lines\", \"name\": \"f1_score_weighted_max\", \"stepped\": true, \"type\": \"scatter\", \"data\": [0.7417695202219394, 0.7642691151373454, 0.7642691151373454, 0.7642691151373454, 0.7642691151373454, 0.7642691151373454, 0.7642691151373454, 0.7642691151373454, 0.7642691151373454, 0.7642691151373454, 0.7642691151373454, 0.7642691151373454, 0.7642691151373454, 0.7642691151373454, 0.7642691151373454, 0.7642691151373454, 0.7642691151373454, 0.7642691151373454, 0.7642691151373454, 0.7642691151373454, 0.7642691151373454, 0.7642691151373454, 0.7642691151373454, 0.7642691151373454, 0.7642691151373454, 0.7642691151373454, 0.7642691151373454, 0.7642691151373454, 0.7642691151373454, 0.7642691151373454, 0.7642691151373454, 0.7642691151373454, 0.7642691151373454, 0.7747540509406159, 0.7747540509406159]}], \"recall_score_macro\": [{\"categories\": [\"0\", \"1\", \"2\", \"3\", \"4\", \"5\", \"6\", \"7\", \"8\", \"9\", \"10\", \"11\", \"12\", \"13\", \"14\", \"15\", \"16\", \"17\", \"18\", \"19\", \"20\", \"21\", \"22\", \"23\", \"24\", \"25\", \"26\", \"27\", \"28\", \"29\", \"30\", \"31\", \"32\", \"33\", \"34\"], \"mode\": \"markers\", \"name\": \"recall_score_macro\", \"stepped\": false, \"type\": \"scatter\", \"data\": [0.7104731774264245, 0.7333555620308326, 0.6955410662322992, 0.6817571251558586, 0.7540448852131855, 0.7198292031686282, 0.6659595592025392, 0.6515131463515089, 0.5438204909451553, 0.5427431103043846, 0.7201067844518547, 0.7125321921068084, 0.684255848486214, 0.7131587060949854, 0.669449533468897, 0.6510264843251516, 0.721305639058395, 0.7196107238041578, 0.6312449043073906, 0.7186740601110266, 0.6601950272781376, 0.7009405320278563, 0.6517240347072819, 0.723466451533195, 0.6976942149874379, 0.62131979865285, 0.6799265591687126, 0.6091763152472263, 0.6001449300893892, 0.7304869838094752, 0.5710995318223664, 0.6433068637277877, 0.7268703560570204, 0.730116782047315, 0.7140772210246531]}, {\"categories\": [\"0\", \"1\", \"2\", \"3\", \"4\", \"5\", \"6\", \"7\", \"8\", \"9\", \"10\", \"11\", \"12\", \"13\", \"14\", \"15\", \"16\", \"17\", \"18\", \"19\", \"20\", \"21\", \"22\", \"23\", \"24\", \"25\", \"26\", \"27\", \"28\", \"29\", \"30\", \"31\", \"32\", \"33\", \"34\"], \"mode\": \"lines\", \"name\": \"recall_score_macro_max\", \"stepped\": true, \"type\": \"scatter\", \"data\": [0.7104731774264245, 0.7333555620308326, 0.7333555620308326, 0.7333555620308326, 0.7540448852131855, 0.7540448852131855, 0.7540448852131855, 0.7540448852131855, 0.7540448852131855, 0.7540448852131855, 0.7540448852131855, 0.7540448852131855, 0.7540448852131855, 0.7540448852131855, 0.7540448852131855, 0.7540448852131855, 0.7540448852131855, 0.7540448852131855, 0.7540448852131855, 0.7540448852131855, 0.7540448852131855, 0.7540448852131855, 0.7540448852131855, 0.7540448852131855, 0.7540448852131855, 0.7540448852131855, 0.7540448852131855, 0.7540448852131855, 0.7540448852131855, 0.7540448852131855, 0.7540448852131855, 0.7540448852131855, 0.7540448852131855, 0.7540448852131855, 0.7540448852131855]}], \"recall_score_weighted\": [{\"categories\": [\"0\", \"1\", \"2\", \"3\", \"4\", \"5\", \"6\", \"7\", \"8\", \"9\", \"10\", \"11\", \"12\", \"13\", \"14\", \"15\", \"16\", \"17\", \"18\", \"19\", \"20\", \"21\", \"22\", \"23\", \"24\", \"25\", \"26\", \"27\", \"28\", \"29\", \"30\", \"31\", \"32\", \"33\", \"34\"], \"mode\": \"markers\", \"name\": \"recall_score_weighted\", \"stepped\": false, \"type\": \"scatter\", \"data\": [0.7435277141159494, 0.7656395891690009, 0.7578643578643578, 0.7526101349630762, 0.7604532722179781, 0.7149223325693914, 0.718860877684407, 0.7110262286732875, 0.6484678719972838, 0.6759103641456582, 0.7682794329853152, 0.7682879212290977, 0.7539597657244717, 0.7682624564977505, 0.7474068415244887, 0.7409472880061115, 0.7708938120702825, 0.7695951107715814, 0.691545709192768, 0.7695866225277989, 0.75007215007215, 0.7578219166454461, 0.7071386130209659, 0.765665053900348, 0.7669807316866141, 0.6094389270859859, 0.7500381970970207, 0.692835922247687, 0.6915032679738562, 0.7682200152788388, 0.6667430608607079, 0.6979882862235802, 0.7656395891690009, 0.782573635514812, 0.7708853238265002]}, {\"categories\": [\"0\", \"1\", \"2\", \"3\", \"4\", \"5\", \"6\", \"7\", \"8\", \"9\", \"10\", \"11\", \"12\", \"13\", \"14\", \"15\", \"16\", \"17\", \"18\", \"19\", \"20\", \"21\", \"22\", \"23\", \"24\", \"25\", \"26\", \"27\", \"28\", \"29\", \"30\", \"31\", \"32\", \"33\", \"34\"], \"mode\": \"lines\", \"name\": \"recall_score_weighted_max\", \"stepped\": true, \"type\": \"scatter\", \"data\": [0.7435277141159494, 0.7656395891690009, 0.7656395891690009, 0.7656395891690009, 0.7656395891690009, 0.7656395891690009, 0.7656395891690009, 0.7656395891690009, 0.7656395891690009, 0.7656395891690009, 0.7682794329853152, 0.7682879212290977, 0.7682879212290977, 0.7682879212290977, 0.7682879212290977, 0.7682879212290977, 0.7708938120702825, 0.7708938120702825, 0.7708938120702825, 0.7708938120702825, 0.7708938120702825, 0.7708938120702825, 0.7708938120702825, 0.7708938120702825, 0.7708938120702825, 0.7708938120702825, 0.7708938120702825, 0.7708938120702825, 0.7708938120702825, 0.7708938120702825, 0.7708938120702825, 0.7708938120702825, 0.7708938120702825, 0.782573635514812, 0.782573635514812]}], \"average_precision_score_micro\": [{\"categories\": [\"0\", \"1\", \"2\", \"3\", \"4\", \"5\", \"6\", \"7\", \"8\", \"9\", \"10\", \"11\", \"12\", \"13\", \"14\", \"15\", \"16\", \"17\", \"18\", \"19\", \"20\", \"21\", \"22\", \"23\", \"24\", \"25\", \"26\", \"27\", \"28\", \"29\", \"30\", \"31\", \"32\", \"33\", \"34\"], \"mode\": \"markers\", \"name\": \"average_precision_score_micro\", \"stepped\": false, \"type\": \"scatter\", \"data\": [0.8327853787564277, 0.8532463783590838, 0.8414217902307195, 0.8336012639040593, 0.8405528949663758, 0.8103973238077626, 0.8035091285138671, 0.7841739193583097, 0.727791529370266, 0.8140489342337245, 0.8464056370608027, 0.8520025357408716, 0.842228998751196, 0.8307349429844131, 0.8442146391925178, 0.8321332464815644, 0.8400819473803119, 0.8398465440634866, 0.7860600179819284, 0.8401522232231379, 0.8358454644567382, 0.8560741297328883, 0.7860005608135402, 0.85772915317557, 0.8554893055903768, 0.6338872581813975, 0.8439008124909231, 0.7574643824586298, 0.7578121579023172, 0.8331736216149415, 0.6771348180036397, 0.792682366788917, 0.8513402169405708, 0.863592338965025, 0.8590538099088043]}, {\"categories\": [\"0\", \"1\", \"2\", \"3\", \"4\", \"5\", \"6\", \"7\", \"8\", \"9\", \"10\", \"11\", \"12\", \"13\", \"14\", \"15\", \"16\", \"17\", \"18\", \"19\", \"20\", \"21\", \"22\", \"23\", \"24\", \"25\", \"26\", \"27\", \"28\", \"29\", \"30\", \"31\", \"32\", \"33\", \"34\"], \"mode\": \"lines\", \"name\": \"average_precision_score_micro_max\", \"stepped\": true, \"type\": \"scatter\", \"data\": [0.8327853787564277, 0.8532463783590838, 0.8532463783590838, 0.8532463783590838, 0.8532463783590838, 0.8532463783590838, 0.8532463783590838, 0.8532463783590838, 0.8532463783590838, 0.8532463783590838, 0.8532463783590838, 0.8532463783590838, 0.8532463783590838, 0.8532463783590838, 0.8532463783590838, 0.8532463783590838, 0.8532463783590838, 0.8532463783590838, 0.8532463783590838, 0.8532463783590838, 0.8532463783590838, 0.8560741297328883, 0.8560741297328883, 0.85772915317557, 0.85772915317557, 0.85772915317557, 0.85772915317557, 0.85772915317557, 0.85772915317557, 0.85772915317557, 0.85772915317557, 0.85772915317557, 0.85772915317557, 0.863592338965025, 0.863592338965025]}], \"log_loss\": [{\"categories\": [\"0\", \"1\", \"2\", \"3\", \"4\", \"5\", \"6\", \"7\", \"8\", \"9\", \"10\", \"11\", \"12\", \"13\", \"14\", \"15\", \"16\", \"17\", \"18\", \"19\", \"20\", \"21\", \"22\", \"23\", \"24\", \"25\", \"26\", \"27\", \"28\", \"29\", \"30\", \"31\", \"32\", \"33\", \"34\"], \"mode\": \"markers\", \"name\": \"log_loss\", \"stepped\": false, \"type\": \"scatter\", \"data\": [0.62702930996628, 0.48040462908306597, 0.49935024750248774, 0.5223486399835446, 0.5081694141326618, 0.5616957405922207, 0.5429842329358994, 0.554407651698379, 0.6129305394703799, 0.564700372795411, 0.4854531059155473, 0.491964820749596, 0.5096230956647192, 0.502220295660232, 0.5170969785506008, 0.5283368081352527, 0.4892808538850003, 0.48945476155719786, 0.5579425904111488, 0.48924287881655404, 0.5278831785248206, 0.4794552256855824, 0.5605042624120006, 0.47174943408989894, 0.5002299984957259, 0.6685490982516955, 0.5180645946336637, 0.604583936477696, 0.5801490080616496, 0.5365308306030611, 0.6324163246971459, 0.5998971035652716, 0.4781708044664431, 0.4789298295055306, 0.48432749410898773]}, {\"categories\": [\"0\", \"1\", \"2\", \"3\", \"4\", \"5\", \"6\", \"7\", \"8\", \"9\", \"10\", \"11\", \"12\", \"13\", \"14\", \"15\", \"16\", \"17\", \"18\", \"19\", \"20\", \"21\", \"22\", \"23\", \"24\", \"25\", \"26\", \"27\", \"28\", \"29\", \"30\", \"31\", \"32\", \"33\", \"34\"], \"mode\": \"lines\", \"name\": \"log_loss_min\", \"stepped\": true, \"type\": \"scatter\", \"data\": [0.62702930996628, 0.48040462908306597, 0.48040462908306597, 0.48040462908306597, 0.48040462908306597, 0.48040462908306597, 0.48040462908306597, 0.48040462908306597, 0.48040462908306597, 0.48040462908306597, 0.48040462908306597, 0.48040462908306597, 0.48040462908306597, 0.48040462908306597, 0.48040462908306597, 0.48040462908306597, 0.48040462908306597, 0.48040462908306597, 0.48040462908306597, 0.48040462908306597, 0.48040462908306597, 0.4794552256855824, 0.4794552256855824, 0.47174943408989894, 0.47174943408989894, 0.47174943408989894, 0.47174943408989894, 0.47174943408989894, 0.47174943408989894, 0.47174943408989894, 0.47174943408989894, 0.47174943408989894, 0.47174943408989894, 0.47174943408989894, 0.47174943408989894]}], \"matthews_correlation\": [{\"categories\": [\"0\", \"1\", \"2\", \"3\", \"4\", \"5\", \"6\", \"7\", \"8\", \"9\", \"10\", \"11\", \"12\", \"13\", \"14\", \"15\", \"16\", \"17\", \"18\", \"19\", \"20\", \"21\", \"22\", \"23\", \"24\", \"25\", \"26\", \"27\", \"28\", \"29\", \"30\", \"31\", \"32\", \"33\", \"34\"], \"mode\": \"markers\", \"name\": \"matthews_correlation\", \"stepped\": false, \"type\": \"scatter\", \"data\": [0.4246377532584085, 0.4736437134256053, 0.43401114857968387, 0.4186672289403076, 0.49239775785142986, 0.4184813145508152, 0.3536736003429463, 0.3296689207197475, 0.10804772018981312, 0.20080656843348837, 0.46555487519633304, 0.46559173256930764, 0.4235450973958789, 0.4663102387993311, 0.3992591464532271, 0.3895168417318529, 0.47502303298834575, 0.47192982922103344, 0.2874775870451614, 0.47039429734664695, 0.4089075950784963, 0.4337375418157202, 0.3268611558441015, 0.46611598436999435, 0.4590375863766697, 0.2318315951443793, 0.41263984061332887, 0.263490272489271, 0.2621091964078921, 0.47414245008875094, 0.18658179183000112, 0.3067452736625627, 0.4668235250529764, 0.4955253169652978, 0.46989846010188385]}, {\"categories\": [\"0\", \"1\", \"2\", \"3\", \"4\", \"5\", \"6\", \"7\", \"8\", \"9\", \"10\", \"11\", \"12\", \"13\", \"14\", \"15\", \"16\", \"17\", \"18\", \"19\", \"20\", \"21\", \"22\", \"23\", \"24\", \"25\", \"26\", \"27\", \"28\", \"29\", \"30\", \"31\", \"32\", \"33\", \"34\"], \"mode\": \"lines\", \"name\": \"matthews_correlation_max\", \"stepped\": true, \"type\": \"scatter\", \"data\": [0.4246377532584085, 0.4736437134256053, 0.4736437134256053, 0.4736437134256053, 0.49239775785142986, 0.49239775785142986, 0.49239775785142986, 0.49239775785142986, 0.49239775785142986, 0.49239775785142986, 0.49239775785142986, 0.49239775785142986, 0.49239775785142986, 0.49239775785142986, 0.49239775785142986, 0.49239775785142986, 0.49239775785142986, 0.49239775785142986, 0.49239775785142986, 0.49239775785142986, 0.49239775785142986, 0.49239775785142986, 0.49239775785142986, 0.49239775785142986, 0.49239775785142986, 0.49239775785142986, 0.49239775785142986, 0.49239775785142986, 0.49239775785142986, 0.49239775785142986, 0.49239775785142986, 0.49239775785142986, 0.49239775785142986, 0.4955253169652978, 0.4955253169652978]}], \"precision_score_weighted\": [{\"categories\": [\"0\", \"1\", \"2\", \"3\", \"4\", \"5\", \"6\", \"7\", \"8\", \"9\", \"10\", \"11\", \"12\", \"13\", \"14\", \"15\", \"16\", \"17\", \"18\", \"19\", \"20\", \"21\", \"22\", \"23\", \"24\", \"25\", \"26\", \"27\", \"28\", \"29\", \"30\", \"31\", \"32\", \"33\", \"34\"], \"mode\": \"markers\", \"name\": \"precision_score_weighted\", \"stepped\": false, \"type\": \"scatter\", \"data\": [0.7422913189086859, 0.7669645066030578, 0.7538711633985076, 0.753124177844599, 0.7755343463216664, 0.7424868991823408, 0.7115161895977773, 0.7024304162613891, 0.5918911276357762, 0.7194893271501999, 0.7632068152761197, 0.7663119127201611, 0.7531067384667158, 0.7686820578442385, 0.7462394955403763, 0.7536152165050535, 0.7708715069321304, 0.7694490048436466, 0.6826558866509245, 0.7691748229411528, 0.7583509472488628, 0.7528427833488567, 0.6999457369906905, 0.7636651526532595, 0.769151168377264, 0.6612895538748267, 0.7470557546722093, 0.6806424862830646, 0.6872927678783587, 0.7674019579584307, 0.649778663281906, 0.6904166900568767, 0.7643790353353014, 0.7804283241834818, 0.7711312765474607]}, {\"categories\": [\"0\", \"1\", \"2\", \"3\", \"4\", \"5\", \"6\", \"7\", \"8\", \"9\", \"10\", \"11\", \"12\", \"13\", \"14\", \"15\", \"16\", \"17\", \"18\", \"19\", \"20\", \"21\", \"22\", \"23\", \"24\", \"25\", \"26\", \"27\", \"28\", \"29\", \"30\", \"31\", \"32\", \"33\", \"34\"], \"mode\": \"lines\", \"name\": \"precision_score_weighted_max\", \"stepped\": true, \"type\": \"scatter\", \"data\": [0.7422913189086859, 0.7669645066030578, 0.7669645066030578, 0.7669645066030578, 0.7755343463216664, 0.7755343463216664, 0.7755343463216664, 0.7755343463216664, 0.7755343463216664, 0.7755343463216664, 0.7755343463216664, 0.7755343463216664, 0.7755343463216664, 0.7755343463216664, 0.7755343463216664, 0.7755343463216664, 0.7755343463216664, 0.7755343463216664, 0.7755343463216664, 0.7755343463216664, 0.7755343463216664, 0.7755343463216664, 0.7755343463216664, 0.7755343463216664, 0.7755343463216664, 0.7755343463216664, 0.7755343463216664, 0.7755343463216664, 0.7755343463216664, 0.7755343463216664, 0.7755343463216664, 0.7755343463216664, 0.7755343463216664, 0.7804283241834818, 0.7804283241834818]}]}, \"metricName\": null, \"primaryMetricName\": \"accuracy\", \"showLegend\": false}, \"run_metrics\": [{\"name\": \"experiment_status\", \"run_id\": \"AutoML_695b34cd-c5ff-41eb-a951-ada26ec0b959\", \"categories\": [0, 1, 2, 3, 4, 5, 6, 7, 8, 9, 10, 11, 12, 13], \"series\": [{\"data\": [\"DatasetEvaluation\", \"FeaturesGeneration\", \"DatasetFeaturization\", \"DatasetFeaturizationCompleted\", \"DatasetCrossValidationSplit\", \"ModelSelection\", \"BestRunExplainModel\", \"ModelExplanationDataSetSetup\", \"PickSurrogateModel\", \"EngineeredFeatureExplanations\", \"EngineeredFeatureExplanations\", \"RawFeaturesExplanations\", \"RawFeaturesExplanations\", \"BestRunExplainModel\"]}]}, {\"name\": \"experiment_status_description\", \"run_id\": \"AutoML_695b34cd-c5ff-41eb-a951-ada26ec0b959\", \"categories\": [0, 1, 2, 3, 4, 5, 6, 7, 8, 9, 10, 11, 12, 13], \"series\": [{\"data\": [\"Gathering dataset statistics.\", \"Generating features for the dataset.\", \"Beginning to fit featurizers and featurize the dataset.\", \"Completed fit featurizers and featurizing the dataset.\", \"Generating individually featurized CV splits.\", \"Beginning model selection.\", \"Best run model explanations started\", \"Model explanations data setup completed\", \"Choosing LightGBM as the surrogate model for explanations\", \"Computation of engineered features started\", \"Computation of engineered features completed\", \"Computation of raw features started\", \"Computation of raw features completed\", \"Best run model explanations completed\"]}]}, {\"name\": \"f1_score_micro\", \"run_id\": \"AutoML_695b34cd-c5ff-41eb-a951-ada26ec0b959\", \"categories\": [0], \"series\": [{\"data\": [0.782573635514812]}]}, {\"name\": \"f1_score_macro\", \"run_id\": \"AutoML_695b34cd-c5ff-41eb-a951-ada26ec0b959\", \"categories\": [0], \"series\": [{\"data\": [0.7404612425955887]}]}, {\"name\": \"average_precision_score_micro\", \"run_id\": \"AutoML_695b34cd-c5ff-41eb-a951-ada26ec0b959\", \"categories\": [0], \"series\": [{\"data\": [0.863592338965025]}]}, {\"name\": \"AUC_weighted\", \"run_id\": \"AutoML_695b34cd-c5ff-41eb-a951-ada26ec0b959\", \"categories\": [0], \"series\": [{\"data\": [0.8434150439963579]}]}, {\"name\": \"AUC_macro\", \"run_id\": \"AutoML_695b34cd-c5ff-41eb-a951-ada26ec0b959\", \"categories\": [0], \"series\": [{\"data\": [0.8434150439963579]}]}, {\"name\": \"f1_score_weighted\", \"run_id\": \"AutoML_695b34cd-c5ff-41eb-a951-ada26ec0b959\", \"categories\": [0], \"series\": [{\"data\": [0.7747540509406159]}]}, {\"name\": \"balanced_accuracy\", \"run_id\": \"AutoML_695b34cd-c5ff-41eb-a951-ada26ec0b959\", \"categories\": [0], \"series\": [{\"data\": [0.730116782047315]}]}, {\"name\": \"weighted_accuracy\", \"run_id\": \"AutoML_695b34cd-c5ff-41eb-a951-ada26ec0b959\", \"categories\": [0], \"series\": [{\"data\": [0.8227757930535512]}]}, {\"name\": \"recall_score_weighted\", \"run_id\": \"AutoML_695b34cd-c5ff-41eb-a951-ada26ec0b959\", \"categories\": [0], \"series\": [{\"data\": [0.782573635514812]}]}, {\"name\": \"average_precision_score_weighted\", \"run_id\": \"AutoML_695b34cd-c5ff-41eb-a951-ada26ec0b959\", \"categories\": [0], \"series\": [{\"data\": [0.8536360606180505]}]}, {\"name\": \"AUC_micro\", \"run_id\": \"AutoML_695b34cd-c5ff-41eb-a951-ada26ec0b959\", \"categories\": [0], \"series\": [{\"data\": [0.861418513641435]}]}, {\"name\": \"log_loss\", \"run_id\": \"AutoML_695b34cd-c5ff-41eb-a951-ada26ec0b959\", \"categories\": [0], \"series\": [{\"data\": [0.4789298295055306]}]}, {\"name\": \"precision_score_micro\", \"run_id\": \"AutoML_695b34cd-c5ff-41eb-a951-ada26ec0b959\", \"categories\": [0], \"series\": [{\"data\": [0.782573635514812]}]}, {\"name\": \"precision_score_macro\", \"run_id\": \"AutoML_695b34cd-c5ff-41eb-a951-ada26ec0b959\", \"categories\": [0], \"series\": [{\"data\": [0.7669071568859951]}]}, {\"name\": \"matthews_correlation\", \"run_id\": \"AutoML_695b34cd-c5ff-41eb-a951-ada26ec0b959\", \"categories\": [0], \"series\": [{\"data\": [0.4955253169652978]}]}, {\"name\": \"norm_macro_recall\", \"run_id\": \"AutoML_695b34cd-c5ff-41eb-a951-ada26ec0b959\", \"categories\": [0], \"series\": [{\"data\": [0.4602335640946299]}]}, {\"name\": \"precision_score_weighted\", \"run_id\": \"AutoML_695b34cd-c5ff-41eb-a951-ada26ec0b959\", \"categories\": [0], \"series\": [{\"data\": [0.7804283241834818]}]}, {\"name\": \"accuracy\", \"run_id\": \"AutoML_695b34cd-c5ff-41eb-a951-ada26ec0b959\", \"categories\": [0], \"series\": [{\"data\": [0.782573635514812]}]}, {\"name\": \"recall_score_macro\", \"run_id\": \"AutoML_695b34cd-c5ff-41eb-a951-ada26ec0b959\", \"categories\": [0], \"series\": [{\"data\": [0.730116782047315]}]}, {\"name\": \"average_precision_score_macro\", \"run_id\": \"AutoML_695b34cd-c5ff-41eb-a951-ada26ec0b959\", \"categories\": [0], \"series\": [{\"data\": [0.8244980736844827]}]}, {\"name\": \"recall_score_micro\", \"run_id\": \"AutoML_695b34cd-c5ff-41eb-a951-ada26ec0b959\", \"categories\": [0], \"series\": [{\"data\": [0.782573635514812]}]}], \"run_logs\": \"\\nRun is completed.\", \"graph\": {}, \"widget_settings\": {\"childWidgetDisplay\": \"popup\", \"send_telemetry\": false, \"log_level\": \"INFO\", \"sdk_version\": \"1.20.0\"}, \"loading\": false}"
     },
     "metadata": {},
     "output_type": "display_data"
    }
   ],
   "source": [
    "RunDetails(remote_run).show()"
   ]
  },
  {
   "cell_type": "code",
   "execution_count": 16,
   "metadata": {},
   "outputs": [
    {
     "name": "stdout",
     "output_type": "stream",
     "text": [
      "\n",
      "\n",
      "****************************************************************************************************\n",
      "DATA GUARDRAILS: \n",
      "\n",
      "TYPE:         Class balancing detection\n",
      "STATUS:       PASSED\n",
      "DESCRIPTION:  Your inputs were analyzed, and all classes are balanced in your training data.\n",
      "              Learn more about imbalanced data: https://aka.ms/AutomatedMLImbalancedData\n",
      "\n",
      "****************************************************************************************************\n",
      "\n",
      "TYPE:         Missing feature values imputation\n",
      "STATUS:       PASSED\n",
      "DESCRIPTION:  No feature missing values were detected in the training data.\n",
      "              Learn more about missing value imputation: https://aka.ms/AutomatedMLFeaturization\n",
      "\n",
      "****************************************************************************************************\n",
      "\n",
      "TYPE:         High cardinality feature detection\n",
      "STATUS:       PASSED\n",
      "DESCRIPTION:  Your inputs were analyzed, and no high cardinality features were detected.\n",
      "              Learn more about high cardinality feature handling: https://aka.ms/AutomatedMLFeaturization\n",
      "\n",
      "****************************************************************************************************\n",
      "\n",
      "****************************************************************************************************\n",
      "ITERATION: The iteration being evaluated.\n",
      "PIPELINE: A summary description of the pipeline being evaluated.\n",
      "DURATION: Time taken for the current iteration.\n",
      "METRIC: The result of computing score on the fitted pipeline.\n",
      "BEST: The best observed score thus far.\n",
      "****************************************************************************************************\n",
      "\n",
      " ITERATION   PIPELINE                                       DURATION      METRIC      BEST\n",
      "         0   MaxAbsScaler LightGBM                          0:01:03       0.7435    0.7435\n",
      "         1   MaxAbsScaler XGBoostClassifier                 0:00:52       0.7656    0.7656\n",
      "         2   MaxAbsScaler RandomForest                      0:00:53       0.7579    0.7656\n",
      "         3   MaxAbsScaler RandomForest                      0:00:54       0.7526    0.7656\n",
      "         4   MaxAbsScaler RandomForest                      0:02:01       0.7605    0.7656\n",
      "         5   MaxAbsScaler RandomForest                      0:02:11       0.7149    0.7656\n",
      "         6   SparseNormalizer XGBoostClassifier             0:02:08       0.7189    0.7656\n",
      "         7   SparseNormalizer XGBoostClassifier             0:01:06       0.7110    0.7656\n",
      "        10   MaxAbsScaler RandomForest                      0:00:47       0.7683    0.7683\n",
      "        11   StandardScalerWrapper RandomForest             0:00:51       0.7683    0.7683\n",
      "         8   SparseNormalizer XGBoostClassifier             0:00:47       0.6485    0.7683\n",
      "         9   MaxAbsScaler RandomForest                      0:00:53       0.6759    0.7683\n",
      "        12   MaxAbsScaler LightGBM                          0:00:53       0.7540    0.7683\n",
      "        13   MaxAbsScaler LogisticRegression                0:00:48       0.7683    0.7683\n",
      "        14   MaxAbsScaler LightGBM                          0:00:44       0.7474    0.7683\n",
      "        15   MaxAbsScaler LightGBM                          0:00:46       0.7409    0.7683\n",
      "        16   MaxAbsScaler LogisticRegression                0:00:51       0.7709    0.7709\n",
      "        17   MaxAbsScaler LogisticRegression                0:00:51       0.7696    0.7709\n",
      "        18   SparseNormalizer XGBoostClassifier             0:00:51       0.6915    0.7709\n",
      "        19   MaxAbsScaler LogisticRegression                0:00:48       0.7696    0.7709\n",
      "        20   StandardScalerWrapper RandomForest             0:00:47       0.7501    0.7709\n",
      "        21   StandardScalerWrapper LightGBM                 0:00:58       0.7578    0.7709\n",
      "        22   SparseNormalizer XGBoostClassifier             0:01:00       0.7071    0.7709\n",
      "        23   MaxAbsScaler LightGBM                          0:01:13       0.7657    0.7709\n",
      "        24   MaxAbsScaler LightGBM                          0:02:47       0.7670    0.7709\n",
      "        25   TruncatedSVDWrapper LogisticRegression         0:00:43       0.6094    0.7709\n",
      "        26   MaxAbsScaler LightGBM                          0:00:54       0.7500    0.7709\n",
      "        27   SparseNormalizer XGBoostClassifier             0:00:55       0.6928    0.7709\n",
      "        28   SparseNormalizer LightGBM                      0:00:46       0.6915    0.7709\n",
      "        29   StandardScalerWrapper XGBoostClassifier        0:00:51       0.7682    0.7709\n",
      "        30   StandardScalerWrapper LogisticRegression       0:00:53       0.6667    0.7709\n",
      "        31   SparseNormalizer XGBoostClassifier             0:00:45       0.6980    0.7709\n",
      "        32   MaxAbsScaler LightGBM                          0:00:49       0.7656    0.7709\n",
      "        33    VotingEnsemble                                0:01:19       0.7826    0.7826\n",
      "        34    StackEnsemble                                 0:01:25       0.7709    0.7826\n"
     ]
    },
    {
     "data": {
      "text/plain": [
       "{'runId': 'AutoML_695b34cd-c5ff-41eb-a951-ada26ec0b959',\n",
       " 'target': 'project-cluster',\n",
       " 'status': 'Completed',\n",
       " 'startTimeUtc': '2021-01-30T18:55:53.989746Z',\n",
       " 'endTimeUtc': '2021-01-30T19:18:08.967003Z',\n",
       " 'properties': {'num_iterations': '35',\n",
       "  'training_type': 'TrainFull',\n",
       "  'acquisition_function': 'EI',\n",
       "  'primary_metric': 'accuracy',\n",
       "  'train_split': '0',\n",
       "  'acquisition_parameter': '0',\n",
       "  'num_cross_validation': '5',\n",
       "  'target': 'project-cluster',\n",
       "  'AMLSettingsJsonString': '{\"path\":null,\"name\":\"automl-exp\",\"subscription_id\":\"6971f5ac-8af1-446e-8034-05acea24681f\",\"resource_group\":\"aml-quickstarts-136635\",\"workspace_name\":\"quick-starts-ws-136635\",\"region\":\"southcentralus\",\"compute_target\":\"project-cluster\",\"spark_service\":null,\"azure_service\":\"remote\",\"many_models\":false,\"pipeline_fetch_max_batch_size\":1,\"iterations\":35,\"primary_metric\":\"accuracy\",\"task_type\":\"classification\",\"data_script\":null,\"validation_size\":0.0,\"n_cross_validations\":5,\"y_min\":null,\"y_max\":null,\"num_classes\":null,\"featurization\":\"auto\",\"_ignore_package_version_incompatibilities\":false,\"is_timeseries\":false,\"max_cores_per_iteration\":1,\"max_concurrent_iterations\":4,\"iteration_timeout_minutes\":null,\"mem_in_mb\":null,\"enforce_time_on_windows\":false,\"experiment_timeout_minutes\":40,\"experiment_exit_score\":null,\"whitelist_models\":null,\"blacklist_algos\":[\"TensorFlowLinearClassifier\",\"TensorFlowDNN\"],\"supported_models\":[\"LinearSVM\",\"DecisionTree\",\"SGD\",\"LogisticRegression\",\"ExtremeRandomTrees\",\"XGBoostClassifier\",\"TensorFlowDNN\",\"GradientBoosting\",\"SVM\",\"RandomForest\",\"MultinomialNaiveBayes\",\"KNN\",\"LightGBM\",\"BernoulliNaiveBayes\",\"AveragedPerceptronClassifier\",\"TensorFlowLinearClassifier\"],\"auto_blacklist\":true,\"blacklist_samples_reached\":false,\"exclude_nan_labels\":true,\"verbosity\":20,\"_debug_log\":\"azureml_automl.log\",\"show_warnings\":false,\"model_explainability\":true,\"service_url\":null,\"sdk_url\":null,\"sdk_packages\":null,\"enable_onnx_compatible_models\":false,\"enable_split_onnx_featurizer_estimator_models\":false,\"vm_type\":\"STANDARD_DS12_V2\",\"telemetry_verbosity\":20,\"send_telemetry\":true,\"enable_dnn\":false,\"scenario\":\"SDK-1.13.0\",\"environment_label\":null,\"force_text_dnn\":false,\"enable_feature_sweeping\":true,\"enable_early_stopping\":true,\"early_stopping_n_iters\":10,\"metrics\":null,\"enable_ensembling\":true,\"enable_stack_ensembling\":true,\"ensemble_iterations\":15,\"enable_tf\":false,\"enable_subsampling\":false,\"subsample_seed\":null,\"enable_nimbusml\":false,\"enable_streaming\":false,\"force_streaming\":false,\"track_child_runs\":true,\"allowed_private_models\":[],\"label_column_name\":\"Outcome\",\"weight_column_name\":null,\"cv_split_column_names\":null,\"enable_local_managed\":false,\"_local_managed_run_id\":null,\"cost_mode\":1,\"lag_length\":0,\"metric_operation\":\"maximize\",\"preprocess\":true}',\n",
       "  'DataPrepJsonString': '{\\\\\"training_data\\\\\": \\\\\"{\\\\\\\\\\\\\"blocks\\\\\\\\\\\\\": [{\\\\\\\\\\\\\"id\\\\\\\\\\\\\": \\\\\\\\\\\\\"94ebd732-58a5-4651-8463-986e0c12eb38\\\\\\\\\\\\\", \\\\\\\\\\\\\"type\\\\\\\\\\\\\": \\\\\\\\\\\\\"Microsoft.DPrep.GetDatastoreFilesBlock\\\\\\\\\\\\\", \\\\\\\\\\\\\"arguments\\\\\\\\\\\\\": {\\\\\\\\\\\\\"datastores\\\\\\\\\\\\\": [{\\\\\\\\\\\\\"datastoreName\\\\\\\\\\\\\": \\\\\\\\\\\\\"workspaceblobstore\\\\\\\\\\\\\", \\\\\\\\\\\\\"path\\\\\\\\\\\\\": \\\\\\\\\\\\\"UI/01-30-2021_063708_UTC/diabetes.csv\\\\\\\\\\\\\", \\\\\\\\\\\\\"resourceGroup\\\\\\\\\\\\\": \\\\\\\\\\\\\"aml-quickstarts-136635\\\\\\\\\\\\\", \\\\\\\\\\\\\"subscription\\\\\\\\\\\\\": \\\\\\\\\\\\\"6971f5ac-8af1-446e-8034-05acea24681f\\\\\\\\\\\\\", \\\\\\\\\\\\\"workspaceName\\\\\\\\\\\\\": \\\\\\\\\\\\\"quick-starts-ws-136635\\\\\\\\\\\\\"}]}, \\\\\\\\\\\\\"localData\\\\\\\\\\\\\": {}, \\\\\\\\\\\\\"isEnabled\\\\\\\\\\\\\": true, \\\\\\\\\\\\\"name\\\\\\\\\\\\\": null, \\\\\\\\\\\\\"annotation\\\\\\\\\\\\\": null}, {\\\\\\\\\\\\\"id\\\\\\\\\\\\\": \\\\\\\\\\\\\"fe3bcdcc-0c14-4ac2-b62e-228a7c675e65\\\\\\\\\\\\\", \\\\\\\\\\\\\"type\\\\\\\\\\\\\": \\\\\\\\\\\\\"Microsoft.DPrep.ParseDelimitedBlock\\\\\\\\\\\\\", \\\\\\\\\\\\\"arguments\\\\\\\\\\\\\": {\\\\\\\\\\\\\"columnHeadersMode\\\\\\\\\\\\\": 3, \\\\\\\\\\\\\"fileEncoding\\\\\\\\\\\\\": 0, \\\\\\\\\\\\\"handleQuotedLineBreaks\\\\\\\\\\\\\": false, \\\\\\\\\\\\\"preview\\\\\\\\\\\\\": false, \\\\\\\\\\\\\"separator\\\\\\\\\\\\\": \\\\\\\\\\\\\",\\\\\\\\\\\\\", \\\\\\\\\\\\\"skipRows\\\\\\\\\\\\\": 0, \\\\\\\\\\\\\"skipRowsMode\\\\\\\\\\\\\": 0}, \\\\\\\\\\\\\"localData\\\\\\\\\\\\\": {}, \\\\\\\\\\\\\"isEnabled\\\\\\\\\\\\\": true, \\\\\\\\\\\\\"name\\\\\\\\\\\\\": null, \\\\\\\\\\\\\"annotation\\\\\\\\\\\\\": null}, {\\\\\\\\\\\\\"id\\\\\\\\\\\\\": \\\\\\\\\\\\\"de648d9b-a69d-4467-a4e8-25ab21d324fe\\\\\\\\\\\\\", \\\\\\\\\\\\\"type\\\\\\\\\\\\\": \\\\\\\\\\\\\"Microsoft.DPrep.DropColumnsBlock\\\\\\\\\\\\\", \\\\\\\\\\\\\"arguments\\\\\\\\\\\\\": {\\\\\\\\\\\\\"columns\\\\\\\\\\\\\": {\\\\\\\\\\\\\"type\\\\\\\\\\\\\": 0, \\\\\\\\\\\\\"details\\\\\\\\\\\\\": {\\\\\\\\\\\\\"selectedColumns\\\\\\\\\\\\\": [\\\\\\\\\\\\\"Path\\\\\\\\\\\\\"]}}}, \\\\\\\\\\\\\"localData\\\\\\\\\\\\\": {}, \\\\\\\\\\\\\"isEnabled\\\\\\\\\\\\\": true, \\\\\\\\\\\\\"name\\\\\\\\\\\\\": null, \\\\\\\\\\\\\"annotation\\\\\\\\\\\\\": null}, {\\\\\\\\\\\\\"id\\\\\\\\\\\\\": \\\\\\\\\\\\\"114395d7-1863-48bc-8113-1e55319578e6\\\\\\\\\\\\\", \\\\\\\\\\\\\"type\\\\\\\\\\\\\": \\\\\\\\\\\\\"Microsoft.DPrep.SetColumnTypesBlock\\\\\\\\\\\\\", \\\\\\\\\\\\\"arguments\\\\\\\\\\\\\": {\\\\\\\\\\\\\"columnConversion\\\\\\\\\\\\\": [{\\\\\\\\\\\\\"column\\\\\\\\\\\\\": {\\\\\\\\\\\\\"type\\\\\\\\\\\\\": 2, \\\\\\\\\\\\\"details\\\\\\\\\\\\\": {\\\\\\\\\\\\\"selectedColumn\\\\\\\\\\\\\": \\\\\\\\\\\\\"Path\\\\\\\\\\\\\"}}, \\\\\\\\\\\\\"typeProperty\\\\\\\\\\\\\": 0}, {\\\\\\\\\\\\\"column\\\\\\\\\\\\\": {\\\\\\\\\\\\\"type\\\\\\\\\\\\\": 2, \\\\\\\\\\\\\"details\\\\\\\\\\\\\": {\\\\\\\\\\\\\"selectedColumn\\\\\\\\\\\\\": \\\\\\\\\\\\\"Pregnancies\\\\\\\\\\\\\"}}, \\\\\\\\\\\\\"typeProperty\\\\\\\\\\\\\": 2}, {\\\\\\\\\\\\\"column\\\\\\\\\\\\\": {\\\\\\\\\\\\\"type\\\\\\\\\\\\\": 2, \\\\\\\\\\\\\"details\\\\\\\\\\\\\": {\\\\\\\\\\\\\"selectedColumn\\\\\\\\\\\\\": \\\\\\\\\\\\\"Glucose\\\\\\\\\\\\\"}}, \\\\\\\\\\\\\"typeProperty\\\\\\\\\\\\\": 2}, {\\\\\\\\\\\\\"column\\\\\\\\\\\\\": {\\\\\\\\\\\\\"type\\\\\\\\\\\\\": 2, \\\\\\\\\\\\\"details\\\\\\\\\\\\\": {\\\\\\\\\\\\\"selectedColumn\\\\\\\\\\\\\": \\\\\\\\\\\\\"BloodPressure\\\\\\\\\\\\\"}}, \\\\\\\\\\\\\"typeProperty\\\\\\\\\\\\\": 2}, {\\\\\\\\\\\\\"column\\\\\\\\\\\\\": {\\\\\\\\\\\\\"type\\\\\\\\\\\\\": 2, \\\\\\\\\\\\\"details\\\\\\\\\\\\\": {\\\\\\\\\\\\\"selectedColumn\\\\\\\\\\\\\": \\\\\\\\\\\\\"SkinThickness\\\\\\\\\\\\\"}}, \\\\\\\\\\\\\"typeProperty\\\\\\\\\\\\\": 2}, {\\\\\\\\\\\\\"column\\\\\\\\\\\\\": {\\\\\\\\\\\\\"type\\\\\\\\\\\\\": 2, \\\\\\\\\\\\\"details\\\\\\\\\\\\\": {\\\\\\\\\\\\\"selectedColumn\\\\\\\\\\\\\": \\\\\\\\\\\\\"Insulin\\\\\\\\\\\\\"}}, \\\\\\\\\\\\\"typeProperty\\\\\\\\\\\\\": 2}, {\\\\\\\\\\\\\"column\\\\\\\\\\\\\": {\\\\\\\\\\\\\"type\\\\\\\\\\\\\": 2, \\\\\\\\\\\\\"details\\\\\\\\\\\\\": {\\\\\\\\\\\\\"selectedColumn\\\\\\\\\\\\\": \\\\\\\\\\\\\"BMI\\\\\\\\\\\\\"}}, \\\\\\\\\\\\\"typeProperty\\\\\\\\\\\\\": 3}, {\\\\\\\\\\\\\"column\\\\\\\\\\\\\": {\\\\\\\\\\\\\"type\\\\\\\\\\\\\": 2, \\\\\\\\\\\\\"details\\\\\\\\\\\\\": {\\\\\\\\\\\\\"selectedColumn\\\\\\\\\\\\\": \\\\\\\\\\\\\"DiabetesPedigreeFunction\\\\\\\\\\\\\"}}, \\\\\\\\\\\\\"typeProperty\\\\\\\\\\\\\": 3}, {\\\\\\\\\\\\\"column\\\\\\\\\\\\\": {\\\\\\\\\\\\\"type\\\\\\\\\\\\\": 2, \\\\\\\\\\\\\"details\\\\\\\\\\\\\": {\\\\\\\\\\\\\"selectedColumn\\\\\\\\\\\\\": \\\\\\\\\\\\\"Age\\\\\\\\\\\\\"}}, \\\\\\\\\\\\\"typeProperty\\\\\\\\\\\\\": 2}, {\\\\\\\\\\\\\"column\\\\\\\\\\\\\": {\\\\\\\\\\\\\"type\\\\\\\\\\\\\": 2, \\\\\\\\\\\\\"details\\\\\\\\\\\\\": {\\\\\\\\\\\\\"selectedColumn\\\\\\\\\\\\\": \\\\\\\\\\\\\"Outcome\\\\\\\\\\\\\"}}, \\\\\\\\\\\\\"typeProperty\\\\\\\\\\\\\": 2}]}, \\\\\\\\\\\\\"localData\\\\\\\\\\\\\": {}, \\\\\\\\\\\\\"isEnabled\\\\\\\\\\\\\": true, \\\\\\\\\\\\\"name\\\\\\\\\\\\\": null, \\\\\\\\\\\\\"annotation\\\\\\\\\\\\\": null}], \\\\\\\\\\\\\"inspectors\\\\\\\\\\\\\": [], \\\\\\\\\\\\\"meta\\\\\\\\\\\\\": {\\\\\\\\\\\\\"savedDatasetId\\\\\\\\\\\\\": \\\\\\\\\\\\\"04c6a829-8899-44ea-b74b-25bd5ca40ddb\\\\\\\\\\\\\", \\\\\\\\\\\\\"datasetType\\\\\\\\\\\\\": \\\\\\\\\\\\\"tabular\\\\\\\\\\\\\", \\\\\\\\\\\\\"subscriptionId\\\\\\\\\\\\\": \\\\\\\\\\\\\"6971f5ac-8af1-446e-8034-05acea24681f\\\\\\\\\\\\\", \\\\\\\\\\\\\"workspaceId\\\\\\\\\\\\\": \\\\\\\\\\\\\"419229e6-6633-4714-8768-bbcea17c1d8c\\\\\\\\\\\\\", \\\\\\\\\\\\\"workspaceLocation\\\\\\\\\\\\\": \\\\\\\\\\\\\"southcentralus\\\\\\\\\\\\\"}}\\\\\", \\\\\"activities\\\\\": 0}',\n",
       "  'EnableSubsampling': 'False',\n",
       "  'runTemplate': 'AutoML',\n",
       "  'azureml.runsource': 'automl',\n",
       "  'display_task_type': 'classification',\n",
       "  'dependencies_versions': '{\"azureml-widgets\": \"1.20.0\", \"azureml-train\": \"1.20.0\", \"azureml-train-restclients-hyperdrive\": \"1.20.0\", \"azureml-train-core\": \"1.20.0\", \"azureml-train-automl\": \"1.20.0\", \"azureml-train-automl-runtime\": \"1.20.0\", \"azureml-train-automl-client\": \"1.20.0\", \"azureml-tensorboard\": \"1.20.0\", \"azureml-telemetry\": \"1.20.0\", \"azureml-sdk\": \"1.20.0\", \"azureml-samples\": \"0+unknown\", \"azureml-pipeline\": \"1.20.0\", \"azureml-pipeline-steps\": \"1.20.0\", \"azureml-pipeline-core\": \"1.20.0\", \"azureml-opendatasets\": \"1.20.0\", \"azureml-model-management-sdk\": \"1.0.1b6.post1\", \"azureml-mlflow\": \"1.20.0.post1\", \"azureml-interpret\": \"1.20.0\", \"azureml-explain-model\": \"1.20.0\", \"azureml-defaults\": \"1.20.0\", \"azureml-dataset-runtime\": \"1.20.0\", \"azureml-dataprep\": \"2.7.3\", \"azureml-dataprep-rslex\": \"1.5.0\", \"azureml-dataprep-native\": \"27.0.0\", \"azureml-datadrift\": \"1.20.0\", \"azureml-core\": \"1.20.0\", \"azureml-contrib-services\": \"1.20.0\", \"azureml-contrib-server\": \"1.20.0\", \"azureml-contrib-reinforcementlearning\": \"1.20.0\", \"azureml-contrib-pipeline-steps\": \"1.20.0\", \"azureml-contrib-notebook\": \"1.20.0\", \"azureml-contrib-interpret\": \"1.20.0\", \"azureml-contrib-gbdt\": \"1.20.0\", \"azureml-contrib-fairness\": \"1.20.0\", \"azureml-contrib-dataset\": \"1.20.0\", \"azureml-cli-common\": \"1.20.0\", \"azureml-automl-runtime\": \"1.20.0\", \"azureml-automl-core\": \"1.20.0\", \"azureml-accel-models\": \"1.20.0\"}',\n",
       "  '_aml_system_scenario_identification': 'Remote.Parent',\n",
       "  'ClientType': 'SDK',\n",
       "  'environment_cpu_name': 'AzureML-AutoML',\n",
       "  'environment_cpu_label': 'prod',\n",
       "  'environment_gpu_name': 'AzureML-AutoML-GPU',\n",
       "  'environment_gpu_label': 'prod',\n",
       "  'root_attribution': 'automl',\n",
       "  'attribution': 'AutoML',\n",
       "  'Orchestrator': 'AutoML',\n",
       "  'CancelUri': 'https://southcentralus.experiments.azureml.net/jasmine/v1.0/subscriptions/6971f5ac-8af1-446e-8034-05acea24681f/resourceGroups/aml-quickstarts-136635/providers/Microsoft.MachineLearningServices/workspaces/quick-starts-ws-136635/experimentids/b1370388-864e-45fb-910f-e582f619ec06/cancel/AutoML_695b34cd-c5ff-41eb-a951-ada26ec0b959',\n",
       "  'ClientSdkVersion': '1.20.0.post1',\n",
       "  'snapshotId': '00000000-0000-0000-0000-000000000000',\n",
       "  'SetupRunId': 'AutoML_695b34cd-c5ff-41eb-a951-ada26ec0b959_setup',\n",
       "  'SetupRunContainerId': 'dcid.AutoML_695b34cd-c5ff-41eb-a951-ada26ec0b959_setup',\n",
       "  'FeaturizationRunJsonPath': 'featurizer_container.json',\n",
       "  'FeaturizationRunId': 'AutoML_695b34cd-c5ff-41eb-a951-ada26ec0b959_featurize',\n",
       "  'ProblemInfoJsonString': '{\"dataset_num_categorical\": 0, \"is_sparse\": true, \"subsampling\": false, \"dataset_classes\": 2, \"dataset_features\": 24, \"dataset_samples\": 768, \"single_frequency_class_detected\": false}',\n",
       "  'ModelExplainRunId': 'AutoML_695b34cd-c5ff-41eb-a951-ada26ec0b959_ModelExplain'},\n",
       " 'inputDatasets': [{'dataset': {'id': '04c6a829-8899-44ea-b74b-25bd5ca40ddb'}, 'consumptionDetails': {'type': 'RunInput', 'inputName': 'training_data', 'mechanism': 'Direct'}}],\n",
       " 'outputDatasets': [],\n",
       " 'logFiles': {},\n",
       " 'submittedBy': 'ODL_User 136635'}"
      ]
     },
     "execution_count": 16,
     "metadata": {},
     "output_type": "execute_result"
    }
   ],
   "source": [
    "remote_run.wait_for_completion(show_output=True)"
   ]
  },
  {
   "cell_type": "code",
   "execution_count": 17,
   "metadata": {},
   "outputs": [
    {
     "data": {
      "text/html": [
       "<table style=\"width:100%\"><tr><th>Experiment</th><th>Id</th><th>Type</th><th>Status</th><th>Details Page</th><th>Docs Page</th></tr><tr><td>automl-exp</td><td>AutoML_695b34cd-c5ff-41eb-a951-ada26ec0b959</td><td>automl</td><td>Completed</td><td><a href=\"https://ml.azure.com/experiments/automl-exp/runs/AutoML_695b34cd-c5ff-41eb-a951-ada26ec0b959?wsid=/subscriptions/6971f5ac-8af1-446e-8034-05acea24681f/resourcegroups/aml-quickstarts-136635/workspaces/quick-starts-ws-136635\" target=\"_blank\" rel=\"noopener\">Link to Azure Machine Learning studio</a></td><td><a href=\"https://docs.microsoft.com/en-us/python/api/overview/azure/ml/intro?view=azure-ml-py\" target=\"_blank\" rel=\"noopener\">Link to Documentation</a></td></tr></table>"
      ],
      "text/plain": [
       "Run(Experiment: automl-exp,\n",
       "Id: AutoML_695b34cd-c5ff-41eb-a951-ada26ec0b959,\n",
       "Type: automl,\n",
       "Status: Completed)"
      ]
     },
     "execution_count": 17,
     "metadata": {},
     "output_type": "execute_result"
    }
   ],
   "source": [
    "remote_run"
   ]
  },
  {
   "cell_type": "markdown",
   "metadata": {},
   "source": [
    "## Best Model\n",
    "\n",
    "TODO: In the cell below, get the best model from the automl experiments and display all the properties of the model.\n",
    "\n"
   ]
  },
  {
   "cell_type": "code",
   "execution_count": 18,
   "metadata": {
    "collapsed": false,
    "gather": {
     "logged": 1598431425670
    },
    "jupyter": {
     "outputs_hidden": false,
     "source_hidden": false
    },
    "nteract": {
     "transient": {
      "deleting": false
     }
    }
   },
   "outputs": [
    {
     "data": {
      "text/plain": [
       "(Run(Experiment: automl-exp,\n",
       " Id: AutoML_695b34cd-c5ff-41eb-a951-ada26ec0b959_33,\n",
       " Type: azureml.scriptrun,\n",
       " Status: Completed),\n",
       " Pipeline(memory=None,\n",
       "          steps=[('datatransformer',\n",
       "                  DataTransformer(enable_dnn=None, enable_feature_sweeping=None,\n",
       "                                  feature_sweeping_config=None,\n",
       "                                  feature_sweeping_timeout=None,\n",
       "                                  featurization_config=None, force_text_dnn=None,\n",
       "                                  is_cross_validation=None,\n",
       "                                  is_onnx_compatible=None, logger=None,\n",
       "                                  observer=None, task=None, working_dir=None)),\n",
       "                 ('prefittedsoftvotingclassifier',...\n",
       "                                                                                                 subsample=0.09947368421052633,\n",
       "                                                                                                 subsample_for_bin=200000,\n",
       "                                                                                                 subsample_freq=0,\n",
       "                                                                                                 verbose=-10))],\n",
       "                                                                      verbose=False))],\n",
       "                                                flatten_transform=None,\n",
       "                                                weights=[0.13333333333333333,\n",
       "                                                         0.06666666666666667,\n",
       "                                                         0.06666666666666667,\n",
       "                                                         0.06666666666666667,\n",
       "                                                         0.06666666666666667,\n",
       "                                                         0.06666666666666667,\n",
       "                                                         0.06666666666666667,\n",
       "                                                         0.2,\n",
       "                                                         0.06666666666666667,\n",
       "                                                         0.06666666666666667,\n",
       "                                                         0.06666666666666667,\n",
       "                                                         0.06666666666666667]))],\n",
       "          verbose=False))"
      ]
     },
     "execution_count": 18,
     "metadata": {},
     "output_type": "execute_result"
    }
   ],
   "source": [
    "# Retrieve and save best automl model.\n",
    "best_model = remote_run.get_output()\n",
    "best_model"
   ]
  },
  {
   "cell_type": "code",
   "execution_count": null,
   "metadata": {},
   "outputs": [],
   "source": [
    "remote_run.get_metrics()"
   ]
  },
  {
   "cell_type": "markdown",
   "metadata": {},
   "source": [
    "## Model Deployment\n",
    "\n",
    "Remember you have to deploy only one of the two models you trained.. Perform the steps in the rest of this notebook only if you wish to deploy this model.\n",
    "\n",
    "TODO: In the cell below, register the model, create an inference config and deploy the model as a web service."
   ]
  },
  {
   "cell_type": "code",
   "execution_count": 20,
   "metadata": {
    "collapsed": false,
    "gather": {
     "logged": 1598431435189
    },
    "jupyter": {
     "outputs_hidden": false,
     "source_hidden": false
    },
    "nteract": {
     "transient": {
      "deleting": false
     }
    }
   },
   "outputs": [],
   "source": [
    "# Registring the best model\n",
    "model = remote_run.register_model(model_name='automl-best-model')"
   ]
  },
  {
   "cell_type": "code",
   "execution_count": 21,
   "metadata": {},
   "outputs": [],
   "source": [
    "from azureml.core.conda_dependencies import CondaDependencies\n",
    "\n",
    "# create environment\n",
    "environment = Environment(name=\"azure-env\")\n",
    "conda_dep = CondaDependencies()\n",
    "\n",
    "# Nedded packages and scripts\n",
    "conda_dep.add_conda_package(\"pandas\")\n",
    "conda_dep.add_conda_package(\"numpy\")\n",
    "conda_dep.add_conda_package(\"scikit-learn\")\n",
    "conda_dep.add_pip_package(\"azureml-defaults\")\n",
    "\n",
    "# Adding dependencies to the created environment\n",
    "environment.python.conda_dependencies=conda_dep\n",
    "\n",
    "#remote_run.download_file('outputs/scoring_file_v_1_0_0.py', script_file)"
   ]
  },
  {
   "cell_type": "code",
   "execution_count": 24,
   "metadata": {},
   "outputs": [
    {
     "name": "stdout",
     "output_type": "stream",
     "text": [
      "Tips: You can try get_logs(): https://aka.ms/debugimage#dockerlog or local deployment: https://aka.ms/debugimage#debug-locally to debug if deployment takes longer than 10 minutes.\n",
      "Running....\n",
      "Succeeded\n",
      "ACI service creation operation finished, operation \"Succeeded\"\n"
     ]
    }
   ],
   "source": [
    "inference_config = InferenceConfig(entry_script='score.py',\n",
    "                                   environment=environment)\n",
    "service_name = 'automl-deploy-1'\n",
    "deployment_config = AciWebservice.deploy_configuration(cpu_cores=1, memory_gb=1)\n",
    "\n",
    "service = Model.deploy(workspace=ws,\n",
    "                       name=service_name,\n",
    "                       models=[model],\n",
    "                       inference_config=inference_config,\n",
    "                       deployment_config=deployment_config,\n",
    "                       overwrite=True\n",
    "                      )\n",
    "service.wait_for_deployment(show_output=True)"
   ]
  },
  {
   "cell_type": "code",
   "execution_count": 25,
   "metadata": {},
   "outputs": [],
   "source": [
    "# Enable app insights\n",
    "service.update(enable_app_insights=True)"
   ]
  },
  {
   "cell_type": "markdown",
   "metadata": {
    "gather": {
     "logged": 1598431657736
    },
    "jupyter": {
     "outputs_hidden": false,
     "source_hidden": false
    },
    "nteract": {
     "transient": {
      "deleting": false
     }
    }
   },
   "source": [
    "TODO: In the cell below, send a request to the web service you deployed to test it."
   ]
  },
  {
   "cell_type": "code",
   "execution_count": 40,
   "metadata": {
    "collapsed": false,
    "gather": {
     "logged": 1598432707604
    },
    "jupyter": {
     "outputs_hidden": false,
     "source_hidden": false
    },
    "nteract": {
     "transient": {
      "deleting": false
     }
    }
   },
   "outputs": [
    {
     "name": "stdout",
     "output_type": "stream",
     "text": [
      "{'data': [{'Pregnancies': 6, 'Glucose': 148, 'BloodPressure': 72, 'SkinThickness': 35, 'Insulin': 0, 'BMI': 33.5, 'DiabetesPedigreeFunction': 0.627, 'Age': 50}, {'Pregnancies': 1, 'Glucose': 85, 'BloodPressure': 66, 'SkinThickness': 29, 'Insulin': 20, 'BMI': 26.5, 'DiabetesPedigreeFunction': 0.351, 'Age': 31}]}\n"
     ]
    }
   ],
   "source": [
    "\n",
    "data = {\"data\":\n",
    "        [\n",
    "          {\n",
    "           \"Pregnancies\": 6, \n",
    " \"Glucose\": 148, \n",
    " \"BloodPressure\": 72, \n",
    " \"SkinThickness\": 35, \n",
    " \"Insulin\": 0, \n",
    " \"BMI\": 33.5, \n",
    " \"DiabetesPedigreeFunction\": 0.627, \n",
    " \"Age\": 50\n",
    "          },\n",
    "          {\n",
    "            \"Pregnancies\": 1, \n",
    " \"Glucose\": 85, \n",
    " \"BloodPressure\": 66, \n",
    " \"SkinThickness\": 29, \n",
    " \"Insulin\": 20, \n",
    " \"BMI\": 26.5, \n",
    " \"DiabetesPedigreeFunction\": 0.351, \n",
    " \"Age\": 31\n",
    "          },\n",
    "      ]\n",
    "    }\n",
    "print(data)"
   ]
  },
  {
   "cell_type": "code",
   "execution_count": 41,
   "metadata": {},
   "outputs": [
    {
     "data": {
      "text/plain": [
       "\"name 'model' is not defined\""
      ]
     },
     "execution_count": 41,
     "metadata": {},
     "output_type": "execute_result"
    }
   ],
   "source": [
    "#input_data = json.dumps(data)\n",
    "input_data = json.dumps({\n",
    "    'data': data\n",
    "})\n",
    "\n",
    "output = service.run(input_data)\n",
    "output"
   ]
  },
  {
   "cell_type": "markdown",
   "metadata": {
    "gather": {
     "logged": 1598432765711
    },
    "jupyter": {
     "outputs_hidden": false,
     "source_hidden": false
    },
    "nteract": {
     "transient": {
      "deleting": false
     }
    }
   },
   "source": [
    "TODO: In the cell below, print the logs of the web service and delete the service"
   ]
  },
  {
   "cell_type": "code",
   "execution_count": 29,
   "metadata": {
    "collapsed": false,
    "jupyter": {
     "outputs_hidden": false,
     "source_hidden": false
    },
    "nteract": {
     "transient": {
      "deleting": false
     }
    }
   },
   "outputs": [
    {
     "data": {
      "text/plain": [
       "'2021-01-30T19:46:59,284869390+00:00 - rsyslog/run \\n2021-01-30T19:46:59,285985442+00:00 - gunicorn/run \\n2021-01-30T19:46:59,287908931+00:00 - iot-server/run \\n2021-01-30T19:46:59,295289172+00:00 - nginx/run \\n/usr/sbin/nginx: /azureml-envs/azureml_6f548a71a771959c69a66d86feeed23b/lib/libcrypto.so.1.0.0: no version information available (required by /usr/sbin/nginx)\\n/usr/sbin/nginx: /azureml-envs/azureml_6f548a71a771959c69a66d86feeed23b/lib/libcrypto.so.1.0.0: no version information available (required by /usr/sbin/nginx)\\n/usr/sbin/nginx: /azureml-envs/azureml_6f548a71a771959c69a66d86feeed23b/lib/libssl.so.1.0.0: no version information available (required by /usr/sbin/nginx)\\n/usr/sbin/nginx: /azureml-envs/azureml_6f548a71a771959c69a66d86feeed23b/lib/libssl.so.1.0.0: no version information available (required by /usr/sbin/nginx)\\n/usr/sbin/nginx: /azureml-envs/azureml_6f548a71a771959c69a66d86feeed23b/lib/libssl.so.1.0.0: no version information available (required by /usr/sbin/nginx)\\nEdgeHubConnectionString and IOTEDGE_IOTHUBHOSTNAME are not set. Exiting...\\n2021-01-30T19:46:59,464510909+00:00 - iot-server/finish 1 0\\n2021-01-30T19:46:59,465768167+00:00 - Exit code 1 is normal. Not restarting iot-server.\\nStarting gunicorn 19.9.0\\nListening at: http://127.0.0.1:31311 (14)\\nUsing worker: sync\\nworker timeout is set to 300\\nBooting worker with pid: 42\\nSPARK_HOME not set. Skipping PySpark Initialization.\\nInitializing logger\\n2021-01-30 19:47:00,291 | root | INFO | Starting up app insights client\\n2021-01-30 19:47:00,292 | root | INFO | Starting up request id generator\\n2021-01-30 19:47:00,292 | root | INFO | Starting up app insight hooks\\n2021-01-30 19:47:00,292 | root | INFO | Invoking user\\'s init function\\n2021-01-30 19:47:00,578 | root | INFO | Users\\'s init has completed successfully\\n2021-01-30 19:47:00,581 | root | INFO | Skipping middleware: dbg_model_info as it\\'s not enabled.\\n2021-01-30 19:47:00,581 | root | INFO | Skipping middleware: dbg_resource_usage as it\\'s not enabled.\\n2021-01-30 19:47:00,582 | root | INFO | Scoring timeout is found from os.environ: 60000 ms\\n2021-01-30 19:47:09,146 | root | INFO | Swagger file not present\\n2021-01-30 19:47:09,146 | root | INFO | 404\\n127.0.0.1 - - [30/Jan/2021:19:47:09 +0000] \"GET /swagger.json HTTP/1.0\" 404 19 \"-\" \"Go-http-client/1.1\"\\n2021-01-30 19:47:22,372 | root | INFO | Validation Request Content-Type\\n2021-01-30 19:47:22,372 | root | INFO | Scoring Timer is set to 60.0 seconds\\n2021-01-30 19:47:22,373 | root | INFO | 200\\n127.0.0.1 - - [30/Jan/2021:19:47:22 +0000] \"POST /score HTTP/1.0\" 200 50 \"-\" \"python-requests/2.25.1\"\\n2021-01-30 19:48:03,437 | root | INFO | Validation Request Content-Type\\n2021-01-30 19:48:03,437 | root | INFO | Scoring Timer is set to 60.0 seconds\\n2021-01-30 19:48:03,440 | root | INFO | 200\\n127.0.0.1 - - [30/Jan/2021:19:48:03 +0000] \"POST /score HTTP/1.0\" 200 29 \"-\" \"python-requests/2.25.1\"\\n'"
      ]
     },
     "execution_count": 29,
     "metadata": {},
     "output_type": "execute_result"
    }
   ],
   "source": [
    "logs = service.get_logs()\n",
    "logs"
   ]
  },
  {
   "cell_type": "code",
   "execution_count": null,
   "metadata": {},
   "outputs": [],
   "source": [
    "service.delete()"
   ]
  }
 ],
 "metadata": {
  "kernel_info": {
   "name": "python3"
  },
  "kernelspec": {
   "display_name": "Python 3",
   "language": "python",
   "name": "python3"
  },
  "language_info": {
   "codemirror_mode": {
    "name": "ipython",
    "version": 3
   },
   "file_extension": ".py",
   "mimetype": "text/x-python",
   "name": "python",
   "nbconvert_exporter": "python",
   "pygments_lexer": "ipython3",
   "version": "3.6.9"
  },
  "nteract": {
   "version": "nteract-front-end@1.0.0"
  }
 },
 "nbformat": 4,
 "nbformat_minor": 4
}
